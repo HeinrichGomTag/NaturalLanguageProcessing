{
  "cells": [
    {
      "attachments": {},
      "cell_type": "markdown",
      "metadata": {
        "id": "8otNhcej3LKO"
      },
      "source": [
        "# Analizador de sentimientos para comentarios de películas utilizando Redes Neuronales y Word Embeddings"
      ]
    },
    {
      "attachments": {},
      "cell_type": "markdown",
      "metadata": {
        "id": "_8G4WAmB3LKW"
      },
      "source": [
        "## Paso 1 - Lectura del conjunto de información"
      ]
    },
    {
      "cell_type": "code",
      "execution_count": 10,
      "metadata": {
        "id": "Tejw8eay3LKY"
      },
      "outputs": [],
      "source": [
        "# Importar todas las librerías que se utilizarán\n",
        "import pandas as pd \n",
        "import numpy as np\n",
        "import re\n",
        "import nltk\n",
        "from nltk.corpus import stopwords\n",
        "\n",
        "from numpy import array\n",
        "from tensorflow.keras.preprocessing.sequence import pad_sequences\n",
        "from keras.models import Sequential\n",
        "from keras.layers.core import Activation, Dropout, Dense\n",
        "from keras.layers import Flatten, Conv1D, LSTM, GlobalMaxPooling1D\n",
        "from tensorflow.keras.layers import Embedding\n",
        "from sklearn.model_selection import train_test_split\n",
        "from keras.preprocessing.text import Tokenizer\n",
        "\n",
        "import matplotlib.pyplot as plt\n"
      ]
    },
    {
      "cell_type": "code",
      "execution_count": 14,
      "metadata": {
        "id": "hyC75hU33LKg"
      },
      "outputs": [
        {
          "name": "stdout",
          "output_type": "stream",
          "text": [
            "Existen valores nulos:\n",
            "False\n"
          ]
        },
        {
          "data": {
            "text/html": [
              "<div>\n",
              "<style scoped>\n",
              "    .dataframe tbody tr th:only-of-type {\n",
              "        vertical-align: middle;\n",
              "    }\n",
              "\n",
              "    .dataframe tbody tr th {\n",
              "        vertical-align: top;\n",
              "    }\n",
              "\n",
              "    .dataframe thead th {\n",
              "        text-align: right;\n",
              "    }\n",
              "</style>\n",
              "<table border=\"1\" class=\"dataframe\">\n",
              "  <thead>\n",
              "    <tr style=\"text-align: right;\">\n",
              "      <th></th>\n",
              "      <th>original</th>\n",
              "      <th>sentimiento</th>\n",
              "      <th>reseña</th>\n",
              "    </tr>\n",
              "  </thead>\n",
              "  <tbody>\n",
              "    <tr>\n",
              "      <th>0</th>\n",
              "      <td>One of the other reviewers has mentioned that ...</td>\n",
              "      <td>positive</td>\n",
              "      <td>Uno de los otros críticos han mencionado que d...</td>\n",
              "    </tr>\n",
              "    <tr>\n",
              "      <th>1</th>\n",
              "      <td>A wonderful little production. &lt;br /&gt;&lt;br /&gt;The...</td>\n",
              "      <td>positive</td>\n",
              "      <td>Una producción pequeña y maravillosa. &lt;br /&gt; &lt;...</td>\n",
              "    </tr>\n",
              "    <tr>\n",
              "      <th>2</th>\n",
              "      <td>I thought this was a wonderful way to spend ti...</td>\n",
              "      <td>positive</td>\n",
              "      <td>Pensé que esto era una maravillosa manera de p...</td>\n",
              "    </tr>\n",
              "    <tr>\n",
              "      <th>3</th>\n",
              "      <td>Basically there's a family where a little boy ...</td>\n",
              "      <td>negative</td>\n",
              "      <td>Básicamente hay una familia en la que un niño ...</td>\n",
              "    </tr>\n",
              "    <tr>\n",
              "      <th>4</th>\n",
              "      <td>Petter Mattei's \"Love in the Time of Money\" is...</td>\n",
              "      <td>positive</td>\n",
              "      <td>Petter Mattei de \"amor en los tiempos del dine...</td>\n",
              "    </tr>\n",
              "    <tr>\n",
              "      <th>5</th>\n",
              "      <td>Probably my all-time favorite movie, a story o...</td>\n",
              "      <td>positive</td>\n",
              "      <td>Probablemente mi película favorita de todos lo...</td>\n",
              "    </tr>\n",
              "    <tr>\n",
              "      <th>6</th>\n",
              "      <td>I sure would like to see a resurrection of a u...</td>\n",
              "      <td>positive</td>\n",
              "      <td>Estoy seguro que le gustaría ver una resurrecc...</td>\n",
              "    </tr>\n",
              "    <tr>\n",
              "      <th>7</th>\n",
              "      <td>This show was an amazing, fresh &amp; innovative i...</td>\n",
              "      <td>negative</td>\n",
              "      <td>Este espectáculo fue una increíble, fresca y i...</td>\n",
              "    </tr>\n",
              "    <tr>\n",
              "      <th>8</th>\n",
              "      <td>Encouraged by the positive comments about this...</td>\n",
              "      <td>negative</td>\n",
              "      <td>Alentados por los comentarios positivos sobre ...</td>\n",
              "    </tr>\n",
              "    <tr>\n",
              "      <th>9</th>\n",
              "      <td>If you like original gut wrenching laughter yo...</td>\n",
              "      <td>positive</td>\n",
              "      <td>Si te gusta la risa desgarradora original que ...</td>\n",
              "    </tr>\n",
              "  </tbody>\n",
              "</table>\n",
              "</div>"
            ],
            "text/plain": [
              "                                            original sentimiento  \\\n",
              "0  One of the other reviewers has mentioned that ...    positive   \n",
              "1  A wonderful little production. <br /><br />The...    positive   \n",
              "2  I thought this was a wonderful way to spend ti...    positive   \n",
              "3  Basically there's a family where a little boy ...    negative   \n",
              "4  Petter Mattei's \"Love in the Time of Money\" is...    positive   \n",
              "5  Probably my all-time favorite movie, a story o...    positive   \n",
              "6  I sure would like to see a resurrection of a u...    positive   \n",
              "7  This show was an amazing, fresh & innovative i...    negative   \n",
              "8  Encouraged by the positive comments about this...    negative   \n",
              "9  If you like original gut wrenching laughter yo...    positive   \n",
              "\n",
              "                                              reseña  \n",
              "0  Uno de los otros críticos han mencionado que d...  \n",
              "1  Una producción pequeña y maravillosa. <br /> <...  \n",
              "2  Pensé que esto era una maravillosa manera de p...  \n",
              "3  Básicamente hay una familia en la que un niño ...  \n",
              "4  Petter Mattei de \"amor en los tiempos del dine...  \n",
              "5  Probablemente mi película favorita de todos lo...  \n",
              "6  Estoy seguro que le gustaría ver una resurrecc...  \n",
              "7  Este espectáculo fue una increíble, fresca y i...  \n",
              "8  Alentados por los comentarios positivos sobre ...  \n",
              "9  Si te gusta la risa desgarradora original que ...  "
            ]
          },
          "execution_count": 14,
          "metadata": {},
          "output_type": "execute_result"
        }
      ],
      "source": [
        "# Leemos el archivo y mostramos los primeros elementos para verificar\n",
        "# que sean los correctos\n",
        "movie_reviews = pd.read_csv(\"Reseñas de películas.csv\")\n",
        "# Verificar que no existan valore nulos\n",
        "print(\"Existen valores nulos:\")\n",
        "print(movie_reviews.isnull().values.any())\n",
        "movie_reviews.head(10)"
      ]
    },
    {
      "cell_type": "code",
      "execution_count": 16,
      "metadata": {
        "id": "mDIZwppv3LKk"
      },
      "outputs": [
        {
          "data": {
            "text/plain": [
              "'Una producción pequeña y maravillosa. <br /> <br /> La técnica de filmación es muy unassuming- muy de moda en tiempo pasado de la BBC y da una reconfortante, ya veces discomforting, sensación de realismo a toda la pieza. <br /> <br /> Los actores están muy bien elegido-Michael Sheen no sólo \"tiene todas las polari\", pero tiene todas las voces al dedillo también! Se puede ver realmente el transparente la edición guiada por las referencias a las entradas del diario de Williams, no sólo es bien digno de la observación, sino que es una pieza terrificly escrita e interpretada. Una producción magistral sobre uno de los grandes maestro de la comedia y de su vida. <br /> <br /> El realismo realmente llega a casa con las pequeñas cosas: la fantasía de guardia que, en lugar de utilizar las tradicionales técnicas de \\'sueño\\' se mantiene sólido y luego desaparece. Se juega en nuestros conocimientos y nuestros sentidos, especialmente con las escenas referentes a Orton y Halliwell y los conjuntos (sobre todo de su plana con murales de Halliwell decoran cada superficie) son terriblemente bien hecho.'"
            ]
          },
          "execution_count": 16,
          "metadata": {},
          "output_type": "execute_result"
        }
      ],
      "source": [
        "# Imprimimos uno de los ejemplos para revisar su escritura\n",
        "movie_reviews[\"reseña\"][1] # Algún número de ejemplo"
      ]
    },
    {
      "cell_type": "code",
      "execution_count": 18,
      "metadata": {
        "id": "7ass8uqS3LKn"
      },
      "outputs": [
        {
          "data": {
            "text/plain": [
              "<BarContainer object of 2 artists>"
            ]
          },
          "execution_count": 18,
          "metadata": {},
          "output_type": "execute_result"
        },
        {
          "data": {
            "image/png": "[encoded data removed]",
            "text/plain": [
              "<Figure size 640x480 with 1 Axes>"
            ]
          },
          "metadata": {},
          "output_type": "display_data"
        }
      ],
      "source": [
        "# Ver la distribución que tenemos de los datos \n",
        "Pos = 0\n",
        "Neg = 0\n",
        "\n",
        "for Sentiment in movie_reviews[\"sentimiento\"]:\n",
        "    if(Sentiment == 'positive'):\n",
        "        Pos += 1\n",
        "    else:\n",
        "        Neg += 1\n",
        "\n",
        "plt.bar(['Positivas', 'Negativas'], [Pos, Neg], color = ['lime', 'red'])"
      ]
    },
    {
      "attachments": {},
      "cell_type": "markdown",
      "metadata": {
        "id": "kx3JFNkf3LKt"
      },
      "source": [
        "## Paso 2 - Preprocesamiento de la información"
      ]
    },
    {
      "cell_type": "code",
      "execution_count": null,
      "metadata": {
        "id": "11fbi0LY3LKt"
      },
      "outputs": [
        {
          "ename": "NameError",
          "evalue": "name 'movie_reviews' is not defined",
          "output_type": "error",
          "traceback": [
            "\u001b[0;31m---------------------------------------------------------------------------\u001b[0m",
            "\u001b[0;31mNameError\u001b[0m                                 Traceback (most recent call last)",
            "Cell \u001b[0;32mIn[2], line 12\u001b[0m\n\u001b[1;32m      8\u001b[0m X \u001b[39m=\u001b[39m []\n\u001b[1;32m     10\u001b[0m removedor_tags \u001b[39m=\u001b[39m re\u001b[39m.\u001b[39mcompile(\u001b[39mr\u001b[39m\u001b[39m'\u001b[39m\u001b[39m<[^>]+>\u001b[39m\u001b[39m'\u001b[39m)\n\u001b[0;32m---> 12\u001b[0m sentences \u001b[39m=\u001b[39m \u001b[39mlist\u001b[39m(movie_reviews[\u001b[39m'\u001b[39m\u001b[39mreseña\u001b[39m\u001b[39m'\u001b[39m])\n\u001b[1;32m     13\u001b[0m \u001b[39mfor\u001b[39;00m sen \u001b[39min\u001b[39;00m sentences:\n\u001b[1;32m     14\u001b[0m     \n\u001b[1;32m     15\u001b[0m     \u001b[39m# Filtrado de stopword (REEMPLAZAR la SW con nada)\u001b[39;00m\n\u001b[1;32m     16\u001b[0m     \u001b[39mfor\u001b[39;00m stopword \u001b[39min\u001b[39;00m stop_words:\n",
            "\u001b[0;31mNameError\u001b[0m: name 'movie_reviews' is not defined"
          ]
        }
      ],
      "source": [
        "# Filtrado de StopWords utilizando NLTK\n",
        "from nltk.tokenize import RegexpTokenizer\n",
        "from nltk.tokenize.treebank import TreebankWordDetokenizer\n",
        "from nltk.corpus import stopwords\n",
        "\n",
        "stop_words = set(stopwords.words('spanish'))\n",
        "\n",
        "X = []\n",
        "\n",
        "removedor_tags = re.compile(r'<[^>]+>')\n",
        "\n",
        "sentences = list(movie_reviews['reseña'])\n",
        "for sen in sentences:\n",
        "    \n",
        "    # Filtrado de stopword (REEMPLAZAR la SW con nada)\n",
        "    for stopword in stop_words:\n",
        "        sen = sen.replace(\" \" + stopword + \" \", \" \")\n",
        "            \n",
        "    # Remover los elementos de HTML (Que aparecen en los comentarios)\n",
        "    sentence = removedor_tags.sub('', sen)\n",
        "    # Remover espacios múltiples\n",
        "    sentence = re.sub(r'\\s+', ' ', sentence)\n",
        "    # Convertir todo a minúsculas\n",
        "    sentence = sentence.lower()\n",
        "    # Filtrado de signos de puntuación\n",
        "    tokenizer = RegexpTokenizer(r'\\w+')\n",
        "    # Tokenización del resultado (Aplicando el rechazo de tokens descrito)\n",
        "    result = tokenizer.tokenize(sentence)\n",
        "    # Agregar al arreglo los textos \"destokenizados\" (Como texto nuevamente)\n",
        "    X.append(TreebankWordDetokenizer().detokenize(result))\n"
      ]
    },
    {
      "cell_type": "code",
      "execution_count": null,
      "metadata": {
        "id": "js6X6GHu3LKx"
      },
      "outputs": [],
      "source": [
        "# Filtrado de más StopWords (Definidas por el usuario)\n",
        "New_StopWords = ['a','acá','ahí','al','algo','algún','alguna','alguno','algunas','algunos','allá','allí','ambos','ante',\n",
        "                 'antes','aquel','aquella','aquello','aquellas','aquellos','aquí','arriba','así','atrás','aun','aunque',\n",
        "                 'bien','cada','casi','como','con','cual','cuales','cualquier','cualquiera','cuan','cuando','cuanto','cuanta',\n",
        "                 'cuantos','cuantas','de','del','demás','desde','donde','dos','el','él','ella','ello','ellas','ellos','en',\n",
        "                 'eres','esa','ese','eso','esas','esos','esta','esto','estas','estos','este','etc','ha','hasta','la','lo','las',\n",
        "                 'los','me','mi','mis','mía','mías','mío','míos','mientras','muy','ni','nosotras','nosotros','nuestra',\n",
        "                 'nuestro','nuestras','nuestros','os','otra','otro','otras','otros','para','pero','pues','que','qué','si','sí',\n",
        "                 'siempre','siendo','sin','sino','so','sobre','sr','sra','sres','sta','su','sus','te','tu','tus','un','una',\n",
        "                 'uno','unas','unos','usted','ustedes','vosotras','vosotros','vuestra','vuestro','vuestras','vuestros','y','ya',\n",
        "                 'yo']\n",
        "\n",
        "for i in range(len(X)):\n",
        "    for element in New_StopWords:\n",
        "        X[i] = X[i]._____(\" \" + str(_____) + \" \", \" \")\n",
        "\n",
        "print(\"Textos sin StopWords:\")\n",
        "X"
      ]
    },
    {
      "attachments": {},
      "cell_type": "markdown",
      "metadata": {},
      "source": [
        "## Paso 3 - Creación de vectores / matrices de entrada y salida para el entrenamiento"
      ]
    },
    {
      "cell_type": "code",
      "execution_count": null,
      "metadata": {
        "id": "ex6d3X5F3LK0"
      },
      "outputs": [],
      "source": [
        "# Creación del vector objetivo (Postivo / Negativo)\n",
        "Sent = movie_reviews['sentimiento']\n",
        "\n",
        "y = []\n",
        "for Sentimiento in Sent:\n",
        "    # AGREGAR a la lista Y\n",
        "    if Sentimiento == \"positive\":\n",
        "        y._____(1)\n",
        "    else:\n",
        "        y._____(0)\n",
        "print(\"Vector de objetivos:\")\n",
        "print(y)"
      ]
    },
    {
      "cell_type": "code",
      "execution_count": null,
      "metadata": {
        "id": "9v9BDOb23LK5"
      },
      "outputs": [],
      "source": [
        "# Separación de la información en conjuntos de entrenamiento\n",
        "X_train, X_test, y_train, y_test = _____(X, y, test_size=0.20)\n",
        "\n",
        "# Preparamos la capa de embeddingsn(Predefinimos una cantidad de\n",
        "# 5000 palabras consideradas como tokens\n",
        "tokenizer = _____(num_words=5000)\n",
        "tokenizer.fit_on_texts(X_train)\n",
        "\n",
        "# Transforma cada texto en una secuencia de valores enteros\n",
        "X_train = tokenizer._____(X_train)\n",
        "X_test = tokenizer._____(X_test)"
      ]
    },
    {
      "cell_type": "code",
      "execution_count": null,
      "metadata": {
        "id": "ZyLfvDB53LK_"
      },
      "outputs": [],
      "source": [
        "# Conversión de los conjuntos de entrenamiento a vectores \n",
        "maxlen = 100\n",
        "\n",
        "# Aquellos mayores a 100 son truncados, y los menores les \n",
        "# es replicado su último valor para tener arreglos\n",
        "# bidimensionales del mismo tamaño (Usar el método para padding)\n",
        "X_train = _____(X_train, padding='post', maxlen=maxlen)\n",
        "X_test = _____(X_test, padding='post', maxlen=maxlen)\n",
        "\n",
        "print(\"Matriz de valores para las palabras:\")\n",
        "X_train.shape"
      ]
    },
    {
      "cell_type": "code",
      "execution_count": null,
      "metadata": {
        "id": "3rofHiLL3LLD"
      },
      "outputs": [],
      "source": [
        "# Verificar que la información de entrada sea coherente\n",
        "print(X_train)\n",
        "print(y_train)"
      ]
    },
    {
      "attachments": {},
      "cell_type": "markdown",
      "metadata": {
        "id": "vcgnVb-y3LLG"
      },
      "source": [
        "## Pasos 4 y 5 - Selección y aplicación del modelo de IA (DNN)"
      ]
    },
    {
      "cell_type": "code",
      "execution_count": null,
      "metadata": {
        "id": "iurLzfQd3LLG"
      },
      "outputs": [],
      "source": [
        "# Declaración de librerías para manejo de arreglos (Numpy)\n",
        "from _____ import asarray\n",
        "from _____ import zeros\n",
        "\n",
        "# Lectura del archivo de embeddings\n",
        "embeddings_dictionary = dict()\n",
        "Embeddings_file = _____('Word2Vect_Spanish.txt', encoding=\"utf8\")\n",
        "\n",
        "# Extraemos las características del archivo de embeddings\n",
        "# y las agregamos a un diccionario (Cada elemento es un vector)\n",
        "for linea in Embeddings_file:\n",
        "    caracts = _____.split()\n",
        "    palabra = caracts[0]\n",
        "    vector = asarray(caracts[1:], dtype='float32')\n",
        "    embeddings_dictionary [_____] = vector\n",
        "Embeddings_file._____()"
      ]
    },
    {
      "cell_type": "code",
      "execution_count": null,
      "metadata": {
        "id": "s11TiVMc3LLL"
      },
      "outputs": [],
      "source": [
        "# Extraemos la cantidad de palabras en el vocabulario\n",
        "vocab_size = len(tokenizer.word_index) + 1\n",
        "\n",
        "# Generamos la matriz de embeddings (De entrada llena de ceros)\n",
        "embedding_matrix = _____((vocab_size, 300))\n",
        "for word, index in tokenizer.word_index.items():\n",
        "    # Extraemos el vector de embedding para cada palabra\n",
        "    embedding_vector = embeddings_dictionary._____(word)\n",
        "    # Si la palbra si existía en el vocabulario\n",
        "    # agregamos su vector de embeddings en la matriz\n",
        "    if embedding_vector is not None:\n",
        "        embedding_matrix[_____] = embedding_vector"
      ]
    },
    {
      "cell_type": "code",
      "execution_count": null,
      "metadata": {
        "id": "hkfq_bUU3LLR"
      },
      "outputs": [],
      "source": [
        "# Definimos las capas de nuestro modelo neuronal (DNN)\n",
        "# Definimos que el modelo será secuencial (Y que ingresaremos cada capa en el orden de configuración de la red)\n",
        "model = _____()\n",
        "# Definimos los valores para nuestra capa de Embeddings\n",
        "embedding_layer = Embedding(_____, _____, weights=[embedding_matrix], input_length=maxlen, trainable=False)\n",
        "# Agregamos al modelo 3 capas (La de Embeddings, una de aplanamiento y una Dense con activación Sigmoindal)\n",
        "model.add(embedding_layer)\n",
        "model.add(_____())\n",
        "model.add(Dense(1, activation='_____'))\n",
        "# Definimos métodos de optimización, que métrica se utilizará y como calcular la pérdida\n",
        "model.compile(optimizer='adam', loss='binary_crossentropy', metrics=['acc'])\n",
        "# Para ver la configuración que definimos\n",
        "print(model.summary())"
      ]
    },
    {
      "cell_type": "code",
      "execution_count": null,
      "metadata": {
        "id": "NWnRFUCI3LLX"
      },
      "outputs": [],
      "source": [
        "# Utilizamos el método fit para ajustar los datos de nuestro modelo a la configuración que definimos\n",
        "history = model._____(X_train, y_train, batch_size=128, epochs=10, verbose=1, validation_split=0.2)\n",
        "# Utilizamos evaluate para determinar la pérdida y el accuracy de nuestro modelo\n",
        "score = model._____(X_test, y_test, verbose=1)\n",
        "print(\"Test Loss:\", score[0])\n",
        "print(\"Test Accuracy:\", score[1])"
      ]
    },
    {
      "cell_type": "code",
      "execution_count": null,
      "metadata": {
        "id": "p0HoJ2-x3LLd"
      },
      "outputs": [],
      "source": [
        "# Finalmente imprimimos la eficiencia y la pérdida del modelo\n",
        "# época a época para ver su evolución\n",
        "import matplotlib.pyplot as plt\n",
        "\n",
        "\n",
        "plt.plot(history._____['acc'])\n",
        "plt.plot(history._____['val_acc'])\n",
        "\n",
        "plt.title('model accuracy')\n",
        "plt.ylabel('accuracy')\n",
        "plt.xlabel('epoch')\n",
        "plt.legend(['train','test'], loc='upper left')\n",
        "plt.show()\n",
        "\n",
        "plt.plot(history._____['loss'])\n",
        "plt.plot(history._____['val_loss'])\n",
        "\n",
        "plt.title('model loss')\n",
        "plt.ylabel('loss')\n",
        "plt.xlabel('epoch')\n",
        "plt.legend(['train','test'], loc='upper left')\n",
        "plt.show()"
      ]
    },
    {
      "attachments": {},
      "cell_type": "markdown",
      "metadata": {
        "id": "oOLglwSu3LLm"
      },
      "source": [
        "## Paso 5.1 - Aplicación de una Red Convolucional (CNN) "
      ]
    },
    {
      "cell_type": "code",
      "execution_count": null,
      "metadata": {
        "id": "7YFrwKcJ3LLn"
      },
      "outputs": [],
      "source": [
        "# Declaración de modelo Secuencial \n",
        "model = _____()\n",
        "\n",
        "# Declaración de las capas del modelo convolucional\n",
        "embedding_layer = _____(_____, _____, weights=[embedding_matrix], input_length=maxlen , trainable=False)\n",
        "model.add(embedding_layer)\n",
        "model.add(Conv1D(_____, ______, activation='_____'))\n",
        "model.add(_____())\n",
        "model.add(Dense(1, activation='_____'))\n",
        "# Impresión de parámetros del modelo\n",
        "model.compile(optimizer='adam', loss='binary_crossentropy', metrics=['acc'])\n",
        "print(model.summary())"
      ]
    },
    {
      "cell_type": "code",
      "execution_count": null,
      "metadata": {
        "id": "JMewaasr3LLw"
      },
      "outputs": [],
      "source": [
        "# Utilizamos el método fit para ajustar los datos de nuestro modelo a la configuración que definimos\n",
        "history = model._____(X_train, y_train, batch_size=128, epochs=10, verbose=1, validation_split=0.2)\n",
        "# Utilizamos evaluate para determinar la pérdida y el accuracy de nuestro modelo\n",
        "score = model._____(X_test, y_test, verbose=1)\n",
        "print(\"Test Score:\", score[0])\n",
        "print(\"Test Accuracy:\", score[1])"
      ]
    },
    {
      "cell_type": "code",
      "execution_count": null,
      "metadata": {
        "id": "qnGHGUXh3LL8"
      },
      "outputs": [],
      "source": [
        "# Finalmente imprimimos la eficiencia y la pérdida del modelo\n",
        "# época a época para ver su evolución\n",
        "plt.plot(history._____['acc'])\n",
        "plt.plot(history._____['val_acc'])\n",
        "\n",
        "plt.title('model accuracy')\n",
        "plt.ylabel('accuracy')\n",
        "plt.xlabel('epoch')\n",
        "plt.legend(['train','test'], loc = 'upper left')\n",
        "plt.show()\n",
        "\n",
        "plt.plot(history._____['loss'])\n",
        "plt.plot(history._____['val_loss'])\n",
        "\n",
        "plt.title('model loss')\n",
        "plt.ylabel('loss')\n",
        "plt.xlabel('epoch')\n",
        "plt.legend(['train','test'], loc = 'upper left')\n",
        "plt.show()"
      ]
    },
    {
      "attachments": {},
      "cell_type": "markdown",
      "metadata": {
        "id": "mtkzChIl3LMB"
      },
      "source": [
        "## Paso 5.2 - Red LSTM"
      ]
    },
    {
      "cell_type": "code",
      "execution_count": null,
      "metadata": {
        "id": "6801dS3E3LMC"
      },
      "outputs": [],
      "source": [
        "# Declaración de modelo Secuencial \n",
        "model = Sequential()\n",
        "\n",
        "# Declaración de las capas del modelo LSTM\n",
        "embedding_layer = _____(_____, _____, weights=[_____], input_length=maxlen , trainable=False)\n",
        "model.add(_____)\n",
        "model.add(LSTM(_____))\n",
        "model.add(Dense(1, activation='_____'))\n",
        "\n",
        "# Impresión de parámetros del modelo\n",
        "model.compile(optimizer='adam', loss='binary_crossentropy', metrics=['acc'])\n",
        "print(model.summary())"
      ]
    },
    {
      "cell_type": "code",
      "execution_count": null,
      "metadata": {
        "id": "pxIu94fw3LMX"
      },
      "outputs": [],
      "source": [
        "# Utilizamos el método fit para ajustar los datos de nuestro modelo a la configuración que definimos\n",
        "history = model._____(X_train, y_train, batch_size=128, epochs=10, verbose=1, validation_split=0.2)\n",
        "# Utilizamos evaluate para determinar la pérdida y el accuracy de nuestro modelo\n",
        "score = model._____(X_test, y_test, verbose=1)\n",
        "print(\"Test Score:\", score[0])\n",
        "print(\"Test Accuracy:\", score[1])"
      ]
    },
    {
      "cell_type": "code",
      "execution_count": null,
      "metadata": {
        "id": "EM2-daJ-3LMd"
      },
      "outputs": [],
      "source": [
        "# Finalmente imprimimos la eficiencia y la pérdida del modelo\n",
        "# época a época para ver su evolución\n",
        "plt.plot(history._____['acc'])\n",
        "plt.plot(history._____['val_acc'])\n",
        "\n",
        "plt.title('model accuracy')\n",
        "plt.ylabel('accuracy')\n",
        "plt.xlabel('epoch')\n",
        "plt.legend(['train','test'], loc='upper left')\n",
        "plt.show()\n",
        "\n",
        "plt.plot(history._____['loss'])\n",
        "plt.plot(history._____['val_loss'])\n",
        "\n",
        "plt.title('model loss')\n",
        "plt.ylabel('loss')\n",
        "plt.xlabel('epoch')\n",
        "plt.legend(['train','test'], loc='upper left')\n",
        "plt.show()"
      ]
    },
    {
      "attachments": {},
      "cell_type": "markdown",
      "metadata": {
        "id": "YRTnQ5hu3LMh"
      },
      "source": [
        "## Paso 6 - Probar el modelo"
      ]
    },
    {
      "cell_type": "code",
      "execution_count": null,
      "metadata": {
        "id": "jonu6YA03LMi"
      },
      "outputs": [],
      "source": [
        "instance = \"Acabo de terminar esta película la vi en el estante de videos y, siendo fan de Nick Stahl, tuve que alquilarla. Con toda honestidad, probablemente debería haberse quedado en el estante. El concepto era interesante y hubo varios giros y vueltas bastante inteligentes, pero de alguna manera adiviné casi todos antes de que aparecieran. Y la película simplemente fue un poco demasiado lejos al final en mi opinión ... ¡si tienes que sufrir al verla, verás lo que quiero decir! En una nota positiva, Nick La actuación de Stahl fue genial (especialmente considerando con qué tuvo que trabajar). Eddie Kaye Thomas también fue bueno, pero siempre interpreta el mismo tipo de personaje ... demasiado Paul Finch de \\\"American Pie\\\" apareciendo para mi gusto. <br /> <br /> Y finalmente, la peor parte de esta película tiene que ser la actuación sin emociones de January Jones ... Supongo que una cara bonita es todo lo que importa en Hollywood.\"\n",
        "\n",
        "# Tokenizamos el texto (Secuencias de enteros)\n",
        "instance = tokenizer._____(instance)\n",
        "\n",
        "flat_list = []\n",
        "for sublist in instance:\n",
        "    for item in sublist:\n",
        "        flat_list.append(_____)\n",
        "\n",
        "flat_list = [flat_list]\n",
        "\n",
        "instance = pad_sequences(flat_list, _____='post', maxlen=maxlen)\n",
        "\n",
        "model.predict(instance)"
      ]
    }
  ],
  "metadata": {
    "colab": {
      "name": "Caso de estudio Retos 17 a 21 - Análisis de sentimientos ustilizando DNN, CNN y LSTM Alumnos.ipynb",
      "provenance": []
    },
    "kernelspec": {
      "display_name": "Python 3",
      "language": "python",
      "name": "python3"
    },
    "language_info": {
      "codemirror_mode": {
        "name": "ipython",
        "version": 3
      },
      "file_extension": ".py",
      "mimetype": "text/x-python",
      "name": "python",
      "nbconvert_exporter": "python",
      "pygments_lexer": "ipython3",
      "version": "3.9.17"
    }
  },
  "nbformat": 4,
  "nbformat_minor": 0
}
