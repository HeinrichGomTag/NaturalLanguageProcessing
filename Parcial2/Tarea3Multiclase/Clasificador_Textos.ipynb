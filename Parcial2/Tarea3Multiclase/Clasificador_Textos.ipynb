{
 "cells": [
  {
   "cell_type": "code",
   "execution_count": 99,
   "metadata": {
    "ExecuteTime": {
     "end_time": "2023-10-20T22:47:37.957773600Z",
     "start_time": "2023-10-20T22:47:37.918261300Z"
    }
   },
   "outputs": [],
   "source": [
    "# Importación de librerías necesarias\n",
    "import os  # Librería del sistema operativo para interactuar con el sistema operativo\n",
    "import numpy as np  # Biblioteca para operaciones matemáticas en matrices y arreglos\n",
    "import pandas as pd  # Librería para la manipulación y análisis de estructuras de datos y operaciones de análisis\n",
    "\n",
    "# Herramientas de preprocesamiento de Keras\n",
    "from keras_preprocessing.sequence import pad_sequences  # Función para hacer que las secuencias tengan la misma longitud\n",
    "\n",
    "# Componentes principales y capas de Keras para construir modelos de redes neuronales\n",
    "from keras import Sequential  # Modelo lineal apilado de capas para construir redes neuronales\n",
    "from keras.layers import (\n",
    "    Activation,  # Capa que aplica una función de activación a la salida\n",
    "    Dropout,  # Capa que aplica regularización al modelo, evitando el sobreajuste\n",
    "    Dense,  # Capa completamente conectada para aprendizaje profundo\n",
    "    Flatten,  # Capa para convertir la entrada multidimensional en una dimensión\n",
    "    Conv1D,  # Capa de convolución 1D, comúnmente usada para procesamiento de señales o series temporales\n",
    "    LSTM,  # Variante de RNN, diseñada para aprender de secuencias largas\n",
    "    GlobalMaxPooling1D,  # Operación de agrupación máxima a nivel global\n",
    "    Embedding  # Capa para convertir palabras en vectores\n",
    ")\n",
    "\n",
    "# Herramientas para la conversión y preparación de datos\n",
    "from keras.utils import to_categorical  # Convierte un vector de clase en una matriz binaria de clase\n",
    "from sklearn.model_selection import train_test_split  # Divide datos en conjuntos de entrenamiento y prueba\n",
    "\n",
    "# Herramientas de procesamiento de texto\n",
    "from keras.preprocessing.text import Tokenizer  # Convierte textos en secuencias de números\n",
    "from nltk.tokenize import RegexpTokenizer  # Tokenizador que usa expresiones regulares para dividir texto\n",
    "from nltk.tokenize.treebank import TreebankWordDetokenizer  # Detokenizador para convertir listas de palabras en texto\n",
    "\n",
    "# Herramientas de visualización\n",
    "import matplotlib.pyplot as plt  # Biblioteca para gráficos y visualizaciones\n",
    "\n",
    "# Funciones adicionales de numpy para la manipulación de datos\n",
    "from numpy import asarray  # Convierte estructuras dadas a arreglos numpy\n",
    "from numpy import zeros  # Crea un arreglo de ceros con forma y tipo de dato especificados\n",
    "from numpy import array  # Crea un arreglo\n",
    "\n",
    "# Se importa nuevamente pad_sequences y Sequential, lo cual es redundante ya que fueron importados anteriormente\n",
    "from keras_preprocessing.sequence import pad_sequences\n",
    "from keras import Sequential\n"
   ]
  },
  {
   "cell_type": "markdown",
   "metadata": {},
   "source": [
    "##  Paso 1 Lectura del Corpus"
   ]
  },
  {
   "cell_type": "code",
   "execution_count": 100,
   "metadata": {
    "ExecuteTime": {
     "end_time": "2023-10-20T22:47:38.126298100Z",
     "start_time": "2023-10-20T22:47:37.931265700Z"
    }
   },
   "outputs": [
    {
     "name": "stdout",
     "output_type": "stream",
     "text": [
      "                                                Texto Categoría\n",
      "0   Águila es el nombre dado a las mayores aves de...  Animales\n",
      "1   ﻿Crocodylidae (castellanizado como crocodílido...  Animales\n",
      "2   Los delfines (Delphinidae), llamados también d...  Animales\n",
      "3   Los elefantes o elefántidos (Elephantidae) son...  Animales\n",
      "4   Los quirópteros (Chiroptera), conocidos comúnm...  Animales\n",
      "5   Los vulpinos (Vulpini) son una tribu de mamífe...  Animales\n",
      "6   Iniciada en 1848 con el descubrimiento de oro ...   Eventos\n",
      "7   El 12 de octubre de 1492, Cristóbal Colón, un ...   Eventos\n",
      "8   Conocido también como el Día D, el Desembarco ...   Eventos\n",
      "9   Iniciada en 1848 con el descubrimiento de oro ...   Eventos\n",
      "10  El 20 de julio de 1969, la misión Apollo 11 de...   Eventos\n",
      "11  La Revolución Francesa fue un período de agita...   Eventos\n",
      "12  Alemania, oficialmente República Federal de Al...   Lugares\n",
      "13  Australia, oficialmente Mancomunidad de Austra...   Lugares\n",
      "14  Canadá (Canada) es un país soberano de América...   Lugares\n",
      "15  Inglaterra (en inglés, England) es una de las ...   Lugares\n",
      "16  Japón (Nihon o Nippon), oficialmente Estado de...   Lugares\n",
      "17  México (Acerca de este sonido [ˈmexiko]), ofic...   Lugares\n",
      "18  Un asistente virtual es un agente de software ...   Objetos\n",
      "19  Un bot de charla o bot conversacional (en ingl...   Objetos\n",
      "20  Amazon Echo, es un altavoz inteligente de Amaz...   Objetos\n",
      "21  Un robot es una entidad virtual o mecánica art...   Objetos\n",
      "22  Un reloj inteligente es un reloj de pulsera do...   Objetos\n",
      "23  El teléfono inteligente (smartphone en inglés)...   Objetos\n",
      "24  ﻿Albert Einstein (Imperio alemán; 14 de marzo ...  Personas\n",
      "25  Isaac Asimov (RSFS de Rusia, 20 de diciembre d...  Personas\n",
      "26  Isaac Newton, 25 de diciembre de 1642, Londres...  Personas\n",
      "27  Nikola Tesla (Imperio austríaco, actual Croaci...  Personas\n",
      "28  Stephen William Hawking; Oxford, 8 de enero de...  Personas\n",
      "29  Thomas Alva Edison (Milan, Ohio, 11 de febrero...  Personas\n"
     ]
    }
   ],
   "source": [
    "### Consolidamos todos los textos en un archivo CSV para el preprocesamiento\n",
    "\n",
    "# Especifica la ruta al directorio principal que contiene las carpetas con diferentes categorías de texto\n",
    "directorio_principal = './Textos_para_Clasificar'\n",
    "\n",
    "# Inicializa una lista vacía para almacenar los datos recolectados\n",
    "datos = []\n",
    "\n",
    "# Itera sobre cada carpeta (representando una categoría) en el directorio principal\n",
    "for categoria in os.listdir(directorio_principal):\n",
    "    # Combina la ruta del directorio principal con la carpeta de la categoría para obtener la ruta completa\n",
    "    ruta_categoria = os.path.join(directorio_principal, categoria)\n",
    "    \n",
    "    # Verifica si la ruta especificada realmente corresponde a un directorio\n",
    "    if os.path.isdir(ruta_categoria):\n",
    "        \n",
    "        # Itera sobre cada archivo en la carpeta de la categoría actual\n",
    "        for archivo in os.listdir(ruta_categoria):\n",
    "            # Combina la ruta de la carpeta de categoría con el nombre del archivo para obtener la ruta completa\n",
    "            ruta_archivo = os.path.join(ruta_categoria, archivo)\n",
    "            \n",
    "            # Abre y lee el contenido del archivo de texto\n",
    "            with open(ruta_archivo, 'r', encoding='utf-8') as f:\n",
    "                texto = f.read()\n",
    "                # Añade el contenido del archivo (texto) y la categoría correspondiente a la lista de datos\n",
    "                datos.append([texto, categoria])\n",
    "\n",
    "# Convierte la lista de datos en un DataFrame usando pandas\n",
    "df = pd.DataFrame(datos, columns=['Texto', 'Categoría'])\n",
    "\n",
    "# Guarda el DataFrame en un archivo CSV sin índices\n",
    "df.to_csv('datos_clasificador.csv', index=False)\n",
    "\n",
    "# Imprime el DataFrame para visualizar el resultado\n",
    "print(df)\n"
   ]
  },
  {
   "cell_type": "code",
   "execution_count": 101,
   "metadata": {
    "ExecuteTime": {
     "end_time": "2023-10-20T22:47:38.130296Z",
     "start_time": "2023-10-20T22:47:37.986775600Z"
    }
   },
   "outputs": [
    {
     "data": {
      "text/plain": "<BarContainer object of 5 artists>"
     },
     "execution_count": 101,
     "metadata": {},
     "output_type": "execute_result"
    },
    {
     "data": {
      "text/plain": "<Figure size 640x480 with 1 Axes>",
      "image/png": "[encoded data removed]"
     },
     "metadata": {},
     "output_type": "display_data"
    }
   ],
   "source": [
    "# Inicialización de contadores para cada categoría\n",
    "# Estos contadores registrarán la cantidad de textos por cada categoría en el DataFrame\n",
    "animales = 0\n",
    "lugares = 0\n",
    "personas = 0\n",
    "objetos = 0\n",
    "eventos = 0\n",
    "\n",
    "# Itera sobre cada entrada en la columna 'Categoría' del DataFrame\n",
    "for text in df[\"Categoría\"]:\n",
    "    # Basándose en el valor de la categoría, incrementa el contador correspondiente\n",
    "    if text == 'Animales':\n",
    "        animales += 1\n",
    "    elif text == 'Lugares':\n",
    "        lugares += 1\n",
    "    elif text == 'Personas':\n",
    "        personas += 1\n",
    "    elif text == 'Objetos':\n",
    "        objetos += 1\n",
    "    elif text == 'Eventos':\n",
    "        eventos += 1\n",
    "\n",
    "# Visualización:\n",
    "# Utiliza matplotlib para crear un gráfico de barras que muestra la distribución de textos por categoría\n",
    "plt.bar(\n",
    "    ['animales', 'lugares', 'personas', 'objetos', 'eventos'],  # Etiquetas para el eje X, representando cada categoría\n",
    "    [animales, lugares, personas, objetos, eventos],  # Valores de las barras, que corresponden al número de textos por categoría\n",
    "    color = ['lime', 'red', 'blue', 'yellow', 'purple']  # Colores asignados a cada barra/categoría\n",
    ")\n"
   ]
  },
  {
   "cell_type": "markdown",
   "metadata": {},
   "source": [
    "### Paso 2: Preprocesamiento"
   ]
  },
  {
   "cell_type": "code",
   "execution_count": 102,
   "metadata": {
    "ExecuteTime": {
     "end_time": "2023-10-20T22:47:38.246340600Z",
     "start_time": "2023-10-20T22:47:38.116293Z"
    }
   },
   "outputs": [
    {
     "name": "stdout",
     "output_type": "stream",
     "text": [
      "aguila nombre dado mayores aves depredadoras las diversas especies subespecies aguilas pueden encontrarse casi cualquier parte mundo excepto antartida son miembros aves presa orden accipitriformes o falconiformes acorde clasificacion anterior familia accipitridae subfamilia buteoninae pertenecen varios generos cuales sujetos reclasificacion adecuada puesto expertos llegan opinion consensuada las aguilas caracterizan principalmente gran tamaño constitucion robusta cabeza pico pesados como todas aves presa aguilas poseen pico grande poderoso puntiagudo desprender carne presa cuentan tarsos garras poderosas llama atencion fuerza aguilas posibilita alzar vuelo presas pesadas ellas ademas poseen vista extremadamente aguda permite visualizar potenciales presas distancia ejemplo aguila real posee dos puntos focales ojos mirar frente localizar mirada hacia costados escudriñando distancia las aguilas sido utilizadas pueblos simbolo nacional especialmente simbolo imperial mostrando poderio belleza del imperio romano que general tomado forma usual emblema aguila imperio bizantino aporto simbolo aguila bicefala el aguila sinonimo poder pueblos antiguos mochica antiguo peru mayas aztecas tambien emblema ciertos equipos deportivos principalmente beisbol caso equipos aguilas mexicali mexico aguilas zulia venezuela aguilas cibaeñas republica dominicana aguilas cibaeñas equipo fanaticos extranjero republica dominica caribe equipo futbol aguilas cristo venezuela club deportivo aguila el salvador club america mexico equipo argentino combate historico medieval hmb cecm igual aguila caracterizan deporte ferocidad combates\n",
      "crocodylidae castellanizado crocodilidos cocodrilidos familia sauropsidos reptiles arcosaurios comunmente conocidos cocodrilos incluye catorce especies actuales se trata grandes reptiles semiacuaticos viven regiones tropicales africa asia america australia aparecieron primera vez eoceno hace cincuenta cinco millones años en estricto cocodrilo cualquier especie pertenece familia crocodylidae a veces clasificada subfamilia crocodylinae no obstante termino puede usar manera flexible incluir miembros existentes orden crocodilia decir verdaderos cocodrilos aligatores caimanes familia alligatoridae gaviales familia gavialidae asi crocodylomorpha incluye parientes antepasados extintos cocodrilos actuales los cocodrilos tienden congregarse habitats agua dulce rios lagos humedales veces agua salobre se alimentan principalmente vertebrados peces reptiles mamiferos veces invertebrados moluscos crustaceos segun especie\n",
      "los delfines delphinidae llamados delfines oceanicos distinguirlos platanistoideos delfines rio familia cetaceos odontocetos heterogenea comprende 34 especies miden 2 9 metros largo cuerpo fusiforme cabeza gran tamaño hocico alargado solo espiraculo parte superior cabeza orificio respiratorio animales marinos contacto aire agua sistema respiratorio interno son carnivoros estrictos estan especies inteligentes habitan planeta se encuentran relativamente cerca costas menudo interactuan ser humano como cetaceos delfines utilizan sonidos danza salto comunicarse orientarse alcanzar presas ademas utilizan ecolocalizacion hoy dia principales amenazas expuestos naturaleza antropica\n",
      "los elefantes elefantidos elephantidae familia mamiferos placentarios orden proboscidea antiguamente clasificaban junto mamiferos piel gruesa orden ahora invalido paquidermos pachydermata existen hoy dia tres especies diversas subespecies entre generos extintos familia destacan mamuts elefante salvaje indio bosque marayoor munnar kerala cria elefante africano sabana loxodonta africana parque nacional kruger sudafrica los elefantes animales terrestres grandes existen actualidad el periodo gestacion veintidos meses largo cualquier animal terrestre el peso nacer usualmente 118 kg normalmente viven cincuenta setenta años registros antiguos documentan edades maximas ochenta dos años el elefante grande cazado registro peso alrededor 11 000 kg angola 1956 alcanzando altura cruz 3 96 m metro alto elefante africano promedio el elefante pequeño alrededor tamaño cria cerdo grande especie prehistorica existio isla creta elephas creticus pleistoceno con peso 5 kg cerebro elefante grande animales terrestres se atribuyen gran variedad comportamientos asociados inteligencia duelo altruismo adopcion juego uso herramientas compasion autorreconocimiento los elefantes pueden par especies inteligentes cetaceos primates las areas grandes cerebro encargadas audicion gusto movilidad\n",
      "los quiropteros chiroptera conocidos comunmente murcielagos orden mamiferos placentarios cuyas extremidades superiores desarrollaron alas con aproximadamente 1100 especies representan aproximadamente 20 todas especies mamiferos convierte segundo orden numeroso clase tras roedores estan presentes continentes excepto antartida son unicos mamiferos capaces volar extendido casi mundo ocupado gran variedad nichos ecologicos diferentes desempeñan papel ecologico vital polinizadores controladores plagas insectos pequeños vertebrados desarrollan importante papel dispersion semillas muchas plantas tropicales dependen completo murcielagos tienen patas anteriores transformadas alas mitad especies conocidas orientan cazan medio ecolocalizacion cerca 70 especies insectivoras mayor parte resto frugivoras alimentan pequeños vertebrados ranas roedores aves peces murcielagos o caso vampiros subfamilia desmodontinae sangre su tamaño varia 29 33 mm longitud 2 g peso murcielago moscardon craseonycteris thonglongyai 1 5 m envergadura 1 2 kg peso zorro volador filipino acerodon jubatus a causa habitos nocturnos mayoria especies ancestral incomprension como podian ver oscuridad consideraba todavia considera menudo habitantes siniestros noche pocas excepciones como china simbolo felicidad provecho mayor parte mundo murcielagos causado temor humanos largo historia iconos imprescindibles cine terror aparecen multitud mitos leyendas y aunque realidad solo tres especies hematofagas menudo asocia vampiros mitologicos\n",
      "los vulpinos vulpini tribu mamiferos carnivoros incluidos familia canidos se conocen comunmente zorros zorras raposos raposas actualmente representados unas 27 especies encuentran casi continentes aunque extendida zorro rojo zorro comun vulpes vulpes habita europa america norte otras especies importantes zorro gris zorro isleño zorro polar conocido zorro artico la mayoria zorros viven 5 7 años libertad aunque pueden llegar alcanzar 12 incluso sobrepasar edad cautiverio son generalmente pequeños miembros familia canidae tales como lobos chacales perros domesticos sus rasgos tipicos incluyen fino hocico espesa cola otras caracteristicas fisicas varian segun habitat por ejemplo zorro desierto largas orejas pelaje corto mientras zorro artico pequeñas orejas denso pelaje a diferencia canidos zorros usualmente animales manada son solitarios cazando presa especialmente roedores empleando tecnica salto practicada edad temprana que dependiendo terreno utiliza tecnica u otra ejemplo nieve dedica escuchar presa debajo gruesa capa predice movimientos misma da salto alto postura vertical penetrar nieve mayor eficacia asi alcanzar presa capaces matar presa raudamente su dieta alimenticia incluye saltamontes fruta bayas presentan fenotipo glandula mamaria superdesarrollada\n",
      "iniciada 1848 descubrimiento oro sutter s mill fiebre oro atrajo 300 000 personas california busca fortuna este evento transformo region acelerando admision union numero 31 la fiebre oro impacto significativo economia demografia california ejemplo como posibilidad riqueza puede impulsar migracion desarrollo region\n",
      "el 12 octubre 1492 cristobal colon navegante genoves servicio reyes catolicos españa llego isla continente americano marcando comienzo periodo exploracion conquista colonizacion europea nuevo mundo este evento cambio curso historia resultando intercambio cultural biologico conocido intercambio colombino subyugacion exterminio muchas culturas indigenas el descubrimiento abrio nuevas rutas comerciales condujo expansion imperios europeos america\n",
      "conocido dia d desembarco normandia 6 junio 1944 mayor invasion mar historia marco comienzo fin segunda guerra mundial en operacion militar fuerzas aliadas desembarcaron playas normandia francia abrir nuevo frente alemania nazi la operacion involucro 1 3 millones hombres precedida bombardeos aereos maritimos debilitar defensas alemanas a pesar fuertes bajas desembarco exitoso permitio aliados avanzar hacia alemania eventualmente derrotar regimen nazi\n",
      "iniciada 1848 descubrimiento oro sutter s mill fiebre oro atrajo 300 000 personas california busca fortuna este evento transformo region acelerando admision union numero 31 la fiebre oro impacto significativo economia demografia california ejemplo como posibilidad riqueza puede impulsar migracion desarrollo region\n",
      "el 20 julio 1969 mision apollo 11 nasa logro primer alunizaje exitoso marcando hito historico exploracion espacial los astronautas neil armstrong buzz aldrin convirtieron primeros seres humanos pisar superficie lunar mientras michael collins permanecia orbita lunar bordo modulo comando el momento neil armstrong descendio modulo lunar pronuncio famosas palabras es pequeño paso hombre gran salto humanidad transmitido vivo presenciado millones personas alrededor mundo este evento solo demostro capacidades tecnologicas innovacion humana sino simbolizo victoria significativa carrera espacial estados unidos union sovietica guerra fria el alunizaje inspiro generaciones futuras cientificos ingenieros publico general posibilidades exploracion espacial descubrimiento cientifico\n",
      "la revolucion francesa periodo agitacion social politica francia colonias duro 1789 1799 este evento historico marco fin monarquia ascension napoleon bonaparte cambios significativos estructura social politica pais la revolucion impulsada descontento popular hacia monarquia absoluta desigualdad social economica ideas ilustradas libertad igualdad fraternidad durante periodo llevaron cabo importantes reformas legislativas enfrentaron facciones rivales ejecutaron guillotina incluyendo rey luis xvi reina maria antonieta la revolucion francesa impacto duradero historia mundial inspirando revoluciones movimientos libertad democracia mundo\n",
      "alemania oficialmente republica federal alemania pais soberano centroeuropeo miembro union europea constituido estado social democratico derecho cuya forma gobierno republica parlamentaria federal su capital berlin esta formado dieciseis federados bundesländer limita norte mar norte dinamarca mar baltico polonia republica checa sur austria suiza oeste francia luxemburgo belgica paises bajos la ciudad büsingen am hochrhein enclavada suiza forma parte alemania el territorio alemania abarca 357 022 km² extension posee clima templado con casi 83 millones habitantes pais poblado miembros union europea hogar tercer mayor grupo emigrantes internacionales despues estados unidos alemania segundo destino migraciones popular mundo las palabras aleman alemania provienen latin utilizadas antigüedad romanos denominar alamanes no mismo alemanes pueblo germanico cercano territorio imperio romano de ahi usada nombrar pais entero ademas aleman extendido uso gentilicio germano derivado nombre romanos referian tribus romanas celtas zona central europa cuyo territorio llamaban germania desde siglo x territorios alemanes formaron parte central sacro imperio romano germanico duro 1806 durante siglo xvi regiones norte pais convirtieron centro reforma protestante como moderno estado nacion pais unificado tiempos guerra franco prusiana 1871 tras segunda guerra mundial alemania nazi derrotada aliados alemania dividida dos estados separados largo lineas ocupacion aliadas 1949 estados resultantes republica federal alemania republica democratica alemana reunificaron 1990 fue miembro fundador comunidad europea 1957 convirtio union europea 1993 es parte zona schengen adopto moneda comun europea euro 1999 alemania miembro organizacion naciones unidas otan g7 naciones g4 firmo protocolo kioto es cuarta mayor economia mundial cuanto pib nominal primera europa mayor exportador mercancias mundo 2007 en terminos absolutos asigna tercer mayor presupuesto anual ayuda desarrollo mundo mientras gastos militares ocuparon noveno lugar mundial 2012 el pais desarrollado alto nivel vida establecido sistema completo seguridad social tiene posicion clave asuntos europeos mantiene estrecha relacion varias asociaciones nivel mundial es reconocida lider sectores cientifico tecnologico alemania pais contaminante europa\n",
      "australia oficialmente mancomunidad australia pais soberano oceania cuya forma gobierno monarquia constitucional federal parlamentaria el pais ocupa principal masa continental plataforma llamada sahul ademas islas oceanos pacifico indico antartico los paises cercanos australia indonesia timor oriental papua nueva guinea norte islas salomon vanuatu dependencia francesa nueva caledonia noreste nueva zelanda sureste australia sexto pais grande mundo superficie 7 741 220 km² su capital canberra encuentra territorio capital australiana la poblacion pais 2011 21 5 millones habitantes concentrados principalmente grandes ciudades costeras sidney melbourne brisbane perth adelaida capital canberra australia habitada hace menos cuarenta seis mil años aborigenes australianos su descubrimiento producido tras esporadicas visitas españoles portugueses exploraron costa septentrional occidental australia aunque avanzar hacia interior escaso numero exploradores las exploraciones iniciadas siglo xvii continuadas pescadores neerlandeses exploradores comerciantes europeos hasta ahora sostiene primero desembarcar costas orientales navegante britanico james cook llego 1769 nueva zelanda 1770 tierras australianas debido ello mitad oriental continente reclamada gran bretaña 1770 1788 establecio colonia penal nueva gales sur debido asentamiento colonos crecimiento demografico exploracion nuevas areas siglo xix establecieron cinco colonias britanicas mas el 1 enero 1901 seis colonias federaron formando confederacion australia desde institucion mantenido sistema politico democratico liberal continuado siendo monarquia dentro comunidad britanica naciones en division convencional continentes australia engloba oceania agrupa islas pacifico sin embargo anglohablantes suelen hablar continente australiano australia punto vista geologico constituya continente nueva zelanda islas adyacentes tampoco conforman continente australia pertenecer plataforma sahul sino suelen asociar cercania historica politica\n",
      "canada canada pais soberano america norte cuya forma gobierno monarquia parlamentaria federal su territorio organizado diez provincias tres territorios su capital ciudad ottawa ciudad poblada toronto ubicado extremo norte subcontinente norteamericano extiende oceano atlantico este oceano pacifico oeste hacia norte oceano artico comparte frontera estados unidos sur noroeste federado alaska es segundo pais extenso mundo despues rusia septentrional ocupa cerca mitad territorio norteamerica a causa clima 15 paises menor densidad poblacional mundo aproximadamente 4 habitantes kilometro cuadrado el territorio ocupado canada habitado diversos grupos poblacion aborigen milenios desde finales siglo xv numerosas expediciones britanicas francesas exploraron largo costa atlantica tarde establecieron francia cedio casi todas colonias norteamericanas 1763 despues guerra franco india en 1867 union tres colonias britanicas norteamericanas mediante confederacion canada formo dominio federal cuatro provincias esto hizo comenzara acumulacion provincias territorios proceso autonomia frente reino unido esta autonomia cada vez mayor puso relieve estatuto westminster 1931 culmino acta constitucion canada 1982 rompio vestigios dependencia juridica parlamento britanico esta gobernada democracia parlamentaria monarquia constitucional isabel ii jefe estado es nacion bilingüe ingles frances lenguas oficiales ambito federal canada nacion industrial tecnologicamente pionera avanzada ampliamente autosuficiente energia gracias relativamente extensos depositos combustibles fosiles amplia generacion energia nuclear energia hidroelectrica siendo paises desarrollados economia diversificada hace independiente grandes yacimientos abundantes recursos naturales asi comercio particularmente estados unidos mexico en actualidad miembro oea g 8 g 20 otan ocde omc ukusa apec mancomunidad naciones francofonia organizacion naciones unidas es considerado paises mejor calidad vida\n",
      "inglaterra en ingles england cuatro naciones constituyentes reino unido su territorio formado geograficamente parte sur central gran bretaña isla comparte junto escocia gales cerca 100 islas pequeñas islas sorlingas isla wight limita norte escocia oeste gales sus dos fronteras terrestres noroeste mar irlanda suroeste mar celta mar norte sur canal mancha inglaterra asume 84 poblacion 85 pib reino unido el territorio actual inglaterra habitado varias culturas hace cerca 35000 años toma nombre anglos pueblos germanicos establecieron lugar siglos v vi se convirtio unificado año 927 descubrimientos comenzo siglo xv gran impacto cultural legal mundo el idioma ingles iglesia anglicana derecho inglaterra tomado base sistema juridico paises mundo desarrollaron inglaterra sistema parlamentario gobierno sido ampliamente adoptado naciones el reino inglaterra que 1284 incluia gales independiente 1707 fecha firmo acta union escocia crear reino gran bretaña en 1801 reino irlanda unio reino gran bretaña creando asi reino unido gran bretaña irlanda 1922 con independencia particion irlanda entonces reino unido gran bretaña irlanda norte\n",
      "japon nihon nippon oficialmente estado japon acerca sonido nihon koku nippon koku pais soberano insular asia situado oceano pacifico oeste mar japon china corea norte corea sur rusia norte mar ojotsk sur mar china oriental taiwan los caracteres componen nombre japon pueden significar el origen sol la base sol motivo pais conocido tierra sol naciente perspectiva china sol sale japon no ningun idioma oficial fecha japones considera idioma nacional dicho pais termino debe confundir anteriormente dicho japon archipielago compuesto 6852 islas el area gran tokio isla honshū ciudad tokio capital facto nacion mayor area metropolitana mundo treinta millones residentes y vez tokio capital ciudad grande mundo cuanto extension los restos arqueologicos indican ser humano vivido japon paleolitico superior la primera mencion escrita islas encuentra textos antigua china siglo i d c la historia japon alternado periodos influencia extranjera prolongados aislamiento total desde siglo xii 1868 japon gobernado sucesivos shogunatos militares ejercian poder nombre emperador en siglo xvii pais entro largo periodo aislamiento termino mediados siglo xix despues casi dos decadas conflictos internos insurrecciones restauro emperador meiji jefe estado 1868 proclamo imperio japon a finales siglo xix principios xx exitos primera guerra sino japonesa guerra ruso japonesa primera guerra mundial permitieron japon expandir imperio fortalecer fuerzas armadas la segunda guerra sino japonesa inicio 1937 acabo formando parte segunda guerra mundial 1941 conflictos terminaron tras rendicion japon debido bombardeos atomicos hiroshima nagasaki 1945 desde adopcion constitucion revisada 1947 japon mantenido monarquia constitucional unitaria emperador organo gobierno democratico llamado dieta japon hace varias decadas grandes potencias economicas mundiales actualidad tercera mayor economia acuerdo pib asimismo cuarto mayor exportador importador mercancias aunque japon renuncio oficialmente derecho declarar guerra tras segunda guerra mundial posee unas modernas fuerzas armadas quinto mayor presupuesto militar mundial autodefensa mantenimiento paz es miembro organizacion naciones unidas g7 g4 apec japon segundo pais menor tasa homicidios solo detras singapur mujeres japonesas segunda mayor esperanza vida y segun onu pais presenta tercera menor mortalidad infantil mundo\n",
      "mexico acerca sonido ˈmexiko oficialmente estados unidos mexicanos pais soberano ubicado parte meridional america norte capital ciudad mexico politicamente republica representativa democratica federal laica compuesta 32 entidades federativas 31 capital federal el territorio mexicano superficie 1 964 375 km² decimotercer pais extenso mundo tercero grande america latina limita norte estados unidos america largo frontera 3 155 km mientras sur frontera 958 km guatemala 276 km belice las costas pais limitan oeste oceano pacifico golfo mexico mar caribe sumando 9 330 km tercer pais americano mayor longitud litoral mexico undecimo pais poblado mundo poblacion estimada 126 millones personas 2019 8 la mayoria lengua materna español reconoce lengua nacional junto 67 lenguas indigenas propias nacion si bien pais hablan alrededor 287 idiomas estas cifras convierten mexico pais mayor numero hispanohablantes asi septimo pais mayor diversidad lingüistica mundo la presencia humana mexico remonta 14 000 años presente como fruto miles años desarrollo cultural surgieron territorio mexicano culturas mesoamericanas aridoamericanas oasisamericanas el actual territorio central mexico principal mayor escenario pueblo mexica y parte pueblo maya dos civilizaciones importantes america precolombina durante 300 años totalidad actual territorio formo parte virreinato nueva españa capital ciudad mexico siendo entidades importantes imperio español america tras dominacion española nueva españa inicio lucha independencia politica 1810 culmino 1821 posteriormente cerca siglo pais vio envuelto serie guerras internas invasiones extranjeras repercusiones ambitos vida mexicanos durante buena parte siglo xx principalmente segundo tercio lugar periodo gran crecimiento economico marco politica dominada solo partido politico segun organizacion mundial turismo mexico principal destino turistico america latina sexto visitado mundo esto debe gran medida 34 sitios culturales naturales considerados unesco patrimonio humanidad primero continente sexto mundo en terminos macroeconomicos producto interno bruto pib decimocuarta economia mundial undecima paridad poder adquisitivo ppa escala regional segunda economia america latina cuarta continente segun informe 2018 desarrollo humano onu indice desarrollo humano alto 0 774 ocupa lugar 74º mundo mexico paises mayor diversidad climas mundo considerado 17 paises megadiversos planeta hogar 10 12 biodiversidad mundial alberga 12 000 especies endemicas\n",
      "un asistente virtual agente software ayuda usuarios sistemas computacionales automatizando realizando tareas minima interaccion hombre maquina la interaccion da asistente virtual persona debe ser natural persona comunica usando voz asistente virtual procesa interpreta responde misma manera a veces termino bot conversacional en ingles chatbot utiliza referirse asistentes virtuales general especificamente aquellos accede chat linea o casos programas chat linea entretenimiento propositos utiles hacia 2017 capacidades uso asistentes virtuales expandiendo rapidamente nuevos productos entrando mercado una encuesta linea mayo 2017 encontro utilizado estados unidos siri apple 34 google assistant 19 amazon alexa 6 microsoft cortana 4 el uso altavoces inteligentes alimentados asistentes radicalmente diferente apple siquiera anuncio altavoz inteligente junio 2017 el asistente virtual m facebook esperaba disponible cientos millones facebook messenger 2017 apple google grandes bases instaladas usuarios telefonos inteligentes microsoft gran base instalada computadoras personales basadas windows donde trabaja cortana ademas telefonos altavoces inteligentes mientras alexa primero obtener posibilidad realizar pedidos comercio electronico linea amazon un asistente personal inteligente agente tipo software puede realizar tareas u ofrecer servicios individuo estas tareas servicios basados datos entrada usuario reconocimiento ubicacion habilidad acceder informacion variedad recursos linea como clima trafico noticias precios acciones horario usuario precios menor etc algunos ejemplos asistentes personales siri apple braina google assistant google now amazon echo microsoft cortana s voice samsung voice mate silvia hidi htc y bixby samsung uno aspectos clave asistente personal inteligente habilidad organizar mantener informacion esto incluye manejo correos electronicos eventos calendario archivos lista seguir etc de acuerdo inversor capital riesgo chi hua chien firma kleiner perkins caufield byers ejemplos tareas pueden ser ejecutadas inteligentes automatizados agentes personales incluyen manejo agenda ejemplo mandar alerta alguien llegara tarde cena inconveniente trafico actualizacion horarios ambas partes cambiar horario reservacion restaurante manejador personal salud ejemplo monitorear ingesta diaria calorias ritmo cardiaco regimen ejercicio despues hacer recomendaciones dar opciones mejorar salud la tecnologia asistente personal inteligente permitida combinacion dispositivos moviles interfaces programacion aplicaciones apis proliferacion aplicaciones moviles sin embargo asistentes personales automatizados diseñados realizar tareas solo especificadas vez traves voz usuario mientras agentes personales inteligentes realizan tareas curso ejemplo actualizacion agenda calendario forma autonoma\n",
      "un bot charla bot conversacional en ingles chatbot programa simula mantener conversacion persona proveer respuestas automaticas entradas hechas usuario habitualmente conversacion establece mediante texto aunque modelos disponen interfaz usuario multimedia mas recientemente comienzan utilizar programas conversores texto sonido ctv dotandolo mayor realismo interaccion usuario para establecer conversacion utilizarse frases facilmente comprensibles coherentes aunque mayoria bot conversacionales consiguen comprender todo en lugar cuenta palabras frases interlocutor permitiran usar serie respuestas preparadas antemano de manera bot capaz seguir conversacion menos logica saber realmente hablando\n",
      "amazon echo altavoz inteligente amazon funciones incluyendo respuesta preguntas reproductor musica el dispositivo consiste cilindro grande habla 9 pulgadas 23 cm matriz sensores 7 microfonos altavoces incluyen woofer tweeter control remoto el dispositivo responde nombre alexa amazon alexa amazon desarrollando echo dentro lab126 instalaciones silicon valley cambridge mass durante menos 4 años el dispositivo llamado doppler project d parte primer intento amazon ampliar mercado dispositivos ademas original kindle ereader\n",
      "un robot entidad virtual mecanica artificial en practica general sistema electromecanico que apariencia movimientos ofrece sensacion tener proposito propio la independencia creada movimientos hace acciones razon estudio razonable profundo area ciencia tecnologia la palabra robot puede referirse mecanismos fisicos sistemas virtuales software aunque suele aludirse segundos termino bots no consenso maquinas pueden ser consideradas robots existe acuerdo general expertos publico robots tienden hacer parte sigue moverse hacer funcionar brazo mecanico sentir manipular entorno mostrar comportamiento inteligente especialmente si comportamiento imita humanos animales actualmente podria considerarse robot computadora capacidad proposito movimiento general capaz desarrollar multiples tareas manera flexible segun programacion asi podria diferenciarse algun electrodomestico especifico aunque historias ayudantes acompañantes artificiales asi intentos crearlos larga historia maquinas totalmente autonomas aparecieron siglo xx el primer robot programable dirigido forma digital unimate instalado 1961 levantar piezas calientes metal maquina tinte colocarlas los robots domesticos limpieza mantenimiento hogar cada vez comunes no obstante existe cierta ansiedad impacto economico automatizacion amenaza armamento robotico ansiedad ve reflejada retrato menudo perverso malvado robots presentes obras cultura popular comparados colegas ficcion robots reales siguen siendo limitados\n",
      "un reloj inteligente reloj pulsera dotado funcionalidades van alla convencional los primeros modelos desempeñaban funcionalidades basicas actuales capaces acceder internet realizar recibir llamadas telefonicas enviar recibir correos electronicos sms recibir notificaciones telefono inteligente incluso consultar redes sociales muchas funcionalidades integran disponibles telefonos inteligentes embargo relojes inteligentes gozan ventajas comodidad respecta especial usa hacer deporte viajar estos dispositivos pueden incluir caracteristicas acelerometro giroscopio brujula pulsometro barometro altimetro geomagnetometro geolocalizador gps altavoz microfono ranura tarjeta memoria externa etc tambien cuentan mecanismos conectividad bluetooth para conectarlo movil auriculares u dispositivos nfc wifi usb cualquiera dispositivo cuenta procesador memoria entrada salida se puede recoger informacion sensores internos externos se puede controlar recuperar datos dispositivos muchos relojes inteligentes solo sirven interfaz telefono inteligente sin embargo existen practicamente independientes incorporan ranura tarjeta sim denominan relojes inteligentes telefonicos\n",
      "el telefono inteligente smartphone ingles tipo ordenador bolsillo capacidades telefono movil llamada telefonica servicio mensajes cortos etc sobre plataforma informatica movil mayor capacidad almacenar datos realizar actividades simultaneamente tareas realiza computadora mayor conectividad telefono convencional el termino inteligente utiliza fines comerciales hace referencia capacidad usarse computador bolsillo llega incluso reemplazar computadora personal casos los telefonos inteligentes popularizandose finales decada 2000 transcurso decada 2010 los sistemas operativos moviles utilizados actualmente android ios las marcas telefonos populares apple iphone samsung huawei xiaomi otros recientemente principios año 2013 telefonos inteligentes superan venta telefonos celulares convencionales entonces una principales caracteristicas telefonos pantalla tactil reemplaza botones pantalla visual pequeña telefonos convencionales soporte completo correo electronico asi conectividad internet funcion multimedia parecen ser caracteristicas indispensables encontradas modelos existentes anunciados principios 2010 casi telefonos inteligentes permiten usuario instalar programas adicionales habitualmente incluso terceros hecho dota telefonos muchisimas aplicaciones diferentes terrenos embargo telefonos calificados inteligentes aun caracteristica entre rasgos comunes funcion multitarea acceso internet via wifi redes 2g 3g 4g 5g cuentan funciones multimedia camara reproductor videos mp3 programas agenda administracion contactos acelerometro bluetooth gps programas navegacion asi ocasionalmente habilidad leer documentos negocios variedad formatos pdf documentos ofimaticos\n",
      "albert einstein imperio aleman 14 marzo 1879 princeton estados unidos 18 abril 1955 fisico aleman origen judio nacionalizado despues suizo austriaco estadounidense se considera cientifico importante conocido popular siglo xx en 1905 joven fisico desconocido empleado oficina patentes berna publico teoria relatividad especial en incorporo marco teorico simple fundamentado postulados fisicos sencillos conceptos fenomenos estudiados henri poincare hendrik lorentz como consecuencia logica teoria dedujo ecuacion fisica conocida nivel popular equivalencia masa energia e mc² ese año publico trabajos sentarian bases fisica estadistica mecanica cuantica en 1915 presento teoria relatividad general reformulo completo concepto gravedad una consecuencias surgimiento estudio cientifico origen evolucion universo rama fisica denominada cosmologia en 1919 observaciones britanicas eclipse solar confirmaron predicciones acerca curvatura luz idolatrado prensa einstein convirtio icono popular ciencia mundialmente famoso privilegio alcance pocos cientificos por explicaciones efecto fotoelectrico numerosas contribuciones fisica teorica 1921 obtuvo premio nobel fisica teoria relatividad pues cientifico encomendo tarea evaluarla entendio temieron correr riesgo luego demostrase erronea en epoca aun considerada controvertida ante ascenso nazismo einstein abandono alemania hacia diciembre 1932 destino estados unidos dedico docencia institute for advanced study se nacionalizo estadounidense 1940 durante ultimos años trabajo integrar misma teoria fuerza gravitatoria electromagnetica aunque considerado padre bomba atomica abogo federalismo mundial internacionalismo pacifismo sionismo socialismo democratico fuerte devocion libertad individual libertad expresion fue proclamado personaje siglo xx preeminente cientifico revista time\n",
      "isaac asimov rsfs rusia 20 diciembre 1919 2 enero 1920 nueva york estados unidos 6 abril 1992 escritor profesor bioquimica facultad medicina universidad boston origen ruso nacionalizado estadounidense conocido ser prolifico autor obras ciencia ficcion historia divulgacion cientifica asimov asimismo dilatado conocimiento ciencias naturales conjunto su obra famosa saga fundacion conocida trilogia ciclo trantor forma parte serie imperio galactico tarde combino gran serie robots tambien escribio obras misterio fantasia asi gran cantidad textos ficcion en total firmo 500 volumenes unas 9000 cartas postales sus trabajos sido publicados 9 10 categorias sistema dewey clasificacion junto robert a heinlein arthur c clarke asimov considerado vida tres grandes escritores ciencia ficcion la mayoria libros divulgacion explican conceptos cientificos siguiendo linea historica retrotrayendose posible tiempos ciencia cuestion encontraba etapa elemental a menudo brinda nacionalidad fechas nacimiento muerte cientificos menciona asi etimologias palabras tecnicas fue miembro mensa tiempo cuyos miembros describia intelectualmente combativos disfrutaba presidencia asociacion humanista estadounidense organizacion ideologia atea en 1981 nombro asteroide 5020 asimov honor\n",
      "isaac newton 25 diciembre 1642 londres 20 marzo 1727 fisico teologo inventor alquimista matematico ingles es autor philosophiæ naturalis principia mathematica conocidos principia describe ley gravitacion universal establecio bases mecanica clasica mediante leyes llevan nombre entre descubrimientos cientificos destacan trabajos naturaleza luz optica que presentan principalmente obra opticks matematicas desarrollo calculo infinitesimal newton comparte gottfried leibniz credito desarrollo calculo integral diferencial utilizo formular leyes fisica astronomia tambien contribuyo areas matematicas desarrollando teorema binomio formulas newton cotes entre hallazgos cientificos encuentran descubrimiento espectro color observa luz blanca pasa prisma inherente luz lugar provenir prisma como sido postulado roger bacon siglo xiii argumentacion posibilidad luz compuesta particulas desarrollo ley conveccion termica describe tasa enfriamiento objetos expuestos aire estudios velocidad sonido aire propuesta teoria origen estrellas fue pionero mecanica fluidos estableciendo ley viscosidad newton primero demostrar leyes naturales gobiernan movimiento tierra gobiernan movimiento cuerpos celestes mismas es menudo calificado cientifico grande tiempos obra culminacion revolucion cientifica el matematico fisico joseph louis lagrange 1736 1813 dijo newton grande genio existido afortunado dado solo puede encontrar vez sistema rija mundo\n",
      "nikola tesla imperio austriaco actual croacia 10 julio 1856 nueva york 7 enero 1943 inventor ingeniero electrico ingeniero mecanico fisico estadounidense origen serbocroata se conoce numerosas invenciones campo electromagnetismo desarrolladas finales siglo xix principios siglo xx las patentes tesla trabajo teorico ayudaron forjar bases sistemas modernos uso energia electrica corriente alterna ca incluyendo sistema polifasico distribucion electrica motor corriente alterna contribuyeron surgimiento segunda revolucion industrial su caracter enfrentamiento edison halo misterio rodea descubrimientos hicieron tesla convirtiera cientifico popular partir decada 1990 abundante bibliografia disponible acerca vida obra\n",
      "stephen william hawking oxford 8 enero 1942 cambridge 14 marzo 2018 fisico teorico astrofisico cosmologo divulgador cientifico britanico sus trabajos importantes consistieron aportar junto roger penrose teoremas respecto singularidades espaciotemporales marco relatividad general prediccion teorica agujeros negros emitirian radiacion conoce hoy dia radiacion hawking o veces radiacion bekenstein hawking uno principales caracteristicas personalidad contribucion debate cientifico veces apostando publicamente cientificos caso conocido participacion discusion conservacion informacion agujeros negros era miembro real sociedad londres academia pontificia ciencias academia nacional ciencias estados unidos fue titular catedra lucasiana matematicas lucasian chair of mathematics universidad cambridge 1979 jubilacion 2009 entre numerosas distinciones concedidas recibio doce doctorados honoris causa galardonado orden imperio britanico grado cbe 1982 premio principe asturias concordia 1989 medalla copley 2006 medalla libertad 2009 premio fundacion bbva fronteras conocimiento 2015 estuvo casado dos ocasiones tres hijos justo primer matrimonio 21 años diagnostico esclerosis lateral amiotrofica ela agravando paso años dejarlo casi completamente paralizado forzo comunicarse traves aparato generador voz cuando enfermedad afecto capacidad tragar ahogaba comer hawking comenzo dieta especial basaba principalmente retirada gluten azucar alimentos procesados complementacion diversos suplementos ha sido persona longeva enfermedad sobrevivio 55 años esperanza media vida aproximadamente 14 meses su caso resulta fascinante desconcertante neurologos como autor libros divulgativos ciencia alcanzo enormes exitos ventas discute propias teorias cosmologia general breve historia tiempo big bang agujeros negros a brief history of time from the big bang to black holes 1988 lista bestsellers the sunday times britanico 237 semanas brevisima historia tiempo a briefer history of time 2005 colaboracion leonard mlodinow trato explicar manera sencilla posible historia universo motivo conocio el historiador tiempo el historiador universo el universo cascara nuez the universe in nutshell 2001\n",
      "thomas alva edison milan ohio 11 febrero 1847 west orange nueva jersey 18 octubre 1931 empresario desarrollo dispositivos gran influencia mundo fonografo camara cine duradera bombilla incandescente apodado el mago menlo park edison primeros inventores aplicar principios produccion cadena trabajo equipo gran escala proceso invencion motivos cuales reconoce creacion primer laboratorio investigacion industrial edison inventor prolifico registro 1903 patentes nombre estados unidos ademas reino unido francia alemania pero importante muchas patentes amplio impacto invenciones luz electrica suministro publico electricidad grabacion sonido cinematografia convirtieron nuevas poderosas industrias mundo sus inventos contribuyeron particular telecomunicaciones maquina voto bateria automovil electrico energia electrica grabacion musica peliculas sus avanzados trabajos campos continuacion primer trabajo radiotelegrafista edison desarrollo sistema generacion distribucion energia electrica casas negocios fabricas avance crucial mundo industrializado moderno\n",
      "203\n",
      "105\n",
      "82\n",
      "164\n",
      "186\n",
      "171\n",
      "42\n",
      "53\n",
      "61\n",
      "42\n",
      "97\n",
      "75\n",
      "303\n",
      "242\n",
      "242\n",
      "161\n",
      "324\n",
      "331\n",
      "347\n",
      "82\n",
      "69\n",
      "178\n",
      "131\n",
      "190\n",
      "222\n",
      "163\n",
      "175\n",
      "87\n",
      "276\n",
      "125\n"
     ]
    }
   ],
   "source": [
    "# Importación de las herramientas necesarias\n",
    "from nltk.tokenize import RegexpTokenizer  # Herramienta para tokenizar evitando signos de puntuación\n",
    "from nltk.tokenize.treebank import TreebankWordDetokenizer  # Herramienta para convertir tokens de vuelta a texto\n",
    "from nltk.corpus import stopwords  # Conjunto de stopwords en diferentes idiomas\n",
    "import re  # Módulo para trabajar con expresiones regulares\n",
    "\n",
    "# Carga las stopwords en español\n",
    "stop_words = set(stopwords.words('spanish'))\n",
    "\n",
    "# Lista para almacenar los textos preprocesados\n",
    "X = []\n",
    "\n",
    "# Obtiene todos los textos del DataFrame\n",
    "textos = list(df['Texto'])\n",
    "for text in textos:\n",
    "    \n",
    "    sentence = text\n",
    "    # Filtrado de stopwords: Reemplaza cada stopword en el texto con un espacio en blanco\n",
    "    for stopword in stop_words:\n",
    "        sentence = sentence.replace(\" \" + stopword + \" \", \" \")\n",
    "\n",
    "    # Remueve espacios múltiples dejando solo uno\n",
    "    sentence = re.sub(r'\\s+', ' ', sentence)\n",
    "    # Convierte el texto a minúsculas\n",
    "    sentence = sentence.lower()\n",
    "    # Inicializa el tokenizador para rechazar signos de puntuación\n",
    "    tokenizer = RegexpTokenizer(r'\\w+')\n",
    "    # Tokeniza el texto\n",
    "    result = tokenizer.tokenize(sentence)\n",
    "    # Une los tokens en un único string y lo añade a la lista X\n",
    "    X.append(TreebankWordDetokenizer().detokenize(result))\n",
    "    # Elimina acentos en las vocales\n",
    "    X = [re.sub(r'[á]', 'a', i) for i in X]\n",
    "    X = [re.sub(r'[é]', 'e', i) for i in X]\n",
    "    X = [re.sub(r'[í]', 'i', i) for i in X]\n",
    "    X = [re.sub(r'[ó]', 'o', i) for i in X]\n",
    "    X = [re.sub(r'[ú]', 'u', i) for i in X]\n",
    "\n",
    "# Imprime los textos preprocesados para verificar que se haya realizado el filtrado correctamente\n",
    "for i in range(0, len(X)):\n",
    "    print(X[i])\n",
    "\n",
    "# Imprime el número de palabras en cada texto preprocesado\n",
    "for i in range(0, len(X)):\n",
    "    print(len(X[i].split()))\n"
   ]
  },
  {
   "cell_type": "markdown",
   "metadata": {},
   "source": [
    "## Paso 3 - Creación de vectores / matrices de entrada y salida para el entrenamiento"
   ]
  },
  {
   "cell_type": "code",
   "execution_count": 103,
   "metadata": {
    "ExecuteTime": {
     "end_time": "2023-10-20T22:47:38.246340600Z",
     "start_time": "2023-10-20T22:47:38.173808500Z"
    }
   },
   "outputs": [
    {
     "name": "stdout",
     "output_type": "stream",
     "text": [
      "Vector de objetivos:\n",
      "[0, 0, 0, 0, 0, 0, 4, 4, 4, 4, 4, 4, 1, 1, 1, 1, 1, 1, 3, 3, 3, 3, 3, 3, 2, 2, 2, 2, 2, 2]\n"
     ]
    }
   ],
   "source": [
    "# Importación de las categorías desde el DataFrame\n",
    "Categorias = df['Categoría']  # Extrae la columna 'Categoría' del DataFrame\n",
    "\n",
    "# Inicializa una lista vacía para almacenar las categorías transformadas a valores numéricos\n",
    "y = []\n",
    "\n",
    "# Recorre cada categoría en la lista de categorías\n",
    "for categoria in Categorias:\n",
    "    # Convierte las categorías textuales a una representación numérica\n",
    "    # y agrega el valor numérico correspondiente a la lista 'y'\n",
    "    if categoria == \"Animales\":\n",
    "        y.append(0)  # Asigna el valor 0 a la categoría \"Animales\"\n",
    "    elif categoria == \"Lugares\":\n",
    "        y.append(1)  # Asigna el valor 1 a la categoría \"Lugares\"\n",
    "    elif categoria == \"Personas\":\n",
    "        y.append(2)  # Asigna el valor 2 a la categoría \"Personas\"\n",
    "    elif categoria == \"Objetos\":\n",
    "        y.append(3)  # Asigna el valor 3 a la categoría \"Objetos\"\n",
    "    elif categoria == \"Eventos\":\n",
    "        y.append(4)  # Asigna el valor 4 a la categoría \"Eventos\"\n",
    "\n",
    "# Imprime la lista 'y' para verificar la correcta conversión de categorías a valores numéricos\n",
    "print(\"Vector de objetivos:\")\n",
    "print(y)\n"
   ]
  },
  {
   "cell_type": "code",
   "execution_count": 104,
   "metadata": {
    "ExecuteTime": {
     "end_time": "2023-10-20T22:47:38.246340600Z",
     "start_time": "2023-10-20T22:47:38.191812900Z"
    }
   },
   "outputs": [
    {
     "name": "stdout",
     "output_type": "stream",
     "text": [
      "[1, 96, 69, 7, 97, 1, 21, 13, 50, 3, 70, 98, 51, 22, 36, 52, 14, 1, 71, 37, 72, 73]\n"
     ]
    }
   ],
   "source": [
    "# Importa la función necesaria para dividir el conjunto de datos en entrenamiento y prueba\n",
    "from sklearn.model_selection import train_test_split\n",
    "\n",
    "# Divide el conjunto de datos en conjuntos de entrenamiento y prueba\n",
    "# Se asigna el 10% de los datos al conjunto de prueba\n",
    "X_train, X_test, y_train, y_test = train_test_split(X, y, test_size=0.10)\n",
    "\n",
    "# Inicializa un tokenizador que se utilizará para convertir palabras en números. \n",
    "# Se limita a las 100 palabras/tokens más comunes.\n",
    "tokenizer = Tokenizer(num_words=100)\n",
    "\n",
    "# Ajusta el tokenizador a los datos de entrenamiento.\n",
    "# Esto implica que el tokenizador crea un diccionario de palabras basado en el conjunto de entrenamiento.\n",
    "tokenizer.fit_on_texts(X_train)\n",
    "\n",
    "# Usa el tokenizador para convertir las palabras en los conjuntos de entrenamiento y prueba \n",
    "# a sus respectivos índices numéricos.\n",
    "X_train = tokenizer.texts_to_sequences(X_train)\n",
    "X_test = tokenizer.texts_to_sequences(X_test)\n",
    "\n",
    "# Imprime la primera secuencia de palabras convertida en índices numéricos del conjunto de entrenamiento.\n",
    "print(X_train[0])\n"
   ]
  },
  {
   "cell_type": "code",
   "execution_count": 104,
   "metadata": {
    "ExecuteTime": {
     "end_time": "2023-10-20T22:47:38.247341200Z",
     "start_time": "2023-10-20T22:47:38.220822300Z"
    }
   },
   "outputs": [],
   "source": []
  },
  {
   "cell_type": "code",
   "execution_count": 105,
   "metadata": {
    "ExecuteTime": {
     "end_time": "2023-10-20T22:47:38.262340600Z",
     "start_time": "2023-10-20T22:47:38.236826500Z"
    }
   },
   "outputs": [
    {
     "name": "stdout",
     "output_type": "stream",
     "text": [
      "[[1, 96, 69, 7, 97, 1, 21, 13, 50, 3, 70, 98, 51, 22, 36, 52, 14, 1, 71, 37, 72, 73], [4, 99, 70, 98, 53, 2, 4, 99, 74, 53, 4, 99, 23, 24, 3], [12, 54, 29, 54, 5, 54, 29, 12], [75, 75, 2, 25, 38, 53, 55, 26, 56, 76, 26, 39, 25, 70, 74, 25, 22, 36, 21, 2, 3, 56, 16, 3, 1, 56, 75, 9, 77, 40, 14, 12, 52, 76, 75, 55, 78, 5, 75, 53, 21, 55, 75, 79, 79, 79, 80, 41, 30, 22, 36, 12, 57, 96, 81, 81, 21, 82], [6, 6, 2, 83, 6, 25, 25, 83, 83, 7, 58, 6, 59, 1, 4, 2, 84, 6, 2, 85, 6, 86, 1, 13, 39, 5, 3, 50, 78, 39, 31, 3, 7, 60, 6, 4, 86, 9, 4, 23, 6, 9, 6, 58, 12, 9, 2, 77, 85, 9, 40, 32, 6, 16, 9, 14, 14, 14, 24, 6, 32, 4, 61, 14, 17, 61, 14, 24, 6, 6, 53, 6, 80, 41, 5, 5, 29, 6, 14, 61, 14, 24, 5, 24, 21, 57, 81, 6, 2, 51, 61, 5, 82, 2, 3], [1, 18, 5, 42, 5, 1, 85, 18, 80, 7, 15, 8, 7, 43, 15, 15, 8, 15, 15, 15, 30, 60, 40, 15, 8, 54, 15, 15, 8, 30], [27, 10, 44, 41, 19, 78, 80, 50, 33, 12, 27, 16, 87, 85, 45, 62, 27, 27, 30, 7, 87, 44, 88, 63, 87], [7, 27, 63, 62, 63, 62, 76, 10, 27, 89, 89, 7, 41, 1, 77, 1, 33, 33, 1, 89, 31, 89, 1, 89, 31, 89, 31, 44, 13, 7, 59, 10, 8, 43, 41], [84, 5, 83, 23, 61, 14, 24, 12, 11, 4, 50, 16, 74, 11], [46, 18, 46, 1, 31, 1, 58, 46, 46, 33, 1, 17, 69, 46, 90, 64], [1, 91, 3, 70, 98, 23, 84, 1, 72], [65, 58, 43, 10, 28, 59, 40, 17, 3, 66, 62, 27, 43, 28, 88, 13, 20, 66, 28, 31, 66, 28, 64, 47, 65, 74, 43, 28, 32, 37, 38, 65, 32, 65, 1, 65, 88, 28, 28, 28, 67, 28, 67, 28, 65, 1, 65], [18, 7, 18, 15, 8, 8, 90, 59, 90, 44, 45, 44, 45, 90, 8, 51, 18, 8], [72, 92, 92, 70, 98, 52, 4, 92, 47, 20, 45, 48], [72, 92, 92, 70, 98, 52, 4, 92, 47, 20, 45, 48], [34, 48, 90, 13, 3, 1, 13, 69, 58, 22, 36, 64, 11, 3, 79, 69, 48, 49, 79, 3], [73, 37, 87, 73, 87, 71, 84, 57, 22, 36, 62, 32, 76, 69, 33, 33, 40, 88, 33, 82, 26, 20, 37, 23, 16, 23, 16, 23, 1, 1, 1], [7, 62, 63, 10, 96, 10, 63, 62, 63, 40, 3, 13, 10, 10, 5, 17, 26, 35, 16, 10, 20, 93, 20, 5, 17, 3, 77, 23, 29, 51, 76, 10, 93], [19, 19, 2, 38, 53, 55, 1, 2, 64, 86, 7, 19, 34, 25, 86, 34, 34, 19, 2, 31, 3, 26, 39, 56, 39, 4, 2, 50, 88, 41, 39, 19, 80, 33, 26, 72, 19, 29, 74, 43, 9, 34, 13, 34, 9, 1, 19, 49, 53, 81, 12, 19, 86, 19, 34, 86, 19], [96, 34, 22, 36, 84, 60, 23, 26, 38, 17, 32, 13, 94, 30, 13, 12, 49, 16, 82, 76, 41, 4, 71, 95, 16, 93, 71, 30, 57, 12], [32, 34, 44, 9, 9, 43, 79, 49, 61, 99, 26, 73, 82], [7, 27, 10, 77, 13, 51, 17, 49, 10, 8, 44, 93, 60, 20, 64], [11, 67, 55, 11, 2, 57, 52, 91, 38, 67, 55, 26, 39, 25, 83, 25, 83, 67, 4, 38, 17, 11, 1, 56, 11, 40, 50, 2, 52, 91, 5, 22, 36, 11, 3, 43, 11, 56, 32, 2, 64, 58, 56, 9, 17, 32, 9, 25, 2, 20, 2, 14, 61, 14, 24, 11, 11, 22, 77, 22, 67, 55, 11, 67, 57, 91, 52, 91, 21, 17, 91, 11, 57, 81, 81, 21, 5, 24, 5, 3, 12, 5, 48, 3, 97, 24, 1, 2, 82, 49, 24, 21, 73, 11, 2], [7, 63, 27, 44, 10, 40, 29, 35, 35, 25, 10, 35, 35, 35, 84, 35, 4, 33, 29, 59, 27, 20, 47, 35, 97, 35, 16, 66, 47, 66, 5, 30, 66, 66, 26], [12, 37, 49, 4, 80, 4, 45, 29, 85, 59, 60, 94, 37, 94, 17, 18, 37, 42, 30, 29, 30, 23, 9, 1, 69, 38, 7, 94, 78, 93, 94, 94], [96, 21, 58, 71, 88, 48, 48, 71, 72, 20, 9, 48, 21, 93, 73, 31, 99, 1, 31, 51, 45, 78, 49, 3], [68, 42, 4, 68, 60, 68, 16, 87, 85, 12, 37, 95, 95, 74, 95, 22, 36, 46, 1, 8, 18, 1, 68, 50, 41, 15, 8, 13, 64, 15, 8, 97, 95, 46, 68, 18, 45, 42, 42, 54, 95, 20, 54, 46, 68, 18, 39, 42, 59, 60, 8, 47, 47, 4, 68, 18, 90, 42, 51, 78, 54, 97, 8, 42, 47, 38]]\n",
      "[4, 4, 3, 1, 1, 3, 0, 0, 4, 3, 4, 0, 3, 4, 4, 2, 2, 0, 1, 2, 2, 0, 1, 0, 3, 2, 3]\n"
     ]
    }
   ],
   "source": [
    "# Verificar que la información de entrada sea coherente\n",
    "print(X_train)\n",
    "print(y_train)"
   ]
  },
  {
   "cell_type": "markdown",
   "metadata": {},
   "source": [
    "## Paso 4: Generación de Embeddings"
   ]
  },
  {
   "cell_type": "code",
   "execution_count": 106,
   "metadata": {
    "ExecuteTime": {
     "end_time": "2023-10-20T22:48:46.383525200Z",
     "start_time": "2023-10-20T22:47:38.253341400Z"
    }
   },
   "outputs": [],
   "source": [
    "# Declaración de librerías para manejo de arreglos (Numpy)\n",
    "from numpy import asarray\n",
    "from numpy import zeros\n",
    "\n",
    "# Lectura del archivo de embeddings\n",
    "embeddings_dictionary = dict()\n",
    "Embeddings_file = open('./Word2Vect_Spanish.txt', encoding=\"utf8\")\n",
    "\n",
    "# Extraemos las características del archivo de embeddings\n",
    "# y las agregamos a un diccionario (Cada elemento es un vextor)\n",
    "for linea in Embeddings_file:\n",
    "    caracts = linea.split()\n",
    "    palabra = caracts[0]\n",
    "    vector = asarray(caracts[1:], dtype='float32')\n",
    "    embeddings_dictionary [palabra] = vector\n",
    "Embeddings_file.close()"
   ]
  },
  {
   "cell_type": "code",
   "execution_count": 107,
   "metadata": {
    "ExecuteTime": {
     "end_time": "2023-10-20T22:48:46.399038600Z",
     "start_time": "2023-10-20T22:48:46.387520900Z"
    }
   },
   "outputs": [],
   "source": [
    "# Extraemos la cantidad de palabras en el vocabulario\n",
    "vocab_size = len(tokenizer.word_index) + 1\n",
    "\n",
    "# Generamos la matriz de embeddings (De entrada)\n",
    "embedding_matrix = zeros((vocab_size, 300))\n",
    "for word, index in tokenizer.word_index.items():\n",
    "    # Extraemos el vector de embedding para cada palabra\n",
    "    embedding_vector = embeddings_dictionary.get(word)\n",
    "    # Si la palbra si existía en el vocabulario\n",
    "    # agregamos su vector de embeddings en la matriz\n",
    "    if embedding_vector is not None:\n",
    "        embedding_matrix[index] = embedding_vector"
   ]
  },
  {
   "cell_type": "markdown",
   "metadata": {},
   "source": [
    "## Paso 5: Aplicación del Modelo DNN"
   ]
  },
  {
   "cell_type": "code",
   "execution_count": 108,
   "outputs": [
    {
     "name": "stdout",
     "output_type": "stream",
     "text": [
      "Matriz de valores para las palabras:\n",
      "(27, 150)\n"
     ]
    }
   ],
   "source": [
    "# Importa la función necesaria para ajustar la longitud de las secuencias\n",
    "from keras_preprocessing.sequence import pad_sequences\n",
    "\n",
    "# Define la longitud máxima que deberán tener todas las secuencias\n",
    "maxlen = 150\n",
    "\n",
    "# Usa la función 'pad_sequences' para ajustar la longitud de las secuencias de entrenamiento y prueba.\n",
    "# Si una secuencia es más corta que 'maxlen', se añadirán ceros al final (debido a padding='post').\n",
    "# Si una secuencia es más larga que 'maxlen', se truncará a la longitud de 'maxlen'.\n",
    "X_train = pad_sequences(X_train, padding='post', maxlen=maxlen)\n",
    "X_test = pad_sequences(X_test, padding='post', maxlen=maxlen)\n",
    "\n",
    "# Imprime la primera secuencia ajustada del conjunto de entrenamiento para verificar el proceso.\n",
    "# También muestra el tamaño de la matriz de entrenamiento (número de secuencias x longitud de secuencia).\n",
    "print(\"Matriz de valores para las palabras:\")\n",
    "print(X_train.shape)  # Imprime la forma (dimensión) de la matriz de entrenamiento\n"
   ],
   "metadata": {
    "collapsed": false,
    "ExecuteTime": {
     "end_time": "2023-10-20T22:48:46.445039700Z",
     "start_time": "2023-10-20T22:48:46.402039400Z"
    }
   }
  },
  {
   "cell_type": "code",
   "execution_count": 109,
   "metadata": {
    "ExecuteTime": {
     "end_time": "2023-10-20T23:12:00.367291600Z",
     "start_time": "2023-10-20T22:48:46.421035500Z"
    }
   },
   "outputs": [
    {
     "name": "stderr",
     "output_type": "stream",
     "text": [
      "C:\\Users\\eubgo\\AppData\\Local\\Temp\\ipykernel_20352\\755979941.py:24: DeprecationWarning: KerasClassifier is deprecated, use Sci-Keras (https://github.com/adriangb/scikeras) instead. See https://www.adriangb.com/scikeras/stable/migration.html for help migrating.\n",
      "  model = KerasClassifier(build_fn=create_model, epochs=10, batch_size=10, verbose=0)\n",
      "C:\\Users\\eubgo\\.conda\\envs\\NLP\\lib\\site-packages\\joblib\\externals\\loky\\process_executor.py:700: UserWarning: A worker stopped while some jobs were given to the executor. This can be caused by a too short worker timeout or by a memory leak.\n",
      "  warnings.warn(\n"
     ]
    },
    {
     "name": "stdout",
     "output_type": "stream",
     "text": [
      "Mejor: 0.592593 usando {'batch_size': 5, 'epochs': 20, 'neurons': 512, 'optimizer': 'Adam'}\n"
     ]
    }
   ],
   "source": [
    "# Importar herramientas necesarias de Keras y Scikit-Learn\n",
    "from keras.wrappers.scikit_learn import KerasClassifier\n",
    "from sklearn.model_selection import GridSearchCV\n",
    "from keras.utils import to_categorical\n",
    "\n",
    "# Paso 1: Definir la función que crea el modelo Keras\n",
    "def create_model(optimizer='adam', neurons=64):\n",
    "    # Inicializar un modelo secuencial\n",
    "    model = Sequential()\n",
    "    # Agregar una capa de incrustación que utilice una matriz de incrustación predefinida\n",
    "    embedding_layer = Embedding(vocab_size, 300, weights=[embedding_matrix], input_length=maxlen, trainable=False)\n",
    "    model.add(embedding_layer)\n",
    "    # Aplanar la salida de la capa de incrustación\n",
    "    model.add(Flatten())\n",
    "    # Agregar una capa densa con un número variable de neuronas y activación ReLU\n",
    "    model.add(Dense(neurons, activation='relu'))\n",
    "    # Capa de salida con 5 neuronas (para 5 clases) y activación softmax\n",
    "    model.add(Dense(5, activation='softmax'))\n",
    "    # Compilar el modelo\n",
    "    model.compile(optimizer=optimizer, loss='categorical_crossentropy', metrics=['acc'])\n",
    "    return model\n",
    "\n",
    "# Envolver el modelo Keras para que sea compatible con Scikit-Learn\n",
    "model = KerasClassifier(build_fn=create_model, epochs=10, batch_size=10, verbose=0)\n",
    "\n",
    "# Paso 2: Establecer los valores de hiperparámetros que se desean probar\n",
    "param_grid = {\n",
    "    'optimizer': ['SGD', 'Adam', 'RMSprop', 'Adagrad'],\n",
    "    'neurons': [32, 64, 128, 256, 512],\n",
    "    'batch_size': [5, 10, 20, 40, 80],\n",
    "    'epochs': [10, 20, 30, 40],\n",
    "}\n",
    "\n",
    "# Paso 3: Inicializar GridSearchCV con el modelo, los hiperparámetros y validación cruzada de 3 pliegues\n",
    "grid = GridSearchCV(estimator=model, param_grid=param_grid, n_jobs=-1, cv=3)\n",
    "# Entrenar el modelo con la combinación de hiperparámetros\n",
    "grid_result = grid.fit(np.array(X_train), to_categorical(np.array(y_train)))\n",
    "\n",
    "# Paso 4: Imprimir los resultados\n",
    "# Mostrar la mejor puntuación obtenida y los hiperparámetros correspondientes\n",
    "print(\"Mejor: %f usando %s\" % (grid_result.best_score_, grid_result.best_params_))"
   ]
  },
  {
   "cell_type": "code",
   "execution_count": null,
   "outputs": [],
   "source": [],
   "metadata": {
    "collapsed": false
   }
  },
  {
   "cell_type": "code",
   "execution_count": 110,
   "metadata": {
    "ExecuteTime": {
     "end_time": "2023-10-20T23:12:05.302443500Z",
     "start_time": "2023-10-20T23:12:00.387291600Z"
    }
   },
   "outputs": [
    {
     "name": "stdout",
     "output_type": "stream",
     "text": [
      "Epoch 1/30\n",
      "Epoch 2/30\n",
      "Epoch 3/30\n",
      "Epoch 4/30\n",
      "Epoch 5/30\n",
      "Epoch 6/30\n",
      "Epoch 7/30\n",
      "Epoch 8/30\n",
      "Epoch 9/30\n",
      "Epoch 10/30\n",
      "Epoch 11/30\n",
      "Epoch 12/30\n",
      "Epoch 13/30\n",
      "Epoch 14/30\n",
      "Epoch 15/30\n",
      "Epoch 16/30\n",
      "Epoch 17/30\n",
      "Epoch 18/30\n",
      "Epoch 19/30\n",
      "Epoch 20/30\n",
      "Epoch 21/30\n",
      "Epoch 22/30\n",
      "Epoch 23/30\n",
      "Epoch 24/30\n",
      "Epoch 25/30\n",
      "Epoch 26/30\n",
      "Epoch 27/30\n",
      "Epoch 28/30\n",
      "Epoch 29/30\n",
      "Epoch 30/30\n"
     ]
    },
    {
     "ename": "AttributeError",
     "evalue": "'KerasClassifier' object has no attribute 'evaluate'",
     "output_type": "error",
     "traceback": [
      "\u001B[1;31m---------------------------------------------------------------------------\u001B[0m",
      "\u001B[1;31mAttributeError\u001B[0m                            Traceback (most recent call last)",
      "Cell \u001B[1;32mIn[110], line 21\u001B[0m\n\u001B[0;32m     18\u001B[0m history \u001B[38;5;241m=\u001B[39m model\u001B[38;5;241m.\u001B[39mfit(X_train_np, y_train_onehot, batch_size\u001B[38;5;241m=\u001B[39m\u001B[38;5;241m10\u001B[39m, epochs\u001B[38;5;241m=\u001B[39m\u001B[38;5;241m30\u001B[39m, verbose\u001B[38;5;241m=\u001B[39m\u001B[38;5;241m3\u001B[39m, validation_split\u001B[38;5;241m=\u001B[39m\u001B[38;5;241m0.10\u001B[39m)\n\u001B[0;32m     20\u001B[0m \u001B[38;5;66;03m# Evaluamos el desempeño del modelo en el conjunto de datos de prueba\u001B[39;00m\n\u001B[1;32m---> 21\u001B[0m score \u001B[38;5;241m=\u001B[39m \u001B[43mmodel\u001B[49m\u001B[38;5;241;43m.\u001B[39;49m\u001B[43mevaluate\u001B[49m(X_test_np, y_test_onehot, verbose\u001B[38;5;241m=\u001B[39m\u001B[38;5;241m3\u001B[39m)\n\u001B[0;32m     23\u001B[0m \u001B[38;5;66;03m# Imprimimos la pérdida y precisión del modelo en el conjunto de datos de prueba\u001B[39;00m\n\u001B[0;32m     24\u001B[0m \u001B[38;5;28mprint\u001B[39m(\u001B[38;5;124m\"\u001B[39m\u001B[38;5;124mTest Loss:\u001B[39m\u001B[38;5;124m\"\u001B[39m, score[\u001B[38;5;241m0\u001B[39m])\n",
      "\u001B[1;31mAttributeError\u001B[0m: 'KerasClassifier' object has no attribute 'evaluate'"
     ]
    }
   ],
   "source": [
    "# # Importamos la función necesaria para convertir las etiquetas en codificación one-hot\n",
    "# from keras.utils import to_categorical\n",
    "# \n",
    "# # Convertimos las listas de datos y etiquetas de entrenamiento y prueba a arrays de numpy\n",
    "# y_train_np = np.array(y_train)\n",
    "# X_train_np = np.array(X_train)\n",
    "# y_test_np = np.array(y_test)\n",
    "# X_test_np = np.array(X_test)\n",
    "# \n",
    "# # Codificamos las etiquetas (clases) de entrenamiento y prueba en formato one-hot.\n",
    "# # Dado que tenemos 5 clases, el tamaño de la codificación one-hot será de 5.\n",
    "# y_train_onehot = to_categorical(y_train_np, num_classes=5)\n",
    "# y_test_onehot = to_categorical(y_test_np, num_classes=5)\n",
    "# \n",
    "# # Ajustamos el modelo a los datos de entrenamiento\n",
    "# # Se usa un tamaño de lote de 10, durante 30 épocas, y se reserva el 10% de los datos para validación.\n",
    "# # El nivel de verbosity se establece en 3, que normalmente no muestra nada (depende de la versión y configuración de Keras).\n",
    "# history = model.fit(X_train_np, y_train_onehot, batch_size=10, epochs=30, verbose=3, validation_split=0.10)\n",
    "# \n",
    "# # Evaluamos el desempeño del modelo en el conjunto de datos de prueba\n",
    "# score = model.evaluate(X_test_np, y_test_onehot, verbose=3)\n",
    "# \n",
    "# # Imprimimos la pérdida y precisión del modelo en el conjunto de datos de prueba\n",
    "# print(\"Test Loss:\", score[0])\n",
    "# print(\"Test Accuracy:\", score[1])\n"
   ]
  },
  {
   "cell_type": "code",
   "execution_count": null,
   "metadata": {
    "ExecuteTime": {
     "end_time": "2023-10-20T23:12:05.311408500Z",
     "start_time": "2023-10-20T23:12:05.307412500Z"
    }
   },
   "outputs": [],
   "source": [
    "# # Importamos la biblioteca necesaria para graficar\n",
    "# import matplotlib.pyplot as plt\n",
    "# \n",
    "# # Graficamos la precisión (accuracy) del modelo a lo largo de las épocas\n",
    "# plt.plot(history.history['acc'])  # Precisión en el conjunto de entrenamiento\n",
    "# plt.plot(history.history['val_acc'])  # Precisión en el conjunto de validación\n",
    "# \n",
    "# plt.title('model accuracy')  # Título del gráfico\n",
    "# plt.ylabel('accuracy')  # Etiqueta del eje y\n",
    "# plt.xlabel('epoch')  # Etiqueta del eje x\n",
    "# plt.legend(['train','test'], loc='upper left')  # Leyenda para diferenciar entre entrenamiento y validación\n",
    "# plt.show()  # Mostramos el gráfico de precisión\n",
    "# \n",
    "# # Graficamos la pérdida (loss) del modelo a lo largo de las épocas\n",
    "# plt.plot(history.history['loss'])  # Pérdida en el conjunto de entrenamiento\n",
    "# plt.plot(history.history['val_loss'])  # Pérdida en el conjunto de validación\n",
    "# \n",
    "# plt.title('model loss')  # Título del gráfico\n",
    "# plt.ylabel('loss')  # Etiqueta del eje y\n",
    "# plt.xlabel('epoch')  # Etiqueta del eje x\n",
    "# plt.legend(['train','test'], loc='upper left')  # Leyenda para diferenciar entre entrenamiento y validación\n",
    "# plt.show()  # Mostramos el gráfico de pérdida\n"
   ]
  },
  {
   "cell_type": "code",
   "execution_count": 111,
   "outputs": [
    {
     "ename": "KeyError",
     "evalue": "'val_acc'",
     "output_type": "error",
     "traceback": [
      "\u001B[1;31m---------------------------------------------------------------------------\u001B[0m",
      "\u001B[1;31mKeyError\u001B[0m                                  Traceback (most recent call last)",
      "Cell \u001B[1;32mIn[111], line 6\u001B[0m\n\u001B[0;32m      4\u001B[0m \u001B[38;5;66;03m# Graficamos la precisión (accuracy) del mejor modelo a lo largo de las épocas\u001B[39;00m\n\u001B[0;32m      5\u001B[0m plt\u001B[38;5;241m.\u001B[39mplot(best_model\u001B[38;5;241m.\u001B[39mhistory\u001B[38;5;241m.\u001B[39mhistory[\u001B[38;5;124m'\u001B[39m\u001B[38;5;124macc\u001B[39m\u001B[38;5;124m'\u001B[39m])  \u001B[38;5;66;03m# Precisión en el conjunto de entrenamiento\u001B[39;00m\n\u001B[1;32m----> 6\u001B[0m plt\u001B[38;5;241m.\u001B[39mplot(\u001B[43mbest_model\u001B[49m\u001B[38;5;241;43m.\u001B[39;49m\u001B[43mhistory\u001B[49m\u001B[38;5;241;43m.\u001B[39;49m\u001B[43mhistory\u001B[49m\u001B[43m[\u001B[49m\u001B[38;5;124;43m'\u001B[39;49m\u001B[38;5;124;43mval_acc\u001B[39;49m\u001B[38;5;124;43m'\u001B[39;49m\u001B[43m]\u001B[49m)  \u001B[38;5;66;03m# Precisión en el conjunto de validación\u001B[39;00m\n\u001B[0;32m      8\u001B[0m plt\u001B[38;5;241m.\u001B[39mtitle(\u001B[38;5;124m'\u001B[39m\u001B[38;5;124mBest Model Accuracy\u001B[39m\u001B[38;5;124m'\u001B[39m)  \u001B[38;5;66;03m# Título del gráfico\u001B[39;00m\n\u001B[0;32m      9\u001B[0m plt\u001B[38;5;241m.\u001B[39mylabel(\u001B[38;5;124m'\u001B[39m\u001B[38;5;124maccuracy\u001B[39m\u001B[38;5;124m'\u001B[39m)  \u001B[38;5;66;03m# Etiqueta del eje y\u001B[39;00m\n",
      "\u001B[1;31mKeyError\u001B[0m: 'val_acc'"
     ]
    },
    {
     "data": {
      "text/plain": "<Figure size 640x480 with 1 Axes>",
      "image/png": "[encoded data removed]"
     },
     "metadata": {},
     "output_type": "display_data"
    }
   ],
   "source": [
    "# Obtener el mejor modelo de GridSearchCV\n",
    "best_model = grid_result.best_estimator_.model\n",
    "\n",
    "# Graficamos la precisión (accuracy) del mejor modelo a lo largo de las épocas\n",
    "plt.plot(best_model.history.history['acc'])  # Precisión en el conjunto de entrenamiento\n",
    "plt.plot(best_model.history.history['val_acc'])  # Precisión en el conjunto de validación\n",
    "\n",
    "plt.title('Best Model Accuracy')  # Título del gráfico\n",
    "plt.ylabel('accuracy')  # Etiqueta del eje y\n",
    "plt.xlabel('epoch')  # Etiqueta del eje x\n",
    "plt.legend(['train','test'], loc='upper left')  # Leyenda para diferenciar entre entrenamiento y validación\n",
    "plt.show()  # Mostramos el gráfico de precisión\n",
    "\n",
    "# Graficamos la pérdida (loss) del mejor modelo a lo largo de las épocas\n",
    "plt.plot(best_model.history.history['loss'])  # Pérdida en el conjunto de entrenamiento\n",
    "plt.plot(best_model.history.history['val_loss'])  # Pérdida en el conjunto de validación\n",
    "\n",
    "plt.title('Best Model Loss')  # Título del gráfico\n",
    "plt.ylabel('loss')  # Etiqueta del eje y\n",
    "plt.xlabel('epoch')  # Etiqueta del eje x\n",
    "plt.legend(['train','test'], loc='upper left')  # Leyenda para diferenciar entre entrenamiento y validación\n",
    "plt.show()  # Mostramos el gráfico de pérdida\n"
   ],
   "metadata": {
    "collapsed": false,
    "ExecuteTime": {
     "end_time": "2023-10-20T23:13:24.823360800Z",
     "start_time": "2023-10-20T23:13:24.589573900Z"
    }
   }
  },
  {
   "cell_type": "markdown",
   "metadata": {},
   "source": [
    "## Paso 6: Aplicación del modelo CNN"
   ]
  },
  {
   "cell_type": "code",
   "execution_count": null,
   "metadata": {
    "ExecuteTime": {
     "start_time": "2023-10-20T23:12:05.310410700Z"
    }
   },
   "outputs": [],
   "source": [
    "# Declaración de modelo Secuencial \n",
    "model = Sequential()\n",
    "\n",
    "y_train_onehot = to_categorical(y_train_np, num_classes=5)\n",
    "y_test_onehot = to_categorical(y_test_np, num_classes=5)\n",
    "# Declaración de las capas del modelo convolucional\n",
    "embedding_layer = Embedding(vocab_size, 300, weights=[embedding_matrix], input_length=maxlen , trainable=False)\n",
    "model.add(embedding_layer)\n",
    "model.add(Dense(64, activation='relu'))\n",
    "model.add(Conv1D(128, 5, activation='relu'))\n",
    "model.add(GlobalMaxPooling1D())\n",
    "model.add(Dense(5, activation='softmax'))\n",
    "# Impresión de parámetros del modelo\n",
    "model.compile(optimizer='adam', loss='categorical_crossentropy', metrics=['acc'])\n",
    "print(model.summary())"
   ]
  },
  {
   "cell_type": "code",
   "execution_count": null,
   "metadata": {
    "ExecuteTime": {
     "end_time": "2023-10-20T23:12:05.349397900Z",
     "start_time": "2023-10-20T23:12:05.312410500Z"
    }
   },
   "outputs": [],
   "source": [
    "# Utilizamos el método fit para ajustar los datos de nuestro modelo a la configuración que definimos\n",
    "history = model.fit(X_train_np, y_train_onehot, batch_size=10, epochs=30, verbose=1, validation_split=0.2)\n",
    "# Utilizamos evaluate para determinar la pérdida y el accuracy de nuestro modelo\n",
    "score = model.evaluate(X_test_np, y_test_onehot, verbose=1)\n",
    "print(\"Test Score:\", score[0])\n",
    "print(\"Test Accuracy:\", score[1])"
   ]
  },
  {
   "cell_type": "code",
   "execution_count": null,
   "metadata": {
    "ExecuteTime": {
     "start_time": "2023-10-20T23:12:05.313410500Z"
    }
   },
   "outputs": [],
   "source": [
    "# Graficamos la precisión (accuracy) del modelo durante el entrenamiento y validación\n",
    "plt.plot(history.history['acc'])  # Precisión del conjunto de entrenamiento\n",
    "plt.plot(history.history['val_acc'])  # Precisión del conjunto de validación\n",
    "\n",
    "plt.title('model accuracy')  # Título del gráfico\n",
    "plt.ylabel('accuracy')  # Etiqueta del eje y\n",
    "plt.xlabel('epoch')  # Etiqueta del eje x\n",
    "plt.legend(['train','test'], loc='upper left')  # Leyenda del gráfico\n",
    "plt.show()  # Mostrar el gráfico\n",
    "\n",
    "# Graficamos la pérdida (loss) del modelo durante el entrenamiento y validación\n",
    "plt.plot(history.history['loss'])  # Pérdida del conjunto de entrenamiento\n",
    "plt.plot(history.history['val_loss'])  # Pérdida del conjunto de validación\n",
    "\n",
    "plt.title('model loss')  # Título del gráfico\n",
    "plt.ylabel('loss')  # Etiqueta del eje y\n",
    "plt.xlabel('epoch')  # Etiqueta del eje x\n",
    "plt.legend(['train','test'], loc='upper left')  # Leyenda del gráfico\n",
    "plt.show()  # Mostrar el gráfico"
   ]
  },
  {
   "cell_type": "markdown",
   "metadata": {},
   "source": [
    "## Paso 7: LSTM"
   ]
  },
  {
   "cell_type": "code",
   "execution_count": null,
   "metadata": {
    "ExecuteTime": {
     "start_time": "2023-10-20T23:12:05.314409400Z"
    }
   },
   "outputs": [],
   "source": [
    "# Declaración de un modelo de tipo Secuencial en Keras\n",
    "model = Sequential()\n",
    "\n",
    "# Añadir una capa de embedding al modelo. Esta capa convierte las palabras en vectores densos.\n",
    "# Se inicializa con una matriz de embedding preentrenada (`embedding_matrix`), y se configura para que sus pesos puedan ser ajustados durante el entrenamiento.\n",
    "embedding_layer = Embedding(vocab_size, 300, weights=[embedding_matrix], input_length=maxlen , trainable=True)\n",
    "model.add(embedding_layer)\n",
    "\n",
    "# Añadir una capa LSTM con 64 unidades al modelo.\n",
    "model.add(LSTM(64))\n",
    "\n",
    "# Añadir una capa densa de salida con 4 unidades (suponiendo 4 clases) y una función de activación softmax.\n",
    "model.add(Dense(5, activation='softmax'))\n",
    "\n",
    "# Compilar el modelo. Se utiliza el optimizador 'adam', la pérdida de 'categorical_crossentropy' (adecuada para clasificación multiclase),\n",
    "# y se monitoriza el accuracy como métrica.\n",
    "model.compile(optimizer='adam', loss='categorical_crossentropy', metrics=['acc'])\n",
    "\n",
    "# Imprimir un resumen del modelo, mostrando la arquitectura y número de parámetros.\n",
    "print(model.summary())\n"
   ]
  },
  {
   "cell_type": "code",
   "execution_count": null,
   "metadata": {
    "ExecuteTime": {
     "start_time": "2023-10-20T23:12:05.315411100Z"
    }
   },
   "outputs": [],
   "source": [
    "# Ajustamos el modelo a los datos de entrenamiento\n",
    "history = model.fit(X_train_np, y_train_onehot, batch_size=10, epochs=30, verbose=1, validation_split=0.2)  # Entrena el modelo con un tamaño de lote de 10, durante 30 épocas, mostrando logs y usando el 20% de los datos para validación.\n",
    "\n",
    "# Evaluamos el desempeño del modelo en los datos de prueba\n",
    "score = model.evaluate(X_test_np, y_test_onehot, verbose=1)  # Evalúa el modelo en los datos de prueba y devuelve la pérdida y el accuracy.\n",
    "\n",
    "# Imprimimos el score (pérdida) y el accuracy obtenidos en la evaluación\n",
    "print(\"Test Score:\", score[0])  # Imprime la pérdida del modelo en el conjunto de prueba.\n",
    "print(\"Test Accuracy:\", score[1])  # Imprime el accuracy del modelo en el conjunto de prueba.\n"
   ]
  },
  {
   "cell_type": "code",
   "execution_count": null,
   "outputs": [],
   "source": [],
   "metadata": {
    "collapsed": false,
    "ExecuteTime": {
     "start_time": "2023-10-20T23:12:05.318410200Z"
    }
   }
  }
 ],
 "metadata": {
  "kernelspec": {
   "display_name": "mauPLN",
   "language": "python",
   "name": "python3"
  },
  "language_info": {
   "codemirror_mode": {
    "name": "ipython",
    "version": 3
   },
   "file_extension": ".py",
   "mimetype": "text/x-python",
   "name": "python",
   "nbconvert_exporter": "python",
   "pygments_lexer": "ipython3",
   "version": "3.9.17"
  }
 },
 "nbformat": 4,
 "nbformat_minor": 2
}
