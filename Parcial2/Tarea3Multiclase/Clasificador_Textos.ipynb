{
 "cells": [
  {
   "cell_type": "code",
   "execution_count": 2,
   "metadata": {},
   "outputs": [
    {
     "ename": "AttributeError",
     "evalue": "partially initialized module 'nltk' has no attribute 'internals' (most likely due to a circular import)",
     "output_type": "error",
     "traceback": [
      "\u001b[1;31m---------------------------------------------------------------------------\u001b[0m",
      "\u001b[1;31mAttributeError\u001b[0m                            Traceback (most recent call last)",
      "\u001b[1;32mc:\\Users\\eubgo\\source\\repos\\NaturalLanguageProcessing\\Parcial2\\Tarea3Multiclase\\Clasificador_Textos.ipynb Celda 1\u001b[0m line \u001b[0;36m5\n\u001b[0;32m      <a href='vscode-notebook-cell:/c%3A/Users/eubgo/source/repos/NaturalLanguageProcessing/Parcial2/Tarea3Multiclase/Clasificador_Textos.ipynb#W0sZmlsZQ%3D%3D?line=2'>3</a>\u001b[0m \u001b[39mimport\u001b[39;00m \u001b[39mnumpy\u001b[39;00m \u001b[39mas\u001b[39;00m \u001b[39mnp\u001b[39;00m  \u001b[39m# Librería para operaciones matemáticas de alto nivel\u001b[39;00m\n\u001b[0;32m      <a href='vscode-notebook-cell:/c%3A/Users/eubgo/source/repos/NaturalLanguageProcessing/Parcial2/Tarea3Multiclase/Clasificador_Textos.ipynb#W0sZmlsZQ%3D%3D?line=3'>4</a>\u001b[0m \u001b[39mimport\u001b[39;00m \u001b[39mre\u001b[39;00m  \u001b[39m# Librería para trabajar con expresiones regulares\u001b[39;00m\n\u001b[1;32m----> <a href='vscode-notebook-cell:/c%3A/Users/eubgo/source/repos/NaturalLanguageProcessing/Parcial2/Tarea3Multiclase/Clasificador_Textos.ipynb#W0sZmlsZQ%3D%3D?line=4'>5</a>\u001b[0m \u001b[39mimport\u001b[39;00m \u001b[39mnltk\u001b[39;00m  \u001b[39m# Herramienta de lenguaje natural\u001b[39;00m\n\u001b[0;32m      <a href='vscode-notebook-cell:/c%3A/Users/eubgo/source/repos/NaturalLanguageProcessing/Parcial2/Tarea3Multiclase/Clasificador_Textos.ipynb#W0sZmlsZQ%3D%3D?line=5'>6</a>\u001b[0m \u001b[39mfrom\u001b[39;00m \u001b[39mnltk\u001b[39;00m\u001b[39m.\u001b[39;00m\u001b[39mcorpus\u001b[39;00m \u001b[39mimport\u001b[39;00m stopwords  \u001b[39m# Importación de palabras comunes que se pueden ignorar en el análisis de texto\u001b[39;00m\n\u001b[0;32m      <a href='vscode-notebook-cell:/c%3A/Users/eubgo/source/repos/NaturalLanguageProcessing/Parcial2/Tarea3Multiclase/Clasificador_Textos.ipynb#W0sZmlsZQ%3D%3D?line=6'>7</a>\u001b[0m \u001b[39mimport\u001b[39;00m \u001b[39mos\u001b[39;00m  \u001b[39m# Librería para interactuar con el sistema operativo\u001b[39;00m\n",
      "File \u001b[1;32mc:\\Users\\eubgo\\.conda\\envs\\NLP\\lib\\site-packages\\nltk\\__init__.py:180\u001b[0m\n\u001b[0;32m    177\u001b[0m \u001b[39melse\u001b[39;00m:\n\u001b[0;32m    178\u001b[0m     \u001b[39mfrom\u001b[39;00m \u001b[39mnltk\u001b[39;00m \u001b[39mimport\u001b[39;00m cluster\n\u001b[1;32m--> 180\u001b[0m \u001b[39mfrom\u001b[39;00m \u001b[39mnltk\u001b[39;00m\u001b[39m.\u001b[39;00m\u001b[39mdownloader\u001b[39;00m \u001b[39mimport\u001b[39;00m download, download_shell\n\u001b[0;32m    182\u001b[0m \u001b[39mtry\u001b[39;00m:\n\u001b[0;32m    183\u001b[0m     \u001b[39mimport\u001b[39;00m \u001b[39mtkinter\u001b[39;00m\n",
      "File \u001b[1;32mc:\\Users\\eubgo\\.conda\\envs\\NLP\\lib\\site-packages\\nltk\\downloader.py:2479\u001b[0m\n\u001b[0;32m   2469\u001b[0m             \u001b[39mpass\u001b[39;00m\n\u001b[0;32m   2472\u001b[0m \u001b[39m######################################################################\u001b[39;00m\n\u001b[0;32m   2473\u001b[0m \u001b[39m# Main:\u001b[39;00m\n\u001b[0;32m   2474\u001b[0m \u001b[39m######################################################################\u001b[39;00m\n\u001b[1;32m   (...)\u001b[0m\n\u001b[0;32m   2477\u001b[0m \n\u001b[0;32m   2478\u001b[0m \u001b[39m# Aliases\u001b[39;00m\n\u001b[1;32m-> 2479\u001b[0m _downloader \u001b[39m=\u001b[39m Downloader()\n\u001b[0;32m   2480\u001b[0m download \u001b[39m=\u001b[39m _downloader\u001b[39m.\u001b[39mdownload\n\u001b[0;32m   2483\u001b[0m \u001b[39mdef\u001b[39;00m \u001b[39mdownload_shell\u001b[39m():\n",
      "File \u001b[1;32mc:\\Users\\eubgo\\.conda\\envs\\NLP\\lib\\site-packages\\nltk\\downloader.py:515\u001b[0m, in \u001b[0;36mDownloader.__init__\u001b[1;34m(self, server_index_url, download_dir)\u001b[0m\n\u001b[0;32m    513\u001b[0m \u001b[39m# decide where we're going to save things to.\u001b[39;00m\n\u001b[0;32m    514\u001b[0m \u001b[39mif\u001b[39;00m \u001b[39mself\u001b[39m\u001b[39m.\u001b[39m_download_dir \u001b[39mis\u001b[39;00m \u001b[39mNone\u001b[39;00m:\n\u001b[1;32m--> 515\u001b[0m     \u001b[39mself\u001b[39m\u001b[39m.\u001b[39m_download_dir \u001b[39m=\u001b[39m \u001b[39mself\u001b[39;49m\u001b[39m.\u001b[39;49mdefault_download_dir()\n",
      "File \u001b[1;32mc:\\Users\\eubgo\\.conda\\envs\\NLP\\lib\\site-packages\\nltk\\downloader.py:1072\u001b[0m, in \u001b[0;36mDownloader.default_download_dir\u001b[1;34m(self)\u001b[0m\n\u001b[0;32m   1069\u001b[0m \u001b[39m# Check if we have sufficient permissions to install in a\u001b[39;00m\n\u001b[0;32m   1070\u001b[0m \u001b[39m# variety of system-wide locations.\u001b[39;00m\n\u001b[0;32m   1071\u001b[0m \u001b[39mfor\u001b[39;00m nltkdir \u001b[39min\u001b[39;00m nltk\u001b[39m.\u001b[39mdata\u001b[39m.\u001b[39mpath:\n\u001b[1;32m-> 1072\u001b[0m     \u001b[39mif\u001b[39;00m os\u001b[39m.\u001b[39mpath\u001b[39m.\u001b[39mexists(nltkdir) \u001b[39mand\u001b[39;00m nltk\u001b[39m.\u001b[39;49minternals\u001b[39m.\u001b[39mis_writable(nltkdir):\n\u001b[0;32m   1073\u001b[0m         \u001b[39mreturn\u001b[39;00m nltkdir\n\u001b[0;32m   1075\u001b[0m \u001b[39m# On Windows, use %APPDATA%\u001b[39;00m\n",
      "\u001b[1;31mAttributeError\u001b[0m: partially initialized module 'nltk' has no attribute 'internals' (most likely due to a circular import)"
     ]
    }
   ],
   "source": [
    "# Importación de librerías necesarias\n",
    "import pandas as pd  # Librería para manipulación y análisis de datos\n",
    "import numpy as np  # Librería para operaciones matemáticas de alto nivel\n",
    "from numpy import asarray\n",
    "from numpy import zeros\n",
    "import re  # Librería para trabajar con expresiones regulares\n",
    "import nltk  # Herramienta de lenguaje natural\n",
    "from nltk.corpus import stopwords  # Importación de palabras comunes que se pueden ignorar en el análisis de texto\n",
    "import os  # Librería para interactuar con el sistema operativo\n",
    "\n",
    "from numpy import array  # Importación específica de la función array de numpy\n",
    "from keras_preprocessing.sequence import pad_sequences  # Herramienta para ajustar secuencias a la misma longitud\n",
    "from keras import Sequential  # Modelo secuencial para la construcción de la red neuronal\n",
    "from keras.layers import (  # Importación de distintas capas para construir una red neuronal\n",
    "    Activation, Dropout, Dense, \n",
    "    Flatten, Conv1D, LSTM, \n",
    "    GlobalMaxPooling1D, Embedding\n",
    ")\n",
    "from keras.utils import to_categorical\n",
    "\n",
    "from sklearn.model_selection import train_test_split  # Función para dividir datos en entrenamiento y prueba\n",
    "from keras.preprocessing.text import Tokenizer  # Herramienta para convertir textos en secuencias de números\n",
    "from nltk.tokenize import RegexpTokenizer  # Herramienta para tokenización basada en expresiones regulares\n",
    "from nltk.tokenize.treebank import TreebankWordDetokenizer  # Herramienta para revertir la tokenización (destokenización) a texto normal\n",
    "\n",
    "import matplotlib.pyplot as plt  # Librería para la generación de gráficos\n",
    "\n"
   ]
  },
  {
   "cell_type": "markdown",
   "metadata": {},
   "source": [
    "##  Paso 1 Lectura del Corpus"
   ]
  },
  {
   "cell_type": "code",
   "execution_count": null,
   "metadata": {},
   "outputs": [
    {
     "name": "stdout",
     "output_type": "stream",
     "text": [
      "                                                Texto Categoría\n",
      "0   Los quirópteros (Chiroptera), conocidos comúnm...  Animales\n",
      "1   Águila es el nombre dado a las mayores aves de...  Animales\n",
      "2   Los vulpinos (Vulpini) son una tribu de mamífe...  Animales\n",
      "3   Los elefantes o elefántidos (Elephantidae) son...  Animales\n",
      "4   Los delfines (Delphinidae), llamados también d...  Animales\n",
      "5   ﻿Crocodylidae (castellanizado como crocodílido...  Animales\n",
      "6   Australia, oficialmente Mancomunidad de Austra...   Lugares\n",
      "7   Japón (Nihon o Nippon), oficialmente Estado de...   Lugares\n",
      "8   Inglaterra (en inglés, England) es una de las ...   Lugares\n",
      "9   México (Acerca de este sonido [ˈmexiko]), ofic...   Lugares\n",
      "10  Canadá (Canada) es un país soberano de América...   Lugares\n",
      "11  Alemania, oficialmente República Federal de Al...   Lugares\n",
      "12  Isaac Asimov (RSFS de Rusia, 20 de diciembre d...  Personas\n",
      "13  ﻿Albert Einstein (Imperio alemán; 14 de marzo ...  Personas\n",
      "14  Isaac Newton, 25 de diciembre de 1642, Londres...  Personas\n",
      "15  Stephen William Hawking; Oxford, 8 de enero de...  Personas\n",
      "16  Nikola Tesla (Imperio austríaco, actual Croaci...  Personas\n",
      "17  Thomas Alva Edison (Milan, Ohio, 11 de febrero...  Personas\n",
      "18  El teléfono inteligente (smartphone en inglés)...   Objetos\n",
      "19  Amazon Echo, es un altavoz inteligente de Amaz...   Objetos\n",
      "20  Un asistente virtual es un agente de software ...   Objetos\n",
      "21  Un reloj inteligente es un reloj de pulsera do...   Objetos\n",
      "22  Un bot de charla o bot conversacional (en ingl...   Objetos\n",
      "23  Un robot es una entidad virtual o mecánica art...   Objetos\n"
     ]
    }
   ],
   "source": [
    "### Juntamos en un csv cada uno de los textos para poder pasar al preprocesamiento\n",
    "\n",
    "# Ruta al directorio principal que contiene las carpetas de categorías\n",
    "directorio_principal = './Textos_para_Clasificar'\n",
    "\n",
    "# Lista para almacenar los datos\n",
    "datos = []\n",
    "\n",
    "# Recorre cada carpeta (categoría) en el directorio principal\n",
    "for categoria in os.listdir(directorio_principal):\n",
    "    # Construye la ruta completa hacia la carpeta de la categoría actual\n",
    "    ruta_categoria = os.path.join(directorio_principal, categoria)\n",
    "    \n",
    "    # Verifica si la ruta corresponde a un directorio\n",
    "    if os.path.isdir(ruta_categoria):\n",
    "        \n",
    "        # Recorre cada archivo en la carpeta de la categoría\n",
    "        for archivo in os.listdir(ruta_categoria):\n",
    "            # Construye la ruta completa hacia el archivo actual\n",
    "            ruta_archivo = os.path.join(ruta_categoria, archivo)\n",
    "            \n",
    "            # Abre y lee el contenido del archivo\n",
    "            with open(ruta_archivo, 'r', encoding='utf-8') as f:\n",
    "                texto = f.read()\n",
    "                # Almacena el texto y la categoría en la lista de datos\n",
    "                datos.append([texto, categoria])\n",
    "\n",
    "# Crea un DataFrame con los datos recolectados\n",
    "df = pd.DataFrame(datos, columns=['Texto', 'Categoría'])\n",
    "# Guarda el DataFrame como un archivo CSV\n",
    "df.to_csv('datos_clasificador.csv', index=False)\n",
    "\n",
    "# Imprime el DataFrame\n",
    "print(df)\n"
   ]
  },
  {
   "cell_type": "code",
   "execution_count": null,
   "metadata": {},
   "outputs": [
    {
     "data": {
      "text/plain": [
       "<BarContainer object of 4 artists>"
      ]
     },
     "execution_count": 45,
     "metadata": {},
     "output_type": "execute_result"
    },
    {
     "data": {
      "image/png": "[encoded data removed]",
      "text/plain": [
       "<Figure size 640x480 with 1 Axes>"
      ]
     },
     "metadata": {},
     "output_type": "display_data"
    }
   ],
   "source": [
    "# Inicialización de contadores para cada categoría\n",
    "animales = 0\n",
    "lugares = 0\n",
    "personas = 0\n",
    "objetos = 0\n",
    "\n",
    "# Itera sobre cada entrada en la columna 'Categoría' del DataFrame\n",
    "for text in df[\"Categoría\"]:\n",
    "    # Incrementa el contador correspondiente según la categoría\n",
    "    if(text == 'Animales'):\n",
    "        animales += 1\n",
    "    elif(text == 'Lugares'):\n",
    "        lugares += 1\n",
    "    elif(text == 'Personas'):\n",
    "        personas += 1\n",
    "    elif(text == 'Objetos'):\n",
    "        objetos += 1\n",
    "\n",
    "# Crea un gráfico de barras para visualizar la distribución de categorías\n",
    "plt.bar(\n",
    "    ['animales', 'lugares', 'personas', 'objetos'],  # Etiquetas del eje X\n",
    "    [animales, lugares, personas, objetos],  # Valores de las barras\n",
    "    color = ['lime', 'red', 'blue', 'yellow']  # Colores de las barras\n",
    ")\n"
   ]
  },
  {
   "cell_type": "markdown",
   "metadata": {},
   "source": [
    "### Paso 2: Preprocesamiento"
   ]
  },
  {
   "cell_type": "code",
   "execution_count": null,
   "metadata": {},
   "outputs": [
    {
     "name": "stdout",
     "output_type": "stream",
     "text": [
      "los quiropteros chiroptera conocidos comunmente murcielagos orden mamiferos placentarios cuyas extremidades superiores desarrollaron alas con aproximadamente 1100 especies representan aproximadamente 20 todas especies mamiferos convierte segundo orden numeroso clase tras roedores estan presentes continentes excepto antartida son unicos mamiferos capaces volar extendido casi mundo ocupado gran variedad nichos ecologicos diferentes desempeñan papel ecologico vital polinizadores controladores plagas insectos pequeños vertebrados desarrollan importante papel dispersion semillas muchas plantas tropicales dependen completo murcielagos tienen patas anteriores transformadas alas mitad especies conocidas orientan cazan medio ecolocalizacion cerca 70 especies insectivoras mayor parte resto frugivoras alimentan pequeños vertebrados ranas roedores aves peces murcielagos o caso vampiros subfamilia desmodontinae sangre su tamaño varia 29 33 mm longitud 2 g peso murcielago moscardon craseonycteris thonglongyai 1 5 m envergadura 1 2 kg peso zorro volador filipino acerodon jubatus a causa habitos nocturnos mayoria especies ancestral incomprension como podian ver oscuridad consideraba todavia considera menudo habitantes siniestros noche pocas excepciones como china simbolo felicidad provecho mayor parte mundo murcielagos causado temor humanos largo historia iconos imprescindibles cine terror aparecen multitud mitos leyendas y aunque realidad solo tres especies hematofagas menudo asocia vampiros mitologicos\n",
      "aguila nombre dado mayores aves depredadoras las diversas especies subespecies aguilas pueden encontrarse casi cualquier parte mundo excepto antartida son miembros aves presa orden accipitriformes o falconiformes acorde clasificacion anterior familia accipitridae subfamilia buteoninae pertenecen varios generos cuales sujetos reclasificacion adecuada puesto expertos llegan opinion consensuada las aguilas caracterizan principalmente gran tamaño constitucion robusta cabeza pico pesados como todas aves presa aguilas poseen pico grande poderoso puntiagudo desprender carne presa cuentan tarsos garras poderosas llama atencion fuerza aguilas posibilita alzar vuelo presas pesadas ellas ademas poseen vista extremadamente aguda permite visualizar potenciales presas distancia ejemplo aguila real posee dos puntos focales ojos mirar frente localizar mirada hacia costados escudriñando distancia las aguilas sido utilizadas pueblos simbolo nacional especialmente simbolo imperial mostrando poderio belleza del imperio romano que general tomado forma usual emblema aguila imperio bizantino aporto simbolo aguila bicefala el aguila sinonimo poder pueblos antiguos mochica antiguo peru mayas aztecas tambien emblema ciertos equipos deportivos principalmente beisbol caso equipos aguilas mexicali mexico aguilas zulia venezuela aguilas cibaeñas republica dominicana aguilas cibaeñas equipo fanaticos extranjero republica dominica caribe equipo futbol aguilas cristo venezuela club deportivo aguila el salvador club america mexico equipo argentino combate historico medieval hmb cecm igual aguila caracterizan deporte ferocidad combates\n",
      "los vulpinos vulpini tribu mamiferos carnivoros incluidos familia canidos se conocen comunmente zorros zorras raposos raposas actualmente representados unas 27 especies encuentran casi continentes aunque extendida zorro rojo zorro comun vulpes vulpes habita europa america norte otras especies importantes zorro gris zorro isleño zorro polar conocido zorro artico la mayoria zorros viven 5 7 años libertad aunque pueden llegar alcanzar 12 incluso sobrepasar edad cautiverio son generalmente pequeños miembros familia canidae tales como lobos chacales perros domesticos sus rasgos tipicos incluyen fino hocico espesa cola otras caracteristicas fisicas varian segun habitat por ejemplo zorro desierto largas orejas pelaje corto mientras zorro artico pequeñas orejas denso pelaje a diferencia canidos zorros usualmente animales manada son solitarios cazando presa especialmente roedores empleando tecnica salto practicada edad temprana que dependiendo terreno utiliza tecnica u otra ejemplo nieve dedica escuchar presa debajo gruesa capa predice movimientos misma da salto alto postura vertical penetrar nieve mayor eficacia asi alcanzar presa capaces matar presa raudamente su dieta alimenticia incluye saltamontes fruta bayas presentan fenotipo glandula mamaria superdesarrollada\n",
      "los elefantes elefantidos elephantidae familia mamiferos placentarios orden proboscidea antiguamente clasificaban junto mamiferos piel gruesa orden ahora invalido paquidermos pachydermata existen hoy dia tres especies diversas subespecies entre generos extintos familia destacan mamuts elefante salvaje indio bosque marayoor munnar kerala cria elefante africano sabana loxodonta africana parque nacional kruger sudafrica los elefantes animales terrestres grandes existen actualidad el periodo gestacion veintidos meses largo cualquier animal terrestre el peso nacer usualmente 118 kg normalmente viven cincuenta setenta años registros antiguos documentan edades maximas ochenta dos años el elefante grande cazado registro peso alrededor 11 000 kg angola 1956 alcanzando altura cruz 3 96 m metro alto elefante africano promedio el elefante pequeño alrededor tamaño cria cerdo grande especie prehistorica existio isla creta elephas creticus pleistoceno con peso 5 kg cerebro elefante grande animales terrestres se atribuyen gran variedad comportamientos asociados inteligencia duelo altruismo adopcion juego uso herramientas compasion autorreconocimiento los elefantes pueden par especies inteligentes cetaceos primates las areas grandes cerebro encargadas audicion gusto movilidad\n",
      "los delfines delphinidae llamados delfines oceanicos distinguirlos platanistoideos delfines rio familia cetaceos odontocetos heterogenea comprende 34 especies miden 2 9 metros largo cuerpo fusiforme cabeza gran tamaño hocico alargado solo espiraculo parte superior cabeza orificio respiratorio animales marinos contacto aire agua sistema respiratorio interno son carnivoros estrictos estan especies inteligentes habitan planeta se encuentran relativamente cerca costas menudo interactuan ser humano como cetaceos delfines utilizan sonidos danza salto comunicarse orientarse alcanzar presas ademas utilizan ecolocalizacion hoy dia principales amenazas expuestos naturaleza antropica\n",
      "crocodylidae castellanizado crocodilidos cocodrilidos familia sauropsidos reptiles arcosaurios comunmente conocidos cocodrilos incluye catorce especies actuales se trata grandes reptiles semiacuaticos viven regiones tropicales africa asia america australia aparecieron primera vez eoceno hace cincuenta cinco millones años en estricto cocodrilo cualquier especie pertenece familia crocodylidae a veces clasificada subfamilia crocodylinae no obstante termino puede usar manera flexible incluir miembros existentes orden crocodilia decir verdaderos cocodrilos aligatores caimanes familia alligatoridae gaviales familia gavialidae asi crocodylomorpha incluye parientes antepasados extintos cocodrilos actuales los cocodrilos tienden congregarse habitats agua dulce rios lagos humedales veces agua salobre se alimentan principalmente vertebrados peces reptiles mamiferos veces invertebrados moluscos crustaceos segun especie\n",
      "australia oficialmente mancomunidad australia pais soberano oceania cuya forma gobierno monarquia constitucional federal parlamentaria el pais ocupa principal masa continental plataforma llamada sahul ademas islas oceanos pacifico indico antartico los paises cercanos australia indonesia timor oriental papua nueva guinea norte islas salomon vanuatu dependencia francesa nueva caledonia noreste nueva zelanda sureste australia sexto pais grande mundo superficie 7 741 220 km² su capital canberra encuentra territorio capital australiana la poblacion pais 2011 21 5 millones habitantes concentrados principalmente grandes ciudades costeras sidney melbourne brisbane perth adelaida capital canberra australia habitada hace menos cuarenta seis mil años aborigenes australianos su descubrimiento producido tras esporadicas visitas españoles portugueses exploraron costa septentrional occidental australia aunque avanzar hacia interior escaso numero exploradores las exploraciones iniciadas siglo xvii continuadas pescadores neerlandeses exploradores comerciantes europeos hasta ahora sostiene primero desembarcar costas orientales navegante britanico james cook llego 1769 nueva zelanda 1770 tierras australianas debido ello mitad oriental continente reclamada gran bretaña 1770 1788 establecio colonia penal nueva gales sur debido asentamiento colonos crecimiento demografico exploracion nuevas areas siglo xix establecieron cinco colonias britanicas mas el 1 enero 1901 seis colonias federaron formando confederacion australia desde institucion mantenido sistema politico democratico liberal continuado siendo monarquia dentro comunidad britanica naciones en division convencional continentes australia engloba oceania agrupa islas pacifico sin embargo anglohablantes suelen hablar continente australiano australia punto vista geologico constituya continente nueva zelanda islas adyacentes tampoco conforman continente australia pertenecer plataforma sahul sino suelen asociar cercania historica politica\n",
      "japon nihon nippon oficialmente estado japon acerca sonido nihon koku nippon koku pais soberano insular asia situado oceano pacifico oeste mar japon china corea norte corea sur rusia norte mar ojotsk sur mar china oriental taiwan los caracteres componen nombre japon pueden significar el origen sol la base sol motivo el pais conocido tierra sol naciente perspectiva china sol sale japon no ningun idioma oficial fecha japones considera idioma nacional dicho pais termino debe confundir anteriormente dicho japon archipielago compuesto 6852 islas el area gran tokio isla honshū ciudad tokio capital facto nacion mayor area metropolitana mundo treinta millones residentes y vez tokio capital ciudad grande mundo cuanto extension los restos arqueologicos indican ser humano vivido japon paleolitico superior la primera mencion escrita islas encuentra textos antigua china siglo i d c la historia japon alternado periodos influencia extranjera prolongados aislamiento total desde siglo xii 1868 japon gobernado sucesivos shogunatos militares ejercian poder nombre emperador en siglo xvii pais entro largo periodo aislamiento termino mediados siglo xix despues casi dos decadas conflictos internos insurrecciones restauro emperador meiji jefe estado 1868 proclamo imperio japon a finales siglo xix principios xx exitos primera guerra sino japonesa guerra ruso japonesa primera guerra mundial permitieron japon expandir imperio fortalecer fuerzas armadas la segunda guerra sino japonesa inicio 1937 acabo formando parte segunda guerra mundial 1941 conflictos terminaron tras rendicion japon debido bombardeos atomicos hiroshima nagasaki 1945 desde adopcion constitucion revisada 1947 japon mantenido monarquia constitucional unitaria emperador organo gobierno democratico llamado dieta japon hace varias decadas grandes potencias economicas mundiales actualidad tercera mayor economia acuerdo pib asimismo cuarto mayor exportador importador mercancias aunque japon renuncio oficialmente derecho declarar guerra tras segunda guerra mundial posee unas modernas fuerzas armadas quinto mayor presupuesto militar mundial autodefensa mantenimiento paz es miembro organizacion naciones unidas g7 g4 apec japon segundo pais menor tasa homicidios solo detras singapur mujeres japonesas segunda mayor esperanza vida y segun onu pais presenta tercera menor mortalidad infantil mundo\n",
      "inglaterra en ingles england cuatro naciones constituyentes reino unido su territorio formado geograficamente parte sur central gran bretaña isla comparte junto escocia gales cerca 100 islas pequeñas islas sorlingas isla wight limita norte escocia oeste gales sus dos fronteras terrestres noroeste mar irlanda suroeste mar celta mar norte sur canal mancha inglaterra asume 84 poblacion 85 pib reino unido el territorio actual inglaterra habitado varias culturas hace cerca 35000 años toma nombre anglos pueblos germanicos establecieron lugar siglos v vi se convirtio unificado año 927 descubrimientos comenzo siglo xv gran impacto cultural legal mundo el idioma ingles iglesia anglicana derecho inglaterra tomado base sistema juridico paises mundo desarrollaron inglaterra sistema parlamentario gobierno sido ampliamente adoptado naciones el reino inglaterra que 1284 incluia gales independiente 1707 fecha firmo acta union escocia crear reino gran bretaña en 1801 reino irlanda unio reino gran bretaña creando asi reino unido gran bretaña irlanda 1922 con independencia particion irlanda entonces reino unido gran bretaña irlanda norte\n",
      "mexico acerca sonido ˈmexiko oficialmente estados unidos mexicanos pais soberano ubicado parte meridional america norte capital ciudad mexico politicamente republica representativa democratica federal laica compuesta 32 entidades federativas 31 capital federal el territorio mexicano superficie 1 964 375 km² decimotercer pais extenso mundo tercero grande america latina limita norte estados unidos america largo frontera 3 155 km mientras sur frontera 958 km guatemala 276 km belice las costas pais limitan oeste oceano pacifico golfo mexico mar caribe sumando 9 330 km tercer pais americano mayor longitud litoral mexico undecimo pais poblado mundo poblacion estimada 126 millones personas 2019 8 la mayoria lengua materna español reconoce lengua nacional junto 67 lenguas indigenas propias nacion si bien pais hablan alrededor 287 idiomas estas cifras convierten mexico pais mayor numero hispanohablantes asi septimo pais mayor diversidad lingüistica mundo la presencia humana mexico remonta 14 000 años presente como fruto miles años desarrollo cultural surgieron territorio mexicano culturas mesoamericanas aridoamericanas oasisamericanas el actual territorio central mexico principal mayor escenario pueblo mexica y parte pueblo maya dos civilizaciones importantes america precolombina durante 300 años totalidad actual territorio formo parte virreinato nueva españa capital ciudad mexico siendo entidades importantes imperio español america tras dominacion española nueva españa inicio lucha independencia politica 1810 culmino 1821 posteriormente cerca siglo pais vio envuelto serie guerras internas invasiones extranjeras repercusiones ambitos vida mexicanos durante buena parte siglo xx principalmente segundo tercio lugar periodo gran crecimiento economico marco politica dominada solo partido politico segun organizacion mundial turismo mexico principal destino turistico america latina sexto visitado mundo esto debe gran medida 34 sitios culturales naturales considerados unesco patrimonio humanidad primero continente sexto mundo en terminos macroeconomicos producto interno bruto pib decimocuarta economia mundial undecima paridad poder adquisitivo ppa escala regional segunda economia america latina cuarta continente segun informe 2018 desarrollo humano onu indice desarrollo humano alto 0 774 ocupa lugar 74º mundo mexico paises mayor diversidad climas mundo considerado 17 paises megadiversos planeta hogar 10 12 biodiversidad mundial alberga 12 000 especies endemicas\n",
      "canada canada pais soberano america norte cuya forma gobierno monarquia parlamentaria federal su territorio organizado diez provincias tres territorios su capital ciudad ottawa ciudad poblada toronto ubicado extremo norte subcontinente norteamericano extiende oceano atlantico este oceano pacifico oeste hacia norte oceano artico comparte frontera estados unidos sur noroeste federado alaska es segundo pais extenso mundo despues rusia septentrional ocupa cerca mitad territorio norteamerica a causa clima 15 paises menor densidad poblacional mundo aproximadamente 4 habitantes kilometro cuadrado el territorio ocupado canada habitado diversos grupos poblacion aborigen milenios desde finales siglo xv numerosas expediciones britanicas francesas exploraron largo costa atlantica tarde establecieron francia cedio casi todas colonias norteamericanas 1763 despues guerra franco india en 1867 union tres colonias britanicas norteamericanas mediante confederacion canada formo dominio federal cuatro provincias esto hizo comenzara acumulacion provincias territorios proceso autonomia frente reino unido esta autonomia cada vez mayor puso relieve estatuto westminster 1931 culmino acta constitucion canada 1982 rompio vestigios dependencia juridica parlamento britanico esta gobernada democracia parlamentaria monarquia constitucional isabel ii jefe estado es nacion bilingüe ingles frances lenguas oficiales ambito federal canada nacion industrial tecnologicamente pionera avanzada ampliamente autosuficiente energia gracias relativamente extensos depositos combustibles fosiles amplia generacion energia nuclear energia hidroelectrica siendo paises desarrollados economia diversificada hace independiente grandes yacimientos abundantes recursos naturales asi comercio particularmente estados unidos mexico en actualidad miembro oea g 8 g 20 otan ocde omc ukusa apec mancomunidad naciones francofonia organizacion naciones unidas es considerado paises mejor calidad vida\n",
      "alemania oficialmente republica federal alemania pais soberano centroeuropeo miembro union europea constituido estado social democratico derecho cuya forma gobierno republica parlamentaria federal su capital berlin esta formado dieciseis federados bundesländer limita norte mar norte dinamarca mar baltico polonia republica checa sur austria suiza oeste francia luxemburgo belgica paises bajos la ciudad büsingen am hochrhein enclavada suiza forma parte alemania el territorio alemania abarca 357 022 km² extension posee clima templado con casi 83 millones habitantes pais poblado miembros union europea hogar tercer mayor grupo emigrantes internacionales despues estados unidos alemania segundo destino migraciones popular mundo las palabras aleman alemania provienen latin utilizadas antigüedad romanos denominar alamanes no mismo alemanes pueblo germanico cercano territorio imperio romano de ahi usada nombrar pais entero ademas aleman extendido uso gentilicio germano derivado nombre romanos referian tribus romanas celtas zona central europa cuyo territorio llamaban germania desde siglo x territorios alemanes formaron parte central sacro imperio romano germanico duro 1806 durante siglo xvi regiones norte pais convirtieron centro reforma protestante como moderno estado nacion pais unificado tiempos guerra franco prusiana 1871 tras segunda guerra mundial alemania nazi derrotada aliados alemania dividida dos estados separados largo lineas ocupacion aliadas 1949 estados resultantes republica federal alemania republica democratica alemana reunificaron 1990 fue miembro fundador comunidad europea 1957 convirtio union europea 1993 es parte zona schengen adopto moneda comun europea euro 1999 alemania miembro organizacion naciones unidas otan g7 naciones g4 firmo protocolo kioto es cuarta mayor economia mundial cuanto pib nominal primera europa mayor exportador mercancias mundo 2007 en terminos absolutos asigna tercer mayor presupuesto anual ayuda desarrollo mundo mientras gastos militares ocuparon noveno lugar mundial 2012 el pais desarrollado alto nivel vida establecido sistema completo seguridad social tiene posicion clave asuntos europeos mantiene estrecha relacion varias asociaciones nivel mundial es reconocida lider sectores cientifico tecnologico alemania pais contaminante europa\n",
      "isaac asimov rsfs rusia 20 diciembre 1919 2 enero 1920 nueva york estados unidos 6 abril 1992 escritor profesor bioquimica facultad medicina universidad boston origen ruso nacionalizado estadounidense conocido ser prolifico autor obras ciencia ficcion historia divulgacion cientifica asimov asimismo dilatado conocimiento ciencias naturales conjunto su obra famosa saga fundacion conocida trilogia ciclo trantor forma parte serie imperio galactico tarde combino gran serie robots tambien escribio obras misterio fantasia asi gran cantidad textos ficcion en total firmo 500 volumenes unas 9000 cartas postales sus trabajos sido publicados 9 10 categorias sistema dewey clasificacion junto robert a heinlein arthur c clarke asimov considerado vida tres grandes escritores ciencia ficcion la mayoria libros divulgacion explican conceptos cientificos siguiendo linea historica retrotrayendose posible tiempos ciencia cuestion encontraba etapa elemental a menudo brinda nacionalidad fechas nacimiento muerte cientificos menciona asi etimologias palabras tecnicas fue miembro mensa tiempo cuyos miembros describia intelectualmente combativos disfrutaba presidencia asociacion humanista estadounidense organizacion ideologia atea en 1981 nombro asteroide 5020 asimov honor\n",
      "albert einstein imperio aleman 14 marzo 1879 princeton estados unidos 18 abril 1955 fisico aleman origen judio nacionalizado despues suizo austriaco estadounidense se considera cientifico importante conocido popular siglo xx en 1905 joven fisico desconocido empleado oficina patentes berna publico teoria relatividad especial en incorporo marco teorico simple fundamentado postulados fisicos sencillos conceptos fenomenos estudiados henri poincare hendrik lorentz como consecuencia logica teoria dedujo ecuacion fisica conocida nivel popular equivalencia masa energia e mc² ese año publico trabajos sentarian bases fisica estadistica mecanica cuantica en 1915 presento teoria relatividad general reformulo completo concepto gravedad una consecuencias surgimiento estudio cientifico origen evolucion universo rama fisica denominada cosmologia en 1919 observaciones britanicas eclipse solar confirmaron predicciones acerca curvatura luz idolatrado prensa einstein convirtio icono popular ciencia mundialmente famoso privilegio alcance pocos cientificos por explicaciones efecto fotoelectrico numerosas contribuciones fisica teorica 1921 obtuvo premio nobel fisica teoria relatividad pues cientifico encomendo tarea evaluarla entendio temieron correr riesgo luego demostrase erronea en epoca aun considerada controvertida ante ascenso nazismo einstein abandono alemania hacia diciembre 1932 destino estados unidos dedico docencia institute for advanced study se nacionalizo estadounidense 1940 durante ultimos años trabajo integrar misma teoria fuerza gravitatoria electromagnetica aunque considerado padre bomba atomica abogo federalismo mundial internacionalismo pacifismo sionismo socialismo democratico fuerte devocion libertad individual libertad expresion fue proclamado personaje siglo xx preeminente cientifico revista time\n",
      "isaac newton 25 diciembre 1642 londres 20 marzo 1727 fisico teologo inventor alquimista matematico ingles es autor philosophiæ naturalis principia mathematica conocidos principia describe ley gravitacion universal establecio bases mecanica clasica mediante leyes llevan nombre entre descubrimientos cientificos destacan trabajos naturaleza luz optica que presentan principalmente obra opticks matematicas desarrollo calculo infinitesimal newton comparte gottfried leibniz credito desarrollo calculo integral diferencial utilizo formular leyes fisica astronomia tambien contribuyo areas matematicas desarrollando teorema binomio formulas newton cotes entre hallazgos cientificos encuentran descubrimiento espectro color observa luz blanca pasa prisma inherente luz lugar provenir prisma como sido postulado roger bacon siglo xiii argumentacion posibilidad luz compuesta particulas desarrollo ley conveccion termica describe tasa enfriamiento objetos expuestos aire estudios velocidad sonido aire propuesta teoria origen estrellas fue pionero mecanica fluidos estableciendo ley viscosidad newton primero demostrar leyes naturales gobiernan movimiento tierra gobiernan movimiento cuerpos celestes mismas es menudo calificado cientifico grande tiempos obra culminacion revolucion cientifica el matematico fisico joseph louis lagrange 1736 1813 dijo newton grande genio existido afortunado dado solo puede encontrar vez sistema rija mundo\n",
      "stephen william hawking oxford 8 enero 1942 cambridge 14 marzo 2018 fisico teorico astrofisico cosmologo divulgador cientifico britanico sus trabajos importantes consistieron aportar junto roger penrose teoremas respecto singularidades espaciotemporales marco relatividad general prediccion teorica agujeros negros emitirian radiacion conoce hoy dia radiacion hawking o veces radiacion bekenstein hawking uno principales caracteristicas personalidad contribucion debate cientifico veces apostando publicamente cientificos caso conocido participacion discusion conservacion informacion agujeros negros era miembro real sociedad londres academia pontificia ciencias academia nacional ciencias estados unidos fue titular catedra lucasiana matematicas lucasian chair of mathematics universidad cambridge 1979 jubilacion 2009 entre numerosas distinciones concedidas recibio doce doctorados honoris causa galardonado orden imperio britanico grado cbe 1982 premio principe asturias concordia 1989 medalla copley 2006 medalla libertad 2009 premio fundacion bbva fronteras conocimiento 2015 estuvo casado dos ocasiones tres hijos justo primer matrimonio 21 años diagnostico esclerosis lateral amiotrofica ela agravando paso años dejarlo casi completamente paralizado forzo comunicarse traves aparato generador voz cuando enfermedad afecto capacidad tragar ahogaba comer hawking comenzo dieta especial basaba principalmente retirada gluten azucar alimentos procesados complementacion diversos suplementos ha sido persona longeva enfermedad sobrevivio 55 años esperanza media vida aproximadamente 14 meses su caso resulta fascinante desconcertante neurologos como autor libros divulgativos ciencia alcanzo enormes exitos ventas discute propias teorias cosmologia general breve historia tiempo big bang agujeros negros a brief history of time from the big bang to black holes 1988 lista bestsellers the sunday times britanico 237 semanas brevisima historia tiempo a briefer history of time 2005 colaboracion leonard mlodinow trato explicar manera sencilla posible historia universo motivo conocio el historiador tiempo el historiador universo el universo cascara nuez the universe in nutshell 2001\n",
      "nikola tesla imperio austriaco actual croacia 10 julio 1856 nueva york 7 enero 1943 inventor ingeniero electrico ingeniero mecanico fisico estadounidense origen serbocroata se conoce numerosas invenciones campo electromagnetismo desarrolladas finales siglo xix principios siglo xx las patentes tesla trabajo teorico ayudaron forjar bases sistemas modernos uso energia electrica corriente alterna ca incluyendo sistema polifasico distribucion electrica motor corriente alterna contribuyeron surgimiento segunda revolucion industrial su caracter enfrentamiento edison halo misterio rodea descubrimientos hicieron tesla convirtiera cientifico popular partir decada 1990 abundante bibliografia disponible acerca vida obra\n",
      "thomas alva edison milan ohio 11 febrero 1847 west orange nueva jersey 18 octubre 1931 empresario desarrollo dispositivos gran influencia mundo fonografo camara cine duradera bombilla incandescente apodado el mago menlo park edison primeros inventores aplicar principios produccion cadena trabajo equipo gran escala proceso invencion motivos cuales reconoce creacion primer laboratorio investigacion industrial edison inventor prolifico registro 1903 patentes nombre estados unidos ademas reino unido francia alemania pero importante muchas patentes amplio impacto invenciones luz electrica suministro publico electricidad grabacion sonido cinematografia convirtieron nuevas poderosas industrias mundo sus inventos contribuyeron particular telecomunicaciones maquina voto bateria automovil electrico energia electrica grabacion musica peliculas sus avanzados trabajos campos continuacion primer trabajo radiotelegrafista edison desarrollo sistema generacion distribucion energia electrica casas negocios fabricas avance crucial mundo industrializado moderno\n",
      "el telefono inteligente smartphone ingles tipo ordenador bolsillo capacidades telefono movil llamada telefonica servicio mensajes cortos etc sobre plataforma informatica movil mayor capacidad almacenar datos realizar actividades simultaneamente tareas realiza computadora mayor conectividad telefono convencional el termino inteligente utiliza fines comerciales hace referencia capacidad usarse computador bolsillo llega incluso reemplazar computadora personal casos los telefonos inteligentes popularizandose finales decada 2000 transcurso decada 2010 los sistemas operativos moviles utilizados actualmente android ios las marcas telefonos populares apple iphone samsung huawei xiaomi otros recientemente principios año 2013 telefonos inteligentes superan venta telefonos celulares convencionales entonces una principales caracteristicas telefonos pantalla tactil reemplaza botones pantalla visual pequeña telefonos convencionales soporte completo correo electronico asi conectividad internet funcion multimedia parecen ser caracteristicas indispensables encontradas modelos existentes anunciados principios 2010 casi telefonos inteligentes permiten usuario instalar programas adicionales habitualmente incluso terceros hecho dota telefonos muchisimas aplicaciones diferentes terrenos embargo telefonos calificados inteligentes aun caracteristica entre rasgos comunes funcion multitarea acceso internet via wifi redes 2g 3g 4g 5g cuentan funciones multimedia camara reproductor videos mp3 programas agenda administracion contactos acelerometro bluetooth gps programas navegacion asi ocasionalmente habilidad leer documentos negocios variedad formatos pdf documentos ofimaticos\n",
      "amazon echo altavoz inteligente amazon funciones incluyendo respuesta preguntas reproductor musica el dispositivo consiste cilindro grande habla 9 pulgadas 23 cm matriz sensores 7 microfonos altavoces incluyen woofer tweeter control remoto el dispositivo responde nombre alexa amazon alexa amazon desarrollando echo dentro lab126 instalaciones silicon valley cambridge mass durante menos 4 años el dispositivo llamado doppler project d parte primer intento amazon ampliar mercado dispositivos ademas original kindle ereader\n",
      "un asistente virtual agente software ayuda usuarios sistemas computacionales automatizando realizando tareas minima interaccion hombre maquina la interaccion da asistente virtual persona debe ser natural persona comunica usando voz asistente virtual procesa interpreta responde misma manera a veces termino bot conversacional en ingles chatbot utiliza referirse asistentes virtuales general especificamente aquellos accede chat linea o casos programas chat linea entretenimiento propositos utiles hacia 2017 capacidades uso asistentes virtuales expandiendo rapidamente nuevos productos entrando mercado una encuesta linea mayo 2017 encontro utilizado estados unidos siri apple 34 google assistant 19 amazon alexa 6 microsoft cortana 4 el uso altavoces inteligentes alimentados asistentes radicalmente diferente apple siquiera anuncio altavoz inteligente junio 2017 el asistente virtual m facebook esperaba disponible cientos millones facebook messenger 2017 apple google grandes bases instaladas usuarios telefonos inteligentes microsoft gran base instalada computadoras personales basadas windows donde trabaja cortana ademas telefonos altavoces inteligentes mientras alexa primero obtener posibilidad realizar pedidos comercio electronico linea amazon un asistente personal inteligente agente tipo software puede realizar tareas u ofrecer servicios individuo estas tareas servicios basados datos entrada usuario reconocimiento ubicacion habilidad acceder informacion variedad recursos linea como clima trafico noticias precios acciones horario usuario precios menor etc algunos ejemplos asistentes personales siri apple braina google assistant google now amazon echo microsoft cortana s voice samsung voice mate silvia hidi htc y bixby samsung uno aspectos clave asistente personal inteligente habilidad organizar mantener informacion esto incluye manejo correos electronicos eventos calendario archivos lista seguir etc de acuerdo inversor capital riesgo chi hua chien firma kleiner perkins caufield byers ejemplos tareas pueden ser ejecutadas inteligentes automatizados agentes personales incluyen manejo agenda ejemplo mandar alerta alguien llegara tarde cena inconveniente trafico actualizacion horarios ambas partes cambiar horario reservacion restaurante manejador personal salud ejemplo monitorear ingesta diaria calorias ritmo cardiaco regimen ejercicio despues hacer recomendaciones dar opciones mejorar salud la tecnologia asistente personal inteligente permitida combinacion dispositivos moviles interfaces programacion aplicaciones apis proliferacion aplicaciones moviles sin embargo asistentes personales automatizados diseñados realizar tareas solo especificadas vez traves voz usuario mientras agentes personales inteligentes realizan tareas curso ejemplo actualizacion agenda calendario forma autonoma\n",
      "un reloj inteligente reloj pulsera dotado funcionalidades van alla convencional los primeros modelos desempeñaban funcionalidades basicas actuales capaces acceder internet realizar recibir llamadas telefonicas enviar recibir correos electronicos sms recibir notificaciones telefono inteligente incluso consultar redes sociales muchas funcionalidades integran disponibles telefonos inteligentes embargo relojes inteligentes gozan ventajas comodidad respecta especial usa hacer deporte viajar estos dispositivos pueden incluir caracteristicas acelerometro giroscopio brujula pulsometro barometro altimetro geomagnetometro geolocalizador gps altavoz microfono ranura tarjeta memoria externa etc tambien cuentan mecanismos conectividad bluetooth para conectarlo movil auriculares u dispositivos nfc wifi usb cualquiera dispositivo cuenta procesador memoria entrada salida se puede recoger informacion sensores internos externos se puede controlar recuperar datos dispositivos muchos relojes inteligentes solo sirven interfaz telefono inteligente sin embargo existen practicamente independientes incorporan ranura tarjeta sim denominan relojes inteligentes telefonicos\n",
      "un bot charla bot conversacional en ingles chatbot programa simula mantener conversacion persona proveer respuestas automaticas entradas hechas usuario habitualmente conversacion establece mediante texto aunque modelos disponen interfaz usuario multimedia mas recientemente comienzan utilizar programas conversores texto sonido ctv dotandolo mayor realismo interaccion usuario para establecer conversacion utilizarse frases facilmente comprensibles coherentes aunque mayoria bot conversacionales consiguen comprender todo en lugar cuenta palabras frases interlocutor permitiran usar serie respuestas preparadas antemano de manera bot capaz seguir conversacion menos logica saber realmente hablando\n",
      "un robot entidad virtual mecanica artificial en practica general sistema electromecanico que apariencia movimientos ofrece sensacion tener proposito propio la independencia creada movimientos hace acciones razon estudio razonable profundo area ciencia tecnologia la palabra robot puede referirse mecanismos fisicos sistemas virtuales software aunque suele aludirse segundos termino bots no consenso maquinas pueden ser consideradas robots existe acuerdo general expertos publico robots tienden hacer parte sigue moverse hacer funcionar brazo mecanico sentir manipular entorno mostrar comportamiento inteligente especialmente si comportamiento imita humanos animales actualmente podria considerarse robot computadora capacidad proposito movimiento general capaz desarrollar multiples tareas manera flexible segun programacion asi podria diferenciarse algun electrodomestico especifico aunque historias ayudantes acompañantes artificiales asi intentos crearlos larga historia maquinas totalmente autonomas aparecieron siglo xx el primer robot programable dirigido forma digital unimate instalado 1961 levantar piezas calientes metal maquina tinte colocarlas los robots domesticos limpieza mantenimiento hogar cada vez comunes no obstante existe cierta ansiedad impacto economico automatizacion amenaza armamento robotico ansiedad ve reflejada retrato menudo perverso malvado robots presentes obras cultura popular comparados colegas ficcion robots reales siguen siendo limitados\n",
      "186\n",
      "203\n",
      "171\n",
      "164\n",
      "82\n",
      "105\n",
      "242\n",
      "325\n",
      "161\n",
      "331\n",
      "242\n",
      "303\n",
      "163\n",
      "222\n",
      "175\n",
      "276\n",
      "87\n",
      "125\n",
      "190\n",
      "69\n",
      "347\n",
      "131\n",
      "82\n",
      "178\n"
     ]
    }
   ],
   "source": [
    "# Obtención de la lista de stopwords en español\n",
    "stop_words = set(stopwords.words('spanish'))\n",
    "\n",
    "# Inicialización de la lista X que almacenará los textos procesados\n",
    "X = []\n",
    "\n",
    "# Obtención de la lista de textos desde el DataFrame\n",
    "textos = list(df['Texto'])\n",
    "for text in textos:\n",
    "    \n",
    "    sentence = text\n",
    "    # Eliminación de stopwords del texto (reemplazando cada stopword con espacio en blanco)\n",
    "    for stopword in stop_words:\n",
    "        sentence = sentence.replace(\" \" + stopword + \" \", \" \")\n",
    "\n",
    "    # Eliminación de espacios múltiples\n",
    "    sentence = re.sub(r'\\s+', ' ', sentence)\n",
    "    # Conversión del texto a minúsculas\n",
    "    sentence = sentence.lower()\n",
    "    # Inicialización del tokenizer que eliminará la puntuación\n",
    "    tokenizer = RegexpTokenizer(r'\\w+')\n",
    "    # Tokenización del texto (separación en palabras)\n",
    "    result = tokenizer.tokenize(sentence)\n",
    "    # \"Destokenización\" del resultado, uniendo las palabras en un solo texto nuevamente\n",
    "    X.append(TreebankWordDetokenizer().detokenize(result))\n",
    "    # Eliminación de acentos en las vocales\n",
    "    X = [re.sub(r'[á]', 'a', i) for i in X]\n",
    "    X = [re.sub(r'[é]', 'e', i) for i in X]\n",
    "    X = [re.sub(r'[í]', 'i', i) for i in X]\n",
    "    X = [re.sub(r'[ó]', 'o', i) for i in X]\n",
    "    X = [re.sub(r'[ú]', 'u', i) for i in X]\n",
    "\n",
    "# Verificación visual del resultado del preprocesamiento, imprimiendo cada texto procesado\n",
    "for i in range(0, len(X)):\n",
    "    print(X[i])\n",
    "\n",
    "# Impresión del número de palabras en cada texto procesado\n",
    "for i in range(0, len(X)):\n",
    "    print(len(X[i].split()))\n"
   ]
  },
  {
   "cell_type": "markdown",
   "metadata": {},
   "source": [
    "## Paso 3 - Creación de vectores / matrices de entrada y salida para el entrenamiento"
   ]
  },
  {
   "cell_type": "code",
   "execution_count": null,
   "metadata": {},
   "outputs": [
    {
     "name": "stdout",
     "output_type": "stream",
     "text": [
      "Vector de objetivos:\n",
      "[0, 0, 0, 0, 0, 0, 1, 1, 1, 1, 1, 1, 2, 2, 2, 2, 2, 2, 3, 3, 3, 3, 3, 3]\n"
     ]
    }
   ],
   "source": [
    "# Creación del vector objetivo basado en las categorías\n",
    "Categorias = df['Categoría']  # Obtención de la columna 'Categoría' del DataFrame\n",
    "\n",
    "y = []  # Inicialización del vector objetivo\n",
    "for categoria in Categorias:\n",
    "    # Asignación de un valor numérico a cada categoría y agregación al vector objetivo\n",
    "    if categoria == \"Animales\":\n",
    "        y.append(0)\n",
    "    elif categoria == \"Lugares\":\n",
    "        y.append(1)\n",
    "    elif categoria == \"Personas\":\n",
    "        y.append(2)\n",
    "    elif categoria == \"Objetos\":\n",
    "        y.append(3)\n",
    "\n",
    "# Impresión del vector objetivo para verificación\n",
    "print(\"Vector de objetivos:\")\n",
    "print(y)\n"
   ]
  },
  {
   "cell_type": "code",
   "execution_count": null,
   "metadata": {},
   "outputs": [],
   "source": [
    "# Separación de los datos en conjuntos de entrenamiento y prueba\n",
    "X_train, X_test, y_train, y_test = train_test_split(X, y, test_size=0.20)  # Utiliza un 20% de los datos para el conjunto de prueba\n",
    "\n",
    "# Inicialización del Tokenizer con un máximo de 1000 palabras/tokens\n",
    "tokenizer = Tokenizer(num_words=1000)\n",
    "# Ajusta el tokenizer a los textos del conjunto de entrenamiento\n",
    "tokenizer.fit_on_texts(X_train)\n",
    "\n",
    "# Convierte los textos en secuencias de números enteros (índices de tokens)\n",
    "X_train = tokenizer.texts_to_sequences(X_train)\n",
    "X_test = tokenizer.texts_to_sequences(X_test)\n"
   ]
  },
  {
   "cell_type": "code",
   "execution_count": null,
   "metadata": {},
   "outputs": [
    {
     "name": "stdout",
     "output_type": "stream",
     "text": [
      "Matriz de valores para las palabras:\n"
     ]
    },
    {
     "data": {
      "text/plain": [
       "(19, 150)"
      ]
     },
     "execution_count": 49,
     "metadata": {},
     "output_type": "execute_result"
    }
   ],
   "source": [
    "# Definición de la longitud máxima para las secuencias\n",
    "maxlen = 150\n",
    "\n",
    "# Ajuste de la longitud de las secuencias mediante padding\n",
    "# Si una secuencia es más corta que 'maxlen', se rellena con ceros al final (padding='post')\n",
    "# Si una secuencia es más larga que 'maxlen', se trunca a 'maxlen'\n",
    "X_train = pad_sequences(X_train, padding='post', maxlen=maxlen)\n",
    "X_test = pad_sequences(X_test, padding='post', maxlen=maxlen)\n",
    "\n",
    "# Impresión para verificación y muestra del tamaño de la matriz de entrenamiento\n",
    "print(\"Matriz de valores para las palabras:\")\n",
    "print(X_train.shape)  # Debe incluir print para mostrar la salida\n"
   ]
  },
  {
   "cell_type": "code",
   "execution_count": null,
   "metadata": {},
   "outputs": [
    {
     "name": "stdout",
     "output_type": "stream",
     "text": [
      "[[665 213 666 ... 723 724  51]\n",
      " [377  53 731 ... 795 796 797]\n",
      " [147  94 798 ...   0   0   0]\n",
      " ...\n",
      " [ 16 606 323 ...   0   0   0]\n",
      " [ 78   5  67 ...   0   0   0]\n",
      " [338  24 618 ...   0   0   0]]\n",
      "[1, 0, 3, 3, 0, 1, 3, 1, 2, 1, 0, 0, 0, 3, 2, 2, 0, 1, 2]\n"
     ]
    }
   ],
   "source": [
    "# Impresión de los conjuntos de entrenamiento para verificar su coherencia\n",
    "print(X_train)  # Impresión de la matriz de entrenamiento (textos convertidos a secuencias de números)\n",
    "print(y_train)  # Impresión del vector objetivo de entrenamiento (categorías convertidas a números)\n"
   ]
  },
  {
   "cell_type": "markdown",
   "metadata": {},
   "source": [
    "## Paso 4: Generación de Embeddings"
   ]
  },
  {
   "cell_type": "code",
   "execution_count": null,
   "metadata": {},
   "outputs": [],
   "source": [
    "# Apertura del archivo de embeddings (Word2Vec en español) en modo lectura\n",
    "embeddings_dictionary = dict()  # Inicialización del diccionario que almacenará los embeddings\n",
    "Embeddings_file = open('../Word2Vect_Spanish.txt', encoding=\"utf8\")\n",
    "\n",
    "# Iteración sobre cada línea del archivo de embeddings\n",
    "for linea in Embeddings_file:\n",
    "    caracts = linea.split()  # Separación de la línea en palabras/características\n",
    "    palabra = caracts[0]  # La primera palabra es el token\n",
    "    vector = asarray(caracts[1:], dtype='float32')  # El resto de la línea corresponde al vector de embeddings\n",
    "    embeddings_dictionary[palabra] = vector  # Asignación del vector de embeddings al token correspondiente en el diccionario\n",
    "\n",
    "# Cierre del archivo de embeddings\n",
    "Embeddings_file.close()\n"
   ]
  },
  {
   "cell_type": "code",
   "execution_count": null,
   "metadata": {},
   "outputs": [],
   "source": [
    "# Obtención del tamaño del vocabulario (número de palabras únicas) incrementado en 1 para tener en cuenta el índice 0\n",
    "vocab_size = len(tokenizer.word_index) + 1\n",
    "\n",
    "# Inicialización de la matriz de embeddings con dimensiones (tamaño del vocabulario x 300)\n",
    "embedding_matrix = zeros((vocab_size, 300))\n",
    "# Iteración sobre cada palabra y su índice en el vocabulario del tokenizer\n",
    "for word, index in tokenizer.word_index.items():\n",
    "    # Obtención del vector de embeddings de la palabra actual desde el diccionario de embeddings\n",
    "    embedding_vector = embeddings_dictionary.get(word)\n",
    "    # Si la palabra existe en el diccionario de embeddings, se inserta su vector de embeddings en la matriz\n",
    "    if embedding_vector is not None:\n",
    "        embedding_matrix[index] = embedding_vector\n"
   ]
  },
  {
   "cell_type": "markdown",
   "metadata": {},
   "source": [
    "## Paso 5: Aplicación del Modelo DNN"
   ]
  },
  {
   "cell_type": "code",
   "execution_count": null,
   "metadata": {},
   "outputs": [
    {
     "name": "stdout",
     "output_type": "stream",
     "text": [
      "Model: \"sequential_3\"\n",
      "_________________________________________________________________\n",
      " Layer (type)                Output Shape              Param #   \n",
      "=================================================================\n",
      " embedding_3 (Embedding)     (None, 150, 300)          628800    \n",
      "                                                                 \n",
      " flatten_3 (Flatten)         (None, 45000)             0         \n",
      "                                                                 \n",
      " dense_3 (Dense)             (None, 4)                 180004    \n",
      "                                                                 \n",
      "=================================================================\n",
      "Total params: 808,804\n",
      "Trainable params: 180,004\n",
      "Non-trainable params: 628,800\n",
      "_________________________________________________________________\n",
      "None\n"
     ]
    }
   ],
   "source": [
    "# Inicialización del modelo secuencial (las capas se añadirán en el orden en que se enumeran)\n",
    "model = Sequential()\n",
    "\n",
    "# Creación de la capa de embeddings con los siguientes parámetros:\n",
    "# - Tamaño del vocabulario: número total de palabras únicas en los datos\n",
    "# - Dimensiones del embedding: tamaño del vector de embeddings (300 en este caso, para coincidir con los embeddings pre-entrenados)\n",
    "# - Matriz de pesos: matriz de embeddings pre-entrenados\n",
    "# - Longitud de entrada: longitud máxima de las secuencias de entrada\n",
    "# - Entrenable: indica si los pesos de la capa se actualizarán durante el entrenamiento (False significa que no se actualizarán)\n",
    "embedding_layer = Embedding(vocab_size, 300, weights=[embedding_matrix], input_length=maxlen, trainable=False)\n",
    "\n",
    "# Añadiendo las capas al modelo secuencial:\n",
    "# - Capa de embeddings: convertirá cada número entero en un vector de embeddings\n",
    "# - Capa Flatten: aplanará la salida de la capa de embeddings para que pueda ser utilizada por la capa Dense\n",
    "# - Capa Dense: capa de neuronas completamente conectadas con 4 neuronas (una para cada categoría) y activación sigmoidal\n",
    "model.add(embedding_layer)\n",
    "model.add(Flatten())\n",
    "model.add(Dense(4, activation='sigmoid'))  # Cambiada a 4 neuronas en lugar de 1, para manejar 4 categorías\n",
    "\n",
    "# Compilación del modelo con los siguientes parámetros:\n",
    "# - Optimizador: algoritmo de optimización Adam\n",
    "# - Función de pérdida: entropía cruzada categórica (apropiada para clasificación multiclase)\n",
    "# - Métricas: precisión (fracción de imágenes correctamente clasificadas)\n",
    "model.compile(optimizer='adam', loss='categorical_crossentropy', metrics=['acc'])\n",
    "\n",
    "# Impresión del resumen del modelo para verificar la configuración\n",
    "print(model.summary())\n"
   ]
  },
  {
   "cell_type": "code",
   "execution_count": null,
   "metadata": {},
   "outputs": [
    {
     "name": "stdout",
     "output_type": "stream",
     "text": [
      "Epoch 1/30\n",
      "Epoch 2/30\n",
      "Epoch 3/30\n",
      "Epoch 4/30\n",
      "Epoch 5/30\n",
      "Epoch 6/30\n",
      "Epoch 7/30\n",
      "Epoch 8/30\n",
      "Epoch 9/30\n",
      "Epoch 10/30\n",
      "Epoch 11/30\n",
      "Epoch 12/30\n",
      "Epoch 13/30\n",
      "Epoch 14/30\n",
      "Epoch 15/30\n",
      "Epoch 16/30\n",
      "Epoch 17/30\n",
      "Epoch 18/30\n",
      "Epoch 19/30\n",
      "Epoch 20/30\n",
      "Epoch 21/30\n",
      "Epoch 22/30\n",
      "Epoch 23/30\n",
      "Epoch 24/30\n",
      "Epoch 25/30\n",
      "Epoch 26/30\n",
      "Epoch 27/30\n",
      "Epoch 28/30\n",
      "Epoch 29/30\n",
      "Epoch 30/30\n",
      "Test Loss: 1.2257025241851807\n",
      "Test Accuracy: 0.6000000238418579\n"
     ]
    }
   ],
   "source": [
    "# Conversión de las listas a arreglos de NumPy para un manejo más eficiente\n",
    "y_train_np = np.array(y_train)\n",
    "X_train_np = np.array(X_train)\n",
    "y_test_np = np.array(y_test)\n",
    "X_test_np = np.array(X_test)\n",
    "\n",
    "# Codificación one-hot de las etiquetas de salida (y_train y y_test)\n",
    "# Convertimos cada etiqueta categórica en un vector binario\n",
    "y_train_onehot = to_categorical(y_train_np, num_classes=4)\n",
    "y_test_onehot = to_categorical(y_test_np, num_classes=4)\n",
    "\n",
    "# Entrenamiento del modelo utilizando el método fit\n",
    "# Se proporcionan los datos de entrenamiento, tamaño del batch, número de épocas y porcentaje de datos para validación\n",
    "history = model.fit(X_train_np, y_train_onehot, batch_size=10, epochs=30, verbose=3, validation_split=0.2)\n",
    "\n",
    "# Evaluación del modelo en el conjunto de prueba\n",
    "# Se obtienen la pérdida y precisión del modelo\n",
    "score = model.evaluate(X_test_np, y_test_onehot, verbose=3)\n",
    "\n",
    "# Impresión de la pérdida y precisión del modelo en el conjunto de prueba\n",
    "print(\"Test Loss:\", score[0])\n",
    "print(\"Test Accuracy:\", score[1])\n"
   ]
  },
  {
   "cell_type": "code",
   "execution_count": null,
   "metadata": {},
   "outputs": [
    {
     "data": {
      "image/png": "[encoded data removed]",
      "text/plain": [
       "<Figure size 640x480 with 1 Axes>"
      ]
     },
     "metadata": {},
     "output_type": "display_data"
    },
    {
     "data": {
      "image/png": "[encoded data removed]",
      "text/plain": [
       "<Figure size 640x480 with 1 Axes>"
      ]
     },
     "metadata": {},
     "output_type": "display_data"
    }
   ],
   "source": [
    "# Gráfico de la precisión del modelo durante el entrenamiento\n",
    "plt.plot(history.history['acc'])  # Precisión en el conjunto de entrenamiento\n",
    "plt.plot(history.history['val_acc'])  # Precisión en el conjunto de validación\n",
    "\n",
    "# Título y etiquetas del gráfico\n",
    "plt.title('Precisión del modelo')\n",
    "plt.ylabel('Precisión')\n",
    "plt.xlabel('Época')\n",
    "# Leyenda ubicada en la esquina superior izquierda\n",
    "plt.legend(['Entrenamiento','Validación'], loc='upper left')\n",
    "# Mostrar el gráfico\n",
    "plt.show()\n",
    "\n",
    "# Gráfico de la pérdida del modelo durante el entrenamiento\n",
    "plt.plot(history.history['loss'])  # Pérdida en el conjunto de entrenamiento\n",
    "plt.plot(history.history['val_loss'])  # Pérdida en el conjunto de validación\n",
    "\n",
    "# Título y etiquetas del gráfico\n",
    "plt.title('Pérdida del modelo')\n",
    "plt.ylabel('Pérdida')\n",
    "plt.xlabel('Época')\n",
    "# Leyenda ubicada en la esquina superior izquierda\n",
    "plt.legend(['Entrenamiento','Validación'], loc='upper left')\n",
    "# Mostrar el gráfico\n",
    "plt.show()\n"
   ]
  }
 ],
 "metadata": {
  "kernelspec": {
   "display_name": "mauPLN",
   "language": "python",
   "name": "python3"
  },
  "language_info": {
   "codemirror_mode": {
    "name": "ipython",
    "version": 3
   },
   "file_extension": ".py",
   "mimetype": "text/x-python",
   "name": "python",
   "nbconvert_exporter": "python",
   "pygments_lexer": "ipython3",
   "version": "3.9.18"
  }
 },
 "nbformat": 4,
 "nbformat_minor": 2
}
