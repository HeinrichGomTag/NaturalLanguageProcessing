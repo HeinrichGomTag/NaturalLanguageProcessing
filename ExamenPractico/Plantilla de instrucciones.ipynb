{
 "cells": [
  {
   "cell_type": "markdown",
   "metadata": {},
   "source": [
    "# Plantilla de desarrollo para primer examen parcial"
   ]
  },
  {
   "cell_type": "markdown",
   "metadata": {},
   "source": [
    "**Pautas:**\n",
    "- La presente plantilla es un EJEMPLO de cómo ordenar el código de tu examen\n",
    "- Tienes la libertad DE AGREGAR todos los métodos y secciones en el examen que consideres necesarias\n",
    "- Realizar el desarrollo por medio de métodos, por ejemplo, ReadInfo(), TrainModel(), etc \n",
    "- Los métodos deberán de estar lo mas claro y modularizados que sea posible\n",
    "- Realizar la documentación de cada método por medio de comentarios y DocStrings \n",
    "- Deberás de utilizar un modelo de ML o algún ensamble de os mismos (SVC, DT, NB, KNN, etc)\n",
    "- Recuerda que puedes usar un split de los datos para entrenamiento y validación\n",
    "- Puedes revisar la documentación de Sklearn, o la librría que decidas utilizar para entender los parámetros de entrenamiento de los modelos\n",
    "- NO está permitido el uso de modelos de Deep Learning (DNN, CNN, LSTM, etc.) NI el uso de embeddings"
   ]
  },
  {
   "cell_type": "markdown",
   "metadata": {},
   "source": [
    "## Librerías a utilizar"
   ]
  },
  {
   "cell_type": "code",
   "execution_count": 7,
   "metadata": {},
   "outputs": [],
   "source": [
    "# Inserta lo que consideres necesario aquí, por ejemplo\n",
    "def Preprocess(df):\n",
    "    \"\"\"Método para preprocesar el texto\n",
    "\n",
    "    Args:\n",
    "        df (dataframe): Dataframe a aplicar transformaciones\n",
    "\n",
    "    Returns:\n",
    "        dataframe: Dataframe transformado\n",
    "    \"\"\"\n",
    "    df['title'] = df['title'].apply(lambda x: x.lower())\n",
    "    return df "
   ]
  },
  {
   "cell_type": "markdown",
   "metadata": {},
   "source": [
    "## Entrenamiento del modelo"
   ]
  },
  {
   "cell_type": "code",
   "execution_count": 13,
   "metadata": {},
   "outputs": [],
   "source": [
    "# Todo lo que necesites para entrenar tu modelo\n",
    "\n",
    "count_vect = CountVectorizer()\n",
    "model = LinearSVC()\n",
    "\n",
    "\n",
    "def TrainModel(X, y):\n",
    "    \"\"\"Este método realiza el entrenamiento del modelo (Ejemplo)\n",
    "\n",
    "    Args:\n",
    "        X (list): Lista con los textos a transformar\n",
    "        y (list): Lista con los valores de y (Salida)\n",
    "\n",
    "    Returns:\n",
    "        model: Modelo entrenado\n",
    "    \"\"\"\n",
    "    model.fit(X, y)\n",
    "    return model"
   ]
  },
  {
   "cell_type": "markdown",
   "metadata": {},
   "source": [
    "## Validación del modelo"
   ]
  },
  {
   "cell_type": "code",
   "execution_count": 14,
   "metadata": {},
   "outputs": [],
   "source": [
    "def ValidateModel(Y_test, Predicciones):\n",
    "    # Impresión de matriz de confusión\n",
    "    # print(\"Matriz de confusión:\")\n",
    "    # print(confusion_matrix(Y_test, Predicciones))\n",
    "\n",
    "    # Impresión de procentaje de Accuracy del modelo\n",
    "    print(\"\\nAccuracy del modelo: \")\n",
    "    print(metrics.accuracy_score(Y_test, Predicciones))\n",
    "\n",
    "    # Impresión de las métricas para el modelo\n",
    "    print(\"\\nMétricas de evaluación:\")\n",
    "    print(classification_report(Y_test, Predicciones))"
   ]
  },
  {
   "cell_type": "markdown",
   "metadata": {},
   "source": [
    "## Pipeline de todo el proceso"
   ]
  },
  {
   "cell_type": "code",
   "execution_count": 10,
   "metadata": {},
   "outputs": [
    {
     "name": "stdout",
     "output_type": "stream",
     "text": [
      "Elementos en el DataSet: 16823\n"
     ]
    },
    {
     "name": "stderr",
     "output_type": "stream",
     "text": [
      "/Users/mascenci/anaconda3/envs/mauPLN/lib/python3.9/site-packages/sklearn/svm/_classes.py:32: FutureWarning: The default value of `dual` will change from `True` to `'auto'` in 1.5. Set the value of `dual` explicitly to suppress the warning.\n",
      "  warnings.warn(\n"
     ]
    },
    {
     "name": "stdout",
     "output_type": "stream",
     "text": [
      "\n",
      "Accuracy del modelo: \n",
      "0.7601783060921248\n",
      "\n",
      "Métricas de evaluación:\n",
      "              precision    recall  f1-score   support\n",
      "\n",
      "   clickbait       0.41      0.34      0.37       702\n",
      "        news       0.83      0.87      0.85      2663\n",
      "\n",
      "    accuracy                           0.76      3365\n",
      "   macro avg       0.62      0.61      0.61      3365\n",
      "weighted avg       0.75      0.76      0.75      3365\n",
      "\n"
     ]
    },
    {
     "name": "stderr",
     "output_type": "stream",
     "text": [
      "/Users/mascenci/anaconda3/envs/mauPLN/lib/python3.9/site-packages/sklearn/svm/_base.py:1242: ConvergenceWarning: Liblinear failed to converge, increase the number of iterations.\n",
      "  warnings.warn(\n"
     ]
    }
   ],
   "source": [
    "# Cargamos la información y creamos un DataFrame\n",
    "path = 'DataSet para entrenamiento del modelo.csv'\n",
    "df = ReadCorpus(path)\n",
    "\n",
    "# Preprocesamiento\n",
    "df_pre = Preprocess(df)\n",
    "\n",
    "# Lectura y split de los datos\n",
    "X = df_pre['title'].values.tolist()\n",
    "y = df_pre['label'].values.tolist()\n",
    "\n",
    "X = count_vect.fit_transform(X)\n",
    "X_train, X_test, y_train, y_test = train_test_split(X, y, test_size = 0.2)\n",
    "\n",
    "model = TrainModel(X_train, y_train)\n",
    "\n",
    "# Impresión de métricas\n",
    "Predicciones = model.predict(X_test)\n",
    "ValidateModel(y_test, Predicciones)\n",
    "\n"
   ]
  },
  {
   "cell_type": "markdown",
   "metadata": {},
   "source": [
    "## Guardado de modelo"
   ]
  },
  {
   "cell_type": "code",
   "execution_count": 11,
   "metadata": {},
   "outputs": [],
   "source": [
    "# Pickle para guardar modelos\n",
    "import pickle\n",
    "\n",
    "filename = \"model_Nombre_chido.pickle\"\n",
    "\n",
    "# Guardar el modelo\n",
    "pickle.dump(model, open(filename, \"wb\"))\n"
   ]
  },
  {
   "cell_type": "markdown",
   "metadata": {},
   "source": [
    "## Prueba del modelo (Parte mas importante)"
   ]
  },
  {
   "cell_type": "code",
   "execution_count": 12,
   "metadata": {},
   "outputs": [
    {
     "ename": "TypeError",
     "evalue": "Pipeline() missing 1 required positional argument: 'model'",
     "output_type": "error",
     "traceback": [
      "\u001b[0;31m---------------------------------------------------------------------------\u001b[0m",
      "\u001b[0;31mTypeError\u001b[0m                                 Traceback (most recent call last)",
      "\u001b[1;32m/Users/mascenci/Desktop/NaturalLanguageProcessing/ExamenPractico/Plantilla de instrucciones.ipynb Cell 14\u001b[0m line \u001b[0;36m2\n\u001b[1;32m     <a href='vscode-notebook-cell:/Users/mascenci/Desktop/NaturalLanguageProcessing/ExamenPractico/Plantilla%20de%20instrucciones.ipynb#X25sZmlsZQ%3D%3D?line=21'>22</a>\u001b[0m \u001b[39m# Prueba para calificación del examen\u001b[39;00m\n\u001b[1;32m     <a href='vscode-notebook-cell:/Users/mascenci/Desktop/NaturalLanguageProcessing/ExamenPractico/Plantilla%20de%20instrucciones.ipynb#X25sZmlsZQ%3D%3D?line=22'>23</a>\u001b[0m input_file \u001b[39m=\u001b[39m \u001b[39m'\u001b[39m\u001b[39mDataSetClickBait.csv\u001b[39m\u001b[39m'\u001b[39m\n\u001b[0;32m---> <a href='vscode-notebook-cell:/Users/mascenci/Desktop/NaturalLanguageProcessing/ExamenPractico/Plantilla%20de%20instrucciones.ipynb#X25sZmlsZQ%3D%3D?line=23'>24</a>\u001b[0m Pipeline(input_file)\n",
      "\u001b[0;31mTypeError\u001b[0m: Pipeline() missing 1 required positional argument: 'model'"
     ]
    }
   ],
   "source": [
    "def Pipeline(input_file, model):\n",
    "    # Cargamos la información y creamos un DataFrame\n",
    "    df = ReadCorpus(path)\n",
    "\n",
    "    # Preprocesamiento\n",
    "    df_pre = Preprocess(df)\n",
    "\n",
    "    # Lectura y split de los datos\n",
    "    X = df_pre['title'].values.tolist()\n",
    "    y = df_pre['label'].values.tolist()\n",
    "\n",
    "    X = count_vect.fit_transform(X)\n",
    "    X_train, X_test, y_train, y_test = train_test_split(X, y, test_size = 0.2)\n",
    "\n",
    "    model = TrainModel(X_train, y_train)\n",
    "\n",
    "    # Impresión de métricas\n",
    "    Predicciones = model.predict(X_test)\n",
    "    ValidateModel(y_test, Predicciones)\n",
    "\n",
    "\n",
    "# Prueba para calificación del examen\n",
    "input_file = 'DataSetClickBait.csv'\n",
    "Pipeline(input_file)"
   ]
  }
 ],
 "metadata": {
  "kernelspec": {
   "display_name": "nlp_up",
   "language": "python",
   "name": "python3"
  },
  "language_info": {
   "codemirror_mode": {
    "name": "ipython",
    "version": 3
   },
   "file_extension": ".py",
   "mimetype": "text/x-python",
   "name": "python",
   "nbconvert_exporter": "python",
   "pygments_lexer": "ipython3",
   "version": "3.9.17"
  },
  "orig_nbformat": 4
 },
 "nbformat": 4,
 "nbformat_minor": 2
}
