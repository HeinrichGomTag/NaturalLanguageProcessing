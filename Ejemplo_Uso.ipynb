{
 "cells": [
  {
   "cell_type": "code",
   "execution_count": 1,
   "id": "58646b6352b4e9a2",
   "metadata": {
    "ExecuteTime": {
     "end_time": "2023-08-09T18:19:07.666713Z",
     "start_time": "2023-08-09T18:18:08.524222Z"
    },
    "collapsed": false,
    "execution": {
     "iopub.execute_input": "2023-08-09T18:55:12.535663Z",
     "iopub.status.busy": "2023-08-09T18:55:12.535346Z",
     "iopub.status.idle": "2023-08-09T18:55:33.490863Z",
     "shell.execute_reply": "2023-08-09T18:55:33.490087Z"
    }
   },
   "outputs": [
    {
     "name": "stdout",
     "output_type": "stream",
     "text": [
      "Collecting es-core-news-sm==3.5.0\r\n",
      "  Downloading https://github.com/explosion/spacy-models/releases/download/es_core_news_sm-3.5.0/es_core_news_sm-3.5.0-py3-none-any.whl (12.9 MB)\r\n",
      "\u001b[2K     \u001b[38;2;114;156;31m━━━━━━━━━━━━━━━━━━━━━━━━━━━━━━━━━━━━━━━\u001b[0m \u001b[32m12.9/12.9 MB\u001b[0m \u001b[31m646.4 kB/s\u001b[0m eta \u001b[36m0:00:00\u001b[0m\r\n",
      "\u001b[?25hRequirement already satisfied: spacy<3.6.0,>=3.5.0 in /Users/kikin/anaconda3/envs/NLP/lib/python3.9/site-packages (from es-core-news-sm==3.5.0) (3.5.3)\r\n",
      "Requirement already satisfied: spacy-legacy<3.1.0,>=3.0.11 in /Users/kikin/anaconda3/envs/NLP/lib/python3.9/site-packages (from spacy<3.6.0,>=3.5.0->es-core-news-sm==3.5.0) (3.0.12)\r\n",
      "Requirement already satisfied: spacy-loggers<2.0.0,>=1.0.0 in /Users/kikin/anaconda3/envs/NLP/lib/python3.9/site-packages (from spacy<3.6.0,>=3.5.0->es-core-news-sm==3.5.0) (1.0.4)\r\n",
      "Requirement already satisfied: murmurhash<1.1.0,>=0.28.0 in /Users/kikin/anaconda3/envs/NLP/lib/python3.9/site-packages (from spacy<3.6.0,>=3.5.0->es-core-news-sm==3.5.0) (1.0.7)\r\n",
      "Requirement already satisfied: cymem<2.1.0,>=2.0.2 in /Users/kikin/anaconda3/envs/NLP/lib/python3.9/site-packages (from spacy<3.6.0,>=3.5.0->es-core-news-sm==3.5.0) (2.0.6)\r\n",
      "Requirement already satisfied: preshed<3.1.0,>=3.0.2 in /Users/kikin/anaconda3/envs/NLP/lib/python3.9/site-packages (from spacy<3.6.0,>=3.5.0->es-core-news-sm==3.5.0) (3.0.6)\r\n",
      "Requirement already satisfied: thinc<8.2.0,>=8.1.8 in /Users/kikin/anaconda3/envs/NLP/lib/python3.9/site-packages (from spacy<3.6.0,>=3.5.0->es-core-news-sm==3.5.0) (8.1.10)\r\n",
      "Requirement already satisfied: wasabi<1.2.0,>=0.9.1 in /Users/kikin/anaconda3/envs/NLP/lib/python3.9/site-packages (from spacy<3.6.0,>=3.5.0->es-core-news-sm==3.5.0) (0.9.1)\r\n",
      "Requirement already satisfied: srsly<3.0.0,>=2.4.3 in /Users/kikin/anaconda3/envs/NLP/lib/python3.9/site-packages (from spacy<3.6.0,>=3.5.0->es-core-news-sm==3.5.0) (2.4.6)\r\n",
      "Requirement already satisfied: catalogue<2.1.0,>=2.0.6 in /Users/kikin/anaconda3/envs/NLP/lib/python3.9/site-packages (from spacy<3.6.0,>=3.5.0->es-core-news-sm==3.5.0) (2.0.7)\r\n",
      "Requirement already satisfied: typer<0.8.0,>=0.3.0 in /Users/kikin/anaconda3/envs/NLP/lib/python3.9/site-packages (from spacy<3.6.0,>=3.5.0->es-core-news-sm==3.5.0) (0.4.1)\r\n",
      "Requirement already satisfied: pathy>=0.10.0 in /Users/kikin/anaconda3/envs/NLP/lib/python3.9/site-packages (from spacy<3.6.0,>=3.5.0->es-core-news-sm==3.5.0) (0.10.1)\r\n",
      "Requirement already satisfied: smart-open<7.0.0,>=5.2.1 in /Users/kikin/anaconda3/envs/NLP/lib/python3.9/site-packages (from spacy<3.6.0,>=3.5.0->es-core-news-sm==3.5.0) (5.2.1)\r\n",
      "Requirement already satisfied: tqdm<5.0.0,>=4.38.0 in /Users/kikin/anaconda3/envs/NLP/lib/python3.9/site-packages (from spacy<3.6.0,>=3.5.0->es-core-news-sm==3.5.0) (4.65.0)\r\n",
      "Requirement already satisfied: numpy>=1.15.0 in /Users/kikin/anaconda3/envs/NLP/lib/python3.9/site-packages (from spacy<3.6.0,>=3.5.0->es-core-news-sm==3.5.0) (1.23.5)\r\n",
      "Requirement already satisfied: requests<3.0.0,>=2.13.0 in /Users/kikin/anaconda3/envs/NLP/lib/python3.9/site-packages (from spacy<3.6.0,>=3.5.0->es-core-news-sm==3.5.0) (2.31.0)\r\n",
      "Requirement already satisfied: pydantic!=1.8,!=1.8.1,<1.11.0,>=1.7.4 in /Users/kikin/anaconda3/envs/NLP/lib/python3.9/site-packages (from spacy<3.6.0,>=3.5.0->es-core-news-sm==3.5.0) (1.10.8)\r\n",
      "Requirement already satisfied: jinja2 in /Users/kikin/anaconda3/envs/NLP/lib/python3.9/site-packages (from spacy<3.6.0,>=3.5.0->es-core-news-sm==3.5.0) (3.1.2)\r\n",
      "Requirement already satisfied: setuptools in /Users/kikin/anaconda3/envs/NLP/lib/python3.9/site-packages (from spacy<3.6.0,>=3.5.0->es-core-news-sm==3.5.0) (68.0.0)\r\n",
      "Requirement already satisfied: packaging>=20.0 in /Users/kikin/anaconda3/envs/NLP/lib/python3.9/site-packages (from spacy<3.6.0,>=3.5.0->es-core-news-sm==3.5.0) (23.0)\r\n",
      "Requirement already satisfied: langcodes<4.0.0,>=3.2.0 in /Users/kikin/anaconda3/envs/NLP/lib/python3.9/site-packages (from spacy<3.6.0,>=3.5.0->es-core-news-sm==3.5.0) (3.3.0)\r\n",
      "Requirement already satisfied: typing-extensions>=4.2.0 in /Users/kikin/anaconda3/envs/NLP/lib/python3.9/site-packages (from pydantic!=1.8,!=1.8.1,<1.11.0,>=1.7.4->spacy<3.6.0,>=3.5.0->es-core-news-sm==3.5.0) (4.7.1)\r\n",
      "Requirement already satisfied: charset-normalizer<4,>=2 in /Users/kikin/anaconda3/envs/NLP/lib/python3.9/site-packages (from requests<3.0.0,>=2.13.0->spacy<3.6.0,>=3.5.0->es-core-news-sm==3.5.0) (2.0.4)\r\n",
      "Requirement already satisfied: idna<4,>=2.5 in /Users/kikin/anaconda3/envs/NLP/lib/python3.9/site-packages (from requests<3.0.0,>=2.13.0->spacy<3.6.0,>=3.5.0->es-core-news-sm==3.5.0) (3.4)\r\n",
      "Requirement already satisfied: urllib3<3,>=1.21.1 in /Users/kikin/anaconda3/envs/NLP/lib/python3.9/site-packages (from requests<3.0.0,>=2.13.0->spacy<3.6.0,>=3.5.0->es-core-news-sm==3.5.0) (1.26.16)\r\n",
      "Requirement already satisfied: certifi>=2017.4.17 in /Users/kikin/anaconda3/envs/NLP/lib/python3.9/site-packages (from requests<3.0.0,>=2.13.0->spacy<3.6.0,>=3.5.0->es-core-news-sm==3.5.0) (2023.7.22)\r\n",
      "Requirement already satisfied: blis<0.8.0,>=0.7.8 in /Users/kikin/anaconda3/envs/NLP/lib/python3.9/site-packages (from thinc<8.2.0,>=8.1.8->spacy<3.6.0,>=3.5.0->es-core-news-sm==3.5.0) (0.7.9)\r\n",
      "Requirement already satisfied: confection<1.0.0,>=0.0.1 in /Users/kikin/anaconda3/envs/NLP/lib/python3.9/site-packages (from thinc<8.2.0,>=8.1.8->spacy<3.6.0,>=3.5.0->es-core-news-sm==3.5.0) (0.0.4)\r\n",
      "Requirement already satisfied: click<9.0.0,>=7.1.1 in /Users/kikin/anaconda3/envs/NLP/lib/python3.9/site-packages (from typer<0.8.0,>=0.3.0->spacy<3.6.0,>=3.5.0->es-core-news-sm==3.5.0) (8.0.4)\r\n",
      "Requirement already satisfied: MarkupSafe>=2.0 in /Users/kikin/anaconda3/envs/NLP/lib/python3.9/site-packages (from jinja2->spacy<3.6.0,>=3.5.0->es-core-news-sm==3.5.0) (2.1.1)\r\n",
      "\u001b[38;5;2m✔ Download and installation successful\u001b[0m\r\n",
      "You can now load the package via spacy.load('es_core_news_sm')\r\n"
     ]
    }
   ],
   "source": [
    "!python -m spacy download es_core_news_sm"
   ]
  },
  {
   "cell_type": "code",
   "execution_count": 2,
   "id": "initial_id",
   "metadata": {
    "ExecuteTime": {
     "end_time": "2023-08-09T18:21:00.058543Z",
     "start_time": "2023-08-09T18:20:59.806339Z"
    },
    "collapsed": false,
    "execution": {
     "iopub.execute_input": "2023-08-09T18:55:33.494611Z",
     "iopub.status.busy": "2023-08-09T18:55:33.494362Z",
     "iopub.status.idle": "2023-08-09T18:55:35.290786Z",
     "shell.execute_reply": "2023-08-09T18:55:35.290534Z"
    }
   },
   "outputs": [
    {
     "name": "stdout",
     "output_type": "stream",
     "text": [
      "Texto: Si\n",
      "PoS: SCONJ\n",
      "Lemma: si\n",
      "\n",
      "\n",
      "Texto: no\n",
      "PoS: ADV\n",
      "Lemma: no\n",
      "\n",
      "\n",
      "Texto: sabes\n",
      "PoS: VERB\n",
      "Lemma: saber\n",
      "\n",
      "\n",
      "Texto: exactamente\n",
      "PoS: ADV\n",
      "Lemma: exactamente\n",
      "\n",
      "\n",
      "Texto: a\n",
      "PoS: ADP\n",
      "Lemma: a\n",
      "\n",
      "\n",
      "Texto: dónde\n",
      "PoS: PRON\n",
      "Lemma: dónde\n",
      "\n",
      "\n",
      "Texto: quieres\n",
      "PoS: VERB\n",
      "Lemma: querer\n",
      "\n",
      "\n",
      "Texto: ir\n",
      "PoS: VERB\n",
      "Lemma: ir\n",
      "\n",
      "\n",
      "Texto: ,\n",
      "PoS: PUNCT\n",
      "Lemma: ,\n",
      "\n",
      "\n",
      "Texto: entonces\n",
      "PoS: ADV\n",
      "Lemma: entonces\n",
      "\n",
      "\n",
      "Texto: ,\n",
      "PoS: PUNCT\n",
      "Lemma: ,\n",
      "\n",
      "\n",
      "Texto: realmente\n",
      "PoS: ADV\n",
      "Lemma: realmente\n",
      "\n",
      "\n",
      "Texto: no\n",
      "PoS: ADV\n",
      "Lemma: no\n",
      "\n",
      "\n",
      "Texto: importa\n",
      "PoS: VERB\n",
      "Lemma: importar\n",
      "\n",
      "\n",
      "Texto: cuál\n",
      "PoS: PRON\n",
      "Lemma: cuál\n",
      "\n",
      "\n",
      "Texto: camino\n",
      "PoS: NOUN\n",
      "Lemma: camino\n",
      "\n",
      "\n",
      "Texto: elijas\n",
      "PoS: ADJ\n",
      "Lemma: elija\n",
      "\n",
      "\n"
     ]
    }
   ],
   "source": [
    "#Importamos Spacy y descargamos el nucleo de trabajo en Español\n",
    "import spacy\n",
    "\n",
    "core_esp = spacy.load(\"es_core_news_sm\")\n",
    "\n",
    "#core_esp se convierte en un método que Tokeniza el texto dentro\n",
    "Texto = core_esp(u\"Si no sabes exactamente a dónde quieres ir, entonces, realmente no importa cuál camino elijas\")\n",
    "\n",
    "for token in Texto:\n",
    "    print(\"Texto:\", token.text) #.text extrae el texto del token\n",
    "    print(\"PoS:\", token.pos_) #.pos_ extrae el part of speech\n",
    "    print(\"Lemma:\", token.lemma_) #.lemma_ extrae la lematización\n",
    "    print(\"\\n\")"
   ]
  },
  {
   "cell_type": "code",
   "execution_count": 3,
   "id": "45390e9fd74a11cf",
   "metadata": {
    "ExecuteTime": {
     "end_time": "2023-08-09T18:51:19.756419Z",
     "start_time": "2023-08-09T18:51:19.551839Z"
    },
    "collapsed": false,
    "execution": {
     "iopub.execute_input": "2023-08-09T18:55:35.292371Z",
     "iopub.status.busy": "2023-08-09T18:55:35.292164Z",
     "iopub.status.idle": "2023-08-09T18:55:35.442460Z",
     "shell.execute_reply": "2023-08-09T18:55:35.442208Z"
    }
   },
   "outputs": [
    {
     "name": "stdout",
     "output_type": "stream",
     "text": [
      "Trabalenguas: Cuando cuentes cuentos cuenta cuantos cuentos cuentas, así, sabrás cuantos cuentos contaste\n",
      "Cantidad de palabras: 14\n",
      "Cantidad de lemas: 10\n",
      "Dificultad: 0.7142857142857143\n",
      "\n",
      " ------------------\n",
      "Trabalenguas: Un trabalengüista muy trabalenguado creó un trabalenguas muy trabalenguoso ni el mejor trabalengüista ni el más trabalenguado pudo trabalengüear aquel trabalenguas tan trabalenguoso\n",
      "Cantidad de palabras: 23\n",
      "Cantidad de lemas: 15\n",
      "Dificultad: 0.6521739130434783\n",
      "\n",
      " ------------------\n",
      "Trabalenguas: Hay suecos en Suiza y hay suizos en Suecia, pero hay más suizos en Suiza que suizos en Suecia, y más suecos en Suecia que suecos en Suiza\n",
      "Cantidad de palabras: 30\n",
      "Cantidad de lemas: 11\n",
      "Dificultad: 0.36666666666666664\n",
      "\n",
      " ------------------\n",
      "Trabalenguas: Si mi gusto gustara del gusto que gusta a mi gusto. Tu gusto gustaría del gusto que gusta mi gusto. Pero como tu gusto no gusta del gusto que gusta a mi gusto. Mi gusto no gusta del gusto que gusta a tu gusto\n",
      "Cantidad de palabras: 47\n",
      "Cantidad de lemas: 13\n",
      "Dificultad: 0.2765957446808511\n",
      "\n",
      " ------------------\n",
      "\n",
      " -----------------------\n",
      " \u001b[36m El trabalenguas MÁS DIFÍCIL es:\u001b[0m Si mi gusto gustara del gusto que gusta a mi gusto. Tu gusto gustaría del gusto que gusta mi gusto. Pero como tu gusto no gusta del gusto que gusta a mi gusto. Mi gusto no gusta del gusto que gusta a tu gusto con --> \u001b[91m \u001b[1m 0.2765957446808511 \u001b[0m de dificultad.\n"
     ]
    }
   ],
   "source": [
    "# Ejemplo\n",
    "# De los trabalenguas siguientes, determinar e imprimir cuál de ellos es más difícil de pronunciar (basado en el siguiente criterio Dificultad = Cantidad_de_Lemmas_Diferentes / Cantidad_de_palabras_en_la_frase)\n",
    "# El valor más bajo de este resultado, representará una dificultad más alta, y el valor más alto, representará una má baja.\n",
    "\n",
    "# Pista: Puedes obtener la cantidad de lemmas diferentes si los escribes en una lista y evalúas la cantidad de elementos diferentes, o si preguntas si el elemento ya existe, antes de escribirlo.\n",
    "import spacy\n",
    "core_esp = spacy.load(\"es_core_news_sm\")\n",
    "trabs = []\n",
    "trab1 = core_esp(u\"Cuando cuentes cuentos cuenta cuantos cuentos cuentas, así, sabrás cuantos cuentos contaste\")\n",
    "trabs.append(trab1)\n",
    "\n",
    "trab2 = core_esp(u\"Un trabalengüista muy trabalenguado creó un trabalenguas muy trabalenguoso ni el mejor trabalengüista ni el más trabalenguado pudo trabalengüear aquel trabalenguas tan trabalenguoso\")\n",
    "trabs.append(trab2)\n",
    "\n",
    "trab3 = core_esp(u\"Hay suecos en Suiza y hay suizos en Suecia, pero hay más suizos en Suiza que suizos en Suecia, y más suecos en Suecia que suecos en Suiza\")\n",
    "trabs.append(trab3)\n",
    "\n",
    "trab4 = core_esp(u\"Si mi gusto gustara del gusto que gusta a mi gusto. Tu gusto gustaría del gusto que gusta mi gusto. Pero como tu gusto no gusta del gusto que gusta a mi gusto. Mi gusto no gusta del gusto que gusta a tu gusto\")\n",
    "trabs.append(trab4)\n",
    "dificultades = []\n",
    "for trab in trabs:\n",
    "    i = 0\n",
    "    print(\"Trabalenguas:\", trab)\n",
    "    for token in trab:\n",
    "        i+=1\n",
    "    print(\"Cantidad de palabras:\", i)\n",
    "    lemas = {}\n",
    "    for palabra in trab:\n",
    "        # print(\"Palabra:\", word.text)\n",
    "        # print(\"PoS:\", word.pos_)\n",
    "        # print(\"Lemma:\", word.lemma_)\n",
    "        # print(\"\\n\")\n",
    "        # Create a dictionaru with each lema and its frequency\n",
    "        if palabra.lemma_ not in lemas:\n",
    "            lemas[palabra.lemma_] = 1\n",
    "        else:\n",
    "            lemas[palabra.lemma_] += 1\n",
    "            \n",
    "    print(\"Cantidad de lemas:\", len(lemas))\n",
    "    print(\"Dificultad:\", len(lemas)/i)\n",
    "    print(\"\\n ------------------\")\n",
    "    # Save difficulty in a list\n",
    "    dificultades.append(len(lemas)/i)\n",
    "# Print the most difficult tongue twister and it difficulty value\n",
    "print(\"\\n -----------------------\\n \\033[36m El trabalenguas MÁS DIFÍCIL es:\\033[0m\", trabs[dificultades.index(min(dificultades))], \"con --> \\033[91m \\033[1m\", (min(dificultades)), \"\\033[0m de dificultad.\")\n"
   ]
  },
  {
   "cell_type": "code",
   "execution_count": null,
   "id": "1e07125035c4695a",
   "metadata": {
    "collapsed": false
   },
   "outputs": [],
   "source": []
  }
 ],
 "metadata": {
  "kernelspec": {
   "display_name": "Python 3 (ipykernel)",
   "language": "python",
   "name": "python3"
  },
  "language_info": {
   "codemirror_mode": {
    "name": "ipython",
    "version": 3
   },
   "file_extension": ".py",
   "mimetype": "text/x-python",
   "name": "python",
   "nbconvert_exporter": "python",
   "pygments_lexer": "ipython3",
   "version": "3.9.17"
  }
 },
 "nbformat": 4,
 "nbformat_minor": 5
}
