{
 "cells": [
  {
   "cell_type": "code",
   "execution_count": 2,
   "id": "6c42fd32",
   "metadata": {},
   "outputs": [],
   "source": [
    "from spacy import displacy\n",
    "import spacy\n",
    "pln_es = spacy.load(\"es_core_news_sm\")\n",
    "\n",
    "Texto = pln_es(u\"¡Este es el hola mundo del Procesamiento de Lenguaje Natural. Universidad Panamericana\")\n",
    "displacy.render(Texto, style='ent', jupyter=True, optio)"
   ]
  }
 ],
 "metadata": {
  "kernelspec": {
   "display_name": "Python 3 (ipykernel)",
   "language": "python",
   "name": "python3"
  },
  "language_info": {
   "codemirror_mode": {
    "name": "ipython",
    "version": 3
   },
   "file_extension": ".py",
   "mimetype": "text/x-python",
   "name": "python",
   "nbconvert_exporter": "python",
   "pygments_lexer": "ipython3",
   "version": "3.11.3"
  }
 },
 "nbformat": 4,
 "nbformat_minor": 5
}
