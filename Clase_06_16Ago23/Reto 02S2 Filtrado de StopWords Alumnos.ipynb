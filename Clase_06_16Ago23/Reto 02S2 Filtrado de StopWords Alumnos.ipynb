{
 "cells": [
  {
   "cell_type": "markdown",
   "metadata": {
    "id": "GC4JSh43njBM"
   },
   "source": [
    "# Filtrado de StopWords"
   ]
  },
  {
   "cell_type": "code",
   "execution_count": 3,
   "metadata": {
    "id": "7qZxrTO1njBQ"
   },
   "outputs": [],
   "source": [
    "# Importar librerías de NLTK\n",
    "from nltk.tokenize import RegexpTokenizer\n",
    "from nltk.tokenize.treebank import TreebankWordDetokenizer\n",
    "from nltk.corpus import stopwords"
   ]
  },
  {
   "cell_type": "code",
   "execution_count": 5,
   "metadata": {
    "id": "jsenLaSAnjBe"
   },
   "outputs": [
    {
     "name": "stdout",
     "output_type": "stream",
     "text": [
      "['de', 'la', 'que', 'el', 'en', 'y', 'a', 'los', 'del', 'se', 'las', 'por', 'un', 'para', 'con', 'no', 'una', 'su', 'al', 'lo', 'como', 'más', 'pero', 'sus', 'le', 'ya', 'o', 'este', 'sí', 'porque', 'esta', 'entre', 'cuando', 'muy', 'sin', 'sobre', 'también', 'me', 'hasta', 'hay', 'donde', 'quien', 'desde', 'todo', 'nos', 'durante', 'todos', 'uno', 'les', 'ni', 'contra', 'otros', 'ese', 'eso', 'ante', 'ellos', 'e', 'esto', 'mí', 'antes', 'algunos', 'qué', 'unos', 'yo', 'otro', 'otras', 'otra', 'él', 'tanto', 'esa', 'estos', 'mucho', 'quienes', 'nada', 'muchos', 'cual', 'poco', 'ella', 'estar', 'estas', 'algunas', 'algo', 'nosotros', 'mi', 'mis', 'tú', 'te', 'ti', 'tu', 'tus', 'ellas', 'nosotras', 'vosotros', 'vosotras', 'os', 'mío', 'mía', 'míos', 'mías', 'tuyo', 'tuya', 'tuyos', 'tuyas', 'suyo', 'suya', 'suyos', 'suyas', 'nuestro', 'nuestra', 'nuestros', 'nuestras', 'vuestro', 'vuestra', 'vuestros', 'vuestras', 'esos', 'esas', 'estoy', 'estás', 'está', 'estamos', 'estáis', 'están', 'esté', 'estés', 'estemos', 'estéis', 'estén', 'estaré', 'estarás', 'estará', 'estaremos', 'estaréis', 'estarán', 'estaría', 'estarías', 'estaríamos', 'estaríais', 'estarían', 'estaba', 'estabas', 'estábamos', 'estabais', 'estaban', 'estuve', 'estuviste', 'estuvo', 'estuvimos', 'estuvisteis', 'estuvieron', 'estuviera', 'estuvieras', 'estuviéramos', 'estuvierais', 'estuvieran', 'estuviese', 'estuvieses', 'estuviésemos', 'estuvieseis', 'estuviesen', 'estando', 'estado', 'estada', 'estados', 'estadas', 'estad', 'he', 'has', 'ha', 'hemos', 'habéis', 'han', 'haya', 'hayas', 'hayamos', 'hayáis', 'hayan', 'habré', 'habrás', 'habrá', 'habremos', 'habréis', 'habrán', 'habría', 'habrías', 'habríamos', 'habríais', 'habrían', 'había', 'habías', 'habíamos', 'habíais', 'habían', 'hube', 'hubiste', 'hubo', 'hubimos', 'hubisteis', 'hubieron', 'hubiera', 'hubieras', 'hubiéramos', 'hubierais', 'hubieran', 'hubiese', 'hubieses', 'hubiésemos', 'hubieseis', 'hubiesen', 'habiendo', 'habido', 'habida', 'habidos', 'habidas', 'soy', 'eres', 'es', 'somos', 'sois', 'son', 'sea', 'seas', 'seamos', 'seáis', 'sean', 'seré', 'serás', 'será', 'seremos', 'seréis', 'serán', 'sería', 'serías', 'seríamos', 'seríais', 'serían', 'era', 'eras', 'éramos', 'erais', 'eran', 'fui', 'fuiste', 'fue', 'fuimos', 'fuisteis', 'fueron', 'fuera', 'fueras', 'fuéramos', 'fuerais', 'fueran', 'fuese', 'fueses', 'fuésemos', 'fueseis', 'fuesen', 'sintiendo', 'sentido', 'sentida', 'sentidos', 'sentidas', 'siente', 'sentid', 'tengo', 'tienes', 'tiene', 'tenemos', 'tenéis', 'tienen', 'tenga', 'tengas', 'tengamos', 'tengáis', 'tengan', 'tendré', 'tendrás', 'tendrá', 'tendremos', 'tendréis', 'tendrán', 'tendría', 'tendrías', 'tendríamos', 'tendríais', 'tendrían', 'tenía', 'tenías', 'teníamos', 'teníais', 'tenían', 'tuve', 'tuviste', 'tuvo', 'tuvimos', 'tuvisteis', 'tuvieron', 'tuviera', 'tuvieras', 'tuviéramos', 'tuvierais', 'tuvieran', 'tuviese', 'tuvieses', 'tuviésemos', 'tuvieseis', 'tuviesen', 'teniendo', 'tenido', 'tenida', 'tenidos', 'tenidas', 'tened']\n"
     ]
    },
    {
     "name": "stderr",
     "output_type": "stream",
     "text": [
      "[nltk_data] Downloading package stopwords to\n",
      "[nltk_data]     /Users/mascenci/nltk_data...\n",
      "[nltk_data]   Package stopwords is already up-to-date!\n"
     ]
    }
   ],
   "source": [
    "# Asignación de StopWords predefinidas para idioma Español\n",
    "import nltk\n",
    "nltk.download('stopwords')\n",
    "stop_words = nltk.corpus.stopwords.words('spanish')\n",
    "print(stop_words)"
   ]
  },
  {
   "cell_type": "code",
   "execution_count": 7,
   "metadata": {
    "id": "wfn-TAvanjBn"
   },
   "outputs": [
    {
     "name": "stdout",
     "output_type": "stream",
     "text": [
      "{2: ['fragmento', 'quería', 'firmada', '\\x97sí', '\\x97feliz', 'esquina', 'manteniendo', 'premio', 'frío', 'responder', 'bueno', 'ciudad', 'tono', 'brillantes', 'lluvioso', '\\x97se', 'regalo', 'pánico', 'figura', 'encontrarse', 'camino', 'vida', 'atrás', 'dormitorio', 'dormida', 'días', 'hizo', 'cuernos', 'inmóvil', 'fragmentos', 'pregunta', 'álbum', 'mas', 'pociones', 'veces', 'joven', 'vampiro', 'preocupes', 'dos', 'similar', 'tanteó', 'debajo', 'dicho', 'línea', 'así', 'r', 'quizá', 'charlie', 'hacer', '\\x97protesté', 'rohan', 'mayoría', 'hedwig', 'miraba', 'justicia', 'difícil', '\\x97a', 'rayo', 'sorprendió', 'conocido', 'completamente', 'conciencia', 'hablar', 'siquiera', 'misma', 'solo', 'fin', 'mujeres', 'vista', 'levantó', '\\x97pues', 'pasado', 'ánimo', 'decir', 'página', 'parte', 'debía', 'cuatro', 'dijo', 'lluvia', 'percaté', 'golpe', 'salir', 'basura', 'va', 'plumas', 'arrugas', 'sangre', 'libros', 'atención', 'restos', 'realidad', 'cama', 'brazo', 'ambos', 'oro', 'caja', 'hermoso', 'evitar', 'resplandecía', 'recordaba', 'hacen', 'lechuza', 'lentamente', 'varios', 'esperaba', 'hombres', 'historia', 'aparcamiento', 'correcto', 'cosas', 'dura', 'decidido', 'enemigo', 'valor', '\\x97dijo', 'llegar', 'ganas', 'batalla', 'general', 'apretón', 'tomé', 'uso', 'mirar', 'dice', 'cuerno', 'tres', 'permanecía', 'deseara', 'minutos', 'disfruta', 'preguntarle', 'taza', 'fuerte', 'favor', 'trueno', 'caballo', 'gondor', 'rab', 'salté', 'galopaba', 'propia', 'pila', 'meses', '\\x97la', 'amigos', 'arrugada', 'rodeaba', 'puerta', 'dios', 'entusiasmada', 'instituto', 'cuales', 'aún', 'gustado', 'papel', 'pelo', 'ganó', 'último', 'primero', 'mismas', 'resultaba', 'cegador', 'aquel', 'magia', 'ofrecía', 'oyera', 'familia', 'intentó', 'poder', 'puñado', 'cámara', 'beso', 'ningún', 'crimen', 'anciana', 'jinetes', 'desesperación', 'padrino', 'sonido', 'sustituyó', 'ambas', 'alta', 'saber', 'movimiento', 'detrás', 'esfuerzo', 'llorar', 'media', 'extraño', 'cristal'], 1: ['esperando', 'acción', 'excitación', 'sentirlo:', 'temía', 'recordado', 'propio', 'desayuno', 'dondequiera', 'pesar', 'ruido', 'patas', 'distinto', 'locus', 'entendido', 'brusca', 'obtenerlo', 'limitada', 'educación', 'ceño', 'waffling', 'latigazos', 'retórica', 'emparentados', 'escolta', 'ella\\x97', 'eternos', 'junto', 'enemigos', 'acababa', 'enamorada', 'reemplazado', 'acerqué', 'ignoraba', 'suelo', 'sonriendo', 'olvidando', 'rompieron', 'acercaran', 'otorgado', 'libre', 'dejarlo', 'calcetines', '\\x97repuso', '\\x96añade', 'rompió', '1997', 'posiblemente', 'dejarla', 'fotos', 'saltó', '53', 'torturarnos', '\\x96era', 'ignoró', 'marchito', 'tras', 'árbol', 'ocasionado', 'recorrió', 'recordarías', 'cerciorarme', 'fajo', 'apresado', 'rabia', 'darse', 'sirius', 'giros', 'iris', 'creen', 'pagano', 'inmortal', 'estupenda', 'almacén', 'volver', 'cerré', 'seguramente', 'salvaje', 'cedric', 'sacarla', 'decirles', 'probablemente', 'pasaban', 'formar', 'tartamudeo', 'cruel', 'descubrí', 'detuve', 'padres', 'aviso', 'visión', 'bronce\\x97', 'examiné', 'descansaba', 'ensordecedor', 'encorvada', 'pecho', 'excepción', 'extrañas', 'publicaciones', 'sutil', 'leer', 'ojeras', 'oscuridad', 'sufrió', 'cualidades', 'número', 'perfecto', '\\x96me', 'ejércitos', '\\x97técnicamente', 'cuidado', 'gélido', 'explicarle', 'tierra', 'irritante', 'reunió', 'adhería', 'suspiré', 'desbocase', 'hablado', 'cuadrada', 'ignorándome', 'abrumado', 'papelera', '\\x97bella', 'sonidos', 'olvidaría', 'angelical', 'absoluta', 'cuerpo', 'poniendo', 'aun', 'quebraran', 'oiga', 'perfecta', 'supone', 'recuerdas', 'finas', 'salido', 'orgulloso', 'sentíamos', 'hermosura', 'conmigo', 'trataron', 'empacado', 'encima', 'negaba', 'grácil', 'paso', 'turno', 'abuelo', 'llevábamos', 'fecha', 'curar', 'reveló', 'historiadora', 'múltiples', 'popularidad', 'parecer', 'extremo', 'teórico', 'jaula', 'orden', 'mención', 'ello', 'llegó', 'haciendo', 'voces', 'encantamientos', 'bagshot', 'minas', 'entrañas', 'canto', 'dejados', 'llegue', 'carga', 'delantero', 'particularmente', 'fríos', 'chivatoscopio', 'embeleso', 'hielo', 'expuesto', 'sufro', 'pongas', 'delicadeza', 'obras', 'llamar', 'huir', 'claridad', 'reflejada', 'burbage', 'ninguno', 'posible', 'comprender', 'sentir', 'formal', 'horas', 'lancé', 'pretérito', 'expone', 'servían', 'juntas', 'deseé', '\\x97continuó', 'diferente', 'da', 'tirith', 'agradecía', 'conocidas', 'charity', 'eclipsar', 'creía', 'alba', 'tributo', 'indicio', 'quidditch', 'asumieron', 'silla', 'estallar', 'caminábamos', '\\x97pero', 'tinieblas', 'veía', 'dije', 'ardemos', 'hijo', 'hermana', 'don', 'dientes', 'marco', 'fuero', 'beneficiamos', 'unía', 'necesitarlas', 'pilas', 'renuncia', 'peso', '\\x97cuántas', 'comenzó', 'puedes', 'acaso', 'admitir', 'propios', 'deseos', 'permanecido', 'incertidumbre', '\\x97eso', 'uniformes', 'pedido', 'disipó', 'portar', 'desaparecerían', 'azkaban', 'tempestad', 'merodeador', 'game', 'diamante', 'desierto', 'viento:', 'ministeriales', 'importarían', 'aposentado', 'aprendido', 'necesitaba', 'insoportablemente', 'envejecía', 'despeinado', 'fiebre', 'ahorcado', 'septiembre', 'afilado', 'lanzas', 'empacadas', 'tampoco', 'reunión', 'inesperados', 'hogar', 'suspiró', 'modos', 'fallo', 'estética', 'éomer', 'desperté', 'plegaba', 'blanca', 've', 'cuál', 'madre', 'desenfadado\\x97', 'repique', 'miles', 'flujo', 'renovado', 'fotografías', 'deseaba', 'gesto', 'empezó', 'diez', 'pedazo', 'katniss', 'fabricar', 'dirigí', 'mataban', 'entró', 'época', 'saberlo', 'tendió', 'fama', 'once', 'subsiguientes', '\\x97oh', 'península', 'notablemente', 'enfadada', 'dejo', 'respondido', 'trabajar', 'mal', 'conmoción', 'escolar', 'corría', 'vertiginosa', 'sorprendente', 'resquebrajado', 'muggle', 'sonreímos', 'asunto', 'llegaría', 'cuarto', 'sonrió', 'distritos', 'ciento', 'hacerme', 'haberse', 'arena', 'ejemplo', 'cabeza', 'salirse', 'tocar', 'retirar', 'luctuoso', 'dejaba', 'borrar', 'considerable', 'ligeramente', '«visto»', 'dejando', 'cubierta', 'pulverizado', 'mortecina', 'débilmente', 'arden', 'impusiste', 'cenizas', 'asombrosa', 'derrame', 'magos', 'trepidarán', 'marrones', 'maravillosos', 'helada', 'apilados', 'funesta', 'alentaban', 'restantes', 'mar', 'recibiendo', 'sosegarme', 'tejado', 'evidencia', 'marie', 'verdoso', 'cazabobos', 'dragón', 'marfileña', 'misterioso', 'muerta', 'diggory', 'considerar', 'pasa', 'risa', 'serie', 'gris', 'apoyo', 'aminoró', 'of', 'podido', 'trampa', 'detallados', 'planes', 'incómodas', 'amargos', 'contener', 'adalbert', 'no\\x97', 'poner', 'sorpresa', 'banda', 'conseguiría', 'tratará', 'horrible', 'finalmente', 'vaciarlo', 'hijos', 'honor', 'matanza', 'hierba', 'felicite', 'flotaba', 'cintura', 'arriba', 'estrellarse', 'quieres', 'descripción', '\\x93apoyen', 'contenta', 'grifo', 'elphias', 'personajes', 'conocí', 'juego', 'reuní', 'trata', 'curvó', 'regalarme', 'horrorizarse', 'habitación', 'llegamos', 'pensaba', 'similitudes', 'pareció', 'aguardaban', 'haces', 'corte', 'doctor', 'apunto', 'verde', 'chevrolet', 'marchita', 'nuevamente', 'órbitas', 'cimientos', 'alarma', 'mensaje', 'terror', 'quemarlos', 'besarías', 'vaciando', 'últimos', 'dejará', 'detenido', 'incesante', 'millar', 'campos', 'cabello', '\\x97vale', 'tendencia', 'cascos', '\\x97consciente', 'nostalgia', 'tanta', 'quejó', 'encantado', 'busca', 'tocado', 'caminando', 'preocupación', 'caldero', 'contraído', 'heroica', 'malo', 'dulce', 'resplandeció', 'añoranza', 'yelmo', 'lavarme', 'enfrentarme', 'desesperadamente', 'entendía', 'mágicos', 'cámaras', 'arrodillándose', 'frente', 'saltar', 'mortalidad', 'generoso', 'extendía', 'montón', 'trataba', 'dramatismo', 'bathilda', 'protagonistas', 'clasificar', 'disipaban', 'gritaba', 'alejaba', 'diecisiete', 'fuerza', 'portaestandarte', 'equivocados:', 'original', 'cantidad', 'yo\\x97', 'estribos', '\\x96aseguro', 'marfil', 'deseada', 'ahí', 'volvimos', 'perder', 'melocotón', 'miembro', 'aviones', 'gastado', 'trama', 'corriera', 'dar', 'cosa', 'invisibilidad', 'pleno', 'reprimenda', 'salvo', 'bombardear', 'perfectos', 'sentó', 'agonía', 'invisible', 'fervorosa', 'adquirirse', 'notaba', 'renombre', 'gente', 'envuelta', 'actual', 'impasse', 'apretó', 'hábil', 'podían', 'pocos', '\\x97bisbiseé', 'inútiles', 'cambiaba', 'claro', 'expresaron', 'rodea', '\\x97en', 'cantaban', 'inconveniente', 'caminado', 'ejército', 'washington', 'decidida', 'rápido', 'inminente', 'placer', 'relajaba', 'exacta', 'cualquiera', 'crin', 'sigue', 'sentirme', 'él:', 'profunda', 'amoratadas', 'recostado', 'interno', 'rayos', 'antigüedad', '\\x96pregunto', 'pasarlo', 'hojear', 'oído', 'viendo', '\\x97tengo', 'retoños', 'enderezó', 'vuelta', 'comunes', 'dotado', 'parece', 'reloj', 'pulgadas', 'obsequiado', 'tensó', 'clara', '\\x97creía', 'avergonzada', 'atestiguado', 'imitar', 'forasteros', 'privilegio', 'torre', 'aceptar', 'llamaría', 'hospital', 'ignorado', 'vanguardia', 'verdes', 'esboza', 'dónde', 'terminemos', 'puntos', 'artículo', 'sinceramente', 'novio', 'ala', 'cuartas', 'tristeza', 'rutilante', 'motas', 'delataban', 'equivocados', 'murió', 'pisadas', 'contraposición', 'podrías', 'despierta', 'alquimista', 'tostado', 'inútil', '\\x97le', 'adolescentes\\x97', 'llanura', 'sumergí', '\\x97contesté', 'estiró', 'marcadas', 'muevo', 'escudos', 'mantuvo', '\\x97me', 'verme', 'pudo', 'montañas', 'varias', 'contagioso', 'temiendo', '\\x97lanzó', 'horros', 'enseñara', 'experimentando', 'té', 'llevaré', 'hombre', 'quedaba', 'valar', 'ganadora', 'insoportable', 'claramente', 'seco', 'miró', 'hermione', 'bombardearnos', 'aparte', 'contemplaba', 'orome', 'hundió', 'newton', 'respuesta', 'despreocupado', 'solamente', 'añicos', 'esperara', 'puso', 'desarmados', 'calor', 'inglés:', 'porquería', 'higiénico', 'repitió', 'tirándolos', 'rocas', 'carlisle', 'hacerlo', 'thrones', 'mágica', 'teoría', 'certeza', 'fruncidos', 'cuáles', 'sola', 'pareciera', 'gale', 'hermosísima', 'horrendo', 'tía', 'calendario', 'abrir', '\\x97los', 'acechándome', 'todas', 'medio', 'presidente', 'reconocido', 'enseñanza', 'espada', 'respecto', 'ansiosos', 'incluyendo', 'arco', 'morflina', 'escuchar', '\\x97mascullé', 'sabido', 'iban', 'potter', 'suponía', 'intentaba', 'costado', 'antepasados', 'final', 'llevada', 'ceder', 'siglo', 'brillaba', 'ataque', 'heridas', 'hombros', 'permitía', 'mago', 'deslumbrante', 'tomó', 'creíble', 'administrada', 'arrebatadora', 'frase', 'cuyos', 'quién', 'buscaba', 'galopaban', 'bastante', '\\x97así', 'caracteriza', 'revoloteó', 'viejas', 'arrugas\\x97', 'justo', 'aquellos', 'reflejados', 'encogido', 'mejilla', 'miríada', 'profeta', 'seguro', 'george', 'paralizado', 'profesora', 'percival', 'vidrio', 'puntiagudo', 'deseado', 'automáticamente', 'cimera', 'asusté', 'aguja', 'pude', 'llegaron', 'prácticas', 'volvo', 'cartas', 'cuanto', 'ocurrir', 'cerrar', 'descubrió', 'lejana', 'cerrarse', 'colinas', 'rugía', 'incandescente', 'sinceros', 'transportado', 'mochila', 'brillando', 'huían', 'tío', 'nicolas', 'derecha', 'juntos', 'conducía', 'mortal:', 'levantando', 'releyó', 'resplandece', 'abrieron', 'furia', 'juzgar', 'experiencia', 'reír', 'latidos', 'mordor', 'pesadumbre', 'adoptados', 'mirada', 'vendrás', 'acerco', 'nuevo', 'ocurría', 'ir', 'decrépita', 'bolsillo', 'furor', 'moría', 'bastó', 'espeso', 'recogiendo', '1996', 'contorno', 'evidentemente', 'conociera', 'adelantas', 'embravecido', 'acobardado', 'mostró', 'debió', 'disecados', 'súbitamente', 'comienzo', '\\x96grito', 'conjuro', '\\x97cuándo', 'pulido', 'quizás', 'recordarlo', 'oír', 'vieron', 'susto', 'internado', 'sentían', 'insignia', 'nueve', 'alcé', 'señora', 'martin', 'contigo', 'medieval', 'snow', 'hilo', '\\x97susurró', 'abajo', 'notoriedad', 'diversión', 'profético', 'nombre', 'merry', 'hagrid', 'allá', 'alargó', 'preguntó', 'señalando', 'distrito', 'descansillo', 'enviado', 'sonreír', 'transformación', 'traslucía', 'lograba', 'elevada', 'documentar', 'incluyera', 'entrega', 'llevó', 'predijo', 'flamel', 'meteórica', 'llegaba', 'posteriores', 'clases', 'júbilo', 'sobresaltada', 'lloviznaba', 'pronunciado', 'hice', 'acaba', 'ropa', '\\x96añado', 'excesivamente', 'pueda', 'duende', 'pequeño', 'pasará', 'menuda', 'manera', 'tipo', 'continuó', 'entré', 'mutua', 'facilidad', 'intenso', 'escudo', 'palabras', 'demente', 'estudios', 'sabía\\x97', 'cariñoso', 'encontrado', 'procedió', 'angustia', 'título', 'fingiendo', 'equipo', 'estandarte', 'ira', 'noche', 'curvaron', 'cortado', 'suficiencia\\x97', 'toda', 'morían', 'abrió', 'comprendí', 'convirtió', '\\x97shhh', '\\x97tartamudeé', 'oficialmente', 'recordé', 'enseguida', 'estúpido', '\\x96', 'nevada', 'acuerdo', 'sueltos', 'cuestión', 'preparada', 'alabar', 'razones', 'esposa', 'mereciera', 'escrita', '\\x97nunca', 'dodge', 'partes', 'medida', 'guerrera', 'jóvenes', 'lleno', 'cantar', 'alice\\x97', 'limpiar', 'notables', 'montado', 'numerosos', 'amplia', 'lágrimas', 'topacio', 'oleaje', 'confesó', 'fuertes', 'avecina:', '\\x97nadie', 'orilla', 'cuándo', 'sangrante', 'permites', 'pedirle', 'escondida', 'montura', 'puñaladas', 'apetecía', 'sabor', 'intentando', 'culpable', 'jadeante', 'enceguecedora', 'esconderse', 'harían', 'evento', 'andar', 'ésa', 'planeaban', 'dorado', 'tirar', 'flameaba', 'irónica', 'correspondencia', 'faltaran', 'derechos', 'nube', 'líquidos', 'contemplar', 'dudley', 'sopló', 'quemar', 'persona', '\\x97el', 'vio', 'ministro', 'autor', 'finalizar', 'alumno', 'sello', 'tiró', 'futura', 'elevaron', 'superiores', 'aterrada', 'niños', 'escarabajo', 'atracción', 'transfiguración', 'olympic\\x97', 'alcance', 'dolor', 'hundido', 'expresara', 'cruzó', 'dejar', 'horror', 'triste', 'resplandor', 'matiz', 'mérito', 'hablaba', 'cambiará', 'pergaminos', 'punzante', 'latía', 'puse', 'ayuda', 'chapotearía', 'contrario', 'éored', 'rebeldes', 'mellado', 'campo', 'darle', 'serio', 'trece', 'examinó', 'razón', 'recuerdos', 'rojo', 'irguiéndose', 'daño', '\\x97sólo', 'tienda', 'negar', 'momentáneamente', 'suerte', 'gritó', 'antimuggle', 'seria', 'publicitado', 'prolongado', 'olvidado', 'dispuestos', 'ex', 'firme', 'lanzó', 'atronador', 'quebró', 'volarán', 'varita', 'alto', 'regularmente', 'supuesto', 'irás', 'creerme', 'texto', 'mata', 'moderado', 'aseguró', 'documentos', 'descontado', 'señala', 'derrotado', 'secreto', 'preguntaba', 'yendo', 'guthlaf', 'apesta\\x94', 'tema', 'estadounidense', 'pensar', 'quedara', 'carrera', 'mencionar', 'repentino', 'torpemente', 'venas', 'velocidad', '\\x96respondo', 'remota', 'tronos', 'notoria', 'furtivamente', 'encontraba', 'veintinueve', 'olvidar', 'terrible', 'picado', 'repleta', 'reverdecía', 'boca', 'óxido', 'borde', 'derecho', 'sinuoso', 'cometido', 'pos', 'encontró', 'pruebas', 'prisas', 'abrazara', 'gemían', 'mental', '\\x97es', 'coloco', 'trabajo', 'sentía', 'canción', 'belleza', 'arderás', 'cambiando', 'aparta', '8', 'cerrado', 'particular', 'celebración', 'pensamientos', 'descubrimiento', 'prácticos', 'estímulo', 'centelleaba', 'cautamente', 'conocían', 'noventa', 'retos', 'lejos', 'grande', 'ejemplar', 'altas', 'consagrado', 'separó', 'partir', 'largo', 'reflejarse', '\\x97tener', 'ambiciones', 'alzó', 'dio', 'puedo', 'palidez', 'verle', 'mapa', 'tinte', 'mirarme', 'aureolado', 'desazón', 'reconoció', 'hueso', 'asegurando', 'quieras', 'ves', 'sabéis', 'inmediatos', 'fingía', 'nublada', 'atacando', 'roto', 'único', 'esme', 'besaste', 'baño', 'caer', 'aspectos', 'sabemos', 'celebrado', 'arruinar', 'enviándonos', 'supervivientes', 'viva', 'dosis', 'haberlo', 'viviera', 'propaga', 'causado', 'perspectiva'], 11: ['sólo', 'sueño'], 6: ['aunque', 'fuego', 'momento', 'sido', 'bien', 'voz', 'punto', 'casi', 'rostro', 'espejo', 'padre', 'abuela', 'parecía', 'forma', 'mismo'], 3: ['viento', '\\x97no', 'seis', 'periódicos', 'primera', 'vieja', 'color', 'mejor', 'casa', 'hora', 'visto', 'nadie', 'capa', 'segundo', 'bajo', 'pesadilla', 'plateado', 'iba', 'pues', 'capitolio', 'brillante', 'algún', 'jamás', 'abuelita', 'apenas', 'igual', 'suave', 'buscando', 'fondo', 'relicario', 'alguien', 'feliz', 'bella', 'futuro', 'novela', 'cara', 'idea', 'manos', 'drive', 'negro', 'entonces', 'cumplir', 'tiempo', 'convertirse', 'todavía', 'imagen', 'incluso', 'resto', 'podría', 'pasar', 'pasó', 'instante', 'delante', 'clase', 'nota', 'muerto', 'aspecto', 'hogwarts', 'blanco', 'dado', 'cambiado', 'aquí', 'fantasía', 'expresión', 'verdad', 'dieciocho', 'aire', 'alrededor', 'pie', 'gran', 'cuenta', 'debido', 'mundo', 'dedos', 'esperándome', 'escritorio', 'volvió', 'quiero', 'allí', 'privet', 'acercaba', 'pequeña', 'hiciera', 'sino', 'crinblanca', 'hoy'], 5: ['colegio', 'muggles', 'hacía', 'piel', 'cualquier', 'tener', 'lugar', 'sabía', 'mañana', 'luz', 'llegado', 'rey', 'luego', 'siempre', 'menos', 'segura', 'lado', 'cada', 'regalos'], 4: ['dumbledore', 'baúl', 'labios', 'peor', 'tal', 'tarde', 'corazón', 'año', 'duda', 'haber', 'sonrisa', 'hecho', 'dentro', 'galopad', 'dedo', 'verano', 'demasiado', 'primer', 'cullen', 'pronto', 'ver', 'forks', 'embargo', 'théoden', 'edad', 'única'], 7: ['después', 'podía', 'hacia', 'sol', 'mayor', 'harry', 'albus', 'mientras', 'tan'], 9: ['ser', 'cumpleaños', 'día'], 10: ['nunca', 'vez', 'alice', 'ahora', 'ojos'], 8: ['mano'], 18: ['edward'], 17: ['si'], 13: ['años']}\n"
     ]
    }
   ],
   "source": [
    "# Creamos un diccionario con el formato\n",
    "# {Veces_que_aparece_la_palabra: [Palabra1, Palbra2, Palabra3, etc..]}\n",
    "from os import listdir\n",
    "Palabras = []\n",
    "\n",
    "path = 'Textos_Stopwords/'\n",
    "\n",
    "for File in listdir(path):\n",
    "    # Escribir la RUTA COMPLETA de cada archivo\n",
    "    with open(path + File, 'r', encoding = \"ISO-8859-1\") as Text:\n",
    "        # LEER el texto y pasar todo a minúsculas y reemplazar signos de puntuación \n",
    "        Texto = Text.read().lower()\n",
    "        Texto = Texto.replace('.','').replace(',','').replace(';','').replace('-','')\n",
    "        Texto = Texto.replace('¿','').replace('?','').replace('¡','').replace('!','')\n",
    "        Texto = Texto.replace('(','').replace(')','').replace('—','')\n",
    "        # Solo se agregan las que no sean StopWords\n",
    "        for palabra in Texto.split():\n",
    "            if(palabra not in stop_words):\n",
    "                Palabras.append(palabra)\n",
    "    \n",
    "# Crear el diccionario con las frecuencias como claves y listas de palabras \n",
    "# correspondientes a cada frecuencia como valores\n",
    "Palabras_unicas = {}\n",
    "for unica in set(Palabras):\n",
    "    Frec = Palabras.count(unica)\n",
    "    # Preguntar si existe el elemento en el diccionario y si no, agregarlo\n",
    "    if(Palabras_unicas.get(Frec) == None):\n",
    "        Palabras_unicas.setdefault(Frec, [unica])\n",
    "    else:\n",
    "        Palabras_unicas[Frec].append(unica)\n",
    "print(Palabras_unicas)"
   ]
  },
  {
   "cell_type": "code",
   "execution_count": null,
   "metadata": {
    "id": "EM1KN9HZnjB3"
   },
   "outputs": [],
   "source": [
    "# Ploteo de la gráfica de palabras para cada frecuencia de repetición\n",
    "# Declarar la librería para plotear y los parámetros de la gráfica\n",
    "import matplotlib._____ as plt\n",
    "plt.rcParams.update({'font.size': 22})\n",
    "plt.figure(figsize=(30,10))\n",
    "\n",
    "# Extraer la cantidad de palabras de cada categoría\n",
    "Frecuencias = []\n",
    "for Lista in Palabras_unicas._____():\n",
    "    Frecuencias.append(len(Lista))\n",
    "\n",
    "# Parámetros de ploteo\n",
    "plt.bar(Palabras_unicas._____(), Frecuencias, color=['cornflowerblue', 'lightblue', 'steelblue'])  \n",
    "plt.ylabel('Palabras distintas')\n",
    "plt.xlabel('Cantidad de repeticiones')\n",
    "plt.title('Cantidad de palabras por cantidad de apariciones')\n",
    "plt.xticks(rotation=80)"
   ]
  },
  {
   "cell_type": "code",
   "execution_count": null,
   "metadata": {
    "id": "uM6xhyytnjCJ"
   },
   "outputs": [],
   "source": [
    "# Impresión de las palabras que corresponden a cada frecuencia:\n",
    "# (Se suma +1 porque el primer índice debe ser 1 y no 0)\n",
    "for x in range(max(Palabras_unicas._____())):\n",
    "    print(\"\\nPalabras que se repiten \" + str(x+1) + \" veces:\")\n",
    "    if(Palabras_unicas.get(x+1) != None):\n",
    "        print(set(_____[x+1]))"
   ]
  },
  {
   "cell_type": "code",
   "execution_count": null,
   "metadata": {
    "id": "DNGqWxLMnjDi"
   },
   "outputs": [],
   "source": [
    "# Agregar palabras adicionales (Personalizadas) al diccionario de StopWords\n",
    "\n",
    "nuevas_StopWords = ['si','no', 'hola', 'adios', 'a', 'ante', 'bajo', 'cabe', 'con', 'contra', 'de', 'desde']\n",
    "stop_words.extend(_____)"
   ]
  },
  {
   "cell_type": "code",
   "execution_count": null,
   "metadata": {
    "id": "ehQoHiqHnjDx"
   },
   "outputs": [],
   "source": [
    "# Ploteo de la nueva gráfica\n",
    "import matplotlib._____ as plt\n",
    "plt.rcParams.update({'font.size': 22})\n",
    "plt.figure(figsize=(30,10))\n",
    "\n",
    "# Extraer la cantidad de palabras de cada categoría\n",
    "Frecuencias = []\n",
    "for Lista in Palabras_unicas._____():\n",
    "    Frecuencias.append(len(Lista))\n",
    "\n",
    "# Parámetros de ploteo\n",
    "plt.bar(Palabras_unicas._____(), Frecuencias, color=['cornflowerblue', 'lightblue', 'steelblue'])  \n",
    "plt.ylabel('Palabras distintas')\n",
    "plt.xlabel('Cantidad de repeticiones')\n",
    "plt.title('Cantidad de palabras por cantidad de apariciones')\n",
    "plt.xticks(rotation=80)"
   ]
  }
 ],
 "metadata": {
  "colab": {
   "collapsed_sections": [],
   "name": "Reto 02S2 Filtrado de StopWords Alumnos.ipynb",
   "provenance": []
  },
  "kernelspec": {
   "display_name": "Python 3 (ipykernel)",
   "language": "python",
   "name": "python3"
  },
  "language_info": {
   "codemirror_mode": {
    "name": "ipython",
    "version": 3
   },
   "file_extension": ".py",
   "mimetype": "text/x-python",
   "name": "python",
   "nbconvert_exporter": "python",
   "pygments_lexer": "ipython3",
   "version": "3.9.17"
  }
 },
 "nbformat": 4,
 "nbformat_minor": 1
}
