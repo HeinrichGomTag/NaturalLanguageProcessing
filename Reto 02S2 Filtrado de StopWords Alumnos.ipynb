{
 "cells": [
  {
   "cell_type": "markdown",
   "metadata": {
    "id": "GC4JSh43njBM"
   },
   "source": [
    "# Filtrado de StopWords"
   ]
  },
  {
   "cell_type": "code",
   "execution_count": 1,
   "metadata": {
    "id": "7qZxrTO1njBQ"
   },
   "outputs": [],
   "source": [
    "# Importar librerías de NLTK\n",
    "from nltk.tokenize import RegexpTokenizer\n",
    "from nltk.tokenize.treebank import TreebankWordDetokenizer\n",
    "from nltk.corpus import stopwords"
   ]
  },
  {
   "cell_type": "code",
   "execution_count": 2,
   "metadata": {
    "id": "jsenLaSAnjBe"
   },
   "outputs": [
    {
     "name": "stdout",
     "output_type": "stream",
     "text": [
      "['de', 'la', 'que', 'el', 'en', 'y', 'a', 'los', 'del', 'se', 'las', 'por', 'un', 'para', 'con', 'no', 'una', 'su', 'al', 'lo', 'como', 'más', 'pero', 'sus', 'le', 'ya', 'o', 'este', 'sí', 'porque', 'esta', 'entre', 'cuando', 'muy', 'sin', 'sobre', 'también', 'me', 'hasta', 'hay', 'donde', 'quien', 'desde', 'todo', 'nos', 'durante', 'todos', 'uno', 'les', 'ni', 'contra', 'otros', 'ese', 'eso', 'ante', 'ellos', 'e', 'esto', 'mí', 'antes', 'algunos', 'qué', 'unos', 'yo', 'otro', 'otras', 'otra', 'él', 'tanto', 'esa', 'estos', 'mucho', 'quienes', 'nada', 'muchos', 'cual', 'poco', 'ella', 'estar', 'estas', 'algunas', 'algo', 'nosotros', 'mi', 'mis', 'tú', 'te', 'ti', 'tu', 'tus', 'ellas', 'nosotras', 'vosotros', 'vosotras', 'os', 'mío', 'mía', 'míos', 'mías', 'tuyo', 'tuya', 'tuyos', 'tuyas', 'suyo', 'suya', 'suyos', 'suyas', 'nuestro', 'nuestra', 'nuestros', 'nuestras', 'vuestro', 'vuestra', 'vuestros', 'vuestras', 'esos', 'esas', 'estoy', 'estás', 'está', 'estamos', 'estáis', 'están', 'esté', 'estés', 'estemos', 'estéis', 'estén', 'estaré', 'estarás', 'estará', 'estaremos', 'estaréis', 'estarán', 'estaría', 'estarías', 'estaríamos', 'estaríais', 'estarían', 'estaba', 'estabas', 'estábamos', 'estabais', 'estaban', 'estuve', 'estuviste', 'estuvo', 'estuvimos', 'estuvisteis', 'estuvieron', 'estuviera', 'estuvieras', 'estuviéramos', 'estuvierais', 'estuvieran', 'estuviese', 'estuvieses', 'estuviésemos', 'estuvieseis', 'estuviesen', 'estando', 'estado', 'estada', 'estados', 'estadas', 'estad', 'he', 'has', 'ha', 'hemos', 'habéis', 'han', 'haya', 'hayas', 'hayamos', 'hayáis', 'hayan', 'habré', 'habrás', 'habrá', 'habremos', 'habréis', 'habrán', 'habría', 'habrías', 'habríamos', 'habríais', 'habrían', 'había', 'habías', 'habíamos', 'habíais', 'habían', 'hube', 'hubiste', 'hubo', 'hubimos', 'hubisteis', 'hubieron', 'hubiera', 'hubieras', 'hubiéramos', 'hubierais', 'hubieran', 'hubiese', 'hubieses', 'hubiésemos', 'hubieseis', 'hubiesen', 'habiendo', 'habido', 'habida', 'habidos', 'habidas', 'soy', 'eres', 'es', 'somos', 'sois', 'son', 'sea', 'seas', 'seamos', 'seáis', 'sean', 'seré', 'serás', 'será', 'seremos', 'seréis', 'serán', 'sería', 'serías', 'seríamos', 'seríais', 'serían', 'era', 'eras', 'éramos', 'erais', 'eran', 'fui', 'fuiste', 'fue', 'fuimos', 'fuisteis', 'fueron', 'fuera', 'fueras', 'fuéramos', 'fuerais', 'fueran', 'fuese', 'fueses', 'fuésemos', 'fueseis', 'fuesen', 'sintiendo', 'sentido', 'sentida', 'sentidos', 'sentidas', 'siente', 'sentid', 'tengo', 'tienes', 'tiene', 'tenemos', 'tenéis', 'tienen', 'tenga', 'tengas', 'tengamos', 'tengáis', 'tengan', 'tendré', 'tendrás', 'tendrá', 'tendremos', 'tendréis', 'tendrán', 'tendría', 'tendrías', 'tendríamos', 'tendríais', 'tendrían', 'tenía', 'tenías', 'teníamos', 'teníais', 'tenían', 'tuve', 'tuviste', 'tuvo', 'tuvimos', 'tuvisteis', 'tuvieron', 'tuviera', 'tuvieras', 'tuviéramos', 'tuvierais', 'tuvieran', 'tuviese', 'tuvieses', 'tuviésemos', 'tuvieseis', 'tuviesen', 'teniendo', 'tenido', 'tenida', 'tenidos', 'tenidas', 'tened']\n"
     ]
    },
    {
     "name": "stderr",
     "output_type": "stream",
     "text": [
      "[nltk_data] Downloading package stopwords to /home/eubgo/nltk_data...\n",
      "[nltk_data]   Package stopwords is already up-to-date!\n"
     ]
    }
   ],
   "source": [
    "# Asignación de StopWords predefinidas para idioma Español\n",
    "import nltk\n",
    "nltk.download('stopwords')\n",
    "stop_words = nltk.corpus.stopwords.words('spanish')\n",
    "print(stop_words)"
   ]
  },
  {
   "cell_type": "code",
   "execution_count": 3,
   "metadata": {
    "id": "wfn-TAvanjBn"
   },
   "outputs": [
    {
     "name": "stdout",
     "output_type": "stream",
     "text": [
      "{1: ['tocar', 'nuevo', 'suerte', 'borde', 'arco', 'sumergí', 'fama', 'vertiginosa', 'viva', 'oscuridad', 'pasaban', 'salvo', 'permanecido', 'descansillo', 'popularidad', 'enviándonos', 'parecer', 'flujo', 'fríos', 'besaste', 'perspectiva', 'boca', 'funesta', 'millar', 'llevó', 'derecho', 'felicite', 'verdes', 'turno', 'dramatismo', 'podían', 'enemigos', 'reunión', 'recordado', 'cambiando', 'pude', 'transformación', 'lograba', 'ocasionado', 'enamorada', 'amplia', 'emparentados', 'evidentemente', 'notables', 'distrito', 'recordarías', 'hacerlo', 'claramente', 'verle', 'ansiosos', 'distritos', 'desenfadado', 'finalmente', 'fervorosa', 'haberse', 'conocí', 'descubrió', 'administrada', 'buscaba', 'rojo', 'descubrí', 'pocos', 'azkaban', 'sirius', 'duende', 'arrebatadora', 'llegó', 'cascos', 'retirar', 'apresado', 'pueda', 'insignia', 'ayuda', 'poner', 'habitación', 'época', 'percival', 'ruido', 'detenido', 'dar', 'lejana', 'lancé', 'varias', 'grande', 'aminoró', 'pos', 'inútiles', 'acaba', 'muerta', '\\x96respondo', 'mensaje', 'sentían', 'conducía', 'waffling', 'pequeño', 'brillaba', 'incandescente', 'montado', 'montañas', 'sentirme', 'terminemos', 'valar', 'mágica', 'thrones', 'partes', 'furia', 'planeaban', 'mental', 'ejemplar', 'dejarlo', 'calcetines', 'brusca', 'momentáneamente', 'retórica', 'documentar', '\\x96aseguro', 'absoluta', 'ardemos', 'corría', 'llegue', 'sopló', 'gritó', 'fabricar', 'relajaba', 'rompió', 'darle', 'ropa', 'uniformes', 'esboza', 'indicio', 'perfecta', 'trampa', 'tendió', 'elevada', 'aparte', 'gritaba', 'serie', 'acaso', 'sonidos', 'huían', 'negar', 'puse', 'alejaba', 'sonriendo', 'harían', 'notablemente', 'atracción', 'cosa', 'plegaba', 'tierra', 'bombardearnos', 'suelo', 'aparta', 'pedirle', 'excesivamente', 'ex', 'ceño', 'entrega', 'supone', 'ignoró', 'ministeriales', 'quién', 'merry', 'acción', 'verdoso', 'matiz', 'toda', 'cualidades', 'traslucía', 'nombre', 'entré', 'incertidumbre', 'volver', 'enceguecedora', 'olvidaría', 'merodeador', 'acuerdo', 'tras', 'sentó', 'reuní', 'acechándome', 'irás', 'horros', 'novio', 'propios', 'obsequiado', 'gastado', 'martin', 'ahí', 'haces', 'honor', 'dondequiera', 'silla', 'modos', '\\x96grito', 'asombrosa', 'fotos', 'matanza', 'sello', 'caminábamos', 'enfadada', 'saberlo', 'mar', 'posteriores', 'ganadora', 'estandarte', 'risa', 'punzante', 'inglés:', 'reloj', 'acerco', 'mortalidad', 'obras', 'temía', 'cuántas', 'impusiste', 'hielo', 'adalbert', 'abrazara', 'dejando', 'júbilo', 'horas', 'probablemente', 'empacadas', 'sentíamos', 'distinto', 'reconocido', 'carga', 'confesó', 'éomer', 'menuda', 'charity', 'saltar', 'flotaba', 'repuso', 'pudo', 'arderás', 'inminente', 'hijos', 'recordarlo', 'pilas', 'porquería', 'conociera', 'paso', 'medio', 'sangrante', 'abuelo', 'notoria', 'repique', 'enseguida', 'hermosura', 'apoyo', 'llegaba', 'embravecido', 'llegaron', 'arden', 'ensordecedor', 'atestiguado', 'atronador', 'giros', 'encontrado', 'dejar', 'minas', 'quebraran', 'adolescentes', 'gris', 'sosegarme', 'muggle', 'trataron', 'quemarlos', 'señora', 'gesto', 'alarma', 'tendencia', 'medida', 'cerrado', 'noche', 'hilo', 'mirarme', 'enseñanza', 'curvó', 'quizás', 'torpemente', 'mordor', 'salirse', 'visión', 'repentino', 'admitir', 'mantuvo', 'remota', 'enviado', 'finas', 'pareciera', 'hojear', 'profético', 'diez', 'eternos', 'comprender', 'creerme', 'sonreír', 'vio', 'inmortal', 'aspectos', 'calor', 'preparada', 'cabeza', 'fajo', 'regularmente', 'verme', 'antigüedad', 'expresaron', 'puntos', 'viejas', 'clasificar', 'derrame', 'motas', 'quemar', 'cantaban', 'frase', 'ojeras', 'cautamente', 'automáticamente', 'campos', 'viento:', 'blanca', 'pedazo', 'particular', 'éored', 'irónica', 'puñaladas', 'debió', 'resplandor', 'desesperadamente', 'irritante', 'puntiagudo', 'sabor', 'dulce', 'tartamudeé', 'cerciorarme', 'encontraba', 'olvidar', 'lanzas', 'hombros', 'adoptados', 'yendo', 'negaba', 'quebró', 'alabar', 'desazón', 'cerrarse', 'vanguardia', 'siglo', 'creen', 'tratará', 'belleza', 'limpiar', 'sigue', 'documentos', 'derrotado', 'mapa', 'consagrado', 'causado', 'lleno', 'dudley', 'prácticas', 'órbitas', 'sabéis', 'aureolado', 'cámaras', 'bronce', 'mortecina', 'ignorado', 'correspondencia', 'colinas', 'delantero', 'asunto', 'historiadora', 'sorpresa', 'venas', 'rebeldes', 'apunto', 'llevada', 'espeso', 'salvaje', 'renuncia', 'seco', 'patas', 'septiembre', 'iris', 'pongas', 'adquirirse', 'cuadrada', 'serio', 'apesta\\x94', 'entendido', 'restantes', 'newton', 'varita', 'cimientos', 'leer', 'cenizas', 'cuáles', 'encontró', 'poniendo', 'cambiaba', 'descripción', 'mencionar', 'reveló', 'acercaran', 'vale', 'mereciera', 'reflejarse', 'pensar', 'quejó', 'cuestión', 'muevo', '\\x96era', 'levantando', 'andar', 'placer', 'irguiéndose', 'sentía', 'trabajo', 'aviones', 'similitudes', 'recogiendo', 'sabemos', 'nostalgia', 'deseada', 'ninguno', 'caracteriza', 'jaula', 'puedes', 'diamante', 'empacado', 'inútil', 'evidencia', 'alba', 'orome', 'técnicamente', 'solamente', 'internado', 'perfecto', 'permites', 'daño', 'canción', 'susto', 'viviera', 'subsiguientes', 'notoriedad', 'cartas', 'facilidad', 'despierta', 'ejército', 'recordé', 'inmediatos', 'nublada', 'seguramente', 'reír', 'juzgar', 'chapotearía', 'cabello', 'ignoraba', 'mal', 'exacta', 'madre', 'bisbiseé', 'quieres', 'incesante', 'suspiré', 'morían', 'recuerdas', 'supuesto', 'regalarme', '8', 'actual', 'asumieron', 'picado', 'asusté', 'mascullé', 'calendario', 'fuertes', 'tirith', 'ello', 'propaga', 'doctor', 'helada', 'dio', 'olvidando', 'papelera', 'firme', 'contemplaba', 'cruzó', 'pronunciado', 'obtenerlo', 'últimos', 'esperara', 'permitía', 'comprendí', 'decrépita', 'snow', 'bastante', 'contraposición', 'releyó', 'esperando', 'tampoco', 'agonía', 'galopaban', 'comenzó', 'amoratadas', 'tartamudeo', 'veía', 'descubrimiento', 'disipaban', 'dispuestos', 'autor', 'incluyendo', 'aceptar', 'seria', 'cintura', 'mago', 'razón', 'heroica', 'diferente', 'expuesto', 'fiebre', 'dejarla', 'cariñoso', 'banda', 'estrellarse', 'perfectos', 'clara', 'oh', 'burbage', 'montón', 'dejaba', 'busca', 'prisas', 'caminado', 'estúpido', 'procedió', 'cuyos', 'grifo', 'pulgadas', 'pensamientos', 'pisadas', 'olympic', 'numerosos', 'conjuro', 'curar', 'estadounidense', 'sinceramente', 'alumno', 'invisible', 'tipo', '«visto»', 'tronos', '\\x96pregunto', 'marcadas', 'latidos', 'vidrio', 'juntas', 'tocado', 'preguntó', 'débilmente', 'extendía', 'marchita', 'mochila', '\\x96añado', 'sonrió', 'guerrera', 'caldero', 'educación', 'rutilante', 'reconoció', 'alto', 'sinuoso', 'sabido', 'trama', 'intentando', 'original', 'volarán', 'recibiendo', 'pleno', 'avergonzada', 'oleaje', 'puso', 'escudo', 'contagioso', 'hundido', 'oiga', 'encantado', 'disecados', 'hombre', 'sueltos', 'altas', 'contrario', 'afilado', '1997', 'palidez', 'hermione', 'prolongado', 'arena', 'entrañas', 'razones', 'retoños', 'tinieblas', 'recostado', 'formal', 'vendrás', 'desierto', 'huir', 'teoría', 'todas', 'entró', 'insoportable', 'aquellos', 'ambiciones', 'volvimos', 'aseguró', 'encorvada', '\\x93apoyen', 'profeta', 'equipo', 'dónde', 'hagrid', 'arruinar', 'expresara', 'prácticos', 'hijo', 'presidente', 'cimera', 'cambiará', 'baño', 'pasa', 'pruebas', 'ira', 'borrar', 'publicaciones', 'pergaminos', 'disipó', 'dorado', 'cruel', 'asegurando', 'persona', 'latigazos', 'celebrado', 'tema', 'té', 'sentir', 'magos', 'deseos', 'libre', 'escolar', 'fotografías', 'ministro', 'respondido', 'líquidos', 'gale', 'veintinueve', 'sorprendente', 'descontado', 'elevaron', 'trepidarán', 'resplandeció', 'incluyera', 'noventa', 'horror', 'aposentado', 'estudios', 'corriera', 'recuerdos', 'planes', 'detallados', 'reunió', 'formar', 'torre', 'dientes', 'coloco', 'ejemplo', 'estallar', 'ligeramente', 'eclipsar', 'abajo', 'hundió', 'cazabobos', 'contemplar', 'george', 'nevada', 'agradecía', 'hablaba', 'repitió', 'niños', 'dotado', 'verde', 'hermosísima', 'llamaría', 'respuesta', 'experiencia', 'retos', 'llegaría', 'hogar', 'angustia', 'certeza', 'dirigí', 'bolsillo', 'adelantas', 'miró', 'enfrentarme', 'hierba', 'escolta', 'oír', 'largo', 'cantar', 'allá', 'carrera', 'palabras', 'salido', 'posiblemente', 'cuidado', 'marrones', 'contener', 'velocidad', 'juego', 'esconderse', 'pedido', 'cortado', '\\x96añade', 'sentirlo:', 'llamar', 'melocotón', 'escarabajo', 'profesora', 'olvidado', 'partir', 'tía', 'gemían', 'bastó', 'respecto', 'diggory', 'escudos', 'potter', 'derecha', 'deseé', 'iban', 'insoportablemente', 'mérito', 'centelleaba', 'enseñara', 'sufro', 'chivatoscopio', 'nueve', 'conmoción', 'consciente', 'meteórica', 'envuelta', 'pagano', 'pasará', 'deseaba', 'tienda', 'predijo', 'experimentando', 'interno', 'hablado', 'cuarto', 'seguro', 'vaciando', 'cerrar', 'conocidas', 'necesitaba', 'contesté', 'portar', '1996', 'lágrimas', 'cubierta', 'lejos', 'posible', 'hueso', 'once', 'medieval', 'deseado', 'reflejados', 'secreto', 'forasteros', 'portaestandarte', 'justo', 'aun', 'padres', 'añicos', 'corte', 'frente', 'cometido', 'elphias', 'caer', 'excepción', 'marfil', 'decirles', 'publicitado', 'atacando', 'quedara', 'tempestad', 'tristeza', 'desperté', '\\x96me', 'sufrió', 'manera', 'miríada', 'canto', 'brillando', 'mata', 'torturarnos', 'roto', 'furor', 'rugía', 'tío', 'alcé', 'tiró', 'almacén', 'luctuoso', 'miembro', 'aprendido', 'estiró', 'mirada', 'alquimista', 'marfileña', 'mellado', 'particularmente', 'llevábamos', 'misterioso', 'cerré', 'furtivamente', 'protagonistas', 'nicolas', 'ataque', 'orgulloso', 'reemplazado', 'ocurría', 'ejércitos', 'privilegio', 'futura', 'dejados', 'perder', 'alcance', 'antimuggle', 'estribos', 'suponía', 'reflejada', 'marchito', 'locus', 'pasarlo', 'península', 'tomó', 'embeleso', 'texto', 'equivocados', 'ceder', 'aviso', 'mutua', 'fuerza', 'revoloteó', 'da', 'enderezó', 'señala', 'guthlaf', 'considerar', 'culpable', 'final', 'vieron', 'intentaba', 'ocurrir', 'suficiencia', 'espada', 'extrañas', 'tirar', 'encantamientos', 'ahorcado', 'evento', 'puedo', 'dejo', 'murió', 'personajes', 'claro', 'diversión', 'don', 'despeinado', 'horrendo', 'dodge', 'trataba', 'abrumado', 'pesadumbre', 'acobardado', 'voces', 'alzó', 'resplandece', 'moderado', 'desaparecerían', 'explicarle', 'marco', 'repleta', 'conmigo', 'pesar', 'paralizado', 'conseguiría', 'acerqué', 'hospital', 'desbocase', 'game', 'jadeante', 'entendía', 'dragón', 'rompieron', 'rápido', 'detuve', 'aguja', 'contenta', 'hábil', 'angelical', 'tensó', 'superiores', 'arriba', 'rocas', 'señalando', 'generoso', 'recorrió', 'apretó', 'reverdecía', 'oído', 'creíble', 'trabajar', 'extremo', 'tanta', 'curvaron', 'él:', 'derechos', 'envejecía', 'katniss', 'pretérito', 'lloviznaba', 'junto', 'abrieron', 'comunes', 'incómodas', 'pulido', 'sola', 'orden', 'jóvenes', 'caminando', 'cantidad', 'mención', 'miles', 'deslumbrante', 'delataban', 'tostado', 'sonreímos', 'saltó', 'inesperados', 'cuartas', 'renombre', 'triste', 'claridad', 'propio', 'sutil', 'desayuno', 'otorgado', 'renovado', 'gélido', 'tinte', 'transfiguración', 'teórico', 'adhería', 'temiendo', 'clases', 'juntos', 'aguardaban', 'transportado', 'sacarla', 'equivocados:', 'imitar', 'contraído', '53', 'maravillosos', 'fecha', 'heridas', '\\x96', 'rodea', 'tributo', 'avecina:', 'pulverizado', 'estética', 'grácil', 'separó', 'terrible', 'ciento', 'apilados', 'fruncidos', 'podido', 'alentaban', 'bombardear', 'decidida', 'oficialmente', 'parece', 'desarmados', 'higiénico', 'dije', 'topacio', 'ésa', 'darse', 'dejará', 'beneficiamos', 'viendo', 'gente', 'unía', 'antepasados', 'escrita', 'fuero', 'examinó', 'fallo', 'nube', 'fingiendo', 'ignorándome', 'vaciarlo', 'costado', 'aterrada', 'podrías', 'inconveniente', 'único', 'abrió', 'shhh', 'descansaba', 'conocían', 'múltiples', 'dolor', 'terror', 'encogido', 'esme', 'excitación', 'convirtió', 'quidditch', 'empezó', 'suspiró', 'alargó', 'acababa', 'chevrolet', 'encima', 'esposa', 'estupenda', 'campo', 'reprimenda', 'besarías', 'washington', 'ala', 'cuál', 'flameaba', 'árbol', 'marie', 'considerable', 'comienzo', 'demente', 'pecho', 'tirándolos', 'montura', 'supervivientes', 'examiné', 'flamel', 'of', 'cedric', 'estímulo', 'volvo', 'resquebrajado', 'añoranza', 'necesitarlas', 'yelmo', 'título', 'intenso', 'artículo', 'abrir', 'llanura', 'escondida', 'morflina', 'mágicos', 'cuanto', 'rabia', 'delicadeza', 'despreocupado', 'bagshot', 'rayos', 'hermana', 'óxido', 'horrible', 'limitada', 'hice', 'mortal:', 'haciendo', 'contorno', 'orilla', 'mejilla', 'profunda', 'cuerpo', 'súbitamente', 'pareció', 'faltaran', 'servían', 'tejado', 'importarían', 'diecisiete', 've', 'celebración', 'mataban', 'nuevamente', 'número', 'escuchar', 'lavarme', 'mostró', 'haberlo', 'cualquiera', 'trece', 'pensaba', 'notaba', 'ves', 'sinceros', 'trata', 'preguntaba', 'malo', 'fingía', 'hacerme', 'quieras', 'carlisle', 'susurró', 'peso', 'horrorizarse', 'amargos', 'preocupación', 'expone', 'ir', 'latía', 'vuelta', 'llegamos', 'moría', 'llevaré', 'sobresaltada', 'finalizar', 'dosis', 'crin', 'contigo', 'arrodillándose', 'impasse', 'invisibilidad', 'quedaba', 'bathilda', 'apetecía'], 2: ['aún', 'tres', 'basura', 'rab', 'jinetes', 'dice', 'saber', 'instituto', 'vista', 'camino', 'misma', 'dormitorio', 'cuándo', 'cuatro', 'decir', 'siquiera', 'crimen', 'lechuza', 'atrás', 'decidido', 'último', 'firmada', 'gustado', 'parte', 'evitar', 'frío', 'hermoso', 'bueno', 'pánico', 'mirar', 'figura', 'lanzó', 'tomé', 'ambas', 'similar', 'esfuerzo', 'mas', 'completamente', 'desesperación', 'movimiento', 'difícil', 'debajo', 'restos', 'atención', 'rodeaba', 'va', 'ningún', 'trueno', 'fin', 'batalla', 'percaté', 'quizá', 'caja', 'anciana', 'sorprendió', 'salir', 'salté', 'fuerte', 'minutos', 'realidad', 'lluvia', 'creía', 'charlie', 'llorar', 'conocido', 'lluvioso', 'miraba', 'debía', 'cuerno', 'valor', 'dormida', 'hacer', 'llegar', 'pelo', 'tono', 'álbum', 'caballo', 'puerta', 'arrugada', 'puñado', 'oro', 'intentó', 'conciencia', 'esquina', 'cama', 'protesté', 'hablar', 'responder', 'línea', 'entusiasmada', 'rayo', 'esperaba', 'poder', 'levantó', 'ganó', 'mayoría', 'enemigo', 'dura', 'hizo', 'ambos', 'ganas', 'correcto', 'vida', 'resplandecía', 'r', 'ciudad', 'brazo', 'solo', 'disfruta', 'varios', 'pregunta', 'sangre', 'aparcamiento', 'quería', 'premio', 'inmóvil', 'cegador', 'pasado', 'beso', 'historia', 'hombres', 'apretón', 'manteniendo', 'oyera', 'justicia', 'días', 'taza', 'dios', 'tanteó', 'preguntarle', 'media', 'fragmentos', 'cuernos', 'papel', 'cristal', 'brillantes', 'cuales', 'ánimo', 'plumas', 'meses', 'amigos', 'pociones', 'libros', 'hedwig', 'gondor', 'lentamente', 'joven', 'mismas', 'propia', 'alta', 'hacen', 'primero', 'dos', 'padrino', 'golpe', 'magia', 'encontrarse', 'cosas', 'pila', 'preocupes', 'detrás', 'cámara', 'galopaba', 'favor', 'ofrecía', 'aquel', 'regalo', 'continuó', 'mujeres', 'rohan', 'extraño', 'sonido', 'deseara', 'resultaba', 'dicho', 'página', 'recordaba', 'veces', 'permanecía', 'vampiro', 'fragmento', 'familia', 'general', 'uso', 'sustituyó'], 7: ['podía', 'sol', 'tan', 'mayor', 'albus', 'después', 'harry', 'mientras', 'hacia'], 3: ['aquí', 'sino', 'pie', 'alguien', 'bajo', 'tiempo', 'hiciera', 'gran', 'quiero', 'convertirse', 'mundo', 'pequeña', 'cumplir', 'aspecto', 'vieja', 'hoy', 'hogwarts', 'capa', 'entonces', 'todavía', 'novela', 'resto', 'acercaba', 'relicario', 'seis', 'plateado', 'viento', 'cara', 'periódicos', 'esperándome', 'suave', 'algún', 'segundo', 'clase', 'dado', 'alrededor', 'instante', 'debido', 'capitolio', 'podría', 'así', 'jamás', 'dieciocho', 'allí', 'drive', 'expresión', 'visto', 'negro', 'idea', 'imagen', 'pasar', 'apenas', 'incluso', 'manos', 'aire', 'fantasía', 'mejor', 'cuenta', 'volvió', 'dedos', 'fondo', 'iba', 'hora', 'muerto', 'igual', 'arrugas', 'primera', 'cambiado', 'abuelita', 'futuro', 'nota', 'brillante', 'color', 'pesadilla', 'blanco', 'verdad', 'casa', 'privet', 'buscando', 'pasó', 'crinblanca', 'escritorio', 'delante'], 4: ['pronto', 'única', 'dumbledore', 'labios', 'nadie', 'ver', 'verano', 'cullen', 'dijo', 'dedo', 'baúl', 'primer', 'corazón', 'edad', 'año', 'demasiado', 'forks', 'tarde', 'bella', 'tal', 'duda', 'sonrisa', 'peor', 'haber', 'théoden', 'galopad', 'embargo', 'dentro', 'hecho'], 11: ['nunca', 'sueño', 'alice'], 5: ['luego', 'rey', 'cada', 'pues', 'hacía', 'luz', 'feliz', 'cualquier', 'lugar', 'mañana', 'segura', 'llegado', 'siempre', 'muggles', 'menos', 'regalos', 'piel', 'colegio', 'lado'], 6: ['momento', 'padre', 'voz', 'fuego', 'casi', 'tener', 'rostro', 'abuela', 'espejo', 'parecía', 'mismo', 'forma', 'aunque', 'bien', 'sido', 'punto', 'sabía'], 9: ['cumpleaños', 'día', 'ser'], 12: ['sólo'], 18: ['edward'], 8: ['mano'], 10: ['vez', 'ojos', 'ahora'], 17: ['si'], 13: ['años']}\n"
     ]
    }
   ],
   "source": [
    "# Creamos un diccionario con el formato\n",
    "# {Veces_que_aparece_la_palabra: [Palabra1, Palbra2, Palabra3, etc..]}\n",
    "from os import listdir\n",
    "Palabras = []\n",
    "\n",
    "path = 'Textos_Stopwords/'\n",
    "\n",
    "for File in listdir(path):\n",
    "    # Escribir la RUTA COMPLETA de cada archivo\n",
    "    with open(path + File, \"r\", encoding=\"ISO-8859-1\") as Text:\n",
    "        # LEER el texto y pasar todo a minúsculas y reemplazar signos de puntuación \n",
    "        Texto = Text.read().lower()\n",
    "        Texto = Texto.replace('.','').replace(',','').replace(';','').replace('-','')\n",
    "        Texto = Texto.replace('¿','').replace('?','').replace('¡','').replace('!','')\n",
    "        Texto = Texto.replace('(','').replace(')','').replace('\\x97','')\n",
    "        # Solo se agregan las que no sean StopWords\n",
    "        for palabra in Texto.split():\n",
    "            if(palabra not in stop_words):\n",
    "                Palabras.append(palabra)\n",
    "    \n",
    "# Crear el diccionario con las frecuencias como claves y listas de palabras \n",
    "# correspondientes a cada frecuencia como valores\n",
    "Palabras_unicas = {}\n",
    "for unica in set(Palabras):\n",
    "    Frec = Palabras.count(unica)\n",
    "    # Preguntar si existe el elemento en el diccionario y si no, agregarlo\n",
    "    if(Palabras_unicas.get(Frec) == None):\n",
    "        Palabras_unicas.setdefault(Frec, [unica])\n",
    "    else:\n",
    "        Palabras_unicas[Frec].append(unica)\n",
    "print(Palabras_unicas)"
   ]
  },
  {
   "cell_type": "code",
   "execution_count": 4,
   "metadata": {
    "id": "EM1KN9HZnjB3"
   },
   "outputs": [
    {
     "ename": "ModuleNotFoundError",
     "evalue": "No module named 'matplotlib._____'",
     "output_type": "error",
     "traceback": [
      "\u001b[0;31m---------------------------------------------------------------------------\u001b[0m",
      "\u001b[0;31mModuleNotFoundError\u001b[0m                       Traceback (most recent call last)",
      "Cell \u001b[0;32mIn[4], line 3\u001b[0m\n\u001b[1;32m      1\u001b[0m \u001b[39m# Ploteo de la gráfica de palabras para cada frecuencia de repetición\u001b[39;00m\n\u001b[1;32m      2\u001b[0m \u001b[39m# Declarar la librería para plotear y los parámetros de la gráfica\u001b[39;00m\n\u001b[0;32m----> 3\u001b[0m \u001b[39mimport\u001b[39;00m \u001b[39mmatplotlib\u001b[39;00m\u001b[39m.\u001b[39;00m\u001b[39m_____\u001b[39;00m \u001b[39mas\u001b[39;00m \u001b[39mplt\u001b[39;00m\n\u001b[1;32m      4\u001b[0m plt\u001b[39m.\u001b[39mrcParams\u001b[39m.\u001b[39mupdate({\u001b[39m'\u001b[39m\u001b[39mfont.size\u001b[39m\u001b[39m'\u001b[39m: \u001b[39m22\u001b[39m})\n\u001b[1;32m      5\u001b[0m plt\u001b[39m.\u001b[39mfigure(figsize\u001b[39m=\u001b[39m(\u001b[39m30\u001b[39m,\u001b[39m10\u001b[39m))\n",
      "\u001b[0;31mModuleNotFoundError\u001b[0m: No module named 'matplotlib._____'"
     ]
    }
   ],
   "source": [
    "# Ploteo de la gráfica de palabras para cada frecuencia de repetición\n",
    "# Declarar la librería para plotear y los parámetros de la gráfica\n",
    "import matplotlib._____ as plt\n",
    "plt.rcParams.update({'font.size': 22})\n",
    "plt.figure(figsize=(30,10))\n",
    "\n",
    "# Extraer la cantidad de palabras de cada categoría\n",
    "Frecuencias = []\n",
    "for Lista in Palabras_unicas._____():\n",
    "    Frecuencias.append(len(Lista))\n",
    "\n",
    "# Parámetros de ploteo\n",
    "plt.bar(Palabras_unicas._____(), Frecuencias, color=['cornflowerblue', 'lightblue', 'steelblue'])  \n",
    "plt.ylabel('Palabras distintas')\n",
    "plt.xlabel('Cantidad de repeticiones')\n",
    "plt.title('Cantidad de palabras por cantidad de apariciones')\n",
    "plt.xticks(rotation=80)"
   ]
  },
  {
   "cell_type": "code",
   "execution_count": null,
   "metadata": {
    "id": "uM6xhyytnjCJ"
   },
   "outputs": [],
   "source": [
    "# Impresión de las palabras que corresponden a cada frecuencia:\n",
    "# (Se suma +1 porque el primer índice debe ser 1 y no 0)\n",
    "for x in range(max(Palabras_unicas._____())):\n",
    "    print(\"\\nPalabras que se repiten \" + str(x+1) + \" veces:\")\n",
    "    if(Palabras_unicas.get(x+1) != None):\n",
    "        print(set(_____[x+1]))"
   ]
  },
  {
   "cell_type": "code",
   "execution_count": null,
   "metadata": {
    "id": "DNGqWxLMnjDi"
   },
   "outputs": [],
   "source": [
    "# Agregar palabras adicionales (Personalizadas) al diccionario de StopWords\n",
    "\n",
    "nuevas_StopWords = ['si','no', 'hola', 'adios', 'a', 'ante', 'bajo', 'cabe', 'con', 'contra', 'de', 'desde']\n",
    "stop_words.extend(_____)"
   ]
  },
  {
   "cell_type": "code",
   "execution_count": null,
   "metadata": {
    "id": "ehQoHiqHnjDx"
   },
   "outputs": [],
   "source": [
    "# Ploteo de la nueva gráfica\n",
    "import matplotlib._____ as plt\n",
    "plt.rcParams.update({'font.size': 22})\n",
    "plt.figure(figsize=(30,10))\n",
    "\n",
    "# Extraer la cantidad de palabras de cada categoría\n",
    "Frecuencias = []\n",
    "for Lista in Palabras_unicas._____():\n",
    "    Frecuencias.append(len(Lista))\n",
    "\n",
    "# Parámetros de ploteo\n",
    "plt.bar(Palabras_unicas._____(), Frecuencias, color=['cornflowerblue', 'lightblue', 'steelblue'])  \n",
    "plt.ylabel('Palabras distintas')\n",
    "plt.xlabel('Cantidad de repeticiones')\n",
    "plt.title('Cantidad de palabras por cantidad de apariciones')\n",
    "plt.xticks(rotation=80)"
   ]
  }
 ],
 "metadata": {
  "colab": {
   "collapsed_sections": [],
   "name": "Reto 02S2 Filtrado de StopWords Alumnos.ipynb",
   "provenance": []
  },
  "kernelspec": {
   "display_name": "Python 3 (ipykernel)",
   "language": "python",
   "name": "python3"
  },
  "language_info": {
   "codemirror_mode": {
    "name": "ipython",
    "version": 3
   },
   "file_extension": ".py",
   "mimetype": "text/x-python",
   "name": "python",
   "nbconvert_exporter": "python",
   "pygments_lexer": "ipython3",
   "version": "3.9.17"
  }
 },
 "nbformat": 4,
 "nbformat_minor": 1
}
