{
 "cells": [
  {
   "cell_type": "code",
   "execution_count": 4,
   "id": "initial_id",
   "metadata": {
    "collapsed": true,
    "execution": {
     "iopub.execute_input": "2023-08-10T18:11:34.779847Z",
     "iopub.status.busy": "2023-08-10T18:11:34.779555Z",
     "iopub.status.idle": "2023-08-10T18:11:38.558532Z",
     "shell.execute_reply": "2023-08-10T18:11:38.557434Z"
    },
    "ExecuteTime": {
     "end_time": "2023-08-10T18:17:36.598404Z",
     "start_time": "2023-08-10T18:17:35.932524Z"
    }
   },
   "outputs": [
    {
     "name": "stdout",
     "output_type": "stream",
     "text": [
      "Ayer\n",
      "vino\n",
      "mi\n",
      "esposa\n",
      "a\n",
      "cenar\n",
      "y\n",
      "tomamos\n",
      "vino\n",
      "venir vino\n"
     ]
    }
   ],
   "source": [
    "#Importamos Spacy y descargamos el nucleo de trabajo en Español\n",
    "import spacy\n",
    "\n",
    "pln_es = spacy.load(\"es_core_news_sm\")\n",
    "\n",
    "Texto = pln_es(u\"Ayer vino mi esposa a cenar y tomamos vino\")\n",
    "\n",
    "vino = []\n",
    "\n",
    "for token in Texto:\n",
    "    print(token.text)\n",
    "    if token.text == \"vino\":\n",
    "        vino.append(token)\n",
    "        \n",
    "vino\n",
    "print(vino[0].lemma_, vino[1].lemma_)"
   ]
  },
  {
   "cell_type": "code",
   "execution_count": null,
   "id": "d45e8775a6c9c794",
   "metadata": {
    "collapsed": false
   },
   "outputs": [],
   "source": [
    "import spacy\n",
    "pln_es = spacy.load(\"es_core_news_sm\")\n",
    "\n",
    "Texto = [pln_es(u'Mi celular es 55 12 34 56 78'),\n",
    "         pln_es(u'El descubrimiento de América fue el 12/10/1492'),\n",
    "         pln_es(u'Voy a P. Sherman, calle Wallaby 42 Sydney')]\n"
   ]
  }
 ],
 "metadata": {
  "kernelspec": {
   "display_name": "Python 3",
   "language": "python",
   "name": "python3"
  },
  "language_info": {
   "codemirror_mode": {
    "name": "ipython",
    "version": 3
   },
   "file_extension": ".py",
   "mimetype": "text/x-python",
   "name": "python",
   "nbconvert_exporter": "python",
   "pygments_lexer": "ipython3",
   "version": "3.9.17"
  }
 },
 "nbformat": 4,
 "nbformat_minor": 5
}
