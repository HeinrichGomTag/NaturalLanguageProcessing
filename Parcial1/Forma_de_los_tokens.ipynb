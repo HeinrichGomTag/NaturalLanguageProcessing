{
 "cells": [
  {
   "cell_type": "markdown",
   "metadata": {
    "id": "JE07KKE_PDyd"
   },
   "source": [
    "# Forma de los Tokens (Shape)"
   ]
  },
  {
   "cell_type": "code",
   "execution_count": 33,
   "metadata": {
    "execution": {
     "iopub.execute_input": "2023-08-15T18:40:00.751360Z",
     "iopub.status.busy": "2023-08-15T18:40:00.751164Z",
     "iopub.status.idle": "2023-08-15T18:40:05.212704Z",
     "shell.execute_reply": "2023-08-15T18:40:05.210982Z"
    },
    "id": "DhVhlV94PDyh",
    "ExecuteTime": {
     "end_time": "2023-08-15T18:40:46.851506Z",
     "start_time": "2023-08-15T18:40:46.011214Z"
    }
   },
   "outputs": [],
   "source": [
    "# Importación de librerías\n",
    "import spacy\n",
    "\n",
    "# Cargamos núcleo de trabajo (Español)\n",
    "pln_es = spacy.load('es_core_news_md')"
   ]
  },
  {
   "cell_type": "code",
   "execution_count": 34,
   "metadata": {
    "execution": {
     "iopub.execute_input": "2023-08-15T18:40:05.221346Z",
     "iopub.status.busy": "2023-08-15T18:40:05.220998Z",
     "iopub.status.idle": "2023-08-15T18:40:05.272997Z",
     "shell.execute_reply": "2023-08-15T18:40:05.272592Z"
    },
    "id": "N203EnrmPDyi",
    "ExecuteTime": {
     "end_time": "2023-08-15T18:40:46.911850Z",
     "start_time": "2023-08-15T18:40:46.856879Z"
    }
   },
   "outputs": [
    {
     "name": "stdout",
     "output_type": "stream",
     "text": [
      "Xx|xxxx|xx|dd|dd|dd|dd|dd|\n",
      "\n",
      "Xx|xxxx|xx|xxxx|xx|xx|dd/dd/dddd|\n",
      "\n",
      "Xxxx|xxx|xxxx|,|xxxx|xx|dd|dd|dd|dd|dd|\n",
      "\n",
      "Xx|xxxx|xxxx|xxxx|xxxx|xx|dd/dd/dddd|\n",
      "\n",
      "Xx|xxxx|xxx|xxxx|xx|xxxx|xx|xx|xxx|dddd|xx|dd%|\n",
      "\n",
      "Xx|xxxx|xx|Xxxxx|xxxx|xx|dd/dd/dddd|\n",
      "\n",
      "XX|d|xx|Xxxx|xx|xxxx|xxxx|xx|xxxx|xx|Xxxxx|\n",
      "\n",
      "Xxx|x|X.|Xxxxx|Xxxxx|Xxxxx|d-d|Xxxxx|\n"
     ]
    }
   ],
   "source": [
    "# Escribimos las frases con el formato Unicode\n",
    "Frases = [pln_es(u'Mi celular es 55 12 34 56 78'),\n",
    "          pln_es(u'Mi fecha de nacimiento es en 06/07/1994'),\n",
    "          pln_es(u'Para más información, comunícate al 55 12 23 34 45'),\n",
    "          pln_es(u'La construcción está prevista para el 23/11/2022'),\n",
    "          pln_es(u'El precio del dolar ha aumentado en el año 2019 un 25%'),\n",
    "          pln_es(u'La independencia de México ocurrió el 16/09/1810'),\n",
    "          pln_es(u'EL 5 de Mayo se suele conmemorar la batalla de Puebla'),\n",
    "          pln_es(u'Voy a P. Sherman Calle Wallaby 4-2 Sidney')]\n",
    "\n",
    "# Separamos el token por medio de | (Utilizando el comando end)\n",
    "for frase in Frases:\n",
    "    # for _____ in frase:\n",
    "    for token in frase:\n",
    "        # Imprimimos la forma de cada token\n",
    "        # print(token._____, end='|')\n",
    "        ##  print(token.text, end='|')\n",
    "        print(token.shape_, end='|')\n",
    "    print(\"\\n\")"
   ]
  },
  {
   "cell_type": "code",
   "execution_count": 35,
   "metadata": {
    "execution": {
     "iopub.execute_input": "2023-08-15T18:40:05.303927Z",
     "iopub.status.busy": "2023-08-15T18:40:05.303669Z",
     "iopub.status.idle": "2023-08-15T18:40:05.306238Z",
     "shell.execute_reply": "2023-08-15T18:40:05.305868Z"
    },
    "id": "XSjPCeaOPDyj",
    "ExecuteTime": {
     "end_time": "2023-08-15T18:40:46.915108Z",
     "start_time": "2023-08-15T18:40:46.910713Z"
    }
   },
   "outputs": [],
   "source": [
    "# Método para identificar formatos de fecha válidos\n",
    "def date_extractor(utterance):\n",
    "    # for _____ in Utterance:\n",
    "    for Token in utterance:\n",
    "        # Vemos si existe el formato\n",
    "        # if Token._____ == \"dd/dd/dddd\":\n",
    "        if Token.shape_ == \"dd/dd/dddd\":\n",
    "            print(Token.text)"
   ]
  },
  {
   "cell_type": "code",
   "execution_count": 36,
   "metadata": {
    "execution": {
     "iopub.execute_input": "2023-08-15T18:40:05.308003Z",
     "iopub.status.busy": "2023-08-15T18:40:05.307854Z",
     "iopub.status.idle": "2023-08-15T18:40:05.310187Z",
     "shell.execute_reply": "2023-08-15T18:40:05.309830Z"
    },
    "id": "7hbe9zVUPDyk",
    "ExecuteTime": {
     "end_time": "2023-08-15T18:40:46.918250Z",
     "start_time": "2023-08-15T18:40:46.914232Z"
    }
   },
   "outputs": [
    {
     "name": "stdout",
     "output_type": "stream",
     "text": [
      "Fechas encontradas:\n",
      "06/07/1994\n",
      "23/11/2022\n",
      "16/09/1810\n"
     ]
    }
   ],
   "source": [
    "# Impresión de las fechas encontradas\n",
    "print(\"Fechas encontradas:\")\n",
    "for Frase in Frases:\n",
    "    date_extractor(Frase)"
   ]
  },
  {
   "cell_type": "code",
   "execution_count": 37,
   "metadata": {
    "execution": {
     "iopub.execute_input": "2023-08-15T18:40:05.312029Z",
     "iopub.status.busy": "2023-08-15T18:40:05.311893Z",
     "iopub.status.idle": "2023-08-15T18:40:05.314933Z",
     "shell.execute_reply": "2023-08-15T18:40:05.314560Z"
    },
    "ExecuteTime": {
     "end_time": "2023-08-15T18:40:46.922126Z",
     "start_time": "2023-08-15T18:40:46.919901Z"
    }
   },
   "outputs": [],
   "source": [
    "# Método para identificar contraseñas con formato correcto\n",
    "# La contraseña debe ser de al menos 8 caracteres, debe contener\n",
    "# al menos una mayúscula, una minúscula, un dígito y un caracter especial\n",
    "\n",
    "def validate_password(passwd):\n",
    "    if len(passwd) < 8:\n",
    "        return False\n",
    "    if not any(char.isupper() for char in passwd):\n",
    "        return False\n",
    "    if not any(char.islower() for char in passwd):\n",
    "        return False\n",
    "    if not any(char.isdigit() for char in passwd):\n",
    "        return False\n",
    "    if not any(char in \"!@#$%^&*()-+?_=,<>/;:[]{}\" for char in passwd):\n",
    "        return False\n",
    "    return True\n"
   ]
  },
  {
   "cell_type": "code",
   "execution_count": 38,
   "metadata": {
    "collapsed": false,
    "execution": {
     "iopub.execute_input": "2023-08-15T18:40:05.316843Z",
     "iopub.status.busy": "2023-08-15T18:40:05.316708Z",
     "iopub.status.idle": "2023-08-15T18:40:05.319691Z",
     "shell.execute_reply": "2023-08-15T18:40:05.319350Z"
    },
    "ExecuteTime": {
     "end_time": "2023-08-15T18:40:46.925792Z",
     "start_time": "2023-08-15T18:40:46.923711Z"
    }
   },
   "outputs": [],
   "source": [
    "# Usando expresiones regulares\n",
    "import re\n",
    "\n",
    "\n",
    "def validate_password2(passwd):\n",
    "    if len(passwd) < 8:\n",
    "        return False\n",
    "    if not re.search(r\"[A-Z]\", passwd):\n",
    "        return False\n",
    "    if not re.search(r\"[a-z]\", passwd):\n",
    "        return False\n",
    "    if not re.search(r\"\\d\", passwd):\n",
    "        return False\n",
    "    if not re.search(r\"[!@#$%^&*()\\-\\+?_=,<>/;:\\[\\]{}]\", passwd):\n",
    "        return False\n",
    "    return True\n"
   ]
  },
  {
   "cell_type": "code",
   "execution_count": 39,
   "metadata": {
    "collapsed": false,
    "execution": {
     "iopub.execute_input": "2023-08-15T18:40:05.321654Z",
     "iopub.status.busy": "2023-08-15T18:40:05.321507Z",
     "iopub.status.idle": "2023-08-15T18:40:05.548102Z",
     "shell.execute_reply": "2023-08-15T18:40:05.547695Z"
    },
    "ExecuteTime": {
     "end_time": "2023-08-15T18:40:47.169240Z",
     "start_time": "2023-08-15T18:40:46.927733Z"
    }
   },
   "outputs": [],
   "source": [
    "# Using SpaCy shape\n",
    "import spacy\n",
    "\n",
    "nlp = spacy.load('es_core_news_sm')\n",
    "\n",
    "\n",
    "def validate_password3(passwd):\n",
    "    doc = nlp(passwd)\n",
    "    shape = doc[0].shape_\n",
    "\n",
    "    if len(passwd) < 8:\n",
    "        return False\n",
    "    if \"X\" not in shape:\n",
    "        return False\n",
    "    if \"x\" not in shape:\n",
    "        return False\n",
    "    if \"d\" not in shape:\n",
    "        return False\n",
    "    if any(not char.isalnum() for char in password):\n",
    "        return True\n",
    "    return False"
   ]
  },
  {
   "cell_type": "code",
   "execution_count": 40,
   "metadata": {
    "collapsed": false,
    "execution": {
     "iopub.execute_input": "2023-08-15T18:40:05.550629Z",
     "iopub.status.busy": "2023-08-15T18:40:05.550418Z",
     "iopub.status.idle": "2023-08-15T18:40:05.583537Z",
     "shell.execute_reply": "2023-08-15T18:40:05.583144Z"
    },
    "ExecuteTime": {
     "end_time": "2023-08-15T18:40:47.208222Z",
     "start_time": "2023-08-15T18:40:47.170758Z"
    }
   },
   "outputs": [
    {
     "name": "stdout",
     "output_type": "stream",
     "text": [
      "HolaMundo123# True True True\n",
      "HolaMundo False False False\n",
      "holamundo123 False False False\n",
      "holamundo False False False\n",
      "pHOLAMUNDO1230} True True True\n",
      "HOLAMUNDO False False False\n",
      "12345678 False False False\n",
      "Hola1234 False False False\n",
      "HolaMundo-7 True True True\n"
     ]
    }
   ],
   "source": [
    "# Validar contraseñas\n",
    "passwords = [\"HolaMundo123#\", \"HolaMundo\", \"holamundo123\", \"holamundo\", \"pHOLAMUNDO1230}\", \"HOLAMUNDO\", \"12345678\",\n",
    "             \"Hola1234\", \"HolaMundo-7\"]\n",
    "\n",
    "for password in passwords:\n",
    "    print(password, validate_password(password), validate_password2(password), validate_password3(password))\n"
   ]
  },
  {
   "cell_type": "code",
   "execution_count": 40,
   "metadata": {
    "collapsed": false,
    "ExecuteTime": {
     "end_time": "2023-08-15T18:40:47.208705Z",
     "start_time": "2023-08-15T18:40:47.206695Z"
    }
   },
   "outputs": [],
   "source": []
  }
 ],
 "metadata": {
  "colab": {
   "provenance": []
  },
  "kernelspec": {
   "display_name": "Python 3 (ipykernel)",
   "language": "python",
   "name": "python3"
  },
  "language_info": {
   "codemirror_mode": {
    "name": "ipython",
    "version": 3
   },
   "file_extension": ".py",
   "mimetype": "text/x-python",
   "name": "python",
   "nbconvert_exporter": "python",
   "pygments_lexer": "ipython3",
   "version": "3.9.17"
  }
 },
 "nbformat": 4,
 "nbformat_minor": 1
}
