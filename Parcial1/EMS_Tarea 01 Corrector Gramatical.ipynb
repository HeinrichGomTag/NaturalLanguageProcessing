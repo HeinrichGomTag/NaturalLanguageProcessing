{
 "cells": [
  {
   "cell_type": "markdown",
   "metadata": {
    "id": "N921vKRx4RIH"
   },
   "source": [
    "# Tarea 01: Corrector gramatical\n",
    "Enrique Ulises Báez Gómez Tagle\n",
    "Mauricio Iván Ascencio Martínez\n",
    "Sara Rocio Miranda Mateos"
   ]
  },
  {
   "cell_type": "markdown",
   "metadata": {
    "id": "nd_x9Fv4rMre"
   },
   "source": [
    "### Para esta tarea, deberás de generar un corrector gramatical que evalué 5 tipos de errores comunes, llenando los métodos que aparecen en este notebook. Deberás de utilizar la lógica adecuada para cada uno y usar el formato de docstring correspondiente para documentar el uso de cada método."
   ]
  },
  {
   "cell_type": "markdown",
   "metadata": {},
   "source": [
    "### ¿Qué es un corrector gramatical?"
   ]
  },
  {
   "cell_type": "markdown",
   "metadata": {},
   "source": [
    "Es un sistema de revisión de textos, capaz de implementar reglas de análisis y corrección de textos basados en el idioma específico con el que se está trabajando."
   ]
  },
  {
   "cell_type": "markdown",
   "metadata": {},
   "source": [
    "Capacidad de corrección:\n",
    "\n",
    "Entre otras cosas, un correcto gramatical puede detectar lo siguiente:\n",
    "\n",
    "- Faltas de ortografía en palabras comunes  (Por fabor  →  Por favor) \n",
    "\n",
    "- Combinación incorrecta de singulares y plurales  (Mi casas  →  Mi casa)\n",
    "\n",
    "- Palabras repetidas (Le dije eso eso ayer  →  Le dije eso ayer)\n",
    "\n",
    "- Mayúsculas en lugares incorrectos  (LA tarDe  →  La tarde)\n",
    "\n",
    "- Problemas con verbos auxiliares (Debes pagado  →  Debes pagar)\n",
    "\n",
    "Entre otras aplicaciones"
   ]
  },
  {
   "cell_type": "code",
   "execution_count": 10,
   "metadata": {
    "id": "7InFgho6rytt",
    "ExecuteTime": {
     "end_time": "2023-08-25T05:54:43.162557018Z",
     "start_time": "2023-08-25T05:54:43.000952045Z"
    }
   },
   "outputs": [],
   "source": [
    "# # Ejemplo de formato Docstrings:\n",
    "# \n",
    "# def NombreFuncion(arg1, arg2, arg3):\n",
    "#   \"\"\"\n",
    "#   Este método sirve para... utilizando... y devuelve...\n",
    "# \n",
    "#   Args:\n",
    "#     string arg1: Esta es una cadena de texto que...\n",
    "#     int arg 2: Es un número entero que se usa para...\n",
    "#     dict arg 3: Diccionario que sirve para...\n",
    "# \n",
    "#   Returns:\n",
    "#     string: Cadena del texto ya corregido...\n",
    "#   \"\"\"\n",
    "# \n",
    "#   # Aquí debe de ir la lógica de la función (Después de la documentación)\n",
    "#   Texto = \"\"\n",
    "#   return Texto"
   ]
  },
  {
   "cell_type": "markdown",
   "metadata": {
    "id": "wvSGW06Rsxdq"
   },
   "source": [
    "#### Plantilla de tarea 1: Corrector gramatical"
   ]
  },
  {
   "cell_type": "code",
   "execution_count": 11,
   "metadata": {
    "id": "FeohFnXD4RIM",
    "ExecuteTime": {
     "end_time": "2023-08-25T05:54:44.152390761Z",
     "start_time": "2023-08-25T05:54:43.006303155Z"
    }
   },
   "outputs": [],
   "source": [
    "# Importar la librería de SpaCy y su núcleo de trabajo en Español\n",
    "import spacy\n",
    "from spacy import displacy\n",
    "\n",
    "# Cargamos núcleo de trabajo (Español)\n",
    "nlp = spacy.load(\"es_core_news_lg\")"
   ]
  },
  {
   "cell_type": "code",
   "execution_count": 12,
   "metadata": {
    "id": "bzhE-GB64RIO",
    "ExecuteTime": {
     "end_time": "2023-08-25T05:54:44.222560418Z",
     "start_time": "2023-08-25T05:54:44.152563379Z"
    }
   },
   "outputs": [],
   "source": [
    "# Módulo para correguir errores de ortografía comunes\n",
    "# Utilizando un diccionario\n",
    "# Agregar mas ejemplos al diccionario\n",
    "\n",
    "Diccionario = {\n",
    "    \"q\": \"que\",\n",
    "    \"ola\": \"hola\",\n",
    "    \"zaldo\": \"saldo\",\n",
    "    \"fabor\": \"favor\",\n",
    "    \"grasias\": \"gracias\",\n",
    "    \"x\": \"por\",\n",
    "    \"cmo\": \"cómo\",\n",
    "    \"dnd\": \"dónde\",\n",
    "    \"sq\": \"es que\",\n",
    "    \"sta\": \"esta\",\n",
    "    \"msj\": \"mensaje\",\n",
    "    \"aki\": \"aquí\",\n",
    "    \"tmb\": \"también\",\n",
    "    \"qro\": \"quiero\",\n",
    "    \"pq\": \"porque\",\n",
    "}\n",
    "\n",
    "\n",
    "def errores_comunes(texto):\n",
    "    \"\"\"Esta función verifica la ortografía de las palabras en un texto y corrige errores.\n",
    "\n",
    "    Args:\n",
    "        string Texto: El texto que se va a revisar.\n",
    "\n",
    "    Returns:\n",
    "        string Texto_corregido: El texto con los errores corregidos.\n",
    "    \"\"\"\n",
    "    doc = nlp(texto)\n",
    "    texto_corregido = \"\"\n",
    "    for token in doc:\n",
    "        if token.text.lower() in Diccionario:\n",
    "            # REPLACE WORD WITH CORRECT ONE\n",
    "            texto_corregido += Diccionario[token.text.lower()]\n",
    "        else:\n",
    "            texto_corregido += token.text\n",
    "        texto_corregido += \" \"\n",
    "    return texto_corregido"
   ]
  },
  {
   "cell_type": "code",
   "execution_count": 13,
   "metadata": {
    "id": "fyiF2RVn4RIP",
    "ExecuteTime": {
     "end_time": "2023-08-25T05:54:44.222925007Z",
     "start_time": "2023-08-25T05:54:44.195637253Z"
    }
   },
   "outputs": [],
   "source": [
    "# Módulo para correguir errores dentre singulares y plurales\n",
    "# Investigar si existe algún atributo en Spacy que pueda devolver dicha característica\n",
    "# O implementar alguna lógica que pueda detectar si una palabra es sing, o plural\n",
    "\n",
    "\n",
    "def correct_number_mismatches(doc):\n",
    "    \"\"\"Esta función verifica que no exista una palabra en singular, seguida de una en plural y al revés.\n",
    "\n",
    "    Args:\n",
    "        string doc: El texto que se va a revisar.\n",
    "\n",
    "    Returns:\n",
    "        list correcciones: La lista de correcciones sugeridas\n",
    "    \"\"\"\n",
    "    correcciones = []\n",
    "    for i, token in enumerate(doc[:-1]):\n",
    "        next_tok = doc[i + 1]\n",
    "\n",
    "        if (\n",
    "                token.tag_ == \"DET\"\n",
    "                and token.text[-1] == \"s\"\n",
    "                and next_tok.tag_ == \"NOUN\"\n",
    "                and next_tok.text[-1] != \"s\"\n",
    "        ):\n",
    "            correcciones.append((next_tok.text, next_tok.text + \"s\"))\n",
    "        elif (\n",
    "                token.tag_ == \"DET\"\n",
    "                and token.text[-1] != \"s\"\n",
    "                and next_tok.tag_ == \"NOUN\"\n",
    "                and next_tok.text[-1] == \"s\"\n",
    "        ):\n",
    "            correcciones.append((next_tok.text, next_tok.text[:-1]))\n",
    "\n",
    "    return correcciones\n",
    "\n",
    "\n",
    "def apply_corrections(text, correcciones):\n",
    "    \"\"\"Esta función aplica las correcciones sugeridas por la función anterior.\n",
    "\n",
    "    Args:\n",
    "        string text: El texto que se va a revisar.\n",
    "        list correcciones: La lista de correcciones sugeridas.\n",
    "\n",
    "    Returns:\n",
    "        string text: El texto con los errores corregidos.\n",
    "    \"\"\"\n",
    "    for original, corrected in correcciones:\n",
    "        text = text.replace(original, corrected)\n",
    "    return text\n",
    "\n",
    "\n",
    "def tiempos_verbales(texto):\n",
    "    \"\"\"Esta función corrige errores en los tiempos verbales usando las 2 funciones auxiliares definidas anteriormente.\n",
    "\n",
    "    Args:\n",
    "        texto: El texto que se va a revisar.\n",
    "\n",
    "    Returns:\n",
    "        El texto con los errores corregidos.\n",
    "    \"\"\"\n",
    "    doc = nlp(texto)\n",
    "    correcciones = correct_number_mismatches(doc)\n",
    "    texto_corregido = apply_corrections(texto, correcciones)\n",
    "\n",
    "    return texto_corregido"
   ]
  },
  {
   "cell_type": "code",
   "execution_count": 14,
   "metadata": {
    "id": "JZriCF1o4RIR",
    "ExecuteTime": {
     "end_time": "2023-08-25T05:54:44.223160684Z",
     "start_time": "2023-08-25T05:54:44.195801108Z"
    }
   },
   "outputs": [],
   "source": [
    "# Módulo para detectar palabras repetidas\n",
    "\n",
    "\n",
    "def palabra_repetida(texto):\n",
    "    \"\"\"Esta función verifica que no exista la misma palabra repetida dos veces seguidas en un texto.\n",
    "\n",
    "    Args:\n",
    "        string texto: El texto a revisar.\n",
    "\n",
    "    Returns:\n",
    "        string texto_corregido: El texto corregido.\n",
    "    \"\"\"\n",
    "    doc = nlp(texto)\n",
    "\n",
    "    texto_corregido = \"\"\n",
    "\n",
    "    prev_token = None\n",
    "    for token in doc:\n",
    "        if prev_token is not None and token.text.lower() == prev_token.text.lower():\n",
    "            continue\n",
    "        else:\n",
    "            texto_corregido += token.text + \" \"\n",
    "            prev_token = token\n",
    "\n",
    "    return texto_corregido.strip()"
   ]
  },
  {
   "cell_type": "code",
   "execution_count": 15,
   "metadata": {
    "id": "yNuF3Hbc4RIS",
    "ExecuteTime": {
     "end_time": "2023-08-25T05:54:44.223346066Z",
     "start_time": "2023-08-25T05:54:44.195920614Z"
    }
   },
   "outputs": [],
   "source": [
    "# Módulo para detectar problemas con mayúsculas y minúsculas\n",
    "# Recuerda que si una palabra son SIGLAS (Es decir, se trata de una organización\n",
    "# o lugar), NO se considera un error gramatical\n",
    "def check_token_case(token):\n",
    "    \"\"\"Verifica si el token cumple con la regla de mayúsculas y minúsculas.\n",
    "\n",
    "    Args:\n",
    "        token (Token): El token a verificar.\n",
    "\n",
    "    Returns:\n",
    "        bool: True si el token cumple con la regla, False si no.\n",
    "    \"\"\"\n",
    "    text = token.text\n",
    "\n",
    "    if text.isupper():\n",
    "        return True\n",
    "    elif text.islower():\n",
    "        return True\n",
    "    elif text.isdigit():\n",
    "        return True\n",
    "    else:\n",
    "        if (any(char.islower() for char in text) and any(char.isupper() for char in text)) or \\\n",
    "                (any(char.islower() for char in text) and any(char.isdigit() for char in text)) or \\\n",
    "                (any(char.isdigit() for char in text) and any(char.isupper() for char in text)):\n",
    "            return False\n",
    "    return True\n",
    "\n",
    "\n",
    "def correct_token_case(text):\n",
    "    \"\"\"Corrige los tokens del texto que no cumplan con la regla de mayúsculas y minúsculas.\n",
    "\n",
    "    Args:\n",
    "        text (str): El texto a corregir.\n",
    "\n",
    "    Returns:\n",
    "        str: El texto corregido.\n",
    "    \"\"\"\n",
    "    doc = nlp(text)\n",
    "    corrected_tokens = []\n",
    "\n",
    "    for token in doc:\n",
    "        if not check_token_case(token):\n",
    "            corrected_tokens.append(token.text.lower())\n",
    "        else:\n",
    "            corrected_tokens.append(token.text)\n",
    "\n",
    "    return \" \".join(corrected_tokens)\n",
    "\n",
    "\n",
    "def capitalize_after_period(text):\n",
    "    \"\"\"Corrige un texto para que después de un punto y la primera palabra empiecen con mayúscula.\n",
    "\n",
    "    Args:\n",
    "        string text: El texto a corregir.\n",
    "\n",
    "    Returns:\n",
    "        str: El texto corregido.\n",
    "    \"\"\"\n",
    "    # Primero, aseguramos que la primera palabra esté en mayúsculas\n",
    "    text = text[0].upper() + text[1:]\n",
    "\n",
    "    # Luego, aseguramos que cualquier palabra después de un punto esté en mayúsculas\n",
    "    sentences = text.split(\". \")\n",
    "    sentences = [s[0].upper() + s[1:] if len(s) > 0 else s for s in sentences]\n",
    "\n",
    "    return \". \".join(sentences)\n",
    "\n",
    "\n",
    "def mayusc_minusc(texto):\n",
    "    \"\"\" Esta funcion se apoya en las 3 funciones auxiliares definidas anteriormente para asegurar el correcto uso de las mayúsculas y minúsculas\n",
    "\n",
    "    Args:\n",
    "        string texto: El texto a revisar.\n",
    "\n",
    "    Returns:\n",
    "        string texto: El texto revisado.\n",
    "    \"\"\"\n",
    "    texto_corregido = capitalize_after_period(correct_token_case(texto))\n",
    "    return texto_corregido"
   ]
  },
  {
   "cell_type": "code",
   "execution_count": 16,
   "metadata": {
    "id": "H5EG4pz14RIT",
    "ExecuteTime": {
     "end_time": "2023-08-25T05:54:44.223501082Z",
     "start_time": "2023-08-25T05:54:44.196139403Z"
    }
   },
   "outputs": [],
   "source": [
    "# Modulo para detectar nouns juntos que no son un nombre propio\n",
    "# Recuerda que \"Juega el perro gato en el parque\" es incorrecto\n",
    "# porque hay dos NOUNS juntos (perro y gato), pero el texto \"mi\n",
    "# amigo Pedro\" es correcto, sin embargo aquí se trata de un NOUN\n",
    "# seguido de un PNOUN (Nombre propio), deberás de identificar si\n",
    "# si ocurre un caso como este, o si por ejemplo, todo el nombre\n",
    "# pertenece a una persona (entidad) para validar que no sea un error\n",
    "\n",
    "\n",
    "def check_noun_noun_rule(text):\n",
    "    \"\"\"Esta función verifica que no exista dos sustantivos seguidos que no sean nombres propios.\n",
    "\n",
    "    Args:\n",
    "        text: El texto a revisar.\n",
    "\n",
    "    Returns:\n",
    "        True si no hay dos sustantivos seguidos que no sean nombres propios, False si sí hay.\n",
    "    \"\"\"\n",
    "    doc = nlp(text)\n",
    "    for i, token in enumerate(doc[:-1]):\n",
    "        next_tok = doc[i + 1]\n",
    "\n",
    "        if (\n",
    "                (token.tag_ == \"PROPN\" or token.tag_ == \"NOUN\")\n",
    "                and (next_tok.tag_ == \"PROPN\" or next_tok.tag_ == \"NOUN\")\n",
    "                and not next_tok.text.istitle()\n",
    "        ):\n",
    "            return False\n",
    "    return True\n",
    "\n",
    "\n",
    "def detectar_dos_nouns_seguidos(texto):\n",
    "    \"\"\"Esta función verifica que no exista dos sustantivos seguidos que no sean nombres propios.\n",
    "\n",
    "    Args:\n",
    "        string texto: El texto a revisar.\n",
    "\n",
    "    Returns:\n",
    "        Una lista de los segundos sustantivos de los pares encontrados y el texto corregido.\n",
    "    \"\"\"\n",
    "    if not check_noun_noun_rule(texto):\n",
    "        doc = nlp(texto)\n",
    "\n",
    "        pares_sustantivos = []\n",
    "\n",
    "        token_ant = None\n",
    "        for token in doc:\n",
    "            if (\n",
    "                    token_ant is not None\n",
    "                    and (token_ant.tag_ == \"PROPN\" or token_ant.tag_ == \"NOUN\")\n",
    "                    and (token.tag_ == \"PROPN\" or token.tag_ == \"NOUN\")\n",
    "                    and not token.text.istitle()\n",
    "            ):\n",
    "                pares_sustantivos.append((token_ant.i, token.i))\n",
    "            token_ant = token\n",
    "\n",
    "        segundos_sustantivos = [doc[pair[1]].text for pair in pares_sustantivos]\n",
    "\n",
    "        texto_corregido = []\n",
    "        skip_next = False\n",
    "        for i, token in enumerate(doc):\n",
    "            if any([pair[1] == i for pair in pares_sustantivos]):\n",
    "                skip_next = True\n",
    "            if skip_next:\n",
    "                skip_next = False\n",
    "                continue\n",
    "            texto_corregido.append(token.text)\n",
    "\n",
    "        return segundos_sustantivos, \" \".join(texto_corregido)\n",
    "\n",
    "    else:\n",
    "        return [], texto\n",
    "\n",
    "\n",
    "def nouns(texto):\n",
    "    \"\"\"Esta función se apoya en las 2 funciones auxiliares definidas anteriormente para asegurar que no haya 2 nouns juntos\n",
    "    Args:\n",
    "        texto: texto a analizar\n",
    "    Returns:\n",
    "        texto_corregido: texto corregido si hay 2 nouns juntos, en otro caso devuelve el mismo texto\n",
    "    \"\"\"\n",
    "    segundos_sustantivos, texto_corregido = detectar_dos_nouns_seguidos(texto)\n",
    "    if segundos_sustantivos:\n",
    "        return texto_corregido\n",
    "    else:\n",
    "        return texto"
   ]
  },
  {
   "cell_type": "code",
   "execution_count": 17,
   "metadata": {
    "id": "rQcemrD14RIT",
    "ExecuteTime": {
     "end_time": "2023-08-25T05:54:54.726157524Z",
     "start_time": "2023-08-25T05:54:44.196260914Z"
    }
   },
   "outputs": [
    {
     "name": "stdout",
     "output_type": "stream",
     "text": [
      "\n",
      "texto corregido:\n",
      "Hola , me puede dar mi saldo por favor , gracias , lo que pasa es que quiero comprar una casa en la playa para que los niños jueguen en el patio . Mi perro es muy juguetón , por eso me mudo a la CDMX . El casero me dijo : \" debes pagarlo antes del viernes \" .\n"
     ]
    }
   ],
   "source": [
    "# El siguiente código debe de poder ser ejecutado y obtener una respuesta que\n",
    "# muestre cláramente la diferencia entre el texto inicial y el corregido\n",
    "\n",
    "# Cada método deberá marcar el lugar donde encuentre un error con corchetes\n",
    "# e imprimir una lista con los errores encontrados\n",
    "\n",
    "Utterance = input(\"texto para revisión: \\n\")\n",
    "\n",
    "# Pipeline de funciones definidas previamente\n",
    "texto_corregido = nouns(mayusc_minusc(palabra_repetida(tiempos_verbales(errores_comunes(Utterance)))))\n",
    "\n",
    "print('\\ntexto corregido:\\n' + texto_corregido)"
   ]
  },
  {
   "cell_type": "code",
   "execution_count": 18,
   "metadata": {
    "id": "UQXt2ZvN4RIU",
    "ExecuteTime": {
     "end_time": "2023-08-25T05:54:54.726439021Z",
     "start_time": "2023-08-25T05:54:54.619497578Z"
    }
   },
   "outputs": [],
   "source": [
    "# FRASE DE PRUEBA\n",
    "# ola señorita, me puede dar mi zaldo por fabor, grasias, lo que pasa pasa es que quiero Comprar una casas en la playa playa para que los niño jueguen en el patio. Mi PeRRo es muy juguetón, por eso me mudo a la CDMX. El casero mE dijo: \"debes pagarlo antes del viernes viernes\".\n",
    "\n",
    "# RESULTADO OBTENIDO\n",
    "# texto corregido:\n",
    "# Hola , me puede dar mi saldo por favor , gracias , lo que pasa es que quiero comprar una casa en la playa para que los niños jueguen en el patio . Mi perro es muy juguetón , por eso me mudo a la CDMX . El casero me dijo : \" debes pagarlo antes del viernes \" .\n"
   ]
  }
 ],
 "metadata": {
  "colab": {
   "provenance": []
  },
  "kernelspec": {
   "display_name": "Python 3",
   "language": "python",
   "name": "python3"
  },
  "language_info": {
   "codemirror_mode": {
    "name": "ipython",
    "version": 3
   },
   "file_extension": ".py",
   "mimetype": "text/x-python",
   "name": "python",
   "nbconvert_exporter": "python",
   "pygments_lexer": "ipython3",
   "version": "3.9.17"
  }
 },
 "nbformat": 4,
 "nbformat_minor": 0
}
