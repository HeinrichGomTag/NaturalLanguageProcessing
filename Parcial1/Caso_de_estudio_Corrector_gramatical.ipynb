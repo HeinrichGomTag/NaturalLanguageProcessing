{
  "nbformat": 4,
  "nbformat_minor": 0,
  "metadata": {
    "kernelspec": {
      "display_name": "Python 3",
      "language": "python",
      "name": "python3"
    },
    "language_info": {
      "codemirror_mode": {
        "name": "ipython",
        "version": 3
      },
      "file_extension": ".py",
      "mimetype": "text/x-python",
      "name": "python",
      "nbconvert_exporter": "python",
      "pygments_lexer": "ipython3",
      "version": "3.7.5"
    },
    "colab": {
      "provenance": []
    }
  },
  "cells": [
    {
      "cell_type": "markdown",
      "metadata": {
        "id": "N921vKRx4RIH"
      },
      "source": [
        "# Tarea 01: Corrector gramatical"
      ]
    },
    {
      "cell_type": "markdown",
      "source": [
        "### Para esta tarea, deberás de generar un corrector gramatical que evalué 5 tipos de errores comunes, llenando los métodos que aparecen en este notebook. Deberás de utilizar la lógica adecuada para cada uno y usar el formato de docstring correspondiente para documentar el uso de cada método."
      ],
      "metadata": {
        "id": "nd_x9Fv4rMre"
      }
    },
    {
      "cell_type": "code",
      "source": [
        "# Ejemplo de formato Docstrings:\n",
        "\n",
        "def NombreFuncion(arg1, arg2, arg3):\n",
        "  \"\"\"\n",
        "  Este método sirve para... utilizando... y devuelve...\n",
        "\n",
        "  Args:\n",
        "    string arg1: Esta es una cadena de texto que...\n",
        "    int arg 2: Es un número entero que se usa para...\n",
        "    dict arg 3: Diccionario que sirve para...\n",
        "\n",
        "  Returns:\n",
        "    string: Cadena del texto ya corregido...\n",
        "  \"\"\"\n",
        "\n",
        "  # Aquí debe de ir la lógica de la función (Después de la documentación)\n",
        "  Texto = \"\"\n",
        "  return Texto"
      ],
      "metadata": {
        "id": "7InFgho6rytt"
      },
      "execution_count": null,
      "outputs": []
    },
    {
      "cell_type": "markdown",
      "source": [
        "#### Plantilla de tarea 1: Corrector gramatical"
      ],
      "metadata": {
        "id": "wvSGW06Rsxdq"
      }
    },
    {
      "cell_type": "code",
      "metadata": {
        "id": "FeohFnXD4RIM"
      },
      "source": [
        "# Importar la librería de SpaCy y su núcleo de trabajo en Español\n",
        "import spacy\n",
        "\n",
        "# Cargamos núcleo de trabajo (Español)\n",
        "_____ = _____._____(\"_____\")"
      ],
      "execution_count": null,
      "outputs": []
    },
    {
      "cell_type": "code",
      "metadata": {
        "id": "bzhE-GB64RIO"
      },
      "source": [
        "# Módulo para correguir errores de ortografía comunes\n",
        "# Utilizando un diccionario\n",
        "# Agregar mas ejemplos al diccionario\n",
        "\n",
        "Diccionario = {'hola' : 'ola',\n",
        "               'favor': 'fabor'\n",
        "               ...\n",
        "               }\n",
        "\n",
        "def ERRORES_COMUNES(Texto):\n",
        "    # Documentación y lógica aquí\n",
        "    return Texto_corregido"
      ],
      "execution_count": null,
      "outputs": []
    },
    {
      "cell_type": "code",
      "metadata": {
        "id": "fyiF2RVn4RIP"
      },
      "source": [
        "# Módulo para correguir errores dentre singulares y plurales\n",
        "# Investigar si existe algún atributo en Spacy que pueda devolver dicha característica\n",
        "# O implementar alguna lógica que pueda detectar si una palabra es sing, o plural\n",
        "\n",
        "def TIEMPOS_VERBALES(Texto):\n",
        "    # Documentación y lógica aquí\n",
        "    return Texto_corregido"
      ],
      "execution_count": null,
      "outputs": []
    },
    {
      "cell_type": "code",
      "metadata": {
        "id": "JZriCF1o4RIR"
      },
      "source": [
        "# Módulo para detectar palabras repetidas\n",
        "\n",
        "def PALABRA_REPETIDA(Texto):\n",
        "    # Documentación y lógica aquí\n",
        "    return Texto_corregido"
      ],
      "execution_count": null,
      "outputs": []
    },
    {
      "cell_type": "code",
      "metadata": {
        "id": "yNuF3Hbc4RIS"
      },
      "source": [
        "# Módulo para detectar problemas con mayúsculas y minúsculas\n",
        "# Recuerda que si una palabra son SIGLAS (Es decir, se trata de una organización\n",
        "# o lugar), NO se considera un error gramatical\n",
        "\n",
        "def MAYUSC_MINUSC(Texto):\n",
        "    # Documentación y lógica aquí\n",
        "    return Texto_corregido"
      ],
      "execution_count": null,
      "outputs": []
    },
    {
      "cell_type": "code",
      "metadata": {
        "id": "H5EG4pz14RIT"
      },
      "source": [
        "# Modulo para detectar nouns juntos que no son un nombre propio\n",
        "# Recuerda que \"Juega el perro gato en el parque\" es incorrecto\n",
        "# porque hay dos NOUNS juntos (perro y gato), pero el texto \"mi\n",
        "# amigo Pedro\" es correcto, sin embargo aquí se trata de un NOUN\n",
        "# seguido de un PNOUN (Nombre propio), deberás de identificar si\n",
        "# si ocurre un caso como este, o si por ejemplo, todo el nombre\n",
        "# pertenece a una persona (entidad) para validar que no sea un error\n",
        "\n",
        "def NOUNS(Texto):\n",
        "    # Documentación y lógica aquí\n",
        "    return Texto_corregido"
      ],
      "execution_count": null,
      "outputs": []
    },
    {
      "cell_type": "code",
      "metadata": {
        "id": "rQcemrD14RIT"
      },
      "source": [
        "# El siguiente código debe de poder ser ejecutado y obtener una respuesta que\n",
        "# muestre cláramente la diferencia entre el texto inicial y el corregido\n",
        "\n",
        "# Cada método deberá marcar el lugar donde encuentre un error con corchetes\n",
        "# e imprimir una lista con los errores encontrados\n",
        "\n",
        "Utterance = input(\"Texto para revisión: \\n\")\n",
        "\n",
        "# Pipeline de funciones definidas previamente\n",
        "Texto_Corregido = NOUNS(MAYUSC_MINUSC(PALABRA_REPETIDA(TIEMPOS_VERBALES(ERRORES_COMUNES(Utterance)))))\n",
        "\n",
        "print('\\nTexto corregido:\\n' + Texto_Corregido)"
      ],
      "execution_count": null,
      "outputs": []
    },
    {
      "cell_type": "code",
      "metadata": {
        "id": "UQXt2ZvN4RIU"
      },
      "source": [
        "# Frases que puedes probar:\n",
        "# ola, me das mi zaldo por fabor, grasias\n",
        "# Quiero una casas en la playa\n",
        "# los niño salieron a jugar al patio\n",
        "# Palabras que se repiten repiten\n",
        "\n",
        "# ola señorita, me puede dar mi zaldo por fabor, grasias, lo que pasa pasa es que quiero Comprar una casas en la playa playa para que los niño jueguen en el patio. Mi PeRRo es muy juguetón, por eso me mudo a la CDMX. EL casero mE dijo: \"debes pagado antes del viernes viernes\"."
      ],
      "execution_count": null,
      "outputs": []
    }
  ]
}