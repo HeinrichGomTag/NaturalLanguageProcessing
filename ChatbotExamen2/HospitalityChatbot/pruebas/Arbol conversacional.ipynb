{
 "cells": [
  {
   "cell_type": "code",
   "execution_count": 99,
   "metadata": {
    "id": "F27k_d1FqDwV",
    "outputId": "4dee50c0-ef32-481e-e812-099f12b10ba1",
    "ExecuteTime": {
     "end_time": "2023-11-06T05:51:47.353054300Z",
     "start_time": "2023-11-06T05:51:46.782960500Z"
    }
   },
   "outputs": [],
   "source": [
    "import json\n",
    "import locale\n",
    "import platform\n",
    "\n",
    "# Declaración de librerías\n",
    "import numpy\n",
    "\n",
    "# Configurar el locale en español\n",
    "if platform.system() == 'Linux':\n",
    "    locale.setlocale(locale.LC_TIME, 'es_ES.UTF-8')\n",
    "elif platform.system() == 'Windows':\n",
    "    locale.setlocale(locale.LC_TIME, 'Spanish_Spain.1252')"
   ]
  },
  {
   "cell_type": "code",
   "execution_count": 100,
   "metadata": {
    "id": "ugsfnO0pqDwn",
    "ExecuteTime": {
     "end_time": "2023-11-06T05:51:47.376602100Z",
     "start_time": "2023-11-06T05:51:46.803355400Z"
    }
   },
   "outputs": [],
   "source": [
    "# Lectura de formatos .json para entrenar cada modelo y asignación\n",
    "# de información correspondiente\n",
    "with open('Intenciones_NivelI.json', encoding='utf-8') as file:\n",
    "    data_NivelI = json.load(file)\n",
    "\n",
    "with open('Intenciones_NivelIIA.json', encoding='utf-8') as file:\n",
    "    data_NivelIIA = json.load(file)\n",
    "\n",
    "with open('Intenciones_NivelIIB.json', encoding='utf-8') as file:\n",
    "    data_NivelIIB = json.load(file)"
   ]
  },
  {
   "cell_type": "code",
   "execution_count": 101,
   "metadata": {
    "id": "HogXD3MyqDwx",
    "outputId": "50b17eeb-89c4-4ea0-cb93-a9b6635e4a4d",
    "ExecuteTime": {
     "end_time": "2023-11-06T05:51:47.377602300Z",
     "start_time": "2023-11-06T05:51:46.818373Z"
    }
   },
   "outputs": [
    {
     "name": "stdout",
     "output_type": "stream",
     "text": [
      "{'Reservar_Habitacion': ['Quiero hacer una reserva', 'Quiero reservar una habitación', 'Reservar habitación', 'Me gustaría reservar una habitación', '¿Puedo reservar una habitación?', 'Por favor reserva una habitación', 'Quiero reservar un cuarto', 'Me gustaría reservar un cuarto', 'Por favor reserva un cuarto', '¿Puedo reservar un cuarto?', 'Apartar un cuarto', 'Apartar una habitación'], 'Servicio_hotel': ['Quiero pedir un servicio', 'Quiero solicitar un servicio', 'Necesito solicitar un servicio', 'Quiero pedir un servicio del hotel', 'Necesito un servicio del hotel', 'Me gustaría pedir un servicio', 'Me gustaría solicitar un servicio', 'Quiero pedir servicio al cuarto', 'Me gustaría solicitar servicio al cuarto', 'Quiero pedir servicio a la habitación', 'Quiero apartar un espacio'], 'Historia_Hotel': ['Cuéntame la historia del hotel', 'Háblame del pasado del hotel', '¿Qué historias tiene este hotel?', '¿Qué anécdotas hay del hotel?', 'Me interesa la historia del hotel', '¿Qué hace único a este hotel históricamente?', '¿Este hotel es parte de la historia de la ciudad?', '¿Qué ha pasado en este hotel a lo largo de los años?', '¿Este lugar tiene alguna historia especial?', 'Me encantaría conocer más sobre la herencia cultural del hotel', '¿Podría relatar algún evento destacado del hotel?', 'Estoy curioso por saber más sobre el legado del hotel', '¿Hay alguna leyenda asociada con este hotel?', 'Me gustaría saber más sobre los inicios de este hotel', '¿Podrían contarme algún hecho histórico relevante del hotel?', 'Estoy interesado en la cronología del hotel', '¿Qué eventos importantes han ocurrido en este hotel?', '¿Cuál es el trasfondo histórico de este establecimiento?', '¿Podrían compartir alguna historia memorable del hotel?'], 'Atracciones_Cercanas': ['¿Qué lugares turísticos hay cerca del hotel?', '¿Qué puedo visitar por aquí?', '¿Hay algún sitio de interés cerca?', 'Cuéntame sobre los puntos de interés alrededor', '¿Qué atracciones recomiendas en los alrededores?', '¿Qué sitios históricos están cerca?', '¿Dónde puedo ir a pasear por aquí?', '¿Qué hay para ver en esta zona?', '¿Qué actividades turísticas puedo hacer cerca?', '¿Cuáles son los mejores lugares para visitar en los alrededores?', '¿Qué puntos de interés puedo encontrar en las proximidades?', 'Me gustaría conocer los lugares emblemáticos que hay alrededor', '¿Qué excursiones se pueden hacer en las cercanías del hotel?', '¿Podrían recomendarme rutas turísticas cercanas?', 'Estoy buscando recomendaciones de lugares para visitar cerca de aquí', '¿Qué monumentos o lugares de interés se encuentran en la vecindad?', '¿Cuáles son las atracciones locales más populares?', '¿Qué experiencias culturales ofrece esta área?', 'Me interesa explorar sitios de interés en esta región', '¿Qué recomendaciones tienen para el turismo local?']}\n",
      "{'Tipo_Habitacion': ['Quisiera una habitación estándar', 'Prefiero una suite', 'Me gustaría reservar una habitación doble', 'Necesito una habitación familiar', 'Estoy buscando una habitación deluxe', 'Quiero una habitación con dos camas', '¿Qué tipos de habitaciones ofrecen?', 'Busco una habitación económica', 'Quiero un cuarto estándar', 'Me gustaría reservar un cuarto doble', 'Necesito un cuarto familiar', 'Quiero un cuarto con dos camas', '¿Qué tipos de cuartos ofrecen?', 'Quiero un cuarto con vista al mar', 'Busco un cuarto económico'], 'Fecha_entrada': ['Quiero que sea para hoy', 'Para llegar mañana', 'Para llegar pasado mañana', 'Quiero llegar el Lunes', 'Quiero llegar el Martes', 'Quiero llegar el Miércoles', 'Quiero llegar el Jueves', 'Quiero llegar el Viernes', 'Quiero llegar el Sábado', 'Quiero llegar el Domingo'], 'Fecha_salida': ['Para salir mañana', 'Para salir pasado mañana', 'Para salir la siguiente semana', 'Para salir el siguiente mes', 'Quiero salir el Lunes', 'Quiero salir el Martes', 'Quiero salir el Miércoles', 'Quiero salir el Jueves', 'Quiero salir el Viernes', 'Quiero salir el Sábado', 'Quiero salir el Domingo'], 'Num_huespedes': ['Solo seré yo', 'Solo yo', 'Estaré solo', 'Somos 2 personas', 'Somos 3 personas', 'Somos 4 personas', 'Vamos a ser 2 personas', 'Vamos a ser 3 personas', 'Vamos a ser 4 personas', 'Somos dos personas', 'Somos tres personas', 'Somos cuatro personas', 'Vamos a ser dos personas', 'Vamos a ser tres personas', 'Vamos a ser cuatro personas']}\n",
      "{'Apartar_espacio': ['Quiero reservar la alberca', 'Necesito apartar el gimnasio', 'Me gustaría reservar el salón de eventos', 'Me gustaría apartar la terraza', 'Quiero apartar el spa', 'Quiero apartar la alberca', 'Quiero reservar el gym', 'Quiero apartar el gym'], 'Servicio': ['Necesito que limpien mi habitación por favor', 'Necesito que se limpie mi cuarto por favor', 'Hay que limpiar la habitación', 'Por favor envíen más toallas a mi habitación', 'Necesito que me traigan más jabón', 'Necesito que me traigan más shampoo', 'Necesito ayuda con el equipaje', 'Quiero que me traigan más almohadas'], 'Comida_bebida': ['Quiero pedir la comida al cuarto', 'Por favor traigan el desayuno a la habitación', 'Quiero ordenar una botella de vino a mi cuarto', 'Traigan comida vegana a mi habitación', 'Quiero pedir comida vegetariana', 'Quiero ordenar un café a mi habitación', 'Traigan una cena romántica a mi habitación', 'Quiero pedir la cena a mi habitación', 'Traigan la cena a mi cuarto']}\n"
     ]
    }
   ],
   "source": [
    "# Creación de diccionarios con los nombres de las clases y textos\n",
    "# presentes en cada uno de los archivos\n",
    "NI = dict()\n",
    "NIIA = dict()\n",
    "NIIB = dict()\n",
    "\n",
    "for info in data_NivelI['intents']:\n",
    "    NI.setdefault(info['tag'], info['patterns'])\n",
    "\n",
    "for info in data_NivelIIA['intents']:\n",
    "    NIIA.setdefault(info['tag'], info['patterns'])\n",
    "\n",
    "for info in data_NivelIIB['intents']:\n",
    "    NIIB.setdefault(info['tag'], info['patterns'])\n",
    "\n",
    "print(NI)\n",
    "print(NIIA)\n",
    "print(NIIB)"
   ]
  },
  {
   "cell_type": "code",
   "execution_count": 102,
   "metadata": {
    "id": "cKAqS2HpqDxU",
    "outputId": "7e9491b9-200f-44c7-ecb3-673edbf78cf6",
    "ExecuteTime": {
     "end_time": "2023-11-06T05:51:47.377602300Z",
     "start_time": "2023-11-06T05:51:46.834088Z"
    }
   },
   "outputs": [
    {
     "name": "stdout",
     "output_type": "stream",
     "text": [
      "Vector de salidas Y para N1:\n",
      "[0, 0, 0, 0, 0, 0, 0, 0, 0, 0, 0, 0, 1, 1, 1, 1, 1, 1, 1, 1, 1, 1, 1, 2, 2, 2, 2, 2, 2, 2, 2, 2, 2, 2, 2, 2, 2, 2, 2, 2, 2, 2, 3, 3, 3, 3, 3, 3, 3, 3, 3, 3, 3, 3, 3, 3, 3, 3, 3, 3, 3, 3]\n",
      "Vector de salidas Y para N2A:\n",
      "[0, 0, 0, 0, 0, 0, 0, 0, 0, 0, 0, 0, 0, 0, 0, 1, 1, 1, 1, 1, 1, 1, 1, 1, 1, 2, 2, 2, 2, 2, 2, 2, 2, 2, 2, 2, 3, 3, 3, 3, 3, 3, 3, 3, 3, 3, 3, 3, 3, 3, 3]\n",
      "Vector de salidas Y para N2B:\n",
      "[0, 0, 0, 0, 0, 0, 0, 0, 1, 1, 1, 1, 1, 1, 1, 1, 2, 2, 2, 2, 2, 2, 2, 2, 2]\n"
     ]
    }
   ],
   "source": [
    "# Generamos los vectores de respuestas para cada nivel contextual\n",
    "# (Cada clase tiene una salida numérica asociada)\n",
    "# (Las salidas empiezan en 0 para cada clase inicial de cada modelo)\n",
    "Y_NI = list()\n",
    "Y_NIIA = list()\n",
    "Y_NIIB = list()\n",
    "\n",
    "for clase, lista_textos in NI.items():\n",
    "    for text in lista_textos:\n",
    "        Y_NI.append(list(NI.keys()).index(clase))\n",
    "\n",
    "for clase, lista_textos in NIIA.items():\n",
    "    for text in lista_textos:\n",
    "        Y_NIIA.append(list(NIIA.keys()).index(clase))\n",
    "\n",
    "for clase, lista_textos in NIIB.items():\n",
    "    for text in lista_textos:\n",
    "        Y_NIIB.append(list(NIIB.keys()).index(clase))\n",
    "\n",
    "print(\"Vector de salidas Y para N1:\")\n",
    "print(Y_NI)\n",
    "print(\"Vector de salidas Y para N2A:\")\n",
    "print(Y_NIIA)\n",
    "print(\"Vector de salidas Y para N2B:\")\n",
    "print(Y_NIIB)"
   ]
  },
  {
   "cell_type": "code",
   "execution_count": 103,
   "metadata": {
    "id": "b_zEiblNqDxc",
    "outputId": "1f3aa9c1-f628-4e75-e037-e250f68dcd02",
    "ExecuteTime": {
     "end_time": "2023-11-06T05:51:47.377602300Z",
     "start_time": "2023-11-06T05:51:46.849522100Z"
    }
   },
   "outputs": [],
   "source": [
    "# Importamos librerías para el filtrado de StopWords y tokenicación\n",
    "from nltk.tokenize import RegexpTokenizer\n",
    "from nltk.tokenize.treebank import TreebankWordDetokenizer\n",
    "from nltk.corpus import stopwords\n",
    "from keras.preprocessing.text import Tokenizer\n",
    "import re\n",
    "\n",
    "stop_words = set(stopwords.words('spanish'))"
   ]
  },
  {
   "cell_type": "code",
   "execution_count": 104,
   "metadata": {
    "id": "6EmAmUbVqDxn",
    "ExecuteTime": {
     "end_time": "2023-11-06T05:51:47.377602300Z",
     "start_time": "2023-11-06T05:51:46.867203500Z"
    }
   },
   "outputs": [],
   "source": [
    "# Para cada enunciado quitamos las StopWords\n",
    "# También quitamos los acentos y filtramos signos de puntuación\n",
    "# lo hacemos mediante un metodo\n",
    "def quitar_stopwords(Textos):\n",
    "    X = list()\n",
    "    for sen in Textos:\n",
    "        sentence = sen\n",
    "        # Filtrado de stopword\n",
    "        for stopword in stop_words:\n",
    "            sentence = sentence.replace(\" \" + stopword + \" \", \" \")\n",
    "        sentence = sentence.replace(\"á\", \"a\")\n",
    "        sentence = sentence.replace(\"é\", \"e\")\n",
    "        sentence = sentence.replace(\"í\", \"i\")\n",
    "        sentence = sentence.replace(\"ó\", \"o\")\n",
    "        sentence = sentence.replace(\"ú\", \"u\")\n",
    "\n",
    "        # Remover espacios múltiples\n",
    "        sentence = re.sub(r'\\s+', ' ', sentence)\n",
    "        # Convertir todo a minúsculas\n",
    "        sentence = sentence.lower()\n",
    "        # Filtrado de signos de puntuación\n",
    "        tokenizer = RegexpTokenizer(r'\\w+')\n",
    "        # Tokenización del resultado\n",
    "        result = tokenizer.tokenize(sentence)\n",
    "        # Agregar al arreglo los textos \"destokenizados\" (Como texto nuevamente)\n",
    "        X.append(TreebankWordDetokenizer().detokenize(result))\n",
    "    return X"
   ]
  },
  {
   "cell_type": "code",
   "execution_count": 105,
   "metadata": {
    "id": "_8EIY5ZMqDxz",
    "ExecuteTime": {
     "end_time": "2023-11-06T05:51:47.377602300Z",
     "start_time": "2023-11-06T05:51:46.895355500Z"
    }
   },
   "outputs": [],
   "source": [
    "# Obtenemos el vector de entradas (Textos limpios de StopWords)\n",
    "# para cada uno de los modelos que vamos a generar\n",
    "Textos_NI = list()\n",
    "for Lista in NI.values():\n",
    "    for Texto in Lista:\n",
    "        Textos_NI.append(Texto)\n",
    "\n",
    "X_NI = quitar_stopwords(Textos_NI)\n",
    "\n",
    "Textos_NIIA = list()\n",
    "for Lista in NIIA.values():\n",
    "    for Texto in Lista:\n",
    "        Textos_NIIA.append(Texto)\n",
    "\n",
    "X_NIIA = quitar_stopwords(Textos_NIIA)\n",
    "\n",
    "Textos_NIIB = list()\n",
    "for Lista in NIIB.values():\n",
    "    for Texto in Lista:\n",
    "        Textos_NIIB.append(Texto)\n",
    "\n",
    "X_NIIB = quitar_stopwords(Textos_NIIB)"
   ]
  },
  {
   "cell_type": "code",
   "execution_count": 106,
   "metadata": {
    "id": "V_8rv5yPqDyX",
    "outputId": "6dae233e-db00-4936-c653-76e4bf3e746e",
    "ExecuteTime": {
     "end_time": "2023-11-06T05:51:47.378603900Z",
     "start_time": "2023-11-06T05:51:46.907865600Z"
    }
   },
   "outputs": [
    {
     "name": "stdout",
     "output_type": "stream",
     "text": [
      "['quiero hacer reserva', 'quiero reservar habitacion', 'reservar habitacion', 'me gustaria reservar habitacion', 'puedo reservar habitacion', 'por favor reserva habitacion', 'quiero reservar cuarto', 'me gustaria reservar cuarto', 'por favor reserva cuarto', 'puedo reservar cuarto', 'apartar cuarto', 'apartar habitacion', 'quiero pedir servicio', 'quiero solicitar servicio', 'necesito solicitar servicio', 'quiero pedir servicio hotel', 'necesito servicio hotel', 'me gustaria pedir servicio', 'me gustaria solicitar servicio', 'quiero pedir servicio cuarto', 'me gustaria solicitar servicio cuarto', 'quiero pedir servicio habitacion', 'quiero apartar espacio', 'cuentame historia hotel', 'hablame pasado hotel', 'que historias hotel', 'que anecdotas hotel', 'me interesa historia hotel', 'que hace unico hotel historicamente', 'este hotel parte historia ciudad', 'que pasado hotel largo años', 'este lugar alguna historia especial', 'me encantaria conocer herencia cultural hotel', 'podria relatar algun evento destacado hotel', 'estoy curioso saber legado hotel', 'hay alguna leyenda asociada hotel', 'me gustaria saber inicios hotel', 'podrian contarme algun hecho historico relevante hotel', 'estoy interesado cronologia hotel', 'que eventos importantes ocurrido hotel', 'cual trasfondo historico establecimiento', 'podrian compartir alguna historia memorable hotel', 'que lugares turisticos cerca hotel', 'que puedo visitar aqui', 'hay algun sitio interes cerca', 'cuentame puntos interes alrededor', 'que atracciones recomiendas alrededores', 'que sitios historicos cerca', 'donde puedo ir pasear aqui', 'que ver zona', 'que actividades turisticas puedo hacer cerca', 'cuales mejores lugares visitar alrededores', 'que puntos interes puedo encontrar proximidades', 'me gustaria conocer lugares emblematicos alrededor', 'que excursiones pueden hacer cercanias hotel', 'podrian recomendarme rutas turisticas cercanas', 'estoy buscando recomendaciones lugares visitar cerca aqui', 'que monumentos lugares interes encuentran vecindad', 'cuales atracciones locales populares', 'que experiencias culturales ofrece area', 'me interesa explorar sitios interes region', 'que recomendaciones turismo local']\n",
      "['quisiera habitacion estandar', 'prefiero suite', 'me gustaria reservar habitacion doble', 'necesito habitacion familiar', 'estoy buscando habitacion deluxe', 'quiero habitacion dos camas', 'que tipos habitaciones ofrecen', 'busco habitacion economica', 'quiero cuarto estandar', 'me gustaria reservar cuarto doble', 'necesito cuarto familiar', 'quiero cuarto dos camas', 'que tipos cuartos ofrecen', 'quiero cuarto vista mar', 'busco cuarto economico', 'quiero hoy', 'para llegar mañana', 'para llegar pasado mañana', 'quiero llegar lunes', 'quiero llegar martes', 'quiero llegar miercoles', 'quiero llegar jueves', 'quiero llegar viernes', 'quiero llegar sabado', 'quiero llegar domingo', 'para salir mañana', 'para salir pasado mañana', 'para salir siguiente semana', 'para salir siguiente mes', 'quiero salir lunes', 'quiero salir martes', 'quiero salir miercoles', 'quiero salir jueves', 'quiero salir viernes', 'quiero salir sabado', 'quiero salir domingo', 'solo yo', 'solo yo', 'estare solo', 'somos 2 personas', 'somos 3 personas', 'somos 4 personas', 'vamos ser 2 personas', 'vamos ser 3 personas', 'vamos ser 4 personas', 'somos dos personas', 'somos tres personas', 'somos cuatro personas', 'vamos ser dos personas', 'vamos ser tres personas', 'vamos ser cuatro personas']\n",
      "['quiero reservar alberca', 'necesito apartar gimnasio', 'me gustaria reservar salon eventos', 'me gustaria apartar terraza', 'quiero apartar spa', 'quiero apartar alberca', 'quiero reservar gym', 'quiero apartar gym', 'necesito limpien habitacion favor', 'necesito limpie cuarto favor', 'hay limpiar habitacion', 'por favor envien toallas habitacion', 'necesito traigan jabon', 'necesito traigan shampoo', 'necesito ayuda equipaje', 'quiero traigan almohadas', 'quiero pedir comida cuarto', 'por favor traigan desayuno habitacion', 'quiero ordenar botella vino cuarto', 'traigan comida vegana habitacion', 'quiero pedir comida vegetariana', 'quiero ordenar cafe habitacion', 'traigan cena romantica habitacion', 'quiero pedir cena habitacion', 'traigan cena cuarto']\n"
     ]
    }
   ],
   "source": [
    "# Imprimimos la lista de los enunciados que resultan\n",
    "print(X_NI)\n",
    "print(X_NIIA)\n",
    "print(X_NIIB)"
   ]
  },
  {
   "cell_type": "code",
   "execution_count": 107,
   "metadata": {
    "id": "rVSHyayPqDyi",
    "ExecuteTime": {
     "end_time": "2023-11-06T05:51:47.378603900Z",
     "start_time": "2023-11-06T05:51:46.940335400Z"
    }
   },
   "outputs": [],
   "source": [
    "# Importamos la librería para generar la matriz de entrada de textos\n",
    "# (El pad_sequence)\n",
    "from keras_preprocessing.sequence import pad_sequences\n",
    "\n",
    "# Cantidad de palabras máximas por ejemplo\n",
    "# (Las más utilizadas)\n",
    "maxlen = 5\n",
    "\n",
    "# Preparamos la capa de embeddingsn(Predefinimos una cantidad de\n",
    "# 5000 palabras consideradas como tokens\n",
    "tokenizer_NI = Tokenizer(num_words=5000)\n",
    "tokenizer_NIIA = Tokenizer(num_words=5000)\n",
    "tokenizer_NIIB = Tokenizer(num_words=5000)\n",
    "\n",
    "# Transforma cada texto en una secuencia de valores enteros para cada modelo que haremos\n",
    "tokenizer_NI.fit_on_texts(X_NI)\n",
    "X_NI_Tok = tokenizer_NI.texts_to_sequences(X_NI)\n",
    "tokenizer_NIIA.fit_on_texts(X_NIIA)\n",
    "X_NIIA_Tok = tokenizer_NIIA.texts_to_sequences(X_NIIA)\n",
    "tokenizer_NIIB.fit_on_texts(X_NIIB)\n",
    "X_NIIB_Tok = tokenizer_NIIB.texts_to_sequences(X_NIIB)\n",
    "\n",
    "# Especificamos la matriz (Con padding hasta maxlen)\n",
    "X_NI_train = pad_sequences(X_NI_Tok, padding='post', maxlen=maxlen)\n",
    "X_NIIA_train = pad_sequences(X_NIIA_Tok, padding='post', maxlen=maxlen)\n",
    "X_NIIB_train = pad_sequences(X_NIIB_Tok, padding='post', maxlen=maxlen)\n"
   ]
  },
  {
   "cell_type": "code",
   "execution_count": 108,
   "metadata": {
    "id": "lPCepYiWqDyr",
    "outputId": "cc179339-358f-4c64-96c8-9346a1a87bde",
    "ExecuteTime": {
     "end_time": "2023-11-06T05:51:47.379604800Z",
     "start_time": "2023-11-06T05:51:46.954347400Z"
    }
   },
   "outputs": [
    {
     "name": "stdout",
     "output_type": "stream",
     "text": [
      "Matriz de entrada para NI:\n",
      "[[  5  17  18   0   0]\n",
      " [  5   6   7   0   0]\n",
      " [  6   7   0   0   0]\n",
      " [  3   8   6   7   0]\n",
      " [ 10   6   7   0   0]\n",
      " [ 26  27  18   7   0]\n",
      " [  5   6   9   0   0]\n",
      " [  3   8   6   9   0]\n",
      " [ 26  27  18   9   0]\n",
      " [ 10   6   9   0   0]\n",
      " [ 19   9   0   0   0]\n",
      " [ 19   7   0   0   0]\n",
      " [  5  11   4   0   0]\n",
      " [  5  16   4   0   0]\n",
      " [ 28  16   4   0   0]\n",
      " [  5  11   4   1   0]\n",
      " [ 28   4   1   0   0]\n",
      " [  3   8  11   4   0]\n",
      " [  3   8  16   4   0]\n",
      " [  5  11   4   9   0]\n",
      " [  3   8  16   4   9]\n",
      " [  5  11   4   7   0]\n",
      " [  5  19  45   0   0]\n",
      " [ 29  12   1   0   0]\n",
      " [ 46  30   1   0   0]\n",
      " [  2  47   1   0   0]\n",
      " [  2  48   1   0   0]\n",
      " [  3  31  12   1   0]\n",
      " [  2  49  50   1  51]\n",
      " [ 32   1  52  12  53]\n",
      " [  2  30   1  54  55]\n",
      " [ 32  56  20  12  57]\n",
      " [ 58  33  59  60   1]\n",
      " [ 62  21  63  64   1]\n",
      " [ 22  65  34  66   1]\n",
      " [ 35  20  67  68   1]\n",
      " [  3   8  34  69   1]\n",
      " [ 21  71  36  72   1]\n",
      " [ 22  73  74   1   0]\n",
      " [  2  75  76  77   1]\n",
      " [ 78  79  36  80   0]\n",
      " [ 81  20  12  82   1]\n",
      " [  2  13  83  14   1]\n",
      " [  2  10  24  25   0]\n",
      " [ 35  21  84  15  14]\n",
      " [ 29  37  15  38   0]\n",
      " [  2  39  85  40   0]\n",
      " [  2  41  86  14   0]\n",
      " [ 87  10  88  89  25]\n",
      " [  2  90  91   0   0]\n",
      " [ 92  42  10  17  14]\n",
      " [ 43  93  13  24  40]\n",
      " [ 37  15  10  94  95]\n",
      " [  8  33  13  96  38]\n",
      " [ 97  98  17  99   1]\n",
      " [ 23 100 101  42 102]\n",
      " [ 44  13  24  14  25]\n",
      " [104  13  15 105 106]\n",
      " [ 43  39 107 108   0]\n",
      " [  2 109 110 111 112]\n",
      " [ 31 113  41  15 114]\n",
      " [  2  44 115 116   0]]\n"
     ]
    }
   ],
   "source": [
    "print(\"Matriz de entrada para NI:\")\n",
    "print(X_NI_train)"
   ]
  },
  {
   "cell_type": "code",
   "execution_count": 109,
   "metadata": {
    "id": "jrkhqGluqDy3",
    "outputId": "920cfd66-d0f2-46b0-d751-ff002f8cfd11",
    "ExecuteTime": {
     "end_time": "2023-11-06T05:51:47.380602300Z",
     "start_time": "2023-11-06T05:51:46.970864500Z"
    }
   },
   "outputs": [
    {
     "name": "stdout",
     "output_type": "stream",
     "text": [
      "Matriz de entrada para NIIA:\n",
      "[[41  5 14  0  0]\n",
      " [42 43  0  0  0]\n",
      " [15 16 17  5 18]\n",
      " [19  5 20  0  0]\n",
      " [44 45  5 46  0]\n",
      " [ 1  5 11 21  0]\n",
      " [22 23 47 24  0]\n",
      " [25  5 48  0  0]\n",
      " [ 1  6 14  0  0]\n",
      " [15 16 17  6 18]\n",
      " [19  6 20  0  0]\n",
      " [ 1  6 11 21  0]\n",
      " [22 23 49 24  0]\n",
      " [ 1  6 50 51  0]\n",
      " [25  6 52  0  0]\n",
      " [ 1 53  0  0  0]\n",
      " [ 7  4 12  0  0]\n",
      " [ 7  4 26 12  0]\n",
      " [ 1  4 27  0  0]\n",
      " [ 1  4 28  0  0]\n",
      " [ 1  4 29  0  0]\n",
      " [ 1  4 30  0  0]\n",
      " [ 1  4 31  0  0]\n",
      " [ 1  4 32  0  0]\n",
      " [ 1  4 33  0  0]\n",
      " [ 7  3 12  0  0]\n",
      " [ 7  3 26 12  0]\n",
      " [ 7  3 34 54  0]\n",
      " [ 7  3 34 55  0]\n",
      " [ 1  3 27  0  0]\n",
      " [ 1  3 28  0  0]\n",
      " [ 1  3 29  0  0]\n",
      " [ 1  3 30  0  0]\n",
      " [ 1  3 31  0  0]\n",
      " [ 1  3 32  0  0]\n",
      " [ 1  3 33  0  0]\n",
      " [13 35  0  0  0]\n",
      " [13 35  0  0  0]\n",
      " [56 13  0  0  0]\n",
      " [ 8 36  2  0  0]\n",
      " [ 8 37  2  0  0]\n",
      " [ 8 38  2  0  0]\n",
      " [ 9 10 36  2  0]\n",
      " [ 9 10 37  2  0]\n",
      " [ 9 10 38  2  0]\n",
      " [ 8 11  2  0  0]\n",
      " [ 8 39  2  0  0]\n",
      " [ 8 40  2  0  0]\n",
      " [ 9 10 11  2  0]\n",
      " [ 9 10 39  2  0]\n",
      " [ 9 10 40  2  0]]\n"
     ]
    }
   ],
   "source": [
    "print(\"Matriz de entrada para NIIA:\")\n",
    "print(X_NIIA_train)"
   ]
  },
  {
   "cell_type": "code",
   "execution_count": 110,
   "metadata": {
    "id": "gcndmB1GqDzI",
    "outputId": "fb8ab50c-bc4f-4ddb-d760-eeeda30c326e",
    "ExecuteTime": {
     "end_time": "2023-11-06T05:51:47.380602300Z",
     "start_time": "2023-11-06T05:51:46.988882500Z"
    }
   },
   "outputs": [
    {
     "name": "stdout",
     "output_type": "stream",
     "text": [
      "Matriz de entrada para NIIB:\n",
      "[[ 1  8 12  0  0]\n",
      " [ 4  5 18  0  0]\n",
      " [13 14  8 19 20]\n",
      " [13 14  5 21  0]\n",
      " [ 1  5 22  0  0]\n",
      " [ 1  5 12  0  0]\n",
      " [ 1  8 15  0  0]\n",
      " [ 1  5 15  0  0]\n",
      " [ 4 23  2  6  0]\n",
      " [ 4 24  7  6  0]\n",
      " [25 26  2  0  0]\n",
      " [16  6 27 28  2]\n",
      " [ 4  3 29  0  0]\n",
      " [ 4  3 30  0  0]\n",
      " [ 4 31 32  0  0]\n",
      " [ 1  3 33  0  0]\n",
      " [ 1  9 10  7  0]\n",
      " [16  6  3 34  2]\n",
      " [ 1 17 35 36  7]\n",
      " [ 3 10 37  2  0]\n",
      " [ 1  9 10 38  0]\n",
      " [ 1 17 39  2  0]\n",
      " [ 3 11 40  2  0]\n",
      " [ 1  9 11  2  0]\n",
      " [ 3 11  7  0  0]]\n"
     ]
    }
   ],
   "source": [
    "print(\"Matriz de entrada para NIIB:\")\n",
    "print(X_NIIB_train)"
   ]
  },
  {
   "cell_type": "code",
   "execution_count": 111,
   "metadata": {
    "id": "KqwMAfx-qDzS",
    "ExecuteTime": {
     "end_time": "2023-11-06T05:52:53.078576700Z",
     "start_time": "2023-11-06T05:51:47.003903500Z"
    }
   },
   "outputs": [],
   "source": [
    "# Declaración de librerías para manejo de arreglos (Numpy)\n",
    "from numpy import asarray\n",
    "from numpy import zeros\n",
    "\n",
    "# Lectura del archivo de embeddings\n",
    "embeddings_dictionary = dict()\n",
    "Embeddings_file = open('Word2Vect_Spanish.txt', encoding=\"utf8\")\n",
    "\n",
    "# Extraemos las características del archivo de embeddings\n",
    "# y las agregamos a un diccionario (Cada elemento es un vextor)\n",
    "for linea in Embeddings_file:\n",
    "    caracts = linea.split()\n",
    "    palabra = caracts[0]\n",
    "    vector = asarray(caracts[1:], dtype='float32')\n",
    "    embeddings_dictionary[palabra] = vector\n",
    "Embeddings_file.close()"
   ]
  },
  {
   "cell_type": "code",
   "execution_count": 112,
   "metadata": {
    "id": "StTQjg7rqDzb",
    "ExecuteTime": {
     "end_time": "2023-11-06T05:52:53.093896Z",
     "start_time": "2023-11-06T05:52:53.084814700Z"
    }
   },
   "outputs": [],
   "source": [
    "# Asignamos los embeddings correspondientes a cada matriz \n",
    "# con la que se entrenarán los modelos por medio de un método\n",
    "def Asignar_Embeddings(tokenizer, vocab_size):\n",
    "    # Generamos la matriz de embeddings (Con 300 Características)\n",
    "    embedding_matrix = zeros((vocab_size, 300))\n",
    "    for word, index in tokenizer.word_index.items():\n",
    "        # Extraemos el vector de embedding para cada palabra\n",
    "        embedding_vector = embeddings_dictionary.get(word)\n",
    "        # Si la palbra si existía en el vocabulario\n",
    "        # agregamos su vector de embeddings en la matriz\n",
    "        if embedding_vector is not None:\n",
    "            embedding_matrix[index] = embedding_vector\n",
    "    return embedding_matrix"
   ]
  },
  {
   "cell_type": "code",
   "execution_count": 113,
   "metadata": {
    "id": "eHCZerdtqDzh",
    "ExecuteTime": {
     "end_time": "2023-11-06T05:52:53.120126500Z",
     "start_time": "2023-11-06T05:52:53.095095Z"
    }
   },
   "outputs": [],
   "source": [
    "# Obtenemos las matrices de Embeddings para cada modelo\n",
    "# Y también el tamaño del vocabulario para cada uno\n",
    "vocab_size_NI = len(tokenizer_NI.word_index) + 1\n",
    "embedding_matrix_NI = Asignar_Embeddings(tokenizer_NI, vocab_size_NI)\n",
    "\n",
    "vocab_size_NIIA = len(tokenizer_NIIA.word_index) + 1\n",
    "embedding_matrix_NIIA = Asignar_Embeddings(tokenizer_NIIA, vocab_size_NIIA)\n",
    "\n",
    "vocab_size_NIIB = len(tokenizer_NIIB.word_index) + 1\n",
    "embedding_matrix_NIIB = Asignar_Embeddings(tokenizer_NIIB, vocab_size_NIIB)"
   ]
  },
  {
   "cell_type": "code",
   "execution_count": 114,
   "metadata": {
    "id": "6OOVzOViqDzr",
    "ExecuteTime": {
     "end_time": "2023-11-06T05:52:53.136122300Z",
     "start_time": "2023-11-06T05:52:53.112611900Z"
    }
   },
   "outputs": [],
   "source": [
    "# Declaración de modelo Secuencial que usaremos para todos los casos\n",
    "from keras.models import Sequential\n",
    "from keras.layers.core import Dense\n",
    "from keras.layers import LSTM\n",
    "from keras.layers import Embedding"
   ]
  },
  {
   "cell_type": "code",
   "execution_count": 115,
   "metadata": {
    "id": "5pWpDUTnqD0D",
    "ExecuteTime": {
     "end_time": "2023-11-06T05:52:53.154673500Z",
     "start_time": "2023-11-06T05:52:53.128639600Z"
    }
   },
   "outputs": [],
   "source": [
    "# Definición del método para tener la arquitectura de los modelos para cada nivel contextual\n",
    "def Definir_Modelos(vocab_size, embedding_matrix, X_train, labels):\n",
    "    # Declaración de las capas del modelo LSTM\n",
    "    model = Sequential()\n",
    "    embedding_layer = Embedding(vocab_size, 300, weights=[embedding_matrix], input_length=X_train.shape[1],\n",
    "                                trainable=False)\n",
    "    model.add(embedding_layer)\n",
    "    model.add(LSTM(100, dropout=0.2, recurrent_dropout=0.2))\n",
    "    model.add(Dense(len(labels), activation='softmax'))\n",
    "\n",
    "    # Compilación del modelo\n",
    "    model.compile(loss='categorical_crossentropy', optimizer='adam', metrics=['accuracy'])\n",
    "    print(model.summary())\n",
    "\n",
    "    print(\"\\nPalabras en el vocabulario:\")\n",
    "    print(vocab_size)\n",
    "    return model"
   ]
  },
  {
   "cell_type": "code",
   "execution_count": 116,
   "metadata": {
    "id": "0fagAWujqD0M",
    "outputId": "ebd13cee-1f44-450a-d8df-efb7a0db57ea",
    "ExecuteTime": {
     "end_time": "2023-11-06T05:52:53.324176Z",
     "start_time": "2023-11-06T05:52:53.143631600Z"
    }
   },
   "outputs": [
    {
     "name": "stdout",
     "output_type": "stream",
     "text": [
      "Model: \"sequential_6\"\n",
      "_________________________________________________________________\n",
      " Layer (type)                Output Shape              Param #   \n",
      "=================================================================\n",
      " embedding_6 (Embedding)     (None, 5, 300)            35100     \n",
      "                                                                 \n",
      " lstm_6 (LSTM)               (None, 100)               160400    \n",
      "                                                                 \n",
      " dense_6 (Dense)             (None, 4)                 404       \n",
      "                                                                 \n",
      "=================================================================\n",
      "Total params: 195,904\n",
      "Trainable params: 160,804\n",
      "Non-trainable params: 35,100\n",
      "_________________________________________________________________\n",
      "None\n",
      "\n",
      "Palabras en el vocabulario:\n",
      "117\n"
     ]
    }
   ],
   "source": [
    "# Generamos la arquitectura para el modelo de NI\n",
    "model_NI = Definir_Modelos(vocab_size_NI, embedding_matrix_NI, X_NI_train, NI.keys())"
   ]
  },
  {
   "cell_type": "code",
   "execution_count": 117,
   "metadata": {
    "id": "gr9tY4nAqD0a",
    "outputId": "90ca207d-24e6-4705-a67b-e5f79ef0aa28",
    "ExecuteTime": {
     "end_time": "2023-11-06T05:52:53.450161800Z",
     "start_time": "2023-11-06T05:52:53.300654200Z"
    }
   },
   "outputs": [
    {
     "name": "stdout",
     "output_type": "stream",
     "text": [
      "Model: \"sequential_7\"\n",
      "_________________________________________________________________\n",
      " Layer (type)                Output Shape              Param #   \n",
      "=================================================================\n",
      " embedding_7 (Embedding)     (None, 5, 300)            17100     \n",
      "                                                                 \n",
      " lstm_7 (LSTM)               (None, 100)               160400    \n",
      "                                                                 \n",
      " dense_7 (Dense)             (None, 4)                 404       \n",
      "                                                                 \n",
      "=================================================================\n",
      "Total params: 177,904\n",
      "Trainable params: 160,804\n",
      "Non-trainable params: 17,100\n",
      "_________________________________________________________________\n",
      "None\n",
      "\n",
      "Palabras en el vocabulario:\n",
      "57\n"
     ]
    }
   ],
   "source": [
    "# Generamos la arquitectura para el modelo de NIIA\n",
    "model_NIIA = Definir_Modelos(vocab_size_NIIA, embedding_matrix_NIIA, X_NIIA_train, NIIA.keys())"
   ]
  },
  {
   "cell_type": "code",
   "execution_count": 118,
   "metadata": {
    "id": "2LOUkuR4qD0h",
    "outputId": "cce08e90-3504-4be2-9cfd-4561e05e3249",
    "ExecuteTime": {
     "end_time": "2023-11-06T05:52:53.599008500Z",
     "start_time": "2023-11-06T05:52:53.440642100Z"
    }
   },
   "outputs": [
    {
     "name": "stdout",
     "output_type": "stream",
     "text": [
      "Model: \"sequential_8\"\n",
      "_________________________________________________________________\n",
      " Layer (type)                Output Shape              Param #   \n",
      "=================================================================\n",
      " embedding_8 (Embedding)     (None, 5, 300)            12300     \n",
      "                                                                 \n",
      " lstm_8 (LSTM)               (None, 100)               160400    \n",
      "                                                                 \n",
      " dense_8 (Dense)             (None, 3)                 303       \n",
      "                                                                 \n",
      "=================================================================\n",
      "Total params: 173,003\n",
      "Trainable params: 160,703\n",
      "Non-trainable params: 12,300\n",
      "_________________________________________________________________\n",
      "None\n",
      "\n",
      "Palabras en el vocabulario:\n",
      "41\n"
     ]
    }
   ],
   "source": [
    "# Generamos la arquitectura para el modelo de NIIB\n",
    "model_NIIB = Definir_Modelos(vocab_size_NIIB, embedding_matrix_NIIB, X_NIIB_train, NIIB.keys())"
   ]
  },
  {
   "cell_type": "code",
   "execution_count": 119,
   "metadata": {
    "id": "N4jIB2_jqD0p",
    "ExecuteTime": {
     "end_time": "2023-11-06T05:52:53.632496900Z",
     "start_time": "2023-11-06T05:52:53.582971400Z"
    }
   },
   "outputs": [],
   "source": [
    "# Declaramos el método para entrenar cada modelo\n",
    "from keras.utils.np_utils import to_categorical\n",
    "\n",
    "\n",
    "def Entrenar_Modelos(X_train, Y, model, labels):\n",
    "    # Declaramos librería para convertir la salida en un vector \n",
    "    # de X elementos con activación en la columna correspondiente\n",
    "    # a su categoría\n",
    "    train_labels = to_categorical(Y, num_classes=len(labels))\n",
    "    print('Matriz de salidas')\n",
    "    print(train_labels)\n",
    "\n",
    "    # Ajuste de los datos de entrenamiento al modelo creado\n",
    "    history = model.fit(X_train, train_labels, epochs=30, batch_size=1, verbose=1)\n",
    "\n",
    "    # Cálculo de los procentajes de Eficiencia y pérdida \n",
    "    score = model.evaluate(X_train, train_labels, verbose=1)\n",
    "    print(\"\\nTest Loss:\", score[0])\n",
    "    print(\"Test Accuracy:\", score[1])\n",
    "    return history"
   ]
  },
  {
   "cell_type": "code",
   "execution_count": 120,
   "metadata": {
    "id": "Z-MVeuwKqD0w",
    "outputId": "59ec4dee-801c-4e1f-d15e-332fa2890a5a",
    "ExecuteTime": {
     "end_time": "2023-11-06T05:53:07.872057500Z",
     "start_time": "2023-11-06T05:52:53.600010200Z"
    }
   },
   "outputs": [
    {
     "name": "stdout",
     "output_type": "stream",
     "text": [
      "Matriz de salidas\n",
      "[[1. 0. 0. 0.]\n",
      " [1. 0. 0. 0.]\n",
      " [1. 0. 0. 0.]\n",
      " [1. 0. 0. 0.]\n",
      " [1. 0. 0. 0.]\n",
      " [1. 0. 0. 0.]\n",
      " [1. 0. 0. 0.]\n",
      " [1. 0. 0. 0.]\n",
      " [1. 0. 0. 0.]\n",
      " [1. 0. 0. 0.]\n",
      " [1. 0. 0. 0.]\n",
      " [1. 0. 0. 0.]\n",
      " [0. 1. 0. 0.]\n",
      " [0. 1. 0. 0.]\n",
      " [0. 1. 0. 0.]\n",
      " [0. 1. 0. 0.]\n",
      " [0. 1. 0. 0.]\n",
      " [0. 1. 0. 0.]\n",
      " [0. 1. 0. 0.]\n",
      " [0. 1. 0. 0.]\n",
      " [0. 1. 0. 0.]\n",
      " [0. 1. 0. 0.]\n",
      " [0. 1. 0. 0.]\n",
      " [0. 0. 1. 0.]\n",
      " [0. 0. 1. 0.]\n",
      " [0. 0. 1. 0.]\n",
      " [0. 0. 1. 0.]\n",
      " [0. 0. 1. 0.]\n",
      " [0. 0. 1. 0.]\n",
      " [0. 0. 1. 0.]\n",
      " [0. 0. 1. 0.]\n",
      " [0. 0. 1. 0.]\n",
      " [0. 0. 1. 0.]\n",
      " [0. 0. 1. 0.]\n",
      " [0. 0. 1. 0.]\n",
      " [0. 0. 1. 0.]\n",
      " [0. 0. 1. 0.]\n",
      " [0. 0. 1. 0.]\n",
      " [0. 0. 1. 0.]\n",
      " [0. 0. 1. 0.]\n",
      " [0. 0. 1. 0.]\n",
      " [0. 0. 1. 0.]\n",
      " [0. 0. 0. 1.]\n",
      " [0. 0. 0. 1.]\n",
      " [0. 0. 0. 1.]\n",
      " [0. 0. 0. 1.]\n",
      " [0. 0. 0. 1.]\n",
      " [0. 0. 0. 1.]\n",
      " [0. 0. 0. 1.]\n",
      " [0. 0. 0. 1.]\n",
      " [0. 0. 0. 1.]\n",
      " [0. 0. 0. 1.]\n",
      " [0. 0. 0. 1.]\n",
      " [0. 0. 0. 1.]\n",
      " [0. 0. 0. 1.]\n",
      " [0. 0. 0. 1.]\n",
      " [0. 0. 0. 1.]\n",
      " [0. 0. 0. 1.]\n",
      " [0. 0. 0. 1.]\n",
      " [0. 0. 0. 1.]\n",
      " [0. 0. 0. 1.]\n",
      " [0. 0. 0. 1.]]\n",
      "Epoch 1/30\n",
      "62/62 [==============================] - 2s 6ms/step - loss: 1.2196 - accuracy: 0.4194\n",
      "Epoch 2/30\n",
      "62/62 [==============================] - 0s 6ms/step - loss: 0.6676 - accuracy: 0.7581\n",
      "Epoch 3/30\n",
      "62/62 [==============================] - 0s 6ms/step - loss: 0.2310 - accuracy: 0.9677\n",
      "Epoch 4/30\n",
      "62/62 [==============================] - 0s 6ms/step - loss: 0.2614 - accuracy: 0.9516\n",
      "Epoch 5/30\n",
      "62/62 [==============================] - 0s 6ms/step - loss: 0.1348 - accuracy: 0.9516\n",
      "Epoch 6/30\n",
      "62/62 [==============================] - 0s 6ms/step - loss: 0.0400 - accuracy: 0.9839\n",
      "Epoch 7/30\n",
      "62/62 [==============================] - 0s 6ms/step - loss: 0.0388 - accuracy: 1.0000\n",
      "Epoch 8/30\n",
      "62/62 [==============================] - 0s 6ms/step - loss: 0.0172 - accuracy: 1.0000\n",
      "Epoch 9/30\n",
      "62/62 [==============================] - 0s 6ms/step - loss: 0.0286 - accuracy: 1.0000\n",
      "Epoch 10/30\n",
      "62/62 [==============================] - 0s 6ms/step - loss: 0.0150 - accuracy: 1.0000\n",
      "Epoch 11/30\n",
      "62/62 [==============================] - 0s 6ms/step - loss: 0.0087 - accuracy: 1.0000\n",
      "Epoch 12/30\n",
      "62/62 [==============================] - 0s 6ms/step - loss: 0.0113 - accuracy: 1.0000\n",
      "Epoch 13/30\n",
      "62/62 [==============================] - 0s 7ms/step - loss: 0.0068 - accuracy: 1.0000\n",
      "Epoch 14/30\n",
      "62/62 [==============================] - 0s 6ms/step - loss: 0.0028 - accuracy: 1.0000\n",
      "Epoch 15/30\n",
      "62/62 [==============================] - 0s 7ms/step - loss: 0.0017 - accuracy: 1.0000\n",
      "Epoch 16/30\n",
      "62/62 [==============================] - 0s 6ms/step - loss: 0.0015 - accuracy: 1.0000\n",
      "Epoch 17/30\n",
      "62/62 [==============================] - 0s 6ms/step - loss: 0.0013 - accuracy: 1.0000\n",
      "Epoch 18/30\n",
      "62/62 [==============================] - 0s 7ms/step - loss: 7.6910e-04 - accuracy: 1.0000\n",
      "Epoch 19/30\n",
      "62/62 [==============================] - 0s 6ms/step - loss: 0.0015 - accuracy: 1.0000\n",
      "Epoch 20/30\n",
      "62/62 [==============================] - 0s 6ms/step - loss: 6.3225e-04 - accuracy: 1.0000\n",
      "Epoch 21/30\n",
      "62/62 [==============================] - 0s 6ms/step - loss: 6.1771e-04 - accuracy: 1.0000\n",
      "Epoch 22/30\n",
      "62/62 [==============================] - 0s 6ms/step - loss: 5.5663e-04 - accuracy: 1.0000\n",
      "Epoch 23/30\n",
      "62/62 [==============================] - 0s 6ms/step - loss: 4.4925e-04 - accuracy: 1.0000\n",
      "Epoch 24/30\n",
      "62/62 [==============================] - 0s 6ms/step - loss: 6.0350e-04 - accuracy: 1.0000\n",
      "Epoch 25/30\n",
      "62/62 [==============================] - 0s 7ms/step - loss: 6.8018e-04 - accuracy: 1.0000\n",
      "Epoch 26/30\n",
      "62/62 [==============================] - 0s 7ms/step - loss: 3.6647e-04 - accuracy: 1.0000\n",
      "Epoch 27/30\n",
      "62/62 [==============================] - 0s 7ms/step - loss: 5.2919e-04 - accuracy: 1.0000\n",
      "Epoch 28/30\n",
      "62/62 [==============================] - 0s 7ms/step - loss: 3.8665e-04 - accuracy: 1.0000\n",
      "Epoch 29/30\n",
      "62/62 [==============================] - 0s 7ms/step - loss: 5.3649e-04 - accuracy: 1.0000\n",
      "Epoch 30/30\n",
      "62/62 [==============================] - 0s 7ms/step - loss: 7.2744e-04 - accuracy: 1.0000\n",
      "2/2 [==============================] - 0s 4ms/step - loss: 1.4738e-04 - accuracy: 1.0000\n",
      "\n",
      "Test Loss: 0.00014737548190169036\n",
      "Test Accuracy: 1.0\n"
     ]
    }
   ],
   "source": [
    "# Entrenamos el modelo del nivel NI y obtenemos el historial de las épocas para realizar su gráfica\n",
    "history_NI = Entrenar_Modelos(X_NI_train, Y_NI, model_NI, NI.keys())"
   ]
  },
  {
   "cell_type": "code",
   "execution_count": 121,
   "metadata": {
    "id": "ILAqDd2wqD06",
    "outputId": "1b9cd1cd-aac4-4622-90c2-f8c2cc3e2387",
    "ExecuteTime": {
     "end_time": "2023-11-06T05:53:21.075506800Z",
     "start_time": "2023-11-06T05:53:07.873562900Z"
    }
   },
   "outputs": [
    {
     "name": "stdout",
     "output_type": "stream",
     "text": [
      "Matriz de salidas\n",
      "[[1. 0. 0. 0.]\n",
      " [1. 0. 0. 0.]\n",
      " [1. 0. 0. 0.]\n",
      " [1. 0. 0. 0.]\n",
      " [1. 0. 0. 0.]\n",
      " [1. 0. 0. 0.]\n",
      " [1. 0. 0. 0.]\n",
      " [1. 0. 0. 0.]\n",
      " [1. 0. 0. 0.]\n",
      " [1. 0. 0. 0.]\n",
      " [1. 0. 0. 0.]\n",
      " [1. 0. 0. 0.]\n",
      " [1. 0. 0. 0.]\n",
      " [1. 0. 0. 0.]\n",
      " [1. 0. 0. 0.]\n",
      " [0. 1. 0. 0.]\n",
      " [0. 1. 0. 0.]\n",
      " [0. 1. 0. 0.]\n",
      " [0. 1. 0. 0.]\n",
      " [0. 1. 0. 0.]\n",
      " [0. 1. 0. 0.]\n",
      " [0. 1. 0. 0.]\n",
      " [0. 1. 0. 0.]\n",
      " [0. 1. 0. 0.]\n",
      " [0. 1. 0. 0.]\n",
      " [0. 0. 1. 0.]\n",
      " [0. 0. 1. 0.]\n",
      " [0. 0. 1. 0.]\n",
      " [0. 0. 1. 0.]\n",
      " [0. 0. 1. 0.]\n",
      " [0. 0. 1. 0.]\n",
      " [0. 0. 1. 0.]\n",
      " [0. 0. 1. 0.]\n",
      " [0. 0. 1. 0.]\n",
      " [0. 0. 1. 0.]\n",
      " [0. 0. 1. 0.]\n",
      " [0. 0. 0. 1.]\n",
      " [0. 0. 0. 1.]\n",
      " [0. 0. 0. 1.]\n",
      " [0. 0. 0. 1.]\n",
      " [0. 0. 0. 1.]\n",
      " [0. 0. 0. 1.]\n",
      " [0. 0. 0. 1.]\n",
      " [0. 0. 0. 1.]\n",
      " [0. 0. 0. 1.]\n",
      " [0. 0. 0. 1.]\n",
      " [0. 0. 0. 1.]\n",
      " [0. 0. 0. 1.]\n",
      " [0. 0. 0. 1.]\n",
      " [0. 0. 0. 1.]\n",
      " [0. 0. 0. 1.]]\n",
      "Epoch 1/30\n",
      "51/51 [==============================] - 2s 7ms/step - loss: 1.3084 - accuracy: 0.5882\n",
      "Epoch 2/30\n",
      "51/51 [==============================] - 0s 7ms/step - loss: 0.6928 - accuracy: 0.7647\n",
      "Epoch 3/30\n",
      "51/51 [==============================] - 0s 7ms/step - loss: 0.2887 - accuracy: 0.9412\n",
      "Epoch 4/30\n",
      "51/51 [==============================] - 0s 7ms/step - loss: 0.0824 - accuracy: 0.9804\n",
      "Epoch 5/30\n",
      "51/51 [==============================] - 0s 7ms/step - loss: 0.0443 - accuracy: 0.9804\n",
      "Epoch 6/30\n",
      "51/51 [==============================] - 0s 7ms/step - loss: 0.0048 - accuracy: 1.0000\n",
      "Epoch 7/30\n",
      "51/51 [==============================] - 0s 7ms/step - loss: 0.0034 - accuracy: 1.0000\n",
      "Epoch 8/30\n",
      "51/51 [==============================] - 0s 7ms/step - loss: 0.0026 - accuracy: 1.0000\n",
      "Epoch 9/30\n",
      "51/51 [==============================] - 0s 7ms/step - loss: 9.5608e-04 - accuracy: 1.0000\n",
      "Epoch 10/30\n",
      "51/51 [==============================] - 0s 7ms/step - loss: 0.0014 - accuracy: 1.0000\n",
      "Epoch 11/30\n",
      "51/51 [==============================] - 0s 7ms/step - loss: 8.6154e-04 - accuracy: 1.0000\n",
      "Epoch 12/30\n",
      "51/51 [==============================] - 0s 7ms/step - loss: 7.9531e-04 - accuracy: 1.0000\n",
      "Epoch 13/30\n",
      "51/51 [==============================] - 0s 7ms/step - loss: 5.6024e-04 - accuracy: 1.0000\n",
      "Epoch 14/30\n",
      "51/51 [==============================] - 0s 7ms/step - loss: 5.3722e-04 - accuracy: 1.0000\n",
      "Epoch 15/30\n",
      "51/51 [==============================] - 0s 7ms/step - loss: 3.6486e-04 - accuracy: 1.0000\n",
      "Epoch 16/30\n",
      "51/51 [==============================] - 0s 7ms/step - loss: 4.2605e-04 - accuracy: 1.0000\n",
      "Epoch 17/30\n",
      "51/51 [==============================] - 0s 7ms/step - loss: 2.6871e-04 - accuracy: 1.0000\n",
      "Epoch 18/30\n",
      "51/51 [==============================] - 0s 7ms/step - loss: 2.6554e-04 - accuracy: 1.0000\n",
      "Epoch 19/30\n",
      "51/51 [==============================] - 0s 7ms/step - loss: 2.2325e-04 - accuracy: 1.0000\n",
      "Epoch 20/30\n",
      "51/51 [==============================] - 0s 7ms/step - loss: 2.5774e-04 - accuracy: 1.0000\n",
      "Epoch 21/30\n",
      "51/51 [==============================] - 0s 7ms/step - loss: 4.5240e-04 - accuracy: 1.0000\n",
      "Epoch 22/30\n",
      "51/51 [==============================] - 0s 7ms/step - loss: 1.8977e-04 - accuracy: 1.0000\n",
      "Epoch 23/30\n",
      "51/51 [==============================] - 0s 7ms/step - loss: 1.9016e-04 - accuracy: 1.0000\n",
      "Epoch 24/30\n",
      "51/51 [==============================] - 0s 7ms/step - loss: 1.5057e-04 - accuracy: 1.0000\n",
      "Epoch 25/30\n",
      "51/51 [==============================] - 0s 7ms/step - loss: 1.7982e-04 - accuracy: 1.0000\n",
      "Epoch 26/30\n",
      "51/51 [==============================] - 0s 7ms/step - loss: 1.1650e-04 - accuracy: 1.0000\n",
      "Epoch 27/30\n",
      "51/51 [==============================] - 0s 7ms/step - loss: 1.0087e-04 - accuracy: 1.0000\n",
      "Epoch 28/30\n",
      "51/51 [==============================] - 0s 7ms/step - loss: 1.0073e-04 - accuracy: 1.0000\n",
      "Epoch 29/30\n",
      "51/51 [==============================] - 0s 7ms/step - loss: 9.3535e-05 - accuracy: 1.0000\n",
      "Epoch 30/30\n",
      "51/51 [==============================] - 0s 7ms/step - loss: 9.7291e-05 - accuracy: 1.0000\n",
      "2/2 [==============================] - 0s 8ms/step - loss: 6.0754e-05 - accuracy: 1.0000\n",
      "\n",
      "Test Loss: 6.0754333389922976e-05\n",
      "Test Accuracy: 1.0\n"
     ]
    }
   ],
   "source": [
    "# Entrenamos el modelo del nivel NIIA y obtenemos el historial de las épocas para realizar su gráfica\n",
    "history_NIIA = Entrenar_Modelos(X_NIIA_train, Y_NIIA, model_NIIA, NIIA.keys())"
   ]
  },
  {
   "cell_type": "code",
   "execution_count": 122,
   "metadata": {
    "id": "YWlw-BCFqD1C",
    "outputId": "c0bafdb6-c70a-4cca-80b1-b3201fa5084e",
    "ExecuteTime": {
     "end_time": "2023-11-06T05:53:28.622889400Z",
     "start_time": "2023-11-06T05:53:21.037449Z"
    }
   },
   "outputs": [
    {
     "name": "stdout",
     "output_type": "stream",
     "text": [
      "Matriz de salidas\n",
      "[[1. 0. 0.]\n",
      " [1. 0. 0.]\n",
      " [1. 0. 0.]\n",
      " [1. 0. 0.]\n",
      " [1. 0. 0.]\n",
      " [1. 0. 0.]\n",
      " [1. 0. 0.]\n",
      " [1. 0. 0.]\n",
      " [0. 1. 0.]\n",
      " [0. 1. 0.]\n",
      " [0. 1. 0.]\n",
      " [0. 1. 0.]\n",
      " [0. 1. 0.]\n",
      " [0. 1. 0.]\n",
      " [0. 1. 0.]\n",
      " [0. 1. 0.]\n",
      " [0. 0. 1.]\n",
      " [0. 0. 1.]\n",
      " [0. 0. 1.]\n",
      " [0. 0. 1.]\n",
      " [0. 0. 1.]\n",
      " [0. 0. 1.]\n",
      " [0. 0. 1.]\n",
      " [0. 0. 1.]\n",
      " [0. 0. 1.]]\n",
      "Epoch 1/30\n",
      "25/25 [==============================] - 2s 7ms/step - loss: 1.0856 - accuracy: 0.4000\n",
      "Epoch 2/30\n",
      "25/25 [==============================] - 0s 7ms/step - loss: 0.9403 - accuracy: 0.7600\n",
      "Epoch 3/30\n",
      "25/25 [==============================] - 0s 6ms/step - loss: 0.6708 - accuracy: 0.7600\n",
      "Epoch 4/30\n",
      "25/25 [==============================] - 0s 7ms/step - loss: 0.2848 - accuracy: 0.9200\n",
      "Epoch 5/30\n",
      "25/25 [==============================] - 0s 7ms/step - loss: 0.0620 - accuracy: 1.0000\n",
      "Epoch 6/30\n",
      "25/25 [==============================] - 0s 7ms/step - loss: 0.1929 - accuracy: 0.9200\n",
      "Epoch 7/30\n",
      "25/25 [==============================] - 0s 7ms/step - loss: 0.2131 - accuracy: 0.9600\n",
      "Epoch 8/30\n",
      "25/25 [==============================] - 0s 7ms/step - loss: 0.0206 - accuracy: 1.0000\n",
      "Epoch 9/30\n",
      "25/25 [==============================] - 0s 7ms/step - loss: 0.0239 - accuracy: 1.0000\n",
      "Epoch 10/30\n",
      "25/25 [==============================] - 0s 7ms/step - loss: 0.0142 - accuracy: 1.0000\n",
      "Epoch 11/30\n",
      "25/25 [==============================] - 0s 7ms/step - loss: 0.0052 - accuracy: 1.0000\n",
      "Epoch 12/30\n",
      "25/25 [==============================] - 0s 7ms/step - loss: 0.0055 - accuracy: 1.0000\n",
      "Epoch 13/30\n",
      "25/25 [==============================] - 0s 7ms/step - loss: 0.0091 - accuracy: 1.0000\n",
      "Epoch 14/30\n",
      "25/25 [==============================] - 0s 7ms/step - loss: 0.0030 - accuracy: 1.0000\n",
      "Epoch 15/30\n",
      "25/25 [==============================] - 0s 7ms/step - loss: 0.0021 - accuracy: 1.0000\n",
      "Epoch 16/30\n",
      "25/25 [==============================] - 0s 7ms/step - loss: 0.0015 - accuracy: 1.0000\n",
      "Epoch 17/30\n",
      "25/25 [==============================] - 0s 7ms/step - loss: 0.0020 - accuracy: 1.0000\n",
      "Epoch 18/30\n",
      "25/25 [==============================] - 0s 8ms/step - loss: 0.0020 - accuracy: 1.0000\n",
      "Epoch 19/30\n",
      "25/25 [==============================] - 0s 7ms/step - loss: 0.0019 - accuracy: 1.0000\n",
      "Epoch 20/30\n",
      "25/25 [==============================] - 0s 8ms/step - loss: 6.0336e-04 - accuracy: 1.0000\n",
      "Epoch 21/30\n",
      "25/25 [==============================] - 0s 10ms/step - loss: 0.0012 - accuracy: 1.0000\n",
      "Epoch 22/30\n",
      "25/25 [==============================] - 0s 8ms/step - loss: 0.0014 - accuracy: 1.0000\n",
      "Epoch 23/30\n",
      "25/25 [==============================] - 0s 7ms/step - loss: 8.9977e-04 - accuracy: 1.0000\n",
      "Epoch 24/30\n",
      "25/25 [==============================] - 0s 7ms/step - loss: 0.0051 - accuracy: 1.0000\n",
      "Epoch 25/30\n",
      "25/25 [==============================] - 0s 7ms/step - loss: 0.0016 - accuracy: 1.0000\n",
      "Epoch 26/30\n",
      "25/25 [==============================] - 0s 7ms/step - loss: 0.0157 - accuracy: 1.0000\n",
      "Epoch 27/30\n",
      "25/25 [==============================] - 0s 7ms/step - loss: 0.0014 - accuracy: 1.0000\n",
      "Epoch 28/30\n",
      "25/25 [==============================] - 0s 7ms/step - loss: 6.8403e-04 - accuracy: 1.0000\n",
      "Epoch 29/30\n",
      "25/25 [==============================] - 0s 7ms/step - loss: 0.0038 - accuracy: 1.0000\n",
      "Epoch 30/30\n",
      "25/25 [==============================] - 0s 7ms/step - loss: 0.0024 - accuracy: 1.0000\n",
      "1/1 [==============================] - 0s 349ms/step - loss: 3.9880e-04 - accuracy: 1.0000\n",
      "\n",
      "Test Loss: 0.0003987950331065804\n",
      "Test Accuracy: 1.0\n"
     ]
    }
   ],
   "source": [
    "# Entrenamos el modelo del nivel NIIB y obtenemos el historial de las épocas para realizar su gráfica\n",
    "history_NIIB = Entrenar_Modelos(X_NIIB_train, Y_NIIB, model_NIIB, NIIB.keys())"
   ]
  },
  {
   "cell_type": "code",
   "execution_count": 123,
   "metadata": {
    "id": "jV7UPQIHqD1P",
    "ExecuteTime": {
     "end_time": "2023-11-06T05:53:28.637921100Z",
     "start_time": "2023-11-06T05:53:28.616890100Z"
    }
   },
   "outputs": [],
   "source": [
    "# Método para hacer la gráfica de cada modelo\n",
    "# época a época para ver su evolución\n",
    "import matplotlib.pyplot as plt\n",
    "\n",
    "\n",
    "def Grafica_Modelo(history):\n",
    "    # Parámetros de ploteo para la gráfica\n",
    "    plt.figure(figsize=(12, 5))\n",
    "    plt.ylim(-0.1, 1.1)\n",
    "    plt.plot(history.history['accuracy'])\n",
    "    plt.plot(history.history['loss'])\n",
    "    plt.title('model accuracy')\n",
    "    plt.ylabel('accuracy')\n",
    "    plt.xlabel('epoch')\n",
    "    plt.legend(['Acc', 'Loss'])\n",
    "    plt.show()"
   ]
  },
  {
   "cell_type": "code",
   "execution_count": 124,
   "metadata": {
    "id": "m7X-IjGsqD1W",
    "outputId": "f59a7610-4adb-4eba-ff5c-16d840add32d",
    "ExecuteTime": {
     "end_time": "2023-11-06T05:53:28.869661Z",
     "start_time": "2023-11-06T05:53:28.631405100Z"
    }
   },
   "outputs": [
    {
     "data": {
      "text/plain": "<Figure size 1200x500 with 1 Axes>",
      "image/png": "[encoded data removed]"
     },
     "metadata": {},
     "output_type": "display_data"
    }
   ],
   "source": [
    "# Graficar el modelo NI\n",
    "Grafica_Modelo(history_NI)"
   ]
  },
  {
   "cell_type": "code",
   "execution_count": 125,
   "metadata": {
    "id": "sfir3uYHqD1h",
    "outputId": "381d747b-a309-466f-d4ae-3732d05f9363",
    "ExecuteTime": {
     "end_time": "2023-11-06T05:53:29.037616900Z",
     "start_time": "2023-11-06T05:53:28.863647600Z"
    }
   },
   "outputs": [
    {
     "data": {
      "text/plain": "<Figure size 1200x500 with 1 Axes>",
      "image/png": "[encoded data removed]"
     },
     "metadata": {},
     "output_type": "display_data"
    }
   ],
   "source": [
    "# Graficar el modelo NIIA\n",
    "Grafica_Modelo(history_NIIA)"
   ]
  },
  {
   "cell_type": "code",
   "execution_count": 126,
   "metadata": {
    "id": "le9epcUPqD1n",
    "outputId": "9adce420-b1da-4759-c948-4ec43f08f4e5",
    "ExecuteTime": {
     "end_time": "2023-11-06T05:53:29.236683100Z",
     "start_time": "2023-11-06T05:53:29.041611Z"
    }
   },
   "outputs": [
    {
     "data": {
      "text/plain": "<Figure size 1200x500 with 1 Axes>",
      "image/png": "[encoded data removed]"
     },
     "metadata": {},
     "output_type": "display_data"
    }
   ],
   "source": [
    "# Graficar el modelo NIIB\n",
    "Grafica_Modelo(history_NIIB)"
   ]
  },
  {
   "cell_type": "markdown",
   "metadata": {
    "id": "In7eWoTIqD1u"
   },
   "source": [
    "# Programación del Árbol conversacional"
   ]
  },
  {
   "cell_type": "code",
   "execution_count": 127,
   "metadata": {
    "id": "PCsNvV_oqD1y",
    "ExecuteTime": {
     "end_time": "2023-11-06T05:53:29.324400600Z",
     "start_time": "2023-11-06T05:53:29.242680400Z"
    }
   },
   "outputs": [],
   "source": [
    "# El árbol conversacional debe de estar en un estado específico\n",
    "# iniciar en el nivel contextual 1, e ir avanzando conforme a\n",
    "# las decisiones que toma el usuario, como si fuera una máquina \n",
    "# de estados\n",
    "\n",
    "def instancer(inp, model, tags):\n",
    "    inp = inp.lower().replace(\"á\", \"a\").replace(\"é\", \"e\").replace(\"í\", \"i\").replace(\"ó\", \"o\")\n",
    "    inp = inp.replace(\"ú\", \"u\").replace(\"¿\", \"\").replace(\"?\", \"\")\n",
    "    txt = [inp]\n",
    "    seq = tokenizer_NI.texts_to_sequences(txt)\n",
    "    padded = pad_sequences(seq, maxlen=maxlen)\n",
    "\n",
    "    # Add these print statements to debug\n",
    "    # print(\"Input shape before predict:\", padded.shape)\n",
    "    # print(\"Input data:\", padded)\n",
    "\n",
    "    results = model.predict(padded)\n",
    "    results_index = numpy.argmax(results)\n",
    "    tag = list(tags.keys())[results_index]\n",
    "    maxscore = numpy.max(results)\n",
    "    return tag, maxscore\n"
   ]
  },
  {
   "cell_type": "code",
   "execution_count": 128,
   "metadata": {
    "id": "hACpbGDKqD14",
    "ExecuteTime": {
     "end_time": "2023-11-06T05:53:29.324400600Z",
     "start_time": "2023-11-06T05:53:29.258843Z"
    }
   },
   "outputs": [],
   "source": [
    "\n",
    "def Activar_NI(user_input):\n",
    "    # Simula la pregunta inicial cuando se ingresa en el nivel contextual NI\n",
    "    response = \"ChatBot: ¿En qué puedo ayudarte?\"\n",
    "\n",
    "    # Evaluamos la entrada del usuario en lugar de esperar una entrada en un bucle\n",
    "    tag, maxscore = instancer(user_input, model_NI, NI)\n",
    "\n",
    "    # Maneja la lógica de decisión basada en la entrada del usuario y el puntaje del modelo\n",
    "    if maxscore > 0.65 or user_input == 'salir':\n",
    "        if user_input == 'salir':\n",
    "            response = \"ChatBot: Hasta luego, fue un gusto hablar contigo\"\n",
    "            return response, 'salir'\n",
    "\n",
    "        if tag == 'Reservar_Habitacion':\n",
    "            if user_input.count('Tipo_Habitacion') > 0:\n",
    "                next_state = 'NIIA1'\n",
    "            elif user_input.count('Fecha_entrada') > 0:\n",
    "                next_state = 'NIIA2'\n",
    "            elif user_input.count('Fecha_salida') > 0:\n",
    "                next_state = 'NIIA3'\n",
    "            elif user_input.count(\"Num_huespedes\") > 0:\n",
    "                next_state = 'NIIA4'\n",
    "            else:\n",
    "                next_state = 'NIIA'\n",
    "            response = \"ChatBot: Entendido, estás interesado en reservar una habitación.\"\n",
    "\n",
    "        elif tag == 'Servicio_hotel':\n",
    "            if user_input.count('Apartar_espacio') > 0:\n",
    "                next_state = 'NIIB1'\n",
    "            elif user_input.count('Servicio') > 0:\n",
    "                next_state = 'NIIB2'\n",
    "            elif user_input.count('Comida_bebida') > 0:\n",
    "                next_state = 'NIIB3'\n",
    "            else:\n",
    "                next_state = 'NIIB'\n",
    "            response = \"ChatBot: Claro, puedo ayudarte con los servicios del hotel.\"\n",
    "\n",
    "        elif tag == 'Historia_Hotel':\n",
    "            response = \"ChatBot: Desde su apertura en 1920 por el pionero Don Eduardo Mendoza, nuestro hotel es un ícono de la arquitectura Art Deco, diseñado por Carlos Fontana.\\nHa acogido a luminarias como la actriz Clara Estrella en los años 30 y fue el lugar de la histórica cumbre de paz en 1955. Cada habitación cuenta una historia; por ejemplo, la suite 204, donde el novelista Luis Montero escribió su obra maestra. Es un lugar donde la historia y la hospitalidad se encuentran en cada esquina.\"\n",
    "            next_state = 'NI'\n",
    "\n",
    "        elif tag == 'Atracciones_Cercanas':\n",
    "            response = \"Chatbot: En el corazón de la ciudad, nuestro hotel se encuentra a un corto trayecto del Parque Central y a unos minutos del Museo Nacional de Arte, perfecto para los entusiastas de la cultura. Para aquellos interesados en la historia, el Convento de San Francisco está a una caminata de distancia. No te pierdas el Mercado del Sol, ideal para saborear la cocina local y encontrar artesanías únicas. Además, ofrecemos excursiones al Castillo de San Lorenzo, un sitio histórico con vistas espectaculares, a solo media hora en coche.\"\n",
    "            next_state = 'NI'\n",
    "\n",
    "        else:\n",
    "            # Si el tag no coincide con ningún caso conocido, maneja el estado por defecto\n",
    "            next_state = 'NI'\n",
    "            response = \"ChatBot: Puedes preguntarme sobre reservaciones, servicios del hotel, su historia o atracciones cercanas.\"\n",
    "\n",
    "        return response, next_state\n",
    "\n",
    "    else:\n",
    "        # Si la confianza del modelo es baja, pide al usuario que reformule la pregunta\n",
    "        response = \"ChatBot: Lo siento, pero no entendí tu petición, ¿Podrías decirlo de otra forma?\"\n",
    "        return response, 'NI'  # El estado se mantiene igual\n"
   ]
  },
  {
   "cell_type": "code",
   "execution_count": 129,
   "metadata": {
    "id": "iK-5AY2LqD2E",
    "ExecuteTime": {
     "end_time": "2023-11-06T05:53:29.325437400Z",
     "start_time": "2023-11-06T05:53:29.271430300Z"
    }
   },
   "outputs": [],
   "source": [
    "def Activar_NIIA(user_input):\n",
    "    # Simula la pregunta inicial cuando se ingresa en el nivel contextual NIIA\n",
    "    response = \"ChatBot: Entiendo que quieres reservar una habitación, por favor repite 'Reservar Habitación' para iniciar el proceso.\"\n",
    "\n",
    "    # Evaluamos la entrada del usuario en lugar de esperar una entrada en un bucle\n",
    "    tag, maxscore = instancer(user_input, model_NIIA, NIIA)\n",
    "\n",
    "    # Maneja la lógica de decisión basada en la entrada del usuario y el puntaje del modelo\n",
    "    if maxscore > 0.5 or user_input == 'salir' or user_input == 'volver':\n",
    "        if user_input == 'volver':\n",
    "            next_state = 'NI'\n",
    "            response = \"ChatBot: Entendido, volviendo al menú principal.\"\n",
    "        elif user_input == 'salir':\n",
    "            response = \"ChatBot: Hasta luego, fue un gusto hablar contigo.\"\n",
    "            return response\n",
    "\n",
    "        # Asignar el siguiente estado basado en la etiqueta de intención o los datos faltantes\n",
    "        elif tag == 'Tipo_Habitacion' or not Tipo_Cuarto:\n",
    "            next_state = 'NIIA1'\n",
    "        elif tag == 'Fecha_entrada':\n",
    "            next_state = 'NIIA2'\n",
    "        elif tag == 'Fecha_salida':\n",
    "            next_state = 'NIIA3'\n",
    "        elif tag == 'Num_huespedes':\n",
    "            next_state = 'NIIA4'\n",
    "        else:\n",
    "            # Si el tag no coincide con ningún caso conocido, maneja el estado por defecto\n",
    "            next_state = 'NIIA'\n",
    "            response = \"ChatBot: Por favor, dime más sobre tu reserva.\"\n",
    "\n",
    "        return response, next_state\n",
    "    else:\n",
    "        # Si la confianza del modelo es baja, pide al usuario que reformule la pregunta\n",
    "        response = \"ChatBot: Lo siento, pero no entendí. Puedes decirme 'Reservar Habitación' por ejemplo.\"\n",
    "        return response, 'NIIA'\n"
   ]
  },
  {
   "cell_type": "code",
   "execution_count": 130,
   "metadata": {
    "id": "4AopUVTyqD2V",
    "ExecuteTime": {
     "end_time": "2023-11-06T05:53:29.325437400Z",
     "start_time": "2023-11-06T05:53:29.287560500Z"
    }
   },
   "outputs": [],
   "source": [
    "def Activar_NIIA1(user_input):\n",
    "    # Aquí, user_input es la entrada del usuario y Tipo_Cuarto mantiene el estado de esta variable específica.\n",
    "    next_state = \"NIIA1\"\n",
    "    # Comenzamos con la respuesta inicial del chatbot\n",
    "    response = \"ChatBot: Excelente! Reservemos una habitación. ¿Qué tipo de habitación te gustaría reservar?\"\n",
    "\n",
    "    # Convertimos la entrada del usuario a minúsculas para una comparación uniforme\n",
    "    user_input = user_input.lower()\n",
    "\n",
    "    # Comprobamos las condiciones del input y actualizamos el estado y la respuesta correspondientemente\n",
    "    if user_input == 'volver':\n",
    "        next_state = 'NI'\n",
    "        response = \"ChatBot: De acuerdo, volviendo al menú anterior.\"\n",
    "    elif user_input == 'salir':\n",
    "        response = \"ChatBot: Hasta luego, fue un gusto hablar contigo.\"\n",
    "        next_state = 'salir'\n",
    "    elif 'estándar' in user_input or 'económica' in user_input:\n",
    "        response = \"ChatBot: Excelente, reservaremos una habitación estándar.\"\n",
    "        Tipo_Cuarto = \"Estándar\"\n",
    "        next_state = 'NIIA2'\n",
    "    elif 'suite' in user_input:\n",
    "        response = \"ChatBot: Excelente, reservaremos una habitación suite.\"\n",
    "        Tipo_Cuarto = \"Suite\"\n",
    "        next_state = 'NIIA2'\n",
    "    elif 'doble' in user_input or 'dos camas' in user_input:\n",
    "        response = \"ChatBot: Excelente, reservaremos una habitación doble.\"\n",
    "        Tipo_Cuarto = \"Doble\"\n",
    "        next_state = 'NIIA2'\n",
    "    elif 'familiar' in user_input:\n",
    "        response = \"ChatBot: Excelente, reservaremos una habitación familiar.\"\n",
    "        Tipo_Cuarto = \"Familiar\"\n",
    "        next_state = 'NIIA2'\n",
    "    elif 'deluxe' in user_input:\n",
    "        response = \"ChatBot: Excelente, reservaremos una habitación deluxe.\"\n",
    "        Tipo_Cuarto = \"Deluxe\"\n",
    "        next_state = 'NIIA2'\n",
    "    elif 'ofrecen' in user_input:\n",
    "        response = \"ChatBot: Ofrecemos los siguientes tipos de habitaciones: estándar, doble, familiar, suite, y deluxe.\"\n",
    "        # Aquí no actualizamos Tipo_Cuarto ni next_state porque el usuario está pidiendo información\n",
    "    else:\n",
    "        response = \"ChatBot: ¿Podrías repetirme qué tipo de habitación te gustaría reservar?\"\n",
    "        next_state = 'NIIA1'  # Mantenemos el estado para pedir de nuevo la información\n",
    "\n",
    "    return response, next_state\n"
   ]
  },
  {
   "cell_type": "code",
   "execution_count": 131,
   "metadata": {
    "id": "aDMr1CxZqD2p",
    "ExecuteTime": {
     "end_time": "2023-11-06T05:53:29.325437400Z",
     "start_time": "2023-11-06T05:53:29.302136Z"
    }
   },
   "outputs": [],
   "source": [
    "\n",
    "\n",
    "\n",
    "def Activar_NIIA2(user_input):\n",
    "    response = \"ChatBot: Muy bien! ¿Para cuándo agendamos su entrada? (dd/mm/aaaa)\"\n",
    "\n",
    "    user_input = user_input.lower()\n",
    "\n",
    "    if user_input == 'volver':\n",
    "        next_state = 'NI'\n",
    "        response = \"ChatBot: De acuerdo, volviendo al menú anterior.\"\n",
    "    elif user_input == 'salir':\n",
    "        response = \"ChatBot: Hasta luego, fue un gusto hablar contigo.\"\n",
    "        next_state = 'salir'\n",
    "    else:\n",
    "        # Intenta convertir la entrada en una fecha\n",
    "        try:\n",
    "            # Asume que la entrada está en formato dd/mm/aaaa\n",
    "            fecha_entrada_usuario = datetime.strptime(user_input, '%d/%m/%Y')\n",
    "            # Comprueba que la fecha no sea pasada\n",
    "            if fecha_entrada_usuario.date() < datetime.now().date():\n",
    "                response = \"ChatBot: No puedes agendar una fecha en el pasado. Por favor, elige una fecha futura.\"\n",
    "                next_state = 'NIIA2'  # Mantenemos el estado para pedir de nuevo la fecha\n",
    "            else:\n",
    "                fecha_formateada = fecha_entrada_usuario.strftime('%d de %B del %Y')\n",
    "                response = f\"ChatBot: Muy bien, agendaré la entrada para el {fecha_formateada}.\"\n",
    "                Fecha_entrada = fecha_entrada_usuario  # Actualizamos la fecha de entrada\n",
    "                next_state = 'NIIA3'\n",
    "        except ValueError:\n",
    "            # Si hay un error en la conversión, indica que el formato no es correcto\n",
    "            response = \"ChatBot: Parece que la fecha no está en el formato correcto. Por favor, ingresa la fecha en formato dd/mm/aaaa.\"\n",
    "            next_state = 'NIIA2'  # Mantenemos el estado para pedir de nuevo la fecha\n",
    "\n",
    "    return response, next_state\n"
   ]
  },
  {
   "cell_type": "code",
   "execution_count": 132,
   "metadata": {
    "ExecuteTime": {
     "end_time": "2023-11-06T05:53:29.348583600Z",
     "start_time": "2023-11-06T05:53:29.319859800Z"
    }
   },
   "outputs": [],
   "source": [
    "from datetime import datetime\n",
    "\n",
    "\n",
    "def Activar_NIIA3(user_input):\n",
    "    response = \"ChatBot: Muy bien! ¿Para cuándo agendamos su salida? (dd/mm/aaaa)\"\n",
    "\n",
    "    user_input = user_input.lower()\n",
    "\n",
    "    if user_input == 'volver':\n",
    "        next_state = 'NI'\n",
    "        response = \"ChatBot: De acuerdo, volviendo al menú anterior.\"\n",
    "    elif user_input == 'salir':\n",
    "        response = \"ChatBot: Hasta luego, fue un gusto hablar contigo.\"\n",
    "        next_state = 'salir'\n",
    "    else:\n",
    "        # Intenta convertir la entrada en una fecha\n",
    "        try:\n",
    "            # Asume que la entrada está en formato dd/mm/aaaa\n",
    "            fecha_salida_usuario = datetime.strptime(user_input, '%d/%m/%Y')\n",
    "            # Comprueba que la fecha no sea pasada y que sea después de la fecha de entrada\n",
    "            if fecha_salida_usuario.date() < datetime.now().date():\n",
    "                response = \"ChatBot: No puedes agendar una fecha de salida en el pasado. Por favor, elige una fecha futura.\"\n",
    "                next_state = 'NIIA3'  # Mantenemos el estado para pedir de nuevo la fecha\n",
    "            elif Fecha_entrada and fecha_salida_usuario.date() <= Fecha_entrada.date():\n",
    "                response = \"ChatBot: La fecha de salida debe ser posterior a la fecha de entrada. Por favor, elige una fecha adecuada.\"\n",
    "                next_state = 'NIIA3'  # Mantenemos el estado para pedir de nuevo la fecha\n",
    "            else:\n",
    "                fecha_formateada = fecha_salida_usuario.strftime('%d de %B del %Y')\n",
    "                response = f\"ChatBot: Muy bien, agendaré la salida para el {fecha_formateada}.\"\n",
    "                Fecha_salida = fecha_salida_usuario  # Actualizamos la fecha de salida\n",
    "                next_state = 'NIIA4'\n",
    "        except ValueError:\n",
    "            # Si hay un error en la conversión, indica que el formato no es correcto\n",
    "            response = \"ChatBot: Parece que la fecha no está en el formato correcto. Por favor, ingresa la fecha en formato dd/mm/aaaa.\"\n",
    "            next_state = 'NIIA3'  # Mantenemos el estado para pedir de nuevo la fecha\n",
    "\n",
    "    return response, next_state\n"
   ]
  },
  {
   "cell_type": "code",
   "execution_count": 133,
   "metadata": {
    "ExecuteTime": {
     "end_time": "2023-11-06T05:53:29.379267100Z",
     "start_time": "2023-11-06T05:53:29.333974300Z"
    }
   },
   "outputs": [],
   "source": [
    "def Activar_NIIA4(user_input):\n",
    "    response = \"ChatBot: Súper! ¿Para cuántas personas es la reservación?\"\n",
    "\n",
    "    user_input = user_input.lower()\n",
    "\n",
    "    if user_input == 'volver':\n",
    "        next_state = 'NI'\n",
    "        response = \"ChatBot: De acuerdo, volviendo al menú anterior.\"\n",
    "    elif user_input == 'salir':\n",
    "        response = \"ChatBot: Hasta luego, fue un gusto hablar contigo.\"\n",
    "        next_state = 'salir'\n",
    "    else:\n",
    "        try:\n",
    "            # Intenta convertir la entrada en un número de personas\n",
    "            huespedes = int(user_input)\n",
    "            if 1 <= huespedes <= 4:\n",
    "                response = f\"ChatBot: Muy bien, agendaré para {huespedes} personas.\\n\" \\\n",
    "                           f\"La reservación final es de {huespedes} personas con el tipo de cuarto {Tipo_Cuarto}, \" \\\n",
    "                           f\"con fecha de entrada {Fecha_entrada.strftime('%d/%m/%Y')}, \" \\\n",
    "                           f\"y fecha de salida {Fecha_salida.strftime('%d/%m/%Y')}. \" \\\n",
    "                           f\"\\n\\nSi deseas algo más no dudes en preguntar.\"\n",
    "                Num_huespedes = huespedes\n",
    "                next_state = 'NI'  # Podría ser 'finalizar' si este es el último paso\n",
    "            else:\n",
    "                response = \"ChatBot: Actualmente solo podemos reservar para hasta 4 personas.\"\n",
    "                next_state = 'NIIA4'\n",
    "        except ValueError:\n",
    "            # Si la entrada no es un número, pedimos al usuario que intente de nuevo\n",
    "            response = \"ChatBot: ¿Podrías indicarme un número de personas para la reservación?\"\n",
    "            next_state = 'NIIA4'\n",
    "\n",
    "    return response, next_state\n"
   ]
  },
  {
   "cell_type": "code",
   "execution_count": 134,
   "metadata": {
    "ExecuteTime": {
     "end_time": "2023-11-06T05:53:29.381270100Z",
     "start_time": "2023-11-06T05:53:29.351580400Z"
    }
   },
   "outputs": [],
   "source": [
    "def Activar_NIIB(user_input):\n",
    "    response = \"ChatBot: Entiendo que quieres pedir un servicio del Hotel. \" \\\n",
    "               \"(Apartar espacio, Pedir servicio al cuarto, Pedir comida o bebida)\"\n",
    "\n",
    "    # Asumiendo que 'instancer' es una función que procesa la entrada y devuelve un tag y un puntaje.\n",
    "    tag, maxscore = instancer(user_input, model_NIIB, NIIB)\n",
    "\n",
    "    # Por ahora, simplemente imprimiré el resumen del modelo para fines de depuración.\n",
    "    # Debes considerar cómo manejar esto en la interfaz de usuario.\n",
    "    model_summary = str(model_NIIB.summary())  # Esto es solo un ejemplo\n",
    "\n",
    "    if maxscore > 0.5 or user_input == 'salir' or user_input == 'volver':\n",
    "        if user_input == 'volver':\n",
    "            next_state = 'NI'\n",
    "            response = \"ChatBot: De acuerdo, volviendo al menú anterior.\"\n",
    "        elif user_input == 'salir':\n",
    "            response = \"ChatBot: Hasta luego, fue un gusto hablar contigo.\"\n",
    "            next_state = 'salir'\n",
    "        elif tag == 'Apartar_espacio':\n",
    "            next_state = 'NIIB1'\n",
    "        elif tag == 'Servicio':\n",
    "            next_state = 'NIIB2'\n",
    "        elif tag == 'Comida_bebida':\n",
    "            next_state = 'NIIB3'\n",
    "        else:\n",
    "            next_state = 'unknown'  # Para manejar cualquier otra etiqueta que pueda aparecer\n",
    "    else:\n",
    "        response = \"ChatBot: Lo siento, pero no entendí. Puedes decirme \\\"Apartar espacio\\\" por ejemplo.\"\n",
    "        next_state = 'NIIB'\n",
    "\n",
    "    return response, next_state\n"
   ]
  },
  {
   "cell_type": "code",
   "execution_count": 135,
   "metadata": {
    "ExecuteTime": {
     "end_time": "2023-11-06T05:53:29.381270100Z",
     "start_time": "2023-11-06T05:53:29.365670300Z"
    }
   },
   "outputs": [],
   "source": [
    "def Activar_NIIB1(user_input):\n",
    "    # Pregunta inicial cuando se ingresa en el nivel contextual NIIB1\n",
    "    response = \"ChatBot: Excelente! Apartemos un espacio. ¿Qué tipo de espacio te gustaría reservar?\"\n",
    "\n",
    "    user_input = user_input.lower()\n",
    "\n",
    "    if user_input == 'volver':\n",
    "        next_state = 'NI'\n",
    "        response = \"ChatBot: De acuerdo, volviendo al menú anterior.\"\n",
    "    elif user_input == 'salir':\n",
    "        response = \"ChatBot: Hasta luego, fue un gusto hablar contigo.\"\n",
    "        next_state = 'salir'\n",
    "    elif 'alberca' in user_input:\n",
    "        response = \"ChatBot: Excelente, reservaremos la alberca. Si hay otro servicio que te gustaría pedir no dudes en decírmelo!\"\n",
    "        Espacio_Apartado = \"alberca\"\n",
    "        next_state = 'NI'  # Suponiendo que 'NI' es el estado al que debe volver después de reservar\n",
    "    elif 'gimnasio' in user_input:\n",
    "        response = \"ChatBot: Excelente, reservaremos el gimnasio. Si hay otro servicio que te gustaría pedir no dudes en decírmelo!\"\n",
    "        Espacio_Apartado = \"gimnasio\"\n",
    "        next_state = 'NI'\n",
    "    elif 'eventos' in user_input or 'salon' in user_input:\n",
    "        response = \"ChatBot: Excelente, reservaremos el salón de eventos. Si hay otro servicio que te gustaría pedir no dudes en decírmelo!\"\n",
    "        Espacio_Apartado = \"salón de eventos\"\n",
    "        next_state = 'NI'\n",
    "    elif 'terraza' in user_input:\n",
    "        response = \"ChatBot: Excelente, reservaremos la terraza. Si hay otro servicio que te gustaría pedir no dudes en decírmelo!\"\n",
    "        Espacio_Apartado = \"terraza\"\n",
    "        next_state = 'NI'\n",
    "    elif 'spa' in user_input:\n",
    "        response = \"ChatBot: Excelente, reservaremos el spa. Si hay otro servicio que te gustaría pedir no dudes en decírmelo!\"\n",
    "        Espacio_Apartado = \"spa\"\n",
    "        next_state = 'NI'\n",
    "    else:\n",
    "        response = \"ChatBot: ¿Podrías repetirme qué tipo de espacio te gustaría reservar?\"\n",
    "        next_state = 'NIIB1'\n",
    "\n",
    "    return response, next_state\n"
   ]
  },
  {
   "cell_type": "code",
   "execution_count": 136,
   "metadata": {
    "ExecuteTime": {
     "end_time": "2023-11-06T05:53:29.402351400Z",
     "start_time": "2023-11-06T05:53:29.382271900Z"
    }
   },
   "outputs": [],
   "source": [
    "def Activar_NIIB2(user_input):\n",
    "    # Pregunta inicial cuando se ingresa en el nivel contextual NIIB2\n",
    "    response = \"ChatBot: Con gusto! ¿Qué servicio le gustaría pedir?\"\n",
    "\n",
    "    user_input = user_input.lower()\n",
    "\n",
    "    if user_input == 'volver':\n",
    "        next_state = 'NI'\n",
    "        response = \"ChatBot: De acuerdo, volviendo al menú anterior.\"\n",
    "    elif user_input == 'salir':\n",
    "        response = \"ChatBot: Hasta luego, fue un gusto hablar contigo.\"\n",
    "        next_state = 'salir'\n",
    "    elif 'limpiar' in user_input:\n",
    "        response = \"ChatBot: Claro, enviaremos a alguien para limpiar la habitación. Si hay otro servicio que te gustaría pedir no dudes en decírmelo!\"\n",
    "        Servicio_Pedido = \"limpieza de cuarto\"\n",
    "        next_state = 'NI'\n",
    "    elif 'toallas' in user_input:\n",
    "        response = \"ChatBot: Ok, enviaremos toallas a su habitación. Si hay otro servicio que te gustaría pedir no dudes en decírmelo!\"\n",
    "        Servicio_Pedido = \"toallas\"\n",
    "        next_state = 'NI'\n",
    "    elif 'jabón' in user_input or 'shampoo' in user_input:\n",
    "        response = \"ChatBot: Seguro! enviaremos artículos de higiene personal a su cuarto. Si hay otro servicio que te gustaría pedir no dudes en decírmelo!\"\n",
    "        Servicio_Pedido = \"higiene personal\"\n",
    "        next_state = 'NI'\n",
    "    elif 'equipaje' in user_input:\n",
    "        response = \"ChatBot: Mandaremos a alguien para apoyar con el equipaje. Si hay otro servicio que te gustaría pedir no dudes en decírmelo!\"\n",
    "        Servicio_Pedido = \"apoyo con equipaje\"\n",
    "        next_state = 'NI'\n",
    "    elif 'almohadas' in user_input:\n",
    "        response = \"ChatBot: Con gusto enviaremos más almohadas a la habitación. Si hay otro servicio que te gustaría pedir no dudes en decírmelo!\"\n",
    "        Servicio_Pedido = \"almohadas\"\n",
    "        next_state = 'NI'\n",
    "    else:\n",
    "        response = \"ChatBot: ¿Podrías repetirme qué servicio requieres?\"\n",
    "        next_state = 'NIIB2'\n",
    "\n",
    "    return response, next_state\n"
   ]
  },
  {
   "cell_type": "code",
   "execution_count": 137,
   "metadata": {
    "ExecuteTime": {
     "end_time": "2023-11-06T05:53:29.420518500Z",
     "start_time": "2023-11-06T05:53:29.398343500Z"
    }
   },
   "outputs": [],
   "source": [
    "def Activar_NIIB3(user_input):\n",
    "    # Pregunta inicial cuando se ingresa en el nivel contextual NIIB3\n",
    "    response = \"ChatBot: Hora de comer! ¿Qué alimento o bebida le gustaría pedir?\"\n",
    "\n",
    "    user_input = user_input.lower()\n",
    "\n",
    "    if user_input == 'volver':\n",
    "        next_state = 'NI'\n",
    "        response = \"ChatBot: De acuerdo, volviendo al menú anterior.\"\n",
    "    elif user_input == 'salir':\n",
    "        response = \"ChatBot: Hasta luego, fue un gusto hablar contigo.\"\n",
    "        next_state = 'salir'\n",
    "    elif 'desayuno' in user_input:\n",
    "        response = \"ChatBot: Claro, enviaremos el desayuno a la habitación.\"\n",
    "        comida_pedida = \"desayuno\"\n",
    "        next_state = 'NI'\n",
    "    elif 'vegana' in user_input or 'vegetariana' in user_input:\n",
    "        response = \"ChatBot: Por supuesto, prepararemos una opción vegana/vegetariana para usted.\"\n",
    "        comida_pedida = \"vegana/vegetariana\"\n",
    "        next_state = 'NI'\n",
    "    elif 'comida' in user_input:\n",
    "        response = \"ChatBot: Mandaremos la comida a la habitación.\"\n",
    "        comida_pedida = \"comida\"\n",
    "        next_state = 'NI'\n",
    "    elif 'botella' in user_input or 'vino' in user_input:\n",
    "        response = \"ChatBot: Seguro! enviaremos una botella de vino.\"\n",
    "        comida_pedida = \"vino\"\n",
    "        next_state = 'NI'\n",
    "    elif 'café' in user_input:\n",
    "        response = \"ChatBot: Con gusto enviaremos café a su habitación.\"\n",
    "        comida_pedida = \"café\"\n",
    "        next_state = 'NI'\n",
    "    elif 'romántica' in user_input:\n",
    "        response = \"ChatBot: Prepararemos una cena romántica para usted.\"\n",
    "        comida_pedida = \"romántica\"\n",
    "        next_state = 'NI'\n",
    "    elif 'cena' in user_input:\n",
    "        response = \"ChatBot: Claro, mandaremos la cena a la habitación.\"\n",
    "        comida_pedida = \"cena\"\n",
    "        next_state = 'NI'\n",
    "    else:\n",
    "        response = \"ChatBot: ¿Podrías repetirme qué alimento/bebida quieres pedir?\"\n",
    "        next_state = 'NIIB3'\n",
    "\n",
    "    return response, next_state\n"
   ]
  },
  {
   "cell_type": "code",
   "execution_count": 138,
   "metadata": {
    "ExecuteTime": {
     "end_time": "2023-11-06T05:53:29.603519900Z",
     "start_time": "2023-11-06T05:53:29.416513600Z"
    }
   },
   "outputs": [
    {
     "name": "stdout",
     "output_type": "stream",
     "text": [
      "Running on local URL:  http://127.0.0.1:7864\n",
      "\n",
      "To create a public link, set `share=True` in `launch()`.\n"
     ]
    },
    {
     "data": {
      "text/plain": "<IPython.core.display.HTML object>",
      "text/html": "<div><iframe src=\"http://127.0.0.1:7864/\" width=\"100%\" height=\"500\" allow=\"autoplay; camera; microphone; clipboard-read; clipboard-write;\" frameborder=\"0\" allowfullscreen></iframe></div>"
     },
     "metadata": {},
     "output_type": "display_data"
    },
    {
     "data": {
      "text/plain": ""
     },
     "execution_count": 138,
     "metadata": {},
     "output_type": "execute_result"
    }
   ],
   "source": [
    "# Implementación de casos correspondientes para cada nivel del ChatBot\n",
    "# Nivel contextual inicial por defecto, el primero\n",
    "estado_actual: 'NI'\n",
    "Tipo_Cuarto: \"\"\n",
    "Fecha_entrada: \"\"\n",
    "Fecha_salida: \"\"\n",
    "Num_huespedes: 0\n",
    "Servicio_deseado: \"\"\n",
    "Espacio_Apartado: \"\"\n",
    "Servicio_Pedido: \"\"\n",
    "Comida_Pedida: \"\"\n",
    "\n",
    "maquina_estados = {'NI': Activar_NI,\n",
    "                   \"NIIA\": Activar_NIIA,\n",
    "                   \"NIIA1\": Activar_NIIA1,\n",
    "                   \"NIIA2\": Activar_NIIA2,\n",
    "                   \"NIIA3\": Activar_NIIA3,\n",
    "                   \"NIIA4\": Activar_NIIA4,\n",
    "                   \"NIIB\": Activar_NIIB,\n",
    "                   \"NIIB1\": Activar_NIIB1,\n",
    "                   \"NIIB2\": Activar_NIIB2,\n",
    "                   \"NIIB3\": Activar_NIIB3\n",
    "                   }\n",
    "\n",
    "# Esta es tu función adaptada que llama a la función correcta basada en el estado actual\n",
    "def adapted_chat1(user_input, Nivel):\n",
    "    # Llama a la función de estado correspondiente y obtén el siguiente nivel y la respuesta\n",
    "    response, next_state = maquina_estados[Nivel](user_input)\n",
    "\n",
    "    # Devuelve tanto la respuesta como el siguiente estado para que Gradio los maneje\n",
    "    return response, next_state\n",
    "\n",
    "\n",
    "\n",
    "import gradio as gr\n",
    "\n",
    "\n",
    "# Define una función de envoltura para interactuar con Gradio\n",
    "def gradio_chatbot_function(user_input, state='NI'):\n",
    "    response, next_state = adapted_chat1(user_input, state)\n",
    "    return response, next_state\n",
    "\n",
    "\n",
    "# Crea la interfaz de Gradio con memoria para mantener el estado\n",
    "iface = gr.Interface(\n",
    "    fn=gradio_chatbot_function,\n",
    "    inputs=[\"text\", \"state\"],  # 'text' es la entrada del usuario y 'state' es el estado actual del chatbot\n",
    "    outputs=[\"text\", \"state\"],  # Devuelve la respuesta y el siguiente estado\n",
    "    title=\"ESDAI's Hotel Chatbot\",\n",
    "    description=\"Bienvenido a ESDAI's Hotel Chatbot. ¿Qué deseas hacer?.\"\n",
    ")\n",
    "\n",
    "# Lanzar la interfaz\n",
    "iface.launch()"
   ]
  },
  {
   "cell_type": "code",
   "execution_count": 139,
   "metadata": {
    "ExecuteTime": {
     "end_time": "2023-11-06T05:53:29.636368300Z",
     "start_time": "2023-11-06T05:53:29.600523200Z"
    }
   },
   "outputs": [],
   "source": [
    "# # Check the size of the tokenizer's word index\n",
    "# print(\"Tokenizer word index size:\", len(tokenizer_NI.word_index))\n",
    "# \n",
    "# # After loading the model, check the input dimension of the embedding layer\n",
    "# embedding_input_dim = model_NIIB.layers[0].get_config()['input_dim']\n",
    "# print(\"Model's embedding input dimension:\", embedding_input_dim)\n"
   ]
  }
 ],
 "metadata": {
  "colab": {
   "name": "Reto 28.- Flujos conversaconales",
   "provenance": []
  },
  "kernelspec": {
   "display_name": "Python 3 (ipykernel)",
   "language": "python",
   "name": "python3"
  },
  "language_info": {
   "codemirror_mode": {
    "name": "ipython",
    "version": 3
   },
   "file_extension": ".py",
   "mimetype": "text/x-python",
   "name": "python",
   "nbconvert_exporter": "python",
   "pygments_lexer": "ipython3",
   "version": "3.9.18"
  }
 },
 "nbformat": 4,
 "nbformat_minor": 1
}
