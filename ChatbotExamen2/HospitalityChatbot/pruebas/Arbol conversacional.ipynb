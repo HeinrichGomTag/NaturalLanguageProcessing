{
 "cells": [
  {
   "cell_type": "code",
   "execution_count": 27,
   "metadata": {
    "ExecuteTime": {
     "end_time": "2023-11-06T06:21:06.067553300Z",
     "start_time": "2023-11-06T06:21:06.048385Z"
    },
    "id": "F27k_d1FqDwV",
    "outputId": "4dee50c0-ef32-481e-e812-099f12b10ba1"
   },
   "outputs": [
    {
     "name": "stderr",
     "output_type": "stream",
     "text": [
      "[nltk_data] Downloading package stopwords to\n",
      "[nltk_data]     /Users/enriquegomeztagle/nltk_data...\n",
      "[nltk_data]   Package stopwords is already up-to-date!\n"
     ]
    }
   ],
   "source": [
    "import nltk\n",
    "from nltk.tokenize import RegexpTokenizer\n",
    "from nltk.tokenize.treebank import TreebankWordDetokenizer\n",
    "from nltk.corpus import stopwords\n",
    "nltk.download('stopwords')\n",
    "stop_words = set(stopwords.words('spanish'))\n",
    "\n",
    "from keras.preprocessing.text import Tokenizer\n",
    "from keras_preprocessing.sequence import pad_sequences\n",
    "from keras.models import Sequential\n",
    "from keras.layers.core import Dense\n",
    "from keras.layers import LSTM\n",
    "from keras.layers import Embedding\n",
    "from keras.utils.np_utils import to_categorical\n",
    "\n",
    "import matplotlib.pyplot as plt\n",
    "import gradio as gr\n",
    "\n",
    "from numpy import asarray\n",
    "from numpy import zeros\n",
    "\n",
    "import re\n",
    "import json\n",
    "import locale\n",
    "import platform\n",
    "from datetime import datetime\n",
    "import numpy\n",
    "\n",
    "if platform.system() == 'Linux':\n",
    "    locale.setlocale(locale.LC_TIME, 'es_ES.UTF-8')\n",
    "elif platform.system() == 'Windows':\n",
    "    locale.setlocale(locale.LC_TIME, 'Spanish_Spain.1252')\n"
   ]
  },
  {
   "cell_type": "code",
   "execution_count": 28,
   "metadata": {
    "ExecuteTime": {
     "end_time": "2023-11-06T06:21:06.925900Z",
     "start_time": "2023-11-06T06:21:06.894820100Z"
    },
    "id": "ugsfnO0pqDwn"
   },
   "outputs": [],
   "source": [
    "# Lectura de formatos .json para entrenar cada modelo y asignación\n",
    "# de información correspondiente\n",
    "with open('Intenciones_NivelI.json', encoding='utf-8') as file:\n",
    "    data_NivelI = json.load(file)\n",
    "\n",
    "with open('Intenciones_NivelIIA.json', encoding='utf-8') as file:\n",
    "    data_NivelIIA = json.load(file)\n",
    "\n",
    "with open('Intenciones_NivelIIB.json', encoding='utf-8') as file:\n",
    "    data_NivelIIB = json.load(file)\n"
   ]
  },
  {
   "cell_type": "code",
   "execution_count": 29,
   "metadata": {
    "ExecuteTime": {
     "end_time": "2023-11-06T06:21:08.479155400Z",
     "start_time": "2023-11-06T06:21:08.438325100Z"
    },
    "id": "HogXD3MyqDwx",
    "outputId": "50b17eeb-89c4-4ea0-cb93-a9b6635e4a4d"
   },
   "outputs": [],
   "source": [
    "NI = dict()\n",
    "NIIA = dict()\n",
    "NIIB = dict()\n",
    "\n",
    "for info in data_NivelI['intents']:\n",
    "    NI.setdefault(info['tag'], info['patterns'])\n",
    "\n",
    "for info in data_NivelIIA['intents']:\n",
    "    NIIA.setdefault(info['tag'], info['patterns'])\n",
    "\n",
    "for info in data_NivelIIB['intents']:\n",
    "    NIIB.setdefault(info['tag'], info['patterns'])\n",
    "\n",
    "# print(NI)\n",
    "# print(NIIA)\n",
    "# print(NIIB)\n"
   ]
  },
  {
   "cell_type": "code",
   "execution_count": 30,
   "metadata": {
    "ExecuteTime": {
     "end_time": "2023-11-06T06:21:10.627190600Z",
     "start_time": "2023-11-06T06:21:10.601524900Z"
    },
    "id": "cKAqS2HpqDxU",
    "outputId": "7e9491b9-200f-44c7-ecb3-673edbf78cf6"
   },
   "outputs": [],
   "source": [
    "Y_NI = list()\n",
    "Y_NIIA = list()\n",
    "Y_NIIB = list()\n",
    "\n",
    "for clase, lista_textos in NI.items():\n",
    "    for text in lista_textos:\n",
    "        Y_NI.append(list(NI.keys()).index(clase))\n",
    "\n",
    "for clase, lista_textos in NIIA.items():\n",
    "    for text in lista_textos:\n",
    "        Y_NIIA.append(list(NIIA.keys()).index(clase))\n",
    "\n",
    "for clase, lista_textos in NIIB.items():\n",
    "    for text in lista_textos:\n",
    "        Y_NIIB.append(list(NIIB.keys()).index(clase))\n",
    "\n",
    "# print(\"Vector de salidas Y para N1:\")\n",
    "# print(Y_NI)\n",
    "# print(\"Vector de salidas Y para N2A:\")\n",
    "# print(Y_NIIA)\n",
    "# print(\"Vector de salidas Y para N2B:\")\n",
    "# print(Y_NIIB)\n"
   ]
  },
  {
   "cell_type": "code",
   "execution_count": 31,
   "metadata": {
    "ExecuteTime": {
     "end_time": "2023-11-06T06:21:25.397141600Z",
     "start_time": "2023-11-06T06:21:25.375492900Z"
    },
    "id": "6EmAmUbVqDxn"
   },
   "outputs": [],
   "source": [
    "def quitar_stopwords(Textos):\n",
    "    X = list()\n",
    "    for sentence in Textos:\n",
    "        for stopword in stop_words:\n",
    "            sentence = sentence.replace(\" \" + stopword + \" \", \" \")\n",
    "        sentence = sentence.replace(\"á\", \"a\")\n",
    "        sentence = sentence.replace(\"é\", \"e\")\n",
    "        sentence = sentence.replace(\"í\", \"i\")\n",
    "        sentence = sentence.replace(\"ó\", \"o\")\n",
    "        sentence = sentence.replace(\"ú\", \"u\")\n",
    "\n",
    "        sentence = re.sub(r'\\s+', ' ', sentence)\n",
    "        sentence = sentence.lower()\n",
    "        tokenizer = RegexpTokenizer(r'\\w+')\n",
    "        result = tokenizer.tokenize(sentence)\n",
    "        X.append(TreebankWordDetokenizer().detokenize(result))\n",
    "    return X\n"
   ]
  },
  {
   "cell_type": "code",
   "execution_count": 32,
   "metadata": {
    "ExecuteTime": {
     "end_time": "2023-11-06T06:21:26.159078200Z",
     "start_time": "2023-11-06T06:21:26.110426200Z"
    },
    "id": "_8EIY5ZMqDxz"
   },
   "outputs": [],
   "source": [
    "Textos_NI = list()\n",
    "for Lista in NI.values():\n",
    "    for Texto in Lista:\n",
    "        Textos_NI.append(Texto)\n",
    "\n",
    "X_NI = quitar_stopwords(Textos_NI)\n",
    "\n",
    "Textos_NIIA = list()\n",
    "for Lista in NIIA.values():\n",
    "    for Texto in Lista:\n",
    "        Textos_NIIA.append(Texto)\n",
    "\n",
    "X_NIIA = quitar_stopwords(Textos_NIIA)\n",
    "\n",
    "Textos_NIIB = list()\n",
    "for Lista in NIIB.values():\n",
    "    for Texto in Lista:\n",
    "        Textos_NIIB.append(Texto)\n",
    "\n",
    "X_NIIB = quitar_stopwords(Textos_NIIB)\n"
   ]
  },
  {
   "cell_type": "code",
   "execution_count": 33,
   "metadata": {
    "ExecuteTime": {
     "end_time": "2023-11-06T06:21:26.905556400Z",
     "start_time": "2023-11-06T06:21:26.871986600Z"
    },
    "id": "V_8rv5yPqDyX",
    "outputId": "6dae233e-db00-4936-c653-76e4bf3e746e"
   },
   "outputs": [],
   "source": [
    "# print(X_NI)\n",
    "# print(X_NIIA)\n",
    "# print(X_NIIB)\n"
   ]
  },
  {
   "cell_type": "code",
   "execution_count": 34,
   "metadata": {
    "ExecuteTime": {
     "end_time": "2023-11-06T06:21:27.465643100Z",
     "start_time": "2023-11-06T06:21:27.438124500Z"
    },
    "id": "rVSHyayPqDyi"
   },
   "outputs": [],
   "source": [
    "maxlen = 5\n",
    "\n",
    "tokenizer_NI = Tokenizer(num_words=5000)\n",
    "tokenizer_NIIA = Tokenizer(num_words=5000)\n",
    "tokenizer_NIIB = Tokenizer(num_words=5000)\n",
    "\n",
    "tokenizer_NI.fit_on_texts(X_NI)\n",
    "X_NI_Tok = tokenizer_NI.texts_to_sequences(X_NI)\n",
    "tokenizer_NIIA.fit_on_texts(X_NIIA)\n",
    "X_NIIA_Tok = tokenizer_NIIA.texts_to_sequences(X_NIIA)\n",
    "tokenizer_NIIB.fit_on_texts(X_NIIB)\n",
    "X_NIIB_Tok = tokenizer_NIIB.texts_to_sequences(X_NIIB)\n",
    "\n",
    "\n",
    "X_NI_train = pad_sequences(X_NI_Tok, padding='post', maxlen=maxlen)\n",
    "X_NIIA_train = pad_sequences(X_NIIA_Tok, padding='post', maxlen=maxlen)\n",
    "X_NIIB_train = pad_sequences(X_NIIB_Tok, padding='post', maxlen=maxlen)\n"
   ]
  },
  {
   "cell_type": "code",
   "execution_count": 35,
   "metadata": {
    "ExecuteTime": {
     "end_time": "2023-11-06T06:21:28.111502600Z",
     "start_time": "2023-11-06T06:21:28.080933300Z"
    },
    "id": "lPCepYiWqDyr",
    "outputId": "cc179339-358f-4c64-96c8-9346a1a87bde"
   },
   "outputs": [],
   "source": [
    "# print(\"Matriz de entrada para NI:\")\n",
    "# print(X_NI_train)\n"
   ]
  },
  {
   "cell_type": "code",
   "execution_count": 36,
   "metadata": {
    "ExecuteTime": {
     "end_time": "2023-11-06T06:21:28.612445200Z",
     "start_time": "2023-11-06T06:21:28.586380800Z"
    },
    "id": "jrkhqGluqDy3",
    "outputId": "920cfd66-d0f2-46b0-d751-ff002f8cfd11"
   },
   "outputs": [],
   "source": [
    "# print(\"Matriz de entrada para NIIA:\")\n",
    "# print(X_NIIA_train)\n"
   ]
  },
  {
   "cell_type": "code",
   "execution_count": 37,
   "metadata": {
    "ExecuteTime": {
     "end_time": "2023-11-06T06:22:03.038060500Z",
     "start_time": "2023-11-06T06:22:03.015502100Z"
    },
    "id": "gcndmB1GqDzI",
    "outputId": "fb8ab50c-bc4f-4ddb-d760-eeeda30c326e"
   },
   "outputs": [],
   "source": [
    "# print(\"Matriz de entrada para NIIB:\")\n",
    "# print(X_NIIB_train)\n"
   ]
  },
  {
   "cell_type": "code",
   "execution_count": 38,
   "metadata": {
    "ExecuteTime": {
     "end_time": "2023-11-06T06:23:13.253691Z",
     "start_time": "2023-11-06T06:22:03.875934300Z"
    },
    "id": "KqwMAfx-qDzS"
   },
   "outputs": [],
   "source": [
    "embeddings_dictionary = dict()\n",
    "Embeddings_file = open('Word2Vect_Spanish.txt', encoding=\"utf8\")\n",
    "\n",
    "for linea in Embeddings_file:\n",
    "    caracts = linea.split()\n",
    "    palabra = caracts[0]\n",
    "    vector = asarray(caracts[1:], dtype='float32')\n",
    "    embeddings_dictionary[palabra] = vector\n",
    "Embeddings_file.close()\n"
   ]
  },
  {
   "cell_type": "code",
   "execution_count": 39,
   "metadata": {
    "ExecuteTime": {
     "end_time": "2023-11-06T06:23:13.267219300Z",
     "start_time": "2023-11-06T06:23:13.256700800Z"
    },
    "id": "StTQjg7rqDzb"
   },
   "outputs": [],
   "source": [
    "def Asignar_Embeddings(tokenizer, vocab_size):\n",
    "    embedding_matrix = zeros((vocab_size, 300))\n",
    "    for word, index in tokenizer.word_index.items():\n",
    "        embedding_vector = embeddings_dictionary.get(word)\n",
    "        if embedding_vector is not None:\n",
    "            embedding_matrix[index] = embedding_vector\n",
    "    return embedding_matrix\n"
   ]
  },
  {
   "cell_type": "code",
   "execution_count": 40,
   "metadata": {
    "ExecuteTime": {
     "end_time": "2023-11-06T06:23:13.295258600Z",
     "start_time": "2023-11-06T06:23:13.271226100Z"
    },
    "id": "eHCZerdtqDzh"
   },
   "outputs": [],
   "source": [
    "vocab_size_NI = len(tokenizer_NI.word_index) + 1\n",
    "embedding_matrix_NI = Asignar_Embeddings(tokenizer_NI, vocab_size_NI)\n",
    "\n",
    "vocab_size_NIIA = len(tokenizer_NIIA.word_index) + 1\n",
    "embedding_matrix_NIIA = Asignar_Embeddings(tokenizer_NIIA, vocab_size_NIIA)\n",
    "\n",
    "vocab_size_NIIB = len(tokenizer_NIIB.word_index) + 1\n",
    "embedding_matrix_NIIB = Asignar_Embeddings(tokenizer_NIIB, vocab_size_NIIB)\n"
   ]
  },
  {
   "cell_type": "code",
   "execution_count": 41,
   "metadata": {
    "ExecuteTime": {
     "end_time": "2023-11-06T06:23:13.321546Z",
     "start_time": "2023-11-06T06:23:13.302802900Z"
    },
    "id": "5pWpDUTnqD0D"
   },
   "outputs": [],
   "source": [
    "def Definir_Modelos(vocab_size, embedding_matrix, X_train, labels):\n",
    "    model = Sequential()\n",
    "    embedding_layer = Embedding(vocab_size, 300, weights=[embedding_matrix], input_length=X_train.shape[1],\n",
    "                                trainable=False)\n",
    "    model.add(embedding_layer)\n",
    "    model.add(LSTM(100, dropout=0.2, recurrent_dropout=0.2))\n",
    "    model.add(Dense(len(labels), activation='softmax'))\n",
    "\n",
    "    model.compile(loss='categorical_crossentropy', optimizer='adam', metrics=['accuracy'])\n",
    "    # print(model.summary())\n",
    "\n",
    "    # print(\"\\nPalabras en el vocabulario:\")\n",
    "    # print(vocab_size)\n",
    "    return model\n"
   ]
  },
  {
   "cell_type": "code",
   "execution_count": 42,
   "metadata": {
    "ExecuteTime": {
     "end_time": "2023-11-06T06:23:13.498406600Z",
     "start_time": "2023-11-06T06:23:13.316530700Z"
    },
    "id": "0fagAWujqD0M",
    "outputId": "ebd13cee-1f44-450a-d8df-efb7a0db57ea"
   },
   "outputs": [],
   "source": [
    "model_NI = Definir_Modelos(vocab_size_NI, embedding_matrix_NI, X_NI_train, NI.keys())\n"
   ]
  },
  {
   "cell_type": "code",
   "execution_count": 43,
   "metadata": {
    "ExecuteTime": {
     "end_time": "2023-11-06T06:23:13.678021100Z",
     "start_time": "2023-11-06T06:23:13.473148500Z"
    },
    "id": "gr9tY4nAqD0a",
    "outputId": "90ca207d-24e6-4705-a67b-e5f79ef0aa28"
   },
   "outputs": [],
   "source": [
    "model_NIIA = Definir_Modelos(vocab_size_NIIA, embedding_matrix_NIIA, X_NIIA_train, NIIA.keys())\n"
   ]
  },
  {
   "cell_type": "code",
   "execution_count": 44,
   "metadata": {
    "ExecuteTime": {
     "end_time": "2023-11-06T06:23:13.788026300Z",
     "start_time": "2023-11-06T06:23:13.629863400Z"
    },
    "id": "2LOUkuR4qD0h",
    "outputId": "cce08e90-3504-4be2-9cfd-4561e05e3249"
   },
   "outputs": [],
   "source": [
    "model_NIIB = Definir_Modelos(vocab_size_NIIB, embedding_matrix_NIIB, X_NIIB_train, NIIB.keys())\n"
   ]
  },
  {
   "cell_type": "code",
   "execution_count": 45,
   "metadata": {
    "ExecuteTime": {
     "end_time": "2023-11-06T06:23:13.821589300Z",
     "start_time": "2023-11-06T06:23:13.770433100Z"
    },
    "id": "N4jIB2_jqD0p"
   },
   "outputs": [],
   "source": [
    "def Entrenar_Modelos(X_train, Y, model, labels):\n",
    "    train_labels = to_categorical(Y, num_classes=len(labels))\n",
    "    # print('Matriz de salidas')\n",
    "    # print(train_labels)\n",
    "\n",
    "    history = model.fit(X_train, train_labels, epochs=30, batch_size=1, verbose=1)\n",
    "\n",
    "    score = model.evaluate(X_train, train_labels, verbose=1)\n",
    "    # print(\"\\nTest Loss:\", score[0])\n",
    "    # print(\"Test Accuracy:\", score[1])\n",
    "    return history\n"
   ]
  },
  {
   "cell_type": "code",
   "execution_count": 46,
   "metadata": {
    "ExecuteTime": {
     "end_time": "2023-11-06T06:23:28.182774800Z",
     "start_time": "2023-11-06T06:23:13.788026300Z"
    },
    "id": "Z-MVeuwKqD0w",
    "outputId": "59ec4dee-801c-4e1f-d15e-332fa2890a5a"
   },
   "outputs": [
    {
     "name": "stdout",
     "output_type": "stream",
     "text": [
      "Epoch 1/30\n"
     ]
    },
    {
     "name": "stderr",
     "output_type": "stream",
     "text": [
      "2023-11-06 11:26:05.130998: W tensorflow/tsl/platform/profile_utils/cpu_utils.cc:128] Failed to get CPU frequency: 0 Hz\n"
     ]
    },
    {
     "name": "stdout",
     "output_type": "stream",
     "text": [
      "62/62 [==============================] - 2s 7ms/step - loss: 1.2334 - accuracy: 0.3387\n",
      "Epoch 2/30\n",
      "62/62 [==============================] - 0s 7ms/step - loss: 0.7489 - accuracy: 0.7419\n",
      "Epoch 3/30\n",
      "62/62 [==============================] - 0s 5ms/step - loss: 0.2971 - accuracy: 1.0000\n",
      "Epoch 4/30\n",
      "62/62 [==============================] - 0s 5ms/step - loss: 0.1106 - accuracy: 0.9677\n",
      "Epoch 5/30\n",
      "62/62 [==============================] - 0s 5ms/step - loss: 0.1933 - accuracy: 0.9194\n",
      "Epoch 6/30\n",
      "62/62 [==============================] - 0s 5ms/step - loss: 0.0376 - accuracy: 0.9839\n",
      "Epoch 7/30\n",
      "62/62 [==============================] - 0s 5ms/step - loss: 0.0216 - accuracy: 1.0000\n",
      "Epoch 8/30\n",
      "62/62 [==============================] - 0s 5ms/step - loss: 0.0131 - accuracy: 1.0000\n",
      "Epoch 9/30\n",
      "62/62 [==============================] - 0s 6ms/step - loss: 0.0147 - accuracy: 1.0000\n",
      "Epoch 10/30\n",
      "62/62 [==============================] - 0s 5ms/step - loss: 0.0205 - accuracy: 1.0000\n",
      "Epoch 11/30\n",
      "62/62 [==============================] - 0s 5ms/step - loss: 0.0609 - accuracy: 0.9677\n",
      "Epoch 12/30\n",
      "62/62 [==============================] - 0s 5ms/step - loss: 0.0061 - accuracy: 1.0000\n",
      "Epoch 13/30\n",
      "62/62 [==============================] - 0s 5ms/step - loss: 0.0037 - accuracy: 1.0000\n",
      "Epoch 14/30\n",
      "62/62 [==============================] - 0s 5ms/step - loss: 0.0025 - accuracy: 1.0000\n",
      "Epoch 15/30\n",
      "62/62 [==============================] - 0s 6ms/step - loss: 0.0019 - accuracy: 1.0000\n",
      "Epoch 16/30\n",
      "62/62 [==============================] - 0s 6ms/step - loss: 0.0020 - accuracy: 1.0000\n",
      "Epoch 17/30\n",
      "62/62 [==============================] - 0s 5ms/step - loss: 0.0013 - accuracy: 1.0000\n",
      "Epoch 18/30\n",
      "62/62 [==============================] - 0s 5ms/step - loss: 0.0015 - accuracy: 1.0000\n",
      "Epoch 19/30\n",
      "62/62 [==============================] - 0s 5ms/step - loss: 0.0019 - accuracy: 1.0000\n",
      "Epoch 20/30\n",
      "62/62 [==============================] - 0s 5ms/step - loss: 8.6702e-04 - accuracy: 1.0000\n",
      "Epoch 21/30\n",
      "62/62 [==============================] - 0s 5ms/step - loss: 9.1040e-04 - accuracy: 1.0000\n",
      "Epoch 22/30\n",
      "62/62 [==============================] - 0s 5ms/step - loss: 0.0010 - accuracy: 1.0000\n",
      "Epoch 23/30\n",
      "62/62 [==============================] - 0s 5ms/step - loss: 4.4584e-04 - accuracy: 1.0000\n",
      "Epoch 24/30\n",
      "62/62 [==============================] - 0s 5ms/step - loss: 3.9006e-04 - accuracy: 1.0000\n",
      "Epoch 25/30\n",
      "62/62 [==============================] - 0s 5ms/step - loss: 7.4914e-04 - accuracy: 1.0000\n",
      "Epoch 26/30\n",
      "62/62 [==============================] - 0s 5ms/step - loss: 5.7900e-04 - accuracy: 1.0000\n",
      "Epoch 27/30\n",
      "62/62 [==============================] - 0s 5ms/step - loss: 5.7713e-04 - accuracy: 1.0000\n",
      "Epoch 28/30\n",
      "62/62 [==============================] - 0s 6ms/step - loss: 2.4449e-04 - accuracy: 1.0000\n",
      "Epoch 29/30\n",
      "62/62 [==============================] - 0s 5ms/step - loss: 4.4842e-04 - accuracy: 1.0000\n",
      "Epoch 30/30\n",
      "62/62 [==============================] - 0s 5ms/step - loss: 2.3923e-04 - accuracy: 1.0000\n",
      "2/2 [==============================] - 0s 3ms/step - loss: 1.4165e-04 - accuracy: 1.0000\n"
     ]
    }
   ],
   "source": [
    "history_NI = Entrenar_Modelos(X_NI_train, Y_NI, model_NI, NI.keys())\n"
   ]
  },
  {
   "cell_type": "code",
   "execution_count": 47,
   "metadata": {
    "ExecuteTime": {
     "end_time": "2023-11-06T06:23:41.300867800Z",
     "start_time": "2023-11-06T06:23:28.173755200Z"
    },
    "id": "ILAqDd2wqD06",
    "outputId": "1b9cd1cd-aac4-4622-90c2-f8c2cc3e2387"
   },
   "outputs": [
    {
     "name": "stdout",
     "output_type": "stream",
     "text": [
      "Epoch 1/30\n",
      "51/51 [==============================] - 1s 4ms/step - loss: 1.3105 - accuracy: 0.5294\n",
      "Epoch 2/30\n",
      "51/51 [==============================] - 0s 5ms/step - loss: 0.6825 - accuracy: 0.7843\n",
      "Epoch 3/30\n",
      "51/51 [==============================] - 0s 5ms/step - loss: 0.2493 - accuracy: 0.9020\n",
      "Epoch 4/30\n",
      "51/51 [==============================] - 0s 5ms/step - loss: 0.0558 - accuracy: 1.0000\n",
      "Epoch 5/30\n",
      "51/51 [==============================] - 0s 5ms/step - loss: 0.0127 - accuracy: 1.0000\n",
      "Epoch 6/30\n",
      "51/51 [==============================] - 0s 5ms/step - loss: 0.0034 - accuracy: 1.0000\n",
      "Epoch 7/30\n",
      "51/51 [==============================] - 0s 5ms/step - loss: 0.0016 - accuracy: 1.0000\n",
      "Epoch 8/30\n",
      "51/51 [==============================] - 0s 5ms/step - loss: 0.0079 - accuracy: 1.0000\n",
      "Epoch 9/30\n",
      "51/51 [==============================] - 0s 5ms/step - loss: 0.1839 - accuracy: 0.9412\n",
      "Epoch 10/30\n",
      "51/51 [==============================] - 0s 5ms/step - loss: 0.0074 - accuracy: 1.0000\n",
      "Epoch 11/30\n",
      "51/51 [==============================] - 0s 5ms/step - loss: 0.0053 - accuracy: 1.0000\n",
      "Epoch 12/30\n",
      "51/51 [==============================] - 0s 5ms/step - loss: 0.0037 - accuracy: 1.0000\n",
      "Epoch 13/30\n",
      "51/51 [==============================] - 0s 6ms/step - loss: 0.0022 - accuracy: 1.0000\n",
      "Epoch 14/30\n",
      "51/51 [==============================] - 0s 5ms/step - loss: 0.0017 - accuracy: 1.0000\n",
      "Epoch 15/30\n",
      "51/51 [==============================] - 0s 5ms/step - loss: 0.0013 - accuracy: 1.0000\n",
      "Epoch 16/30\n",
      "51/51 [==============================] - 0s 5ms/step - loss: 9.1611e-04 - accuracy: 1.0000\n",
      "Epoch 17/30\n",
      "51/51 [==============================] - 0s 6ms/step - loss: 0.0010 - accuracy: 1.0000\n",
      "Epoch 18/30\n",
      "51/51 [==============================] - 0s 6ms/step - loss: 0.0015 - accuracy: 1.0000\n",
      "Epoch 19/30\n",
      "51/51 [==============================] - 0s 6ms/step - loss: 6.4549e-04 - accuracy: 1.0000\n",
      "Epoch 20/30\n",
      "51/51 [==============================] - 0s 8ms/step - loss: 5.6245e-04 - accuracy: 1.0000\n",
      "Epoch 21/30\n",
      "51/51 [==============================] - 0s 6ms/step - loss: 5.6541e-04 - accuracy: 1.0000\n",
      "Epoch 22/30\n",
      "51/51 [==============================] - 0s 6ms/step - loss: 4.9237e-04 - accuracy: 1.0000\n",
      "Epoch 23/30\n",
      "51/51 [==============================] - 0s 5ms/step - loss: 5.6885e-04 - accuracy: 1.0000\n",
      "Epoch 24/30\n",
      "51/51 [==============================] - 0s 5ms/step - loss: 6.9399e-04 - accuracy: 1.0000\n",
      "Epoch 25/30\n",
      "51/51 [==============================] - 0s 6ms/step - loss: 3.9211e-04 - accuracy: 1.0000\n",
      "Epoch 26/30\n",
      "51/51 [==============================] - 0s 6ms/step - loss: 3.3212e-04 - accuracy: 1.0000\n",
      "Epoch 27/30\n",
      "51/51 [==============================] - 0s 6ms/step - loss: 3.4653e-04 - accuracy: 1.0000\n",
      "Epoch 28/30\n",
      "51/51 [==============================] - 0s 5ms/step - loss: 2.5778e-04 - accuracy: 1.0000\n",
      "Epoch 29/30\n",
      "51/51 [==============================] - 0s 5ms/step - loss: 3.5240e-04 - accuracy: 1.0000\n",
      "Epoch 30/30\n",
      "51/51 [==============================] - 0s 5ms/step - loss: 3.1121e-04 - accuracy: 1.0000\n",
      "2/2 [==============================] - 0s 3ms/step - loss: 2.0526e-04 - accuracy: 1.0000\n"
     ]
    }
   ],
   "source": [
    "history_NIIA = Entrenar_Modelos(X_NIIA_train, Y_NIIA, model_NIIA, NIIA.keys())\n"
   ]
  },
  {
   "cell_type": "code",
   "execution_count": 48,
   "metadata": {
    "ExecuteTime": {
     "end_time": "2023-11-06T06:23:49.250042200Z",
     "start_time": "2023-11-06T06:23:41.288348200Z"
    },
    "id": "YWlw-BCFqD1C",
    "outputId": "c0bafdb6-c70a-4cca-80b1-b3201fa5084e"
   },
   "outputs": [
    {
     "name": "stdout",
     "output_type": "stream",
     "text": [
      "Epoch 1/30\n",
      "25/25 [==============================] - 1s 4ms/step - loss: 1.0987 - accuracy: 0.4000\n",
      "Epoch 2/30\n",
      "25/25 [==============================] - 0s 6ms/step - loss: 0.9749 - accuracy: 0.7200\n",
      "Epoch 3/30\n",
      "25/25 [==============================] - 0s 5ms/step - loss: 0.7358 - accuracy: 0.8400\n",
      "Epoch 4/30\n",
      "25/25 [==============================] - 0s 5ms/step - loss: 0.3475 - accuracy: 0.8400\n",
      "Epoch 5/30\n",
      "25/25 [==============================] - 0s 5ms/step - loss: 0.1045 - accuracy: 0.9600\n",
      "Epoch 6/30\n",
      "25/25 [==============================] - 0s 5ms/step - loss: 0.0712 - accuracy: 1.0000\n",
      "Epoch 7/30\n",
      "25/25 [==============================] - 0s 5ms/step - loss: 0.1227 - accuracy: 0.9600\n",
      "Epoch 8/30\n",
      "25/25 [==============================] - 0s 5ms/step - loss: 0.2839 - accuracy: 0.9200\n",
      "Epoch 9/30\n",
      "25/25 [==============================] - 0s 5ms/step - loss: 0.0845 - accuracy: 0.9600\n",
      "Epoch 10/30\n",
      "25/25 [==============================] - 0s 5ms/step - loss: 0.0399 - accuracy: 1.0000\n",
      "Epoch 11/30\n",
      "25/25 [==============================] - 0s 5ms/step - loss: 0.0158 - accuracy: 1.0000\n",
      "Epoch 12/30\n",
      "25/25 [==============================] - 0s 5ms/step - loss: 0.0121 - accuracy: 1.0000\n",
      "Epoch 13/30\n",
      "25/25 [==============================] - 0s 5ms/step - loss: 0.0076 - accuracy: 1.0000\n",
      "Epoch 14/30\n",
      "25/25 [==============================] - 0s 5ms/step - loss: 0.0046 - accuracy: 1.0000\n",
      "Epoch 15/30\n",
      "25/25 [==============================] - 0s 5ms/step - loss: 0.0044 - accuracy: 1.0000\n",
      "Epoch 16/30\n",
      "25/25 [==============================] - 0s 5ms/step - loss: 0.0036 - accuracy: 1.0000\n",
      "Epoch 17/30\n",
      "25/25 [==============================] - 0s 5ms/step - loss: 0.0020 - accuracy: 1.0000\n",
      "Epoch 18/30\n",
      "25/25 [==============================] - 0s 6ms/step - loss: 0.0038 - accuracy: 1.0000\n",
      "Epoch 19/30\n",
      "25/25 [==============================] - 0s 5ms/step - loss: 0.0017 - accuracy: 1.0000\n",
      "Epoch 20/30\n",
      "25/25 [==============================] - 0s 5ms/step - loss: 0.0026 - accuracy: 1.0000\n",
      "Epoch 21/30\n",
      "25/25 [==============================] - 0s 5ms/step - loss: 0.0027 - accuracy: 1.0000\n",
      "Epoch 22/30\n",
      "25/25 [==============================] - 0s 5ms/step - loss: 0.0017 - accuracy: 1.0000\n",
      "Epoch 23/30\n",
      "25/25 [==============================] - 0s 5ms/step - loss: 0.0017 - accuracy: 1.0000\n",
      "Epoch 24/30\n",
      "25/25 [==============================] - 0s 5ms/step - loss: 9.3036e-04 - accuracy: 1.0000\n",
      "Epoch 25/30\n",
      "25/25 [==============================] - 0s 5ms/step - loss: 0.0021 - accuracy: 1.0000\n",
      "Epoch 26/30\n",
      "25/25 [==============================] - 0s 5ms/step - loss: 0.0015 - accuracy: 1.0000\n",
      "Epoch 27/30\n",
      "25/25 [==============================] - 0s 5ms/step - loss: 6.8871e-04 - accuracy: 1.0000\n",
      "Epoch 28/30\n",
      "25/25 [==============================] - 0s 5ms/step - loss: 7.8756e-04 - accuracy: 1.0000\n",
      "Epoch 29/30\n",
      "25/25 [==============================] - 0s 5ms/step - loss: 0.0010 - accuracy: 1.0000\n",
      "Epoch 30/30\n",
      "25/25 [==============================] - 0s 5ms/step - loss: 5.2081e-04 - accuracy: 1.0000\n",
      "1/1 [==============================] - 0s 206ms/step - loss: 6.0350e-04 - accuracy: 1.0000\n"
     ]
    }
   ],
   "source": [
    "history_NIIB = Entrenar_Modelos(X_NIIB_train, Y_NIIB, model_NIIB, NIIB.keys())\n"
   ]
  },
  {
   "cell_type": "code",
   "execution_count": 49,
   "metadata": {
    "ExecuteTime": {
     "end_time": "2023-11-06T06:23:49.282587500Z",
     "start_time": "2023-11-06T06:23:49.247025200Z"
    },
    "id": "jV7UPQIHqD1P"
   },
   "outputs": [],
   "source": [
    "def Grafica_Modelo(history):\n",
    "    plt.figure(figsize=(12, 5))\n",
    "    plt.ylim(-0.1, 1.1)\n",
    "    plt.plot(history.history['accuracy'])\n",
    "    plt.plot(history.history['loss'])\n",
    "    plt.title('model accuracy')\n",
    "    plt.ylabel('accuracy')\n",
    "    plt.xlabel('epoch')\n",
    "    plt.legend(['Acc', 'Loss'])\n",
    "    plt.show()\n"
   ]
  },
  {
   "cell_type": "code",
   "execution_count": 50,
   "metadata": {
    "ExecuteTime": {
     "end_time": "2023-11-06T06:23:49.511540900Z",
     "start_time": "2023-11-06T06:23:49.262560800Z"
    },
    "id": "m7X-IjGsqD1W",
    "outputId": "f59a7610-4adb-4eba-ff5c-16d840add32d"
   },
   "outputs": [],
   "source": [
    "# Grafica_Modelo(history_NI)\n"
   ]
  },
  {
   "cell_type": "code",
   "execution_count": 51,
   "metadata": {
    "ExecuteTime": {
     "end_time": "2023-11-06T06:23:49.705345Z",
     "start_time": "2023-11-06T06:23:49.513541Z"
    },
    "id": "sfir3uYHqD1h",
    "outputId": "381d747b-a309-466f-d4ae-3732d05f9363"
   },
   "outputs": [],
   "source": [
    "# Grafica_Modelo(history_NIIA)\n"
   ]
  },
  {
   "cell_type": "code",
   "execution_count": 52,
   "metadata": {
    "ExecuteTime": {
     "end_time": "2023-11-06T06:23:49.905498200Z",
     "start_time": "2023-11-06T06:23:49.702341500Z"
    },
    "id": "le9epcUPqD1n",
    "outputId": "9adce420-b1da-4759-c948-4ec43f08f4e5"
   },
   "outputs": [],
   "source": [
    "# Grafica_Modelo(history_NIIB)\n"
   ]
  },
  {
   "cell_type": "markdown",
   "metadata": {
    "id": "In7eWoTIqD1u"
   },
   "source": [
    "# Programación del Árbol conversacional"
   ]
  },
  {
   "cell_type": "code",
   "execution_count": 53,
   "metadata": {
    "ExecuteTime": {
     "end_time": "2023-11-06T06:23:50.021414900Z",
     "start_time": "2023-11-06T06:23:49.909014900Z"
    },
    "id": "PCsNvV_oqD1y"
   },
   "outputs": [],
   "source": [
    "def instancer(inp, model, tags):\n",
    "    inp = inp.lower().replace(\"á\", \"a\").replace(\"é\", \"e\").replace(\"í\", \"i\").replace(\"ó\", \"o\")\n",
    "    inp = inp.replace(\"ú\", \"u\").replace(\"¿\", \"\").replace(\"?\", \"\")\n",
    "    txt = [inp]\n",
    "    seq = tokenizer_NI.texts_to_sequences(txt)\n",
    "    padded = pad_sequences(seq, maxlen=maxlen)\n",
    "\n",
    "    # print(\"Input shape before predict:\", padded.shape)\n",
    "    # print(\"Input data:\", padded)\n",
    "\n",
    "    results = model.predict(padded)\n",
    "    results_index = numpy.argmax(results)\n",
    "    tag = list(tags.keys())[results_index]\n",
    "    maxscore = numpy.max(results)\n",
    "    return tag, maxscore\n"
   ]
  },
  {
   "cell_type": "code",
   "execution_count": 54,
   "metadata": {
    "ExecuteTime": {
     "end_time": "2023-11-06T06:23:50.021414900Z",
     "start_time": "2023-11-06T06:23:49.920704300Z"
    },
    "id": "hACpbGDKqD14"
   },
   "outputs": [],
   "source": [
    "\n",
    "def Activar_NI(user_input):\n",
    "    if user_input is None:\n",
    "        response = \"ChatBot: ¿En qué puedo ayudarte? Puedes preguntarme sobre reservaciones, servicios del hotel, su historia o atracciones cercanas.\"\n",
    "        return response, 'NI'\n",
    "\n",
    "    tag, maxscore = instancer(user_input, model_NI, NI)\n",
    "\n",
    "    if maxscore > 0.65 or user_input == 'salir':\n",
    "        if user_input == 'salir':\n",
    "            response = \"ChatBot: Hasta luego, fue un gusto hablar contigo\"\n",
    "            return response, 'salir'\n",
    "\n",
    "        if tag == 'Reservar_Habitacion':\n",
    "            if user_input.count('Tipo_Habitacion') > 0:\n",
    "                next_state = 'NIIA1'\n",
    "            elif user_input.count('Fecha_entrada') > 0:\n",
    "                next_state = 'NIIA2'\n",
    "            elif user_input.count('Fecha_salida') > 0:\n",
    "                next_state = 'NIIA3'\n",
    "            elif user_input.count(\"Num_huespedes\") > 0:\n",
    "                next_state = 'NIIA4'\n",
    "            else:\n",
    "                next_state = 'NIIA'\n",
    "            response = \"ChatBot: Entendido, estás interesado en reservar una habitación.\"\n",
    "\n",
    "        elif tag == 'Servicio_hotel':\n",
    "            if user_input.count('Apartar_espacio') > 0:\n",
    "                next_state = 'NIIB1'\n",
    "            elif user_input.count('Servicio') > 0:\n",
    "                next_state = 'NIIB2'\n",
    "            elif user_input.count('Comida_bebida') > 0:\n",
    "                next_state = 'NIIB3'\n",
    "            else:\n",
    "                next_state = 'NIIB'\n",
    "            response = \"ChatBot: Claro, puedo ayudarte con los servicios del hotel.\"\n",
    "\n",
    "        elif tag == 'Historia_Hotel':\n",
    "            response = \"ChatBot: Desde su apertura en 1920 por el pionero Don Eduardo Mendoza, nuestro hotel es un ícono de la arquitectura Art Deco, diseñado por Carlos Fontana.\\nHa acogido a luminarias como la actriz Clara Estrella en los años 30 y fue el lugar de la histórica cumbre de paz en 1955. Cada habitación cuenta una historia; por ejemplo, la suite 204, donde el novelista Luis Montero escribió su obra maestra. Es un lugar donde la historia y la hospitalidad se encuentran en cada esquina.\"\n",
    "            next_state = 'NI'\n",
    "\n",
    "        elif tag == 'Atracciones_Cercanas':\n",
    "            response = \"Chatbot: En el corazón de la ciudad, nuestro hotel se encuentra a un corto trayecto del Parque Central y a unos minutos del Museo Nacional de Arte, perfecto para los entusiastas de la cultura. Para aquellos interesados en la historia, el Convento de San Francisco está a una caminata de distancia. No te pierdas el Mercado del Sol, ideal para saborear la cocina local y encontrar artesanías únicas. Además, ofrecemos excursiones al Castillo de San Lorenzo, un sitio histórico con vistas espectaculares, a solo media hora en coche.\"\n",
    "            next_state = 'NI'\n",
    "\n",
    "        else:\n",
    "            next_state = 'NI'\n",
    "            response = \"ChatBot: Puedes preguntarme sobre reservaciones, servicios del hotel, su historia o atracciones cercanas.\"\n",
    "\n",
    "        return response, next_state\n",
    "\n",
    "    else:\n",
    "        response = \"ChatBot: Lo siento, pero no entendí tu petición, ¿Podrías decirlo de otra forma?\"\n",
    "        return response, 'NI'\n"
   ]
  },
  {
   "cell_type": "code",
   "execution_count": 55,
   "metadata": {
    "ExecuteTime": {
     "end_time": "2023-11-06T06:23:50.021414900Z",
     "start_time": "2023-11-06T06:23:49.956780Z"
    },
    "id": "iK-5AY2LqD2E"
   },
   "outputs": [],
   "source": [
    "def Activar_NIIA(user_input):\n",
    "    if user_input is None:\n",
    "        response = \"ChatBot: Entiendo que quieres reservar una habitación. Por favor, dime 'Reservar Habitación' para iniciar el proceso.\"\n",
    "        return response, 'NIIA'\n",
    "\n",
    "    tag, maxscore = instancer(user_input, model_NIIA, NIIA)\n",
    "\n",
    "    if maxscore > 0.5 or user_input == 'salir' or user_input == 'volver':\n",
    "        if user_input == 'volver':\n",
    "            next_state = 'NI'\n",
    "            response = \"ChatBot: Entendido, volviendo al menú principal.\"\n",
    "        elif user_input == 'salir':\n",
    "            response = \"ChatBot: Hasta luego, fue un gusto hablar contigo.\"\n",
    "            return response\n",
    "\n",
    "        elif tag == 'Tipo_Habitacion' or not Tipo_Cuarto:\n",
    "            next_state = 'NIIA1'\n",
    "            response = \"Sigamos con el proceso\"\n",
    "        elif tag == 'Fecha_entrada':\n",
    "            next_state = 'NIIA2'\n",
    "            response = \"Sigamos con el proceso\"\n",
    "        elif tag == 'Fecha_salida':\n",
    "            next_state = 'NIIA3'\n",
    "            response = \"Sigamos con el proceso\"\n",
    "        elif tag == 'Num_huespedes':\n",
    "            next_state = 'NIIA4'\n",
    "            response = \"Sigamos con el proceso\"\n",
    "        else:\n",
    "            next_state = 'NIIA'\n",
    "            response = \"ChatBot: Por favor, dime más sobre tu reserva.\"\n",
    "\n",
    "        return response, next_state\n",
    "    else:\n",
    "        response = \"ChatBot: Lo siento, pero no entendí. Puedes decirme 'Reservar Habitación' por ejemplo.\"\n",
    "        return response, 'NIIA'\n"
   ]
  },
  {
   "cell_type": "code",
   "execution_count": 56,
   "metadata": {
    "ExecuteTime": {
     "end_time": "2023-11-06T06:23:50.021414900Z",
     "start_time": "2023-11-06T06:23:49.970318600Z"
    },
    "id": "4AopUVTyqD2V"
   },
   "outputs": [],
   "source": [
    "def Activar_NIIA1(user_input=None):\n",
    "    if user_input is None:\n",
    "        response = \"ChatBot: Excelente! Reservemos una habitación. ¿Qué tipo de habitación te gustaría reservar?\"\n",
    "        return response, 'NIIA1'\n",
    "    \n",
    "    user_input = user_input.lower()\n",
    "\n",
    "    if 'estándar' in user_input or 'económica' in user_input:\n",
    "        response = \"ChatBot: Excelente, reservaremos una habitación estándar.\"\n",
    "        Tipo_Cuarto = \"Estándar\"\n",
    "        next_state = 'NIIA2'\n",
    "    elif 'suite' in user_input:\n",
    "        response = \"ChatBot: Excelente, reservaremos una habitación suite.\"\n",
    "        Tipo_Cuarto = \"Suite\"\n",
    "        next_state = 'NIIA2'\n",
    "    elif 'doble' in user_input or 'dos camas' in user_input:\n",
    "        response = \"ChatBot: Excelente, reservaremos una habitación doble.\"\n",
    "        Tipo_Cuarto = \"Doble\"\n",
    "        next_state = 'NIIA2'\n",
    "    elif 'familiar' in user_input:\n",
    "        response = \"ChatBot: Excelente, reservaremos una habitación familiar.\"\n",
    "        Tipo_Cuarto = \"Familiar\"\n",
    "        next_state = 'NIIA2'\n",
    "    elif 'deluxe' in user_input:\n",
    "        response = \"ChatBot: Excelente, reservaremos una habitación deluxe.\"\n",
    "        Tipo_Cuarto = \"Deluxe\"\n",
    "        next_state = 'NIIA2'\n",
    "    elif 'ofrecen' in user_input:\n",
    "        response = \"ChatBot: Ofrecemos los siguientes tipos de habitaciones: estándar, doble, familiar, suite, y deluxe.\"\n",
    "    elif user_input == 'volver':\n",
    "        next_state = 'NIIA'\n",
    "        response = \"ChatBot: De acuerdo, volviendo al menú anterior.\"\n",
    "    elif user_input == 'salir':\n",
    "        next_state = 'salir'\n",
    "        response = \"ChatBot: Hasta luego, fue un gusto ayudarte.\"\n",
    "    else:\n",
    "        next_state = 'NIIA1'\n",
    "        response = \"ChatBot: No he podido identificar el tipo de habitación. ¿Puedes especificar si deseas una habitación estándar, suite, doble, etc.?\"\n",
    "\n",
    "    return response, next_state\n"
   ]
  },
  {
   "cell_type": "code",
   "execution_count": 57,
   "metadata": {
    "ExecuteTime": {
     "end_time": "2023-11-06T06:23:50.021414900Z",
     "start_time": "2023-11-06T06:23:49.988344900Z"
    },
    "id": "aDMr1CxZqD2p"
   },
   "outputs": [],
   "source": [
    "def Activar_NIIA2(user_input):\n",
    "    if user_input is None:\n",
    "        response = \"ChatBot: Muy bien! ¿Para cuándo agendamos su entrada? (dd/mm/aaaa)\"\n",
    "        return response, 'NIIA2'\n",
    "\n",
    "    user_input = user_input.lower()\n",
    "\n",
    "    if user_input == 'volver':\n",
    "        next_state = 'NI'\n",
    "        response = \"ChatBot: De acuerdo, volviendo al menú anterior.\"\n",
    "    elif user_input == 'salir':\n",
    "        response = \"ChatBot: Hasta luego, fue un gusto hablar contigo.\"\n",
    "        next_state = 'salir'\n",
    "    else:\n",
    "        try:\n",
    "            fecha_entrada_usuario = datetime.strptime(user_input, '%d/%m/%Y')\n",
    "            if fecha_entrada_usuario.date() < datetime.now().date():\n",
    "                response = \"ChatBot: No puedes agendar una fecha en el pasado. Por favor, elige una fecha futura.\"\n",
    "                next_state = 'NIIA2'\n",
    "            else:\n",
    "                fecha_formateada = fecha_entrada_usuario.strftime('%d de %B del %Y')\n",
    "                response = f\"ChatBot: Muy bien, agendaré la entrada para el {fecha_formateada}.\"\n",
    "                Fecha_entrada = fecha_entrada_usuario\n",
    "                next_state = 'NIIA3'\n",
    "        except ValueError:\n",
    "            response = \"ChatBot: Parece que la fecha no está en el formato correcto. Por favor, ingresa la fecha en formato dd/mm/aaaa.\"\n",
    "            next_state = 'NIIA2'\n",
    "\n",
    "    return response, next_state\n"
   ]
  },
  {
   "cell_type": "code",
   "execution_count": 58,
   "metadata": {
    "ExecuteTime": {
     "end_time": "2023-11-06T06:23:50.021414900Z",
     "start_time": "2023-11-06T06:23:50.004870500Z"
    }
   },
   "outputs": [],
   "source": [
    "def Activar_NIIA3(user_input):\n",
    "    if user_input is None:\n",
    "        response = \"ChatBot: Muy bien! ¿Para cuándo agendamos su salida? (dd/mm/aaaa)\"\n",
    "        return response, 'NIIA3'\n",
    "\n",
    "    user_input = user_input.lower()\n",
    "\n",
    "    if user_input == 'volver':\n",
    "        next_state = 'NI'\n",
    "        response = \"ChatBot: De acuerdo, volviendo al menú anterior.\"\n",
    "    elif user_input == 'salir':\n",
    "        response = \"ChatBot: Hasta luego, fue un gusto hablar contigo.\"\n",
    "        next_state = 'salir'\n",
    "    else:\n",
    "        try:\n",
    "            fecha_salida_usuario = datetime.strptime(user_input, '%d/%m/%Y')\n",
    "            if fecha_salida_usuario.date() < datetime.now().date():\n",
    "                response = \"ChatBot: No puedes agendar una fecha de salida en el pasado. Por favor, elige una fecha futura.\"\n",
    "            elif Fecha_entrada and fecha_salida_usuario.date() <= Fecha_entrada.date():\n",
    "                response = \"ChatBot: La fecha de salida debe ser posterior a la fecha de entrada. Por favor, elige una fecha adecuada.\"\n",
    "                next_state = 'NIIA3'\n",
    "            else:\n",
    "                fecha_formateada = fecha_salida_usuario.strftime('%d de %B del %Y')\n",
    "                response = f\"ChatBot: Muy bien, agendaré la salida para el {fecha_formateada}.\"\n",
    "                Fecha_salida = fecha_salida_usuario\n",
    "                next_state = 'NIIA4'\n",
    "        except ValueError:\n",
    "            response = \"ChatBot: Parece que la fecha no está en el formato correcto. Por favor, ingresa la fecha en formato dd/mm/aaaa.\"\n",
    "            next_state = 'NIIA3'\n",
    "\n",
    "    return response, next_state\n"
   ]
  },
  {
   "cell_type": "code",
   "execution_count": 59,
   "metadata": {
    "ExecuteTime": {
     "end_time": "2023-11-06T06:23:50.046778300Z",
     "start_time": "2023-11-06T06:23:50.019902600Z"
    }
   },
   "outputs": [],
   "source": [
    "def Activar_NIIA4(user_input):\n",
    "    if user_input is None:\n",
    "        response = \"ChatBot: Súper! ¿Para cuántas personas es la reservación?\"\n",
    "        return response, 'NIIA4'\n",
    "\n",
    "    user_input = user_input.lower()\n",
    "\n",
    "    if user_input == 'volver':\n",
    "        next_state = 'NI'\n",
    "        response = \"ChatBot: De acuerdo, volviendo al menú anterior.\"\n",
    "    elif user_input == 'salir':\n",
    "        response = \"ChatBot: Hasta luego, fue un gusto hablar contigo.\"\n",
    "        next_state = 'salir'\n",
    "    else:\n",
    "        try:\n",
    "            huespedes = int(user_input)\n",
    "            if 1 <= huespedes <= 4:\n",
    "                response = f\"ChatBot: Muy bien, agendaré para {huespedes} personas.\\n\" \\\n",
    "                           f\"La reservación final es de {huespedes} personas con el tipo de cuarto {Tipo_Cuarto}, \" \\\n",
    "                           f\"con fecha de entrada {Fecha_entrada.strftime('%d/%m/%Y')}, \" \\\n",
    "                           f\"y fecha de salida {Fecha_salida.strftime('%d/%m/%Y')}. \" \\\n",
    "                           f\"\\n\\nSi deseas algo más no dudes en preguntar.\"\n",
    "                Num_huespedes = huespedes\n",
    "                next_state = 'NI'\n",
    "            else:\n",
    "                response = \"ChatBot: Actualmente solo podemos reservar para hasta 4 personas.\"\n",
    "                next_state = 'NIIA4'\n",
    "        except ValueError:\n",
    "            response = \"ChatBot: ¿Podrías indicarme un número de personas para la reservación?\"\n",
    "            next_state = 'NIIA4'\n",
    "\n",
    "    return response, next_state\n"
   ]
  },
  {
   "cell_type": "code",
   "execution_count": 60,
   "metadata": {
    "ExecuteTime": {
     "end_time": "2023-11-06T06:23:50.079352300Z",
     "start_time": "2023-11-06T06:23:50.038262600Z"
    }
   },
   "outputs": [],
   "source": [
    "def Activar_NIIB(user_input=None):\n",
    "    if user_input is None:\n",
    "        response = \"ChatBot: Entiendo que quieres pedir un servicio del Hotel. \" \\\n",
    "                   \"(Apartar espacio, Pedir servicio al cuarto, Pedir comida o bebida)\"\n",
    "        return response, 'NIIB'\n",
    "\n",
    "    tag, maxscore = instancer(user_input, model_NIIB, NIIB)\n",
    "\n",
    "    if maxscore > 0.5 or user_input == 'salir' or user_input == 'volver':\n",
    "        if user_input == 'volver':\n",
    "            next_state = 'NI'\n",
    "            response = \"ChatBot: De acuerdo, volviendo al menú anterior.\"\n",
    "        elif user_input == 'salir':\n",
    "            response = \"ChatBot: Hasta luego, fue un gusto hablar contigo.\"\n",
    "            next_state = 'salir'\n",
    "        elif tag == 'Apartar_espacio':\n",
    "            next_state = 'NIIB1'\n",
    "            response = \"Sigamos con el proceso\"\n",
    "        elif tag == 'Servicio':\n",
    "            next_state = 'NIIB2'\n",
    "            response = \"Sigamos con el proceso\"\n",
    "        elif tag == 'Comida_bebida':\n",
    "            next_state = 'NIIB3'\n",
    "            response = \"Sigamos con el proceso\"\n",
    "        else:\n",
    "            response = \"ChatBot: No estoy seguro de cómo ayudarte con eso. ¿Podrías especificar más tu solicitud?\"\n",
    "            next_state = 'NIIB'\n",
    "    else:\n",
    "        response = \"ChatBot: Lo siento, pero no entendí. ¿Podrías ser más específico?\"\n",
    "        next_state = 'NIIB'\n",
    "\n",
    "    return response, next_state\n"
   ]
  },
  {
   "cell_type": "code",
   "execution_count": 61,
   "metadata": {
    "ExecuteTime": {
     "end_time": "2023-11-06T06:23:50.081353800Z",
     "start_time": "2023-11-06T06:23:50.052793300Z"
    }
   },
   "outputs": [],
   "source": [
    "def Activar_NIIB1(user_input):\n",
    "    if user_input is None:\n",
    "        response = \"ChatBot: Excelente! Apartemos un espacio. ¿Qué tipo de espacio te gustaría reservar?\"\n",
    "        next_state = 'NIIB1'\n",
    "        return response, next_state\n",
    "\n",
    "    user_input = user_input.lower()\n",
    "\n",
    "    if user_input == 'volver':\n",
    "        next_state = 'NI'\n",
    "        response = \"ChatBot: De acuerdo, volviendo al menú anterior.\"\n",
    "    elif user_input == 'salir':\n",
    "        response = \"ChatBot: Hasta luego, fue un gusto hablar contigo.\"\n",
    "        next_state = 'salir'\n",
    "    elif 'alberca' in user_input:\n",
    "        response = \"ChatBot: Excelente, reservaremos la alberca. Si hay otro servicio que te gustaría pedir no dudes en decírmelo!\"\n",
    "        Espacio_Apartado = \"alberca\"\n",
    "        next_state = 'NI'\n",
    "    elif 'gimnasio' in user_input:\n",
    "        response = \"ChatBot: Excelente, reservaremos el gimnasio. Si hay otro servicio que te gustaría pedir no dudes en decírmelo!\"\n",
    "        Espacio_Apartado = \"gimnasio\"\n",
    "        next_state = 'NI'\n",
    "    elif 'eventos' in user_input or 'salon' in user_input:\n",
    "        response = \"ChatBot: Excelente, reservaremos el salón de eventos. Si hay otro servicio que te gustaría pedir no dudes en decírmelo!\"\n",
    "        Espacio_Apartado = \"salón de eventos\"\n",
    "        next_state = 'NI'\n",
    "    elif 'terraza' in user_input:\n",
    "        response = \"ChatBot: Excelente, reservaremos la terraza. Si hay otro servicio que te gustaría pedir no dudes en decírmelo!\"\n",
    "        Espacio_Apartado = \"terraza\"\n",
    "        next_state = 'NI'\n",
    "    elif 'spa' in user_input:\n",
    "        response = \"ChatBot: Excelente, reservaremos el spa. Si hay otro servicio que te gustaría pedir no dudes en decírmelo!\"\n",
    "        Espacio_Apartado = \"spa\"\n",
    "        next_state = 'NI'\n",
    "    else:\n",
    "        response = \"ChatBot: ¿Podrías repetirme qué tipo de espacio te gustaría reservar?\"\n",
    "        next_state = 'NIIB1'\n",
    "\n",
    "    return response, next_state\n"
   ]
  },
  {
   "cell_type": "code",
   "execution_count": 62,
   "metadata": {
    "ExecuteTime": {
     "end_time": "2023-11-06T06:23:50.082356500Z",
     "start_time": "2023-11-06T06:23:50.065317100Z"
    }
   },
   "outputs": [],
   "source": [
    "def Activar_NIIB2(user_input=None):\n",
    "    if user_input is None:\n",
    "        response = \"ChatBot: Con gusto! ¿Qué servicio le gustaría pedir?\"\n",
    "        next_state = 'NIIB2'\n",
    "        return response, next_state\n",
    "\n",
    "    user_input = user_input.lower()\n",
    "\n",
    "    if user_input == 'volver':\n",
    "        next_state = 'NI'\n",
    "        response = \"ChatBot: De acuerdo, volviendo al menú anterior.\"\n",
    "    elif user_input == 'salir':\n",
    "        response = \"ChatBot: Hasta luego, fue un gusto hablar contigo.\"\n",
    "        next_state = 'salir'\n",
    "    elif 'limpiar' in user_input:\n",
    "        response = \"ChatBot: Claro, enviaremos a alguien para limpiar la habitación. Si hay otro servicio que te gustaría pedir no dudes en decírmelo!\"\n",
    "        Servicio_Pedido = \"limpieza de cuarto\"\n",
    "        next_state = 'NI'\n",
    "    elif 'toallas' in user_input:\n",
    "        response = \"ChatBot: Ok, enviaremos toallas a su habitación. Si hay otro servicio que te gustaría pedir no dudes en decírmelo!\"\n",
    "        Servicio_Pedido = \"toallas\"\n",
    "        next_state = 'NI'\n",
    "    elif 'jabón' in user_input or 'shampoo' in user_input:\n",
    "        response = \"ChatBot: Seguro! enviaremos artículos de higiene personal a su cuarto. Si hay otro servicio que te gustaría pedir no dudes en decírmelo!\"\n",
    "        Servicio_Pedido = \"higiene personal\"\n",
    "        next_state = 'NI'\n",
    "    elif 'equipaje' in user_input:\n",
    "        response = \"ChatBot: Mandaremos a alguien para apoyar con el equipaje. Si hay otro servicio que te gustaría pedir no dudes en decírmelo!\"\n",
    "        Servicio_Pedido = \"apoyo con equipaje\"\n",
    "        next_state = 'NI'\n",
    "    elif 'almohadas' in user_input:\n",
    "        response = \"ChatBot: Con gusto enviaremos más almohadas a la habitación. Si hay otro servicio que te gustaría pedir no dudes en decírmelo!\"\n",
    "        Servicio_Pedido = \"almohadas\"\n",
    "        next_state = 'NI'\n",
    "    else:\n",
    "        response = \"ChatBot: ¿Podrías repetirme qué servicio requieres?\"\n",
    "        next_state = 'NIIB2'\n",
    "\n",
    "    return response, next_state\n"
   ]
  },
  {
   "cell_type": "code",
   "execution_count": 63,
   "metadata": {
    "ExecuteTime": {
     "end_time": "2023-11-06T06:23:50.102389Z",
     "start_time": "2023-11-06T06:23:50.081353800Z"
    }
   },
   "outputs": [],
   "source": [
    "def Activar_NIIB3(user_input=None):\n",
    "    if user_input is None:\n",
    "        response = \"ChatBot: Hora de comer! ¿Qué alimento o bebida le gustaría pedir?\"\n",
    "        next_state = 'NIIB3'\n",
    "        return response, next_state\n",
    "\n",
    "    user_input = user_input.lower()\n",
    "\n",
    "    if user_input == 'volver':\n",
    "        next_state = 'NI'\n",
    "        response = \"ChatBot: De acuerdo, volviendo al menú anterior.\"\n",
    "    elif user_input == 'salir':\n",
    "        response = \"ChatBot: Hasta luego, fue un gusto hablar contigo.\"\n",
    "        next_state = 'salir'\n",
    "    elif 'desayuno' in user_input:\n",
    "        response = \"ChatBot: Claro, enviaremos el desayuno a la habitación.\"\n",
    "        comida_pedida = \"desayuno\"\n",
    "        next_state = 'NI'\n",
    "    elif 'vegana' in user_input or 'vegetariana' in user_input:\n",
    "        response = \"ChatBot: Por supuesto, prepararemos una opción vegana/vegetariana para usted.\"\n",
    "        comida_pedida = \"vegana/vegetariana\"\n",
    "        next_state = 'NI'\n",
    "    elif 'comida' in user_input:\n",
    "        response = \"ChatBot: Mandaremos la comida a la habitación.\"\n",
    "        comida_pedida = \"comida\"\n",
    "        next_state = 'NI'\n",
    "    elif 'botella' in user_input or 'vino' in user_input:\n",
    "        response = \"ChatBot: Seguro! enviaremos una botella de vino.\"\n",
    "        comida_pedida = \"vino\"\n",
    "        next_state = 'NI'\n",
    "    elif 'café' in user_input:\n",
    "        response = \"ChatBot: Con gusto enviaremos café a su habitación.\"\n",
    "        comida_pedida = \"café\"\n",
    "        next_state = 'NI'\n",
    "    elif 'romántica' in user_input:\n",
    "        response = \"ChatBot: Prepararemos una cena romántica para usted.\"\n",
    "        comida_pedida = \"romántica\"\n",
    "        next_state = 'NI'\n",
    "    elif 'cena' in user_input:\n",
    "        response = \"ChatBot: Claro, mandaremos la cena a la habitación.\"\n",
    "        comida_pedida = \"cena\"\n",
    "        next_state = 'NI'\n",
    "    else:\n",
    "        response = \"ChatBot: ¿Podrías repetirme qué alimento/bebida quieres pedir?\"\n",
    "        next_state = 'NIIB3'\n",
    "\n",
    "    return response, next_state\n"
   ]
  },
  {
   "cell_type": "code",
   "execution_count": 66,
   "metadata": {
    "ExecuteTime": {
     "end_time": "2023-11-06T06:56:40.993042500Z",
     "start_time": "2023-11-06T06:56:40.418122200Z"
    }
   },
   "outputs": [
    {
     "name": "stdout",
     "output_type": "stream",
     "text": [
      "Running on local URL:  http://127.0.0.1:7861\n",
      "\n",
      "To create a public link, set `share=True` in `launch()`.\n"
     ]
    },
    {
     "data": {
      "text/html": [
       "<div><iframe src=\"http://127.0.0.1:7861/\" width=\"100%\" height=\"500\" allow=\"autoplay; camera; microphone; clipboard-read; clipboard-write;\" frameborder=\"0\" allowfullscreen></iframe></div>"
      ],
      "text/plain": [
       "<IPython.core.display.HTML object>"
      ]
     },
     "metadata": {},
     "output_type": "display_data"
    },
    {
     "data": {
      "text/plain": []
     },
     "execution_count": 66,
     "metadata": {},
     "output_type": "execute_result"
    },
    {
     "name": "stdout",
     "output_type": "stream",
     "text": [
      "1/1 [==============================] - 1s 509ms/step\n",
      "1/1 [==============================] - 0s 301ms/step\n"
     ]
    }
   ],
   "source": [
    "# Implementación de casos correspondientes para cada nivel del ChatBot\n",
    "# Nivel contextual inicial por defecto, el primero\n",
    "estado_actual: 'NI'\n",
    "Tipo_Cuarto: \"\"\n",
    "Fecha_entrada: \"\"\n",
    "Fecha_salida: \"\"\n",
    "Num_huespedes: 0\n",
    "Servicio_deseado: \"\"\n",
    "Espacio_Apartado: \"\"\n",
    "Servicio_Pedido: \"\"\n",
    "Comida_Pedida: \"\"\n",
    "\n",
    "maquina_estados = {'NI': Activar_NI,\n",
    "                   \"NIIA\": Activar_NIIA,\n",
    "                   \"NIIA1\": Activar_NIIA1,\n",
    "                   \"NIIA2\": Activar_NIIA2,\n",
    "                   \"NIIA3\": Activar_NIIA3,\n",
    "                   \"NIIA4\": Activar_NIIA4,\n",
    "                   \"NIIB\": Activar_NIIB,\n",
    "                   \"NIIB1\": Activar_NIIB1,\n",
    "                   \"NIIB2\": Activar_NIIB2,\n",
    "                   \"NIIB3\": Activar_NIIB3\n",
    "                   }\n",
    "\n",
    "def adapted_chat1(user_input, Nivel):\n",
    "    if user_input == \"\":\n",
    "        response, next_state = maquina_estados[Nivel](None)\n",
    "    else:\n",
    "        response, next_state = maquina_estados[Nivel](user_input)\n",
    "    return response, next_state\n",
    "\n",
    "def gradio_chatbot_function(user_input, state='NI'):\n",
    "    if user_input == \"\":\n",
    "        response, next_state = adapted_chat1(None, state)\n",
    "    else:\n",
    "        response, next_state = adapted_chat1(user_input, state)\n",
    "    return response, next_state\n",
    "\n",
    "iface = gr.Interface(\n",
    "    fn=gradio_chatbot_function,\n",
    "    inputs=[gr.Textbox(lines=2, label=\"Tu mensaje\", placeholder=\"Escribe tu mensaje aquí...\"), \"state\"],\n",
    "    outputs=[gr.Textbox(label=\"Respuesta del Chatbot\", placeholder=\"Puedes preguntarme sobre reservaciones, servicios del hotel, su historia o atracciones cercanas\"), \"state\"],\n",
    "    title=\"'Hotel ESDAI Chatbot\",\n",
    "    description=\"Bienvenido a Hotel ESDAI Chatbot. ¿Qué deseas hacer?\"\n",
    ")\n",
    "\n",
    "iface.launch()\n"
   ]
  },
  {
   "cell_type": "code",
   "execution_count": 65,
   "metadata": {
    "ExecuteTime": {
     "end_time": "2023-11-06T06:23:50.384832900Z",
     "start_time": "2023-11-06T06:23:50.326861200Z"
    }
   },
   "outputs": [],
   "source": [
    "# # Check the size of the tokenizer's word index\n",
    "# print(\"Tokenizer word index size:\", len(tokenizer_NI.word_index))\n",
    "# \n",
    "# # After loading the model, check the input dimension of the embedding layer\n",
    "# embedding_input_dim = model_NIIB.layers[0].get_config()['input_dim']\n",
    "# print(\"Model's embedding input dimension:\", embedding_input_dim)\n"
   ]
  }
 ],
 "metadata": {
  "colab": {
   "name": "Reto 28.- Flujos conversaconales",
   "provenance": []
  },
  "kernelspec": {
   "display_name": "Python 3 (ipykernel)",
   "language": "python",
   "name": "python3"
  },
  "language_info": {
   "codemirror_mode": {
    "name": "ipython",
    "version": 3
   },
   "file_extension": ".py",
   "mimetype": "text/x-python",
   "name": "python",
   "nbconvert_exporter": "python",
   "pygments_lexer": "ipython3",
   "version": "3.9.18"
  }
 },
 "nbformat": 4,
 "nbformat_minor": 1
}
