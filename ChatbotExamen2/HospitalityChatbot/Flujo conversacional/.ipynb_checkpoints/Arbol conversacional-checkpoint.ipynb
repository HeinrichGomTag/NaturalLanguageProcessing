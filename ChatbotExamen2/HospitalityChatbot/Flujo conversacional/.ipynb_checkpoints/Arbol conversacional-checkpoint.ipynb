{
 "cells": [
  {
   "cell_type": "code",
   "execution_count": 2,
   "metadata": {
    "id": "F27k_d1FqDwV",
    "outputId": "4dee50c0-ef32-481e-e812-099f12b10ba1"
   },
   "outputs": [],
   "source": [
    "# Declaración de librerías\n",
    "import nltk\n",
    "import numpy\n",
    "import tensorflow\n",
    "import random\n",
    "import json"
   ]
  },
  {
   "cell_type": "code",
   "execution_count": 3,
   "metadata": {
    "id": "ugsfnO0pqDwn"
   },
   "outputs": [],
   "source": [
    "# Lectura de formatos .json para entrenar cada modelo y asignación\n",
    "# de información correspondiente\n",
    "with open('Intenciones_NivelI.json', encoding='utf-8') as file:\n",
    "    data_NivelI = json.load(file)\n",
    "    \n",
    "with open('Intenciones_NivelIIA.json', encoding='utf-8') as file:\n",
    "    data_NivelIIA = json.load(file)\n",
    "    \n",
    "with open('Intenciones_NivelIIB.json', encoding='utf-8') as file:\n",
    "    data_NivelIIB = json.load(file)"
   ]
  },
  {
   "cell_type": "code",
   "execution_count": 4,
   "metadata": {
    "id": "HogXD3MyqDwx",
    "outputId": "50b17eeb-89c4-4ea0-cb93-a9b6635e4a4d"
   },
   "outputs": [
    {
     "name": "stdout",
     "output_type": "stream",
     "text": [
      "{'Reservar_Habitacion': ['Quiero hacer una reserva', 'Quiero reservar una habitación', 'Me gustaría reservar una habitación', '¿Puedo reservar una habitación?', 'Por favor reserva una habitación', 'Quiero reservar un cuarto', 'Me gustaría reservar un cuarto', 'Por favor reserva un cuarto', '¿Puedo reservar un cuarto?', 'Apartar un cuarto', 'Apartar una habitación'], 'Servicio_hotel': ['Quiero apartar la alberca', 'Quiero apartar el gimnasio', 'Quiero que vengan a limpiar la habitación', 'Quiero que traigan más toallas', 'Ayúdenme a bajar mis maletas']}\n",
      "{'Tipo_Habitacion': ['Quisiera una habitación estándar', 'Prefiero una suite', 'Me gustaría reservar una habitación doble', 'Necesito una habitación familiar', 'Estoy buscando una habitación deluxe', 'Quiero una habitación con dos camas', '¿Qué tipos de habitaciones ofrecen?', 'Busco una habitación económica', 'Quiero un cuarto estándar', 'Me gustaría reservar un cuarto doble', 'Necesito un cuarto familiar', 'Quiero un cuarto con dos camas', '¿Qué tipos de cuartos ofrecen?', 'Quiero un cuarto con vista al mar', 'Busco un cuarto económico'], 'Fecha_entrada': ['Quiero que sea para hoy', 'Para llegar mañana', 'Para llegar pasado mañana', 'Quiero llegar el Lunes', 'Quiero llegar el Martes', 'Quiero llegar el Miércoles', 'Quiero llegar el Jueves', 'Quiero llegar el Viernes', 'Quiero llegar el Sábado', 'Quiero llegar el Domingo'], 'Fecha_salida': ['Para salir mañana', 'Para salir pasado mañana', 'Para salir la siguiente semana', 'Para salir el siguiente mes', 'Quiero salir el Lunes', 'Quiero salir el Martes', 'Quiero salir el Miércoles', 'Quiero salir el Jueves', 'Quiero salir el Viernes', 'Quiero salir el Sábado', 'Quiero salir el Domingo'], 'Num_huespedes': ['Solo seré yo', 'Solo yo', 'Estaré solo', 'Somos 2 personas', 'Somos 3 personas', 'Somos 4 personas', 'Vamos a ser 2 personas', 'Vamos a ser 3 personas', 'Vamos a ser 4 personas', 'Somos dos personas', 'Somos tres personas', 'Somos cuatro personas', 'Vamos a ser dos personas', 'Vamos a ser tres personas', 'Vamos a ser cuatro personas']}\n",
      "{'Youtube': ['Youtube', 'Utiliza Youtube', 'Quiero que uses youtube para la reproducción', '¿Puedes hacerlo desde youtube?', 'Utiliza la plataforma roja de reproducción de videos', 'Desde la plataforma roja con el triángulo', 'Por favor, utiliza youtube para reproducir la música', 'Por favor pon la música en Youtube'], 'Spotify': ['Spotify', 'Utiliza la plataforma de Spotify', 'Por favor utiliza la plataforma verde de música', 'No sé como se llama, pero la que es verde con rayas', 'De la plataforma que se llama spotify', 'Utiliza Spotify por favor', 'Usa mi cuenta de spotify', 'Quiero escuchar la música en Spotify'], 'Amazon': ['Usa Amazon', 'Reprodúcela en Amazon Music por favor', 'Con mi cuenta de Amazon Music', 'Desde la plataforma de amazon', 'Desde la plataforma azul de los que hacen entregas a domicilio', '¿Puedes usar mi cuenta de Amazon Music para eso?', 'Quiero escuchar una play list que tengo en Amazon', 'Hoy quiero escuchar música en Amazon Music por favor']}\n"
     ]
    }
   ],
   "source": [
    "# Creación de diccionarios con los nombres de las clases y textos\n",
    "# presentes en cada uno de los archivos\n",
    "NI = dict()\n",
    "NIIA = dict()\n",
    "NIIB = dict()\n",
    "\n",
    "for info in data_NivelI['intents']:\n",
    "    NI.setdefault(info['tag'], info['patterns'])\n",
    "\n",
    "for info in data_NivelIIA['intents']:\n",
    "    NIIA.setdefault(info['tag'], info['patterns'])\n",
    "    \n",
    "for info in data_NivelIIB['intents']:\n",
    "    NIIB.setdefault(info['tag'], info['patterns'])\n",
    "        \n",
    "print(NI)\n",
    "print(NIIA)\n",
    "print(NIIB)"
   ]
  },
  {
   "cell_type": "code",
   "execution_count": 5,
   "metadata": {
    "id": "cKAqS2HpqDxU",
    "outputId": "7e9491b9-200f-44c7-ecb3-673edbf78cf6"
   },
   "outputs": [
    {
     "name": "stdout",
     "output_type": "stream",
     "text": [
      "Vector de salidas Y para N1:\n",
      "[0, 0, 0, 0, 0, 0, 0, 0, 0, 0, 0, 1, 1, 1, 1, 1]\n",
      "Vector de salidas Y para N2A:\n",
      "[0, 0, 0, 0, 0, 0, 0, 0, 0, 0, 0, 0, 0, 0, 0, 1, 1, 1, 1, 1, 1, 1, 1, 1, 1, 2, 2, 2, 2, 2, 2, 2, 2, 2, 2, 2, 3, 3, 3, 3, 3, 3, 3, 3, 3, 3, 3, 3, 3, 3, 3]\n",
      "Vector de salidas Y para N2B:\n",
      "[0, 0, 0, 0, 0, 0, 0, 0, 1, 1, 1, 1, 1, 1, 1, 1, 2, 2, 2, 2, 2, 2, 2, 2]\n"
     ]
    }
   ],
   "source": [
    "# Generamos los vectores de respuestas para cada nivel contextual\n",
    "# (Cada clase tiene una salida numérica asociada)\n",
    "# (Las salidas empiezan en 0 para cada clase inicial de cada modelo)\n",
    "Y_NI = list()\n",
    "Y_NIIA = list()\n",
    "Y_NIIB = list()\n",
    "\n",
    "for clase, lista_textos in NI.items():\n",
    "    for text in lista_textos:\n",
    "        Y_NI.append(list(NI.keys()).index(clase))\n",
    "        \n",
    "for clase, lista_textos in NIIA.items():\n",
    "    for text in lista_textos:\n",
    "        Y_NIIA.append(list(NIIA.keys()).index(clase))\n",
    "        \n",
    "for clase, lista_textos in NIIB.items():\n",
    "    for text in lista_textos:\n",
    "        Y_NIIB.append(list(NIIB.keys()).index(clase))\n",
    "    \n",
    "print(\"Vector de salidas Y para N1:\")\n",
    "print(Y_NI)\n",
    "print(\"Vector de salidas Y para N2A:\")\n",
    "print(Y_NIIA)\n",
    "print(\"Vector de salidas Y para N2B:\")\n",
    "print(Y_NIIB)"
   ]
  },
  {
   "cell_type": "code",
   "execution_count": 6,
   "metadata": {
    "id": "b_zEiblNqDxc",
    "outputId": "1f3aa9c1-f628-4e75-e037-e250f68dcd02"
   },
   "outputs": [],
   "source": [
    "# Importamos librerías para el filtrado de StopWords y tokenicación\n",
    "from nltk.tokenize import RegexpTokenizer\n",
    "from nltk.tokenize.treebank import TreebankWordDetokenizer\n",
    "from nltk.corpus import stopwords\n",
    "from keras.preprocessing.text import Tokenizer\n",
    "import re\n",
    "\n",
    "stop_words = set(stopwords.words('spanish'))"
   ]
  },
  {
   "cell_type": "code",
   "execution_count": 7,
   "metadata": {
    "id": "6EmAmUbVqDxn"
   },
   "outputs": [],
   "source": [
    "# Para cada enunciado quitamos las StopWords\n",
    "# También quitamos los acentos y filtramos signos de puntuación\n",
    "# lo hacemos mediante un metodo\n",
    "def Quitar_Stopwords(Textos):\n",
    "    X = list()\n",
    "    for sen in Textos:\n",
    "        sentence = sen\n",
    "        # Filtrado de stopword\n",
    "        for stopword in stop_words:\n",
    "            sentence = sentence.replace(\" \" + stopword + \" \", \" \")\n",
    "        sentence = sentence.replace(\"á\", \"a\")\n",
    "        sentence = sentence.replace(\"é\", \"e\")\n",
    "        sentence = sentence.replace(\"í\", \"i\")\n",
    "        sentence = sentence.replace(\"ó\", \"o\")\n",
    "        sentence = sentence.replace(\"ú\", \"u\")\n",
    "\n",
    "        # Remover espacios múltiples\n",
    "        sentence = re.sub(r'\\s+', ' ', sentence)\n",
    "        # Convertir todo a minúsculas\n",
    "        sentence = sentence.lower()\n",
    "        # Filtrado de signos de puntuación\n",
    "        tokenizer = RegexpTokenizer(r'\\w+')\n",
    "        # Tokenización del resultado\n",
    "        result = tokenizer.tokenize(sentence)\n",
    "        # Agregar al arreglo los textos \"destokenizados\" (Como texto nuevamente)\n",
    "        X.append(TreebankWordDetokenizer().detokenize(result))\n",
    "    return X"
   ]
  },
  {
   "cell_type": "code",
   "execution_count": 8,
   "metadata": {
    "id": "_8EIY5ZMqDxz"
   },
   "outputs": [],
   "source": [
    "# Obtenemos el vector de entradas (Textos limpios de StopWords)\n",
    "# para cada uno de los modelos que vamos a generar\n",
    "Textos_NI = list()\n",
    "for Lista in NI.values():\n",
    "    for Texto in Lista:\n",
    "        Textos_NI.append(Texto)\n",
    "        \n",
    "X_NI = Quitar_Stopwords(Textos_NI)\n",
    "\n",
    "Textos_NIIA = list()\n",
    "for Lista in NIIA.values():\n",
    "    for Texto in Lista:\n",
    "        Textos_NIIA.append(Texto)\n",
    "        \n",
    "X_NIIA = Quitar_Stopwords(Textos_NIIA)\n",
    "\n",
    "Textos_NIIB = list()\n",
    "for Lista in NIIB.values():\n",
    "    for Texto in Lista:\n",
    "        Textos_NIIB.append(Texto)\n",
    "        \n",
    "X_NIIB = Quitar_Stopwords(Textos_NIIB)"
   ]
  },
  {
   "cell_type": "code",
   "execution_count": 9,
   "metadata": {
    "id": "V_8rv5yPqDyX",
    "outputId": "6dae233e-db00-4936-c653-76e4bf3e746e"
   },
   "outputs": [
    {
     "name": "stdout",
     "output_type": "stream",
     "text": [
      "['quiero hacer reserva', 'quiero reservar habitacion', 'me gustaria reservar habitacion', 'puedo reservar habitacion', 'por favor reserva habitacion', 'quiero reservar cuarto', 'me gustaria reservar cuarto', 'por favor reserva cuarto', 'puedo reservar cuarto', 'apartar cuarto', 'apartar habitacion', 'quiero apartar alberca', 'quiero apartar gimnasio', 'quiero vengan limpiar habitacion', 'quiero traigan toallas', 'ayudenme bajar maletas']\n",
      "['quisiera habitacion estandar', 'prefiero suite', 'me gustaria reservar habitacion doble', 'necesito habitacion familiar', 'estoy buscando habitacion deluxe', 'quiero habitacion dos camas', 'que tipos habitaciones ofrecen', 'busco habitacion economica', 'quiero cuarto estandar', 'me gustaria reservar cuarto doble', 'necesito cuarto familiar', 'quiero cuarto dos camas', 'que tipos cuartos ofrecen', 'quiero cuarto vista mar', 'busco cuarto economico', 'quiero hoy', 'para llegar mañana', 'para llegar pasado mañana', 'quiero llegar lunes', 'quiero llegar martes', 'quiero llegar miercoles', 'quiero llegar jueves', 'quiero llegar viernes', 'quiero llegar sabado', 'quiero llegar domingo', 'para salir mañana', 'para salir pasado mañana', 'para salir siguiente semana', 'para salir siguiente mes', 'quiero salir lunes', 'quiero salir martes', 'quiero salir miercoles', 'quiero salir jueves', 'quiero salir viernes', 'quiero salir sabado', 'quiero salir domingo', 'solo yo', 'solo yo', 'estare solo', 'somos 2 personas', 'somos 3 personas', 'somos 4 personas', 'vamos ser 2 personas', 'vamos ser 3 personas', 'vamos ser 4 personas', 'somos dos personas', 'somos tres personas', 'somos cuatro personas', 'vamos ser dos personas', 'vamos ser tres personas', 'vamos ser cuatro personas']\n",
      "['youtube', 'utiliza youtube', 'quiero uses youtube reproduccion', 'puedes hacerlo youtube', 'utiliza plataforma roja reproduccion videos', 'desde plataforma roja triangulo', 'por favor utiliza youtube reproducir musica', 'por favor pon musica youtube', 'spotify', 'utiliza plataforma spotify', 'por favor utiliza plataforma verde musica', 'no se llama verde rayas', 'de plataforma llama spotify', 'utiliza spotify favor', 'usa cuenta spotify', 'quiero escuchar musica spotify', 'usa amazon', 'reproducela amazon music favor', 'con cuenta amazon music', 'desde plataforma amazon', 'desde plataforma azul hacen entregas domicilio', 'puedes usar cuenta amazon music eso', 'quiero escuchar play list amazon', 'hoy quiero escuchar musica amazon music favor']\n"
     ]
    }
   ],
   "source": [
    "# Imprimimos la lista de los enunciados que resultan\n",
    "print(X_NI)\n",
    "print(X_NIIA)\n",
    "print(X_NIIB)"
   ]
  },
  {
   "cell_type": "code",
   "execution_count": 10,
   "metadata": {
    "id": "rVSHyayPqDyi"
   },
   "outputs": [],
   "source": [
    "# Importamos la librería para generar la matriz de entrada de textos\n",
    "# (El pad_sequence)\n",
    "from keras_preprocessing.sequence import pad_sequences\n",
    "\n",
    "# Cantidad de palabras máximas por ejemplo\n",
    "# (Las más utilizadas)\n",
    "maxlen = 5\n",
    "\n",
    "# Preparamos la capa de embeddingsn(Predefinimos una cantidad de\n",
    "# 5000 palabras consideradas como tokens\n",
    "tokenizer_NI = Tokenizer(num_words=5000)\n",
    "tokenizer_NIIA = Tokenizer(num_words=5000)\n",
    "tokenizer_NIIB = Tokenizer(num_words=5000)\n",
    "\n",
    "# Transforma cada texto en una secuencia de valores enteros para cada modelo que haremos\n",
    "tokenizer_NI.fit_on_texts(X_NI)\n",
    "X_NI_Tok = tokenizer_NI.texts_to_sequences(X_NI)\n",
    "tokenizer_NIIA.fit_on_texts(X_NIIA)\n",
    "X_NIIA_Tok = tokenizer_NIIA.texts_to_sequences(X_NIIA)\n",
    "tokenizer_NIIB.fit_on_texts(X_NIIB)\n",
    "X_NIIB_Tok = tokenizer_NIIB.texts_to_sequences(X_NIIB)\n",
    "\n",
    "# Especificamos la matriz (Con padding hasta maxlen)\n",
    "X_NI_train = pad_sequences(X_NI_Tok, padding='post', maxlen=maxlen)\n",
    "X_NIIA_train = pad_sequences(X_NIIA_Tok, padding='post', maxlen=maxlen)\n",
    "X_NIIB_train = pad_sequences(X_NIIB_Tok, padding='post', maxlen=maxlen)\n"
   ]
  },
  {
   "cell_type": "code",
   "execution_count": 11,
   "metadata": {
    "id": "lPCepYiWqDyr",
    "outputId": "cc179339-358f-4c64-96c8-9346a1a87bde"
   },
   "outputs": [
    {
     "name": "stdout",
     "output_type": "stream",
     "text": [
      "Matriz de entrada para NI:\n",
      "[[ 1 12  6  0  0]\n",
      " [ 1  2  3  0  0]\n",
      " [ 7  8  2  3  0]\n",
      " [ 9  2  3  0  0]\n",
      " [10 11  6  3  0]\n",
      " [ 1  2  4  0  0]\n",
      " [ 7  8  2  4  0]\n",
      " [10 11  6  4  0]\n",
      " [ 9  2  4  0  0]\n",
      " [ 5  4  0  0  0]\n",
      " [ 5  3  0  0  0]\n",
      " [ 1  5 13  0  0]\n",
      " [ 1  5 14  0  0]\n",
      " [ 1 15 16  3  0]\n",
      " [ 1 17 18  0  0]\n",
      " [19 20 21  0  0]]\n"
     ]
    }
   ],
   "source": [
    "print(\"Matriz de entrada para NI:\")\n",
    "print(X_NI_train)"
   ]
  },
  {
   "cell_type": "code",
   "execution_count": 12,
   "metadata": {
    "id": "jrkhqGluqDy3",
    "outputId": "920cfd66-d0f2-46b0-d751-ff002f8cfd11"
   },
   "outputs": [
    {
     "name": "stdout",
     "output_type": "stream",
     "text": [
      "Matriz de entrada para NIIA:\n",
      "[[41  5 14  0  0]\n",
      " [42 43  0  0  0]\n",
      " [15 16 17  5 18]\n",
      " [19  5 20  0  0]\n",
      " [44 45  5 46  0]\n",
      " [ 1  5 11 21  0]\n",
      " [22 23 47 24  0]\n",
      " [25  5 48  0  0]\n",
      " [ 1  6 14  0  0]\n",
      " [15 16 17  6 18]\n",
      " [19  6 20  0  0]\n",
      " [ 1  6 11 21  0]\n",
      " [22 23 49 24  0]\n",
      " [ 1  6 50 51  0]\n",
      " [25  6 52  0  0]\n",
      " [ 1 53  0  0  0]\n",
      " [ 7  4 12  0  0]\n",
      " [ 7  4 26 12  0]\n",
      " [ 1  4 27  0  0]\n",
      " [ 1  4 28  0  0]\n",
      " [ 1  4 29  0  0]\n",
      " [ 1  4 30  0  0]\n",
      " [ 1  4 31  0  0]\n",
      " [ 1  4 32  0  0]\n",
      " [ 1  4 33  0  0]\n",
      " [ 7  3 12  0  0]\n",
      " [ 7  3 26 12  0]\n",
      " [ 7  3 34 54  0]\n",
      " [ 7  3 34 55  0]\n",
      " [ 1  3 27  0  0]\n",
      " [ 1  3 28  0  0]\n",
      " [ 1  3 29  0  0]\n",
      " [ 1  3 30  0  0]\n",
      " [ 1  3 31  0  0]\n",
      " [ 1  3 32  0  0]\n",
      " [ 1  3 33  0  0]\n",
      " [13 35  0  0  0]\n",
      " [13 35  0  0  0]\n",
      " [56 13  0  0  0]\n",
      " [ 8 36  2  0  0]\n",
      " [ 8 37  2  0  0]\n",
      " [ 8 38  2  0  0]\n",
      " [ 9 10 36  2  0]\n",
      " [ 9 10 37  2  0]\n",
      " [ 9 10 38  2  0]\n",
      " [ 8 11  2  0  0]\n",
      " [ 8 39  2  0  0]\n",
      " [ 8 40  2  0  0]\n",
      " [ 9 10 11  2  0]\n",
      " [ 9 10 39  2  0]\n",
      " [ 9 10 40  2  0]]\n"
     ]
    }
   ],
   "source": [
    "print(\"Matriz de entrada para NIIA:\")\n",
    "print(X_NIIA_train)"
   ]
  },
  {
   "cell_type": "code",
   "execution_count": 13,
   "metadata": {
    "id": "gcndmB1GqDzI",
    "outputId": "fb8ab50c-bc4f-4ddb-d760-eeeda30c326e"
   },
   "outputs": [
    {
     "name": "stdout",
     "output_type": "stream",
     "text": [
      "Matriz de entrada para NIIB:\n",
      "[[ 3  0  0  0  0]\n",
      " [ 4  3  0  0  0]\n",
      " [ 8 20  3 14  0]\n",
      " [15 21  3  0  0]\n",
      " [ 4  1 16 14 22]\n",
      " [10  1 16 23  0]\n",
      " [ 5  4  3 24  7]\n",
      " [11  5 25  7  3]\n",
      " [ 6  0  0  0  0]\n",
      " [ 4  1  6  0  0]\n",
      " [ 5  4  1 17  7]\n",
      " [26 27 18 17 28]\n",
      " [29  1 18  6  0]\n",
      " [ 4  6  5  0  0]\n",
      " [19 12  6  0  0]\n",
      " [ 8 13  7  6  0]\n",
      " [19  2  0  0  0]\n",
      " [30  2  9  5  0]\n",
      " [31 12  2  9  0]\n",
      " [10  1  2  0  0]\n",
      " [ 1 32 33 34 35]\n",
      " [36 12  2  9 37]\n",
      " [ 8 13 38 39  2]\n",
      " [13  7  2  9  5]]\n"
     ]
    }
   ],
   "source": [
    "print(\"Matriz de entrada para NIIB:\")\n",
    "print(X_NIIB_train)"
   ]
  },
  {
   "cell_type": "code",
   "execution_count": 14,
   "metadata": {
    "id": "KqwMAfx-qDzS"
   },
   "outputs": [],
   "source": [
    "# Declaración de librerías para manejo de arreglos (Numpy)\n",
    "from numpy import asarray\n",
    "from numpy import zeros\n",
    "\n",
    "# Lectura del archivo de embeddings\n",
    "embeddings_dictionary = dict()\n",
    "Embeddings_file = open('/Users/mascenci/Desktop/Chatbots/Word2Vect_Spanish.txt', encoding=\"utf8\")\n",
    "\n",
    "# Extraemos las características del archivo de embeddings\n",
    "# y las agregamos a un diccionario (Cada elemento es un vextor)\n",
    "for linea in Embeddings_file:\n",
    "    caracts = linea.split()\n",
    "    palabra = caracts[0]\n",
    "    vector = asarray(caracts[1:], dtype='float32')\n",
    "    embeddings_dictionary [palabra] = vector\n",
    "Embeddings_file.close()"
   ]
  },
  {
   "cell_type": "code",
   "execution_count": 15,
   "metadata": {
    "id": "StTQjg7rqDzb"
   },
   "outputs": [],
   "source": [
    "# Asignamos los embeddings correspondientes a cada matriz \n",
    "# con la que se entrenarán los modelos por medio de un método\n",
    "def Asignar_Embeddings(tokenizer, vocab_size):\n",
    "    # Generamos la matriz de embeddings (Con 300 Características)\n",
    "    embedding_matrix = zeros((vocab_size, 300))\n",
    "    for word, index in tokenizer.word_index.items():\n",
    "        # Extraemos el vector de embedding para cada palabra\n",
    "        embedding_vector = embeddings_dictionary.get(word)\n",
    "        # Si la palbra si existía en el vocabulario\n",
    "        # agregamos su vector de embeddings en la matriz\n",
    "        if embedding_vector is not None:\n",
    "            embedding_matrix[index] = embedding_vector\n",
    "    return embedding_matrix"
   ]
  },
  {
   "cell_type": "code",
   "execution_count": 16,
   "metadata": {
    "id": "eHCZerdtqDzh"
   },
   "outputs": [],
   "source": [
    "# Obtenemos las matrices de Embeddings para cada modelo\n",
    "# Y también el tamaño del vocabulario para cada uno\n",
    "vocab_size_NI = len(tokenizer_NI.word_index) + 1\n",
    "embedding_matrix_NI = Asignar_Embeddings(tokenizer_NI, vocab_size_NI)\n",
    "\n",
    "vocab_size_NIIA = len(tokenizer_NIIA.word_index) + 1\n",
    "embedding_matrix_NIIA = Asignar_Embeddings(tokenizer_NIIA, vocab_size_NIIA)\n",
    "\n",
    "vocab_size_NIIB = len(tokenizer_NIIB.word_index) + 1\n",
    "embedding_matrix_NIIB = Asignar_Embeddings(tokenizer_NIIB, vocab_size_NIIB)"
   ]
  },
  {
   "cell_type": "code",
   "execution_count": 17,
   "metadata": {
    "id": "6OOVzOViqDzr"
   },
   "outputs": [],
   "source": [
    "# Declaración de modelo Secuencial que usaremos para todos los casos\n",
    "from keras.models import Sequential\n",
    "from keras.layers.core import Dense\n",
    "from keras.layers import LSTM\n",
    "from keras.layers import Embedding"
   ]
  },
  {
   "cell_type": "code",
   "execution_count": 18,
   "metadata": {
    "id": "5pWpDUTnqD0D"
   },
   "outputs": [],
   "source": [
    "# Definición del método para tener la arquitectura de los modelos para cada nivel contextual\n",
    "def Definir_Modelos(vocab_size, embedding_matrix, X_train, labels):\n",
    "    # Declaración de las capas del modelo LSTM\n",
    "    model = Sequential()\n",
    "    embedding_layer = Embedding(vocab_size, 300, weights=[embedding_matrix], input_length=X_train.shape[1] , trainable=False)\n",
    "    model.add(embedding_layer)\n",
    "    model.add(LSTM(100, dropout=0.2, recurrent_dropout=0.2))\n",
    "    model.add(Dense(len(labels), activation='softmax'))\n",
    "\n",
    "    # Compilación del modelo\n",
    "    model.compile(loss='categorical_crossentropy', optimizer='adam', metrics=['accuracy'])\n",
    "    print(model.summary())\n",
    "\n",
    "    print(\"\\nPalabras en el vocabulario:\")\n",
    "    print(vocab_size)\n",
    "    return model"
   ]
  },
  {
   "cell_type": "code",
   "execution_count": 19,
   "metadata": {
    "id": "0fagAWujqD0M",
    "outputId": "ebd13cee-1f44-450a-d8df-efb7a0db57ea"
   },
   "outputs": [
    {
     "name": "stdout",
     "output_type": "stream",
     "text": [
      "Model: \"sequential\"\n",
      "_________________________________________________________________\n",
      " Layer (type)                Output Shape              Param #   \n",
      "=================================================================\n",
      " embedding (Embedding)       (None, 5, 300)            6600      \n",
      "                                                                 \n",
      " lstm (LSTM)                 (None, 100)               160400    \n",
      "                                                                 \n",
      " dense (Dense)               (None, 2)                 202       \n",
      "                                                                 \n",
      "=================================================================\n",
      "Total params: 167,202\n",
      "Trainable params: 160,602\n",
      "Non-trainable params: 6,600\n",
      "_________________________________________________________________\n",
      "None\n",
      "\n",
      "Palabras en el vocabulario:\n",
      "22\n"
     ]
    }
   ],
   "source": [
    "# Generamos la arquitectura para el modelo de NI\n",
    "model_NI = Definir_Modelos(vocab_size_NI, embedding_matrix_NI, X_NI_train, NI.keys())"
   ]
  },
  {
   "cell_type": "code",
   "execution_count": 20,
   "metadata": {
    "id": "gr9tY4nAqD0a",
    "outputId": "90ca207d-24e6-4705-a67b-e5f79ef0aa28"
   },
   "outputs": [
    {
     "name": "stdout",
     "output_type": "stream",
     "text": [
      "Model: \"sequential_1\"\n",
      "_________________________________________________________________\n",
      " Layer (type)                Output Shape              Param #   \n",
      "=================================================================\n",
      " embedding_1 (Embedding)     (None, 5, 300)            17100     \n",
      "                                                                 \n",
      " lstm_1 (LSTM)               (None, 100)               160400    \n",
      "                                                                 \n",
      " dense_1 (Dense)             (None, 4)                 404       \n",
      "                                                                 \n",
      "=================================================================\n",
      "Total params: 177,904\n",
      "Trainable params: 160,804\n",
      "Non-trainable params: 17,100\n",
      "_________________________________________________________________\n",
      "None\n",
      "\n",
      "Palabras en el vocabulario:\n",
      "57\n"
     ]
    }
   ],
   "source": [
    "# Generamos la arquitectura para el modelo de NIIA\n",
    "model_NIIA = Definir_Modelos(vocab_size_NIIA, embedding_matrix_NIIA, X_NIIA_train, NIIA.keys())"
   ]
  },
  {
   "cell_type": "code",
   "execution_count": 21,
   "metadata": {
    "id": "2LOUkuR4qD0h",
    "outputId": "cce08e90-3504-4be2-9cfd-4561e05e3249"
   },
   "outputs": [
    {
     "name": "stdout",
     "output_type": "stream",
     "text": [
      "Model: \"sequential_2\"\n",
      "_________________________________________________________________\n",
      " Layer (type)                Output Shape              Param #   \n",
      "=================================================================\n",
      " embedding_2 (Embedding)     (None, 5, 300)            12300     \n",
      "                                                                 \n",
      " lstm_2 (LSTM)               (None, 100)               160400    \n",
      "                                                                 \n",
      " dense_2 (Dense)             (None, 3)                 303       \n",
      "                                                                 \n",
      "=================================================================\n",
      "Total params: 173,003\n",
      "Trainable params: 160,703\n",
      "Non-trainable params: 12,300\n",
      "_________________________________________________________________\n",
      "None\n",
      "\n",
      "Palabras en el vocabulario:\n",
      "41\n"
     ]
    }
   ],
   "source": [
    "# Generamos la arquitectura para el modelo de NIIB\n",
    "model_NIIB = Definir_Modelos(vocab_size_NIIB, embedding_matrix_NIIB, X_NIIB_train, NIIB.keys())"
   ]
  },
  {
   "cell_type": "code",
   "execution_count": 22,
   "metadata": {
    "id": "N4jIB2_jqD0p"
   },
   "outputs": [],
   "source": [
    "# Declaramos el método para entrenar cada modelo\n",
    "from keras.utils.np_utils import to_categorical \n",
    "\n",
    "def Entrenar_Modelos(X_train, Y, model, labels):\n",
    "    # Declaramos librería para convertir la salida en un vector \n",
    "    # de X elementos con activación en la columna correspondiente\n",
    "    # a su categoría\n",
    "    train_labels = to_categorical(Y, num_classes=len(labels))\n",
    "    print('Matriz de salidas')\n",
    "    print(train_labels)\n",
    "\n",
    "    # Ajuste de los datos de entrenamiento al modelo creado\n",
    "    history = model.fit(X_train, train_labels, epochs=30, batch_size=1, verbose=1)\n",
    "\n",
    "    # Cálculo de los procentajes de Eficiencia y pérdida \n",
    "    score = model.evaluate(X_train, train_labels, verbose=1)\n",
    "    print(\"\\nTest Loss:\", score[0])\n",
    "    print(\"Test Accuracy:\", score[1])\n",
    "    return history"
   ]
  },
  {
   "cell_type": "code",
   "execution_count": 23,
   "metadata": {
    "id": "Z-MVeuwKqD0w",
    "outputId": "59ec4dee-801c-4e1f-d15e-332fa2890a5a"
   },
   "outputs": [
    {
     "name": "stdout",
     "output_type": "stream",
     "text": [
      "Matriz de salidas\n",
      "[[1. 0.]\n",
      " [1. 0.]\n",
      " [1. 0.]\n",
      " [1. 0.]\n",
      " [1. 0.]\n",
      " [1. 0.]\n",
      " [1. 0.]\n",
      " [1. 0.]\n",
      " [1. 0.]\n",
      " [1. 0.]\n",
      " [1. 0.]\n",
      " [0. 1.]\n",
      " [0. 1.]\n",
      " [0. 1.]\n",
      " [0. 1.]\n",
      " [0. 1.]]\n",
      "Epoch 1/30\n"
     ]
    },
    {
     "name": "stderr",
     "output_type": "stream",
     "text": [
      "2023-11-03 18:42:01.740422: W tensorflow/tsl/platform/profile_utils/cpu_utils.cc:128] Failed to get CPU frequency: 0 Hz\n"
     ]
    },
    {
     "name": "stdout",
     "output_type": "stream",
     "text": [
      "16/16 [==============================] - 1s 2ms/step - loss: 0.7095 - accuracy: 0.4375\n",
      "Epoch 2/30\n",
      "16/16 [==============================] - 0s 3ms/step - loss: 0.6173 - accuracy: 0.6875\n",
      "Epoch 3/30\n",
      "16/16 [==============================] - 0s 3ms/step - loss: 0.4908 - accuracy: 0.6875\n",
      "Epoch 4/30\n",
      "16/16 [==============================] - 0s 3ms/step - loss: 0.3514 - accuracy: 0.6875\n",
      "Epoch 5/30\n",
      "16/16 [==============================] - 0s 3ms/step - loss: 0.1644 - accuracy: 1.0000\n",
      "Epoch 6/30\n",
      "16/16 [==============================] - 0s 3ms/step - loss: 0.1301 - accuracy: 0.9375\n",
      "Epoch 7/30\n",
      "16/16 [==============================] - 0s 3ms/step - loss: 0.0894 - accuracy: 0.9375\n",
      "Epoch 8/30\n",
      "16/16 [==============================] - 0s 3ms/step - loss: 0.0384 - accuracy: 1.0000\n",
      "Epoch 9/30\n",
      "16/16 [==============================] - 0s 3ms/step - loss: 0.0202 - accuracy: 1.0000\n",
      "Epoch 10/30\n",
      "16/16 [==============================] - 0s 3ms/step - loss: 0.0150 - accuracy: 1.0000\n",
      "Epoch 11/30\n",
      "16/16 [==============================] - 0s 3ms/step - loss: 0.0059 - accuracy: 1.0000\n",
      "Epoch 12/30\n",
      "16/16 [==============================] - 0s 3ms/step - loss: 0.0048 - accuracy: 1.0000\n",
      "Epoch 13/30\n",
      "16/16 [==============================] - 0s 3ms/step - loss: 0.1472 - accuracy: 0.8750\n",
      "Epoch 14/30\n",
      "16/16 [==============================] - 0s 3ms/step - loss: 0.0062 - accuracy: 1.0000\n",
      "Epoch 15/30\n",
      "16/16 [==============================] - 0s 3ms/step - loss: 0.0021 - accuracy: 1.0000\n",
      "Epoch 16/30\n",
      "16/16 [==============================] - 0s 3ms/step - loss: 0.0043 - accuracy: 1.0000\n",
      "Epoch 17/30\n",
      "16/16 [==============================] - 0s 3ms/step - loss: 0.0039 - accuracy: 1.0000\n",
      "Epoch 18/30\n",
      "16/16 [==============================] - 0s 3ms/step - loss: 0.0090 - accuracy: 1.0000\n",
      "Epoch 19/30\n",
      "16/16 [==============================] - 0s 3ms/step - loss: 0.0017 - accuracy: 1.0000\n",
      "Epoch 20/30\n",
      "16/16 [==============================] - 0s 3ms/step - loss: 0.0010 - accuracy: 1.0000\n",
      "Epoch 21/30\n",
      "16/16 [==============================] - 0s 3ms/step - loss: 0.0016 - accuracy: 1.0000\n",
      "Epoch 22/30\n",
      "16/16 [==============================] - 0s 3ms/step - loss: 0.0014 - accuracy: 1.0000\n",
      "Epoch 23/30\n",
      "16/16 [==============================] - 0s 3ms/step - loss: 8.9463e-04 - accuracy: 1.0000\n",
      "Epoch 24/30\n",
      "16/16 [==============================] - 0s 3ms/step - loss: 0.0021 - accuracy: 1.0000\n",
      "Epoch 25/30\n",
      "16/16 [==============================] - 0s 3ms/step - loss: 2.2621e-04 - accuracy: 1.0000\n",
      "Epoch 26/30\n",
      "16/16 [==============================] - 0s 3ms/step - loss: 2.8025e-04 - accuracy: 1.0000\n",
      "Epoch 27/30\n",
      "16/16 [==============================] - 0s 3ms/step - loss: 6.4094e-04 - accuracy: 1.0000\n",
      "Epoch 28/30\n",
      "16/16 [==============================] - 0s 3ms/step - loss: 3.0370e-04 - accuracy: 1.0000\n",
      "Epoch 29/30\n",
      "16/16 [==============================] - 0s 3ms/step - loss: 3.1346e-04 - accuracy: 1.0000\n",
      "Epoch 30/30\n",
      "16/16 [==============================] - 0s 3ms/step - loss: 2.9917e-04 - accuracy: 1.0000\n",
      "1/1 [==============================] - 0s 125ms/step - loss: 1.7103e-04 - accuracy: 1.0000\n",
      "\n",
      "Test Loss: 0.00017103215213865042\n",
      "Test Accuracy: 1.0\n"
     ]
    }
   ],
   "source": [
    "# Entrenamos el modelo del nivel NI y obtenemos el historial de las épocas para realizar su gráfica\n",
    "history_NI = Entrenar_Modelos(X_NI_train, Y_NI, model_NI, NI.keys())"
   ]
  },
  {
   "cell_type": "code",
   "execution_count": 24,
   "metadata": {
    "id": "ILAqDd2wqD06",
    "outputId": "1b9cd1cd-aac4-4622-90c2-f8c2cc3e2387"
   },
   "outputs": [
    {
     "name": "stdout",
     "output_type": "stream",
     "text": [
      "Matriz de salidas\n",
      "[[1. 0. 0. 0.]\n",
      " [1. 0. 0. 0.]\n",
      " [1. 0. 0. 0.]\n",
      " [1. 0. 0. 0.]\n",
      " [1. 0. 0. 0.]\n",
      " [1. 0. 0. 0.]\n",
      " [1. 0. 0. 0.]\n",
      " [1. 0. 0. 0.]\n",
      " [1. 0. 0. 0.]\n",
      " [1. 0. 0. 0.]\n",
      " [1. 0. 0. 0.]\n",
      " [1. 0. 0. 0.]\n",
      " [1. 0. 0. 0.]\n",
      " [1. 0. 0. 0.]\n",
      " [1. 0. 0. 0.]\n",
      " [0. 1. 0. 0.]\n",
      " [0. 1. 0. 0.]\n",
      " [0. 1. 0. 0.]\n",
      " [0. 1. 0. 0.]\n",
      " [0. 1. 0. 0.]\n",
      " [0. 1. 0. 0.]\n",
      " [0. 1. 0. 0.]\n",
      " [0. 1. 0. 0.]\n",
      " [0. 1. 0. 0.]\n",
      " [0. 1. 0. 0.]\n",
      " [0. 0. 1. 0.]\n",
      " [0. 0. 1. 0.]\n",
      " [0. 0. 1. 0.]\n",
      " [0. 0. 1. 0.]\n",
      " [0. 0. 1. 0.]\n",
      " [0. 0. 1. 0.]\n",
      " [0. 0. 1. 0.]\n",
      " [0. 0. 1. 0.]\n",
      " [0. 0. 1. 0.]\n",
      " [0. 0. 1. 0.]\n",
      " [0. 0. 1. 0.]\n",
      " [0. 0. 0. 1.]\n",
      " [0. 0. 0. 1.]\n",
      " [0. 0. 0. 1.]\n",
      " [0. 0. 0. 1.]\n",
      " [0. 0. 0. 1.]\n",
      " [0. 0. 0. 1.]\n",
      " [0. 0. 0. 1.]\n",
      " [0. 0. 0. 1.]\n",
      " [0. 0. 0. 1.]\n",
      " [0. 0. 0. 1.]\n",
      " [0. 0. 0. 1.]\n",
      " [0. 0. 0. 1.]\n",
      " [0. 0. 0. 1.]\n",
      " [0. 0. 0. 1.]\n",
      " [0. 0. 0. 1.]]\n",
      "Epoch 1/30\n",
      "51/51 [==============================] - 1s 2ms/step - loss: 1.3321 - accuracy: 0.4510\n",
      "Epoch 2/30\n",
      "51/51 [==============================] - 0s 3ms/step - loss: 0.8662 - accuracy: 0.6667\n",
      "Epoch 3/30\n",
      "51/51 [==============================] - 0s 3ms/step - loss: 0.3493 - accuracy: 0.8235\n",
      "Epoch 4/30\n",
      "51/51 [==============================] - 0s 3ms/step - loss: 0.1378 - accuracy: 0.9608\n",
      "Epoch 5/30\n",
      "51/51 [==============================] - 0s 3ms/step - loss: 0.1078 - accuracy: 0.9608\n",
      "Epoch 6/30\n",
      "51/51 [==============================] - 0s 3ms/step - loss: 0.0163 - accuracy: 1.0000\n",
      "Epoch 7/30\n",
      "51/51 [==============================] - 0s 3ms/step - loss: 0.0040 - accuracy: 1.0000\n",
      "Epoch 8/30\n",
      "51/51 [==============================] - 0s 3ms/step - loss: 0.0028 - accuracy: 1.0000\n",
      "Epoch 9/30\n",
      "51/51 [==============================] - 0s 3ms/step - loss: 0.0035 - accuracy: 1.0000\n",
      "Epoch 10/30\n",
      "51/51 [==============================] - 0s 3ms/step - loss: 9.3431e-04 - accuracy: 1.0000\n",
      "Epoch 11/30\n",
      "51/51 [==============================] - 0s 3ms/step - loss: 9.3214e-04 - accuracy: 1.0000\n",
      "Epoch 12/30\n",
      "51/51 [==============================] - 0s 3ms/step - loss: 7.3583e-04 - accuracy: 1.0000\n",
      "Epoch 13/30\n",
      "51/51 [==============================] - 0s 3ms/step - loss: 6.4206e-04 - accuracy: 1.0000\n",
      "Epoch 14/30\n",
      "51/51 [==============================] - 0s 3ms/step - loss: 3.9829e-04 - accuracy: 1.0000\n",
      "Epoch 15/30\n",
      "51/51 [==============================] - 0s 3ms/step - loss: 3.8884e-04 - accuracy: 1.0000\n",
      "Epoch 16/30\n",
      "51/51 [==============================] - 0s 3ms/step - loss: 4.4861e-04 - accuracy: 1.0000\n",
      "Epoch 17/30\n",
      "51/51 [==============================] - 0s 3ms/step - loss: 4.1062e-04 - accuracy: 1.0000\n",
      "Epoch 18/30\n",
      "51/51 [==============================] - 0s 3ms/step - loss: 3.4266e-04 - accuracy: 1.0000\n",
      "Epoch 19/30\n",
      "51/51 [==============================] - 0s 3ms/step - loss: 2.7403e-04 - accuracy: 1.0000\n",
      "Epoch 20/30\n",
      "51/51 [==============================] - 0s 3ms/step - loss: 2.5468e-04 - accuracy: 1.0000\n",
      "Epoch 21/30\n",
      "51/51 [==============================] - 0s 3ms/step - loss: 2.8662e-04 - accuracy: 1.0000\n",
      "Epoch 22/30\n",
      "51/51 [==============================] - 0s 3ms/step - loss: 1.5193e-04 - accuracy: 1.0000\n",
      "Epoch 23/30\n",
      "51/51 [==============================] - 0s 3ms/step - loss: 2.2838e-04 - accuracy: 1.0000\n",
      "Epoch 24/30\n",
      "51/51 [==============================] - 0s 3ms/step - loss: 2.4055e-04 - accuracy: 1.0000\n",
      "Epoch 25/30\n",
      "51/51 [==============================] - 0s 3ms/step - loss: 1.6192e-04 - accuracy: 1.0000\n",
      "Epoch 26/30\n",
      "51/51 [==============================] - 0s 3ms/step - loss: 1.1505e-04 - accuracy: 1.0000\n",
      "Epoch 27/30\n",
      "51/51 [==============================] - 0s 3ms/step - loss: 1.3003e-04 - accuracy: 1.0000\n",
      "Epoch 28/30\n",
      "51/51 [==============================] - 0s 3ms/step - loss: 1.1609e-04 - accuracy: 1.0000\n",
      "Epoch 29/30\n",
      "51/51 [==============================] - 0s 3ms/step - loss: 1.0233e-04 - accuracy: 1.0000\n",
      "Epoch 30/30\n",
      "51/51 [==============================] - 0s 3ms/step - loss: 8.9773e-05 - accuracy: 1.0000\n",
      "2/2 [==============================] - 0s 2ms/step - loss: 7.3663e-05 - accuracy: 1.0000\n",
      "\n",
      "Test Loss: 7.366270438069478e-05\n",
      "Test Accuracy: 1.0\n"
     ]
    }
   ],
   "source": [
    "# Entrenamos el modelo del nivel NIIA y obtenemos el historial de las épocas para realizar su gráfica\n",
    "history_NIIA = Entrenar_Modelos(X_NIIA_train, Y_NIIA, model_NIIA, NIIA.keys())"
   ]
  },
  {
   "cell_type": "code",
   "execution_count": 25,
   "metadata": {
    "id": "YWlw-BCFqD1C",
    "outputId": "c0bafdb6-c70a-4cca-80b1-b3201fa5084e"
   },
   "outputs": [
    {
     "name": "stdout",
     "output_type": "stream",
     "text": [
      "Matriz de salidas\n",
      "[[1. 0. 0.]\n",
      " [1. 0. 0.]\n",
      " [1. 0. 0.]\n",
      " [1. 0. 0.]\n",
      " [1. 0. 0.]\n",
      " [1. 0. 0.]\n",
      " [1. 0. 0.]\n",
      " [1. 0. 0.]\n",
      " [0. 1. 0.]\n",
      " [0. 1. 0.]\n",
      " [0. 1. 0.]\n",
      " [0. 1. 0.]\n",
      " [0. 1. 0.]\n",
      " [0. 1. 0.]\n",
      " [0. 1. 0.]\n",
      " [0. 1. 0.]\n",
      " [0. 0. 1.]\n",
      " [0. 0. 1.]\n",
      " [0. 0. 1.]\n",
      " [0. 0. 1.]\n",
      " [0. 0. 1.]\n",
      " [0. 0. 1.]\n",
      " [0. 0. 1.]\n",
      " [0. 0. 1.]]\n",
      "Epoch 1/30\n",
      "24/24 [==============================] - 1s 2ms/step - loss: 1.0983 - accuracy: 0.2917 \n",
      "Epoch 2/30\n",
      "24/24 [==============================] - 0s 3ms/step - loss: 1.0224 - accuracy: 0.8333\n",
      "Epoch 3/30\n",
      "24/24 [==============================] - 0s 3ms/step - loss: 0.9365 - accuracy: 0.8333\n",
      "Epoch 4/30\n",
      "24/24 [==============================] - 0s 3ms/step - loss: 0.7359 - accuracy: 0.9167\n",
      "Epoch 5/30\n",
      "24/24 [==============================] - 0s 3ms/step - loss: 0.5188 - accuracy: 0.8750\n",
      "Epoch 6/30\n",
      "24/24 [==============================] - 0s 3ms/step - loss: 0.3477 - accuracy: 0.8750\n",
      "Epoch 7/30\n",
      "24/24 [==============================] - 0s 3ms/step - loss: 0.1794 - accuracy: 1.0000\n",
      "Epoch 8/30\n",
      "24/24 [==============================] - 0s 3ms/step - loss: 0.0737 - accuracy: 1.0000\n",
      "Epoch 9/30\n",
      "24/24 [==============================] - 0s 3ms/step - loss: 0.0911 - accuracy: 1.0000\n",
      "Epoch 10/30\n",
      "24/24 [==============================] - 0s 3ms/step - loss: 0.0691 - accuracy: 1.0000\n",
      "Epoch 11/30\n",
      "24/24 [==============================] - 0s 3ms/step - loss: 0.0846 - accuracy: 1.0000\n",
      "Epoch 12/30\n",
      "24/24 [==============================] - 0s 3ms/step - loss: 0.0270 - accuracy: 1.0000\n",
      "Epoch 13/30\n",
      "24/24 [==============================] - 0s 3ms/step - loss: 0.0997 - accuracy: 0.9167\n",
      "Epoch 14/30\n",
      "24/24 [==============================] - 0s 3ms/step - loss: 0.0402 - accuracy: 0.9583\n",
      "Epoch 15/30\n",
      "24/24 [==============================] - 0s 3ms/step - loss: 0.0242 - accuracy: 1.0000\n",
      "Epoch 16/30\n",
      "24/24 [==============================] - 0s 3ms/step - loss: 0.0110 - accuracy: 1.0000\n",
      "Epoch 17/30\n",
      "24/24 [==============================] - 0s 3ms/step - loss: 0.0179 - accuracy: 1.0000\n",
      "Epoch 18/30\n",
      "24/24 [==============================] - 0s 3ms/step - loss: 0.0019 - accuracy: 1.0000\n",
      "Epoch 19/30\n",
      "24/24 [==============================] - 0s 3ms/step - loss: 0.0017 - accuracy: 1.0000\n",
      "Epoch 20/30\n",
      "24/24 [==============================] - 0s 3ms/step - loss: 0.0026 - accuracy: 1.0000\n",
      "Epoch 21/30\n",
      "24/24 [==============================] - 0s 3ms/step - loss: 0.0014 - accuracy: 1.0000\n",
      "Epoch 22/30\n",
      "24/24 [==============================] - 0s 3ms/step - loss: 6.9892e-04 - accuracy: 1.0000\n",
      "Epoch 23/30\n",
      "24/24 [==============================] - 0s 3ms/step - loss: 0.0015 - accuracy: 1.0000\n",
      "Epoch 24/30\n",
      "24/24 [==============================] - 0s 3ms/step - loss: 8.6706e-04 - accuracy: 1.0000\n",
      "Epoch 25/30\n",
      "24/24 [==============================] - 0s 3ms/step - loss: 9.3189e-04 - accuracy: 1.0000\n",
      "Epoch 26/30\n",
      "24/24 [==============================] - 0s 3ms/step - loss: 0.0011 - accuracy: 1.0000\n",
      "Epoch 27/30\n",
      "24/24 [==============================] - 0s 3ms/step - loss: 0.0012 - accuracy: 1.0000\n",
      "Epoch 28/30\n",
      "24/24 [==============================] - 0s 3ms/step - loss: 7.8694e-04 - accuracy: 1.0000\n",
      "Epoch 29/30\n",
      "24/24 [==============================] - 0s 3ms/step - loss: 7.3336e-04 - accuracy: 1.0000\n",
      "Epoch 30/30\n",
      "24/24 [==============================] - 0s 3ms/step - loss: 5.2788e-04 - accuracy: 1.0000\n",
      "1/1 [==============================] - 0s 111ms/step - loss: 2.3198e-04 - accuracy: 1.0000\n",
      "\n",
      "Test Loss: 0.00023198295093607157\n",
      "Test Accuracy: 1.0\n"
     ]
    }
   ],
   "source": [
    "# Entrenamos el modelo del nivel NIIB y obtenemos el historial de las épocas para realizar su gráfica\n",
    "history_NIIB = Entrenar_Modelos(X_NIIB_train, Y_NIIB, model_NIIB, NIIB.keys())"
   ]
  },
  {
   "cell_type": "code",
   "execution_count": 26,
   "metadata": {
    "id": "jV7UPQIHqD1P"
   },
   "outputs": [],
   "source": [
    "# Método para hacer la gráfica de cada modelo\n",
    "# época a época para ver su evolución\n",
    "import matplotlib.pyplot as plt\n",
    "\n",
    "def Grafica_Modelo(history):\n",
    "    # Parámetros de ploteo para la gráfica\n",
    "    plt.figure(figsize=(12,5))\n",
    "    plt.ylim(-0.1, 1.1)\n",
    "    plt.plot(history.history['accuracy'])\n",
    "    plt.plot(history.history['loss'])\n",
    "    plt.title('model accuracy')\n",
    "    plt.ylabel('accuracy')\n",
    "    plt.xlabel('epoch')\n",
    "    plt.legend(['Acc','Loss'])\n",
    "    plt.show()"
   ]
  },
  {
   "cell_type": "code",
   "execution_count": 27,
   "metadata": {
    "id": "m7X-IjGsqD1W",
    "outputId": "f59a7610-4adb-4eba-ff5c-16d840add32d"
   },
   "outputs": [
    {
     "data": {
      "image/png": "[encoded data removed]",
      "text/plain": [
       "<Figure size 1200x500 with 1 Axes>"
      ]
     },
     "metadata": {},
     "output_type": "display_data"
    }
   ],
   "source": [
    "# Graficar el modelo NI\n",
    "Grafica_Modelo(history_NI)"
   ]
  },
  {
   "cell_type": "code",
   "execution_count": 28,
   "metadata": {
    "id": "sfir3uYHqD1h",
    "outputId": "381d747b-a309-466f-d4ae-3732d05f9363"
   },
   "outputs": [
    {
     "data": {
      "image/png": "[encoded data removed]",
      "text/plain": [
       "<Figure size 1200x500 with 1 Axes>"
      ]
     },
     "metadata": {},
     "output_type": "display_data"
    }
   ],
   "source": [
    "# Graficar el modelo NIIA\n",
    "Grafica_Modelo(history_NIIA)"
   ]
  },
  {
   "cell_type": "code",
   "execution_count": 29,
   "metadata": {
    "id": "le9epcUPqD1n",
    "outputId": "9adce420-b1da-4759-c948-4ec43f08f4e5"
   },
   "outputs": [
    {
     "data": {
      "image/png": "[encoded data removed]",
      "text/plain": [
       "<Figure size 1200x500 with 1 Axes>"
      ]
     },
     "metadata": {},
     "output_type": "display_data"
    }
   ],
   "source": [
    "# Graficar el modelo NIIB\n",
    "Grafica_Modelo(history_NIIB)"
   ]
  },
  {
   "cell_type": "markdown",
   "metadata": {
    "id": "In7eWoTIqD1u"
   },
   "source": [
    "# Programación del Árbol conversacional"
   ]
  },
  {
   "cell_type": "code",
   "execution_count": 30,
   "metadata": {
    "id": "PCsNvV_oqD1y"
   },
   "outputs": [],
   "source": [
    "# El árbol conversacional debe de estar en un estado específico\n",
    "# iniciar en el nivel contextual 1, e ir avanzando conforme a\n",
    "# las decisiones que toma el usuario, como si fuera una máquina \n",
    "# de estados\n",
    "\n",
    "def instancer(inp, model, tags):\n",
    "    inp = inp.lower().replace(\"á\", \"a\").replace(\"é\", \"e\").replace(\"í\", \"i\").replace(\"ó\", \"o\")\n",
    "    inp = inp.replace(\"ú\", \"u\").replace(\"¿\", \"\").replace(\"?\", \"\")\n",
    "    txt = [inp]\n",
    "    seq = tokenizer_NI.texts_to_sequences(txt)\n",
    "    padded = pad_sequences(seq, maxlen=maxlen)\n",
    "    results = model.predict(padded)\n",
    "    results_index = numpy.argmax(results)\n",
    "    tag = list(tags.keys())[results_index]\n",
    "    maxscore = numpy.max(results)\n",
    "    return tag, maxscore"
   ]
  },
  {
   "cell_type": "code",
   "execution_count": 31,
   "metadata": {
    "id": "hACpbGDKqD14"
   },
   "outputs": [],
   "source": [
    "# Función del Nivel contextual 1:\n",
    "def Activar_NI():\n",
    "    # Pregunta inicial cuando se ingresa en el nivel contextual NI\n",
    "    print(\"\\nChatBot: ¿En qué puedo ayudarte?\\n\")    \n",
    "    \n",
    "    while True:\n",
    "        inp = input(\"     Tú: \")\n",
    "        tag, maxscore = instancer(inp, model_NI, NI)\n",
    "        \n",
    "        if maxscore > 0.8 or inp == 'salir':\n",
    "            break\n",
    "        else:\n",
    "            print(\"\\nChatBot: Lo siento, pero no entendí tu petición, ¿Podrías decirlo de otra forma?\\n\")\n",
    "    \n",
    "    if inp == 'salir':\n",
    "        print(\"\\nChatBot: Hasta luego, fue un gusto hablar contigo\\n\")\n",
    "        return 'salir'\n",
    "    \n",
    "    if tag == 'Reservar_Habitacion':\n",
    "        if inp.count('Tipo_Habitacion') > 0:\n",
    "            return 'NIIA1'\n",
    "        elif inp.count('Fecha_entrada') > 0:\n",
    "            return 'NIIA2'\n",
    "        elif inp.count('Fecha_salida') > 0:\n",
    "            return 'NIIA3'\n",
    "        elif inp.count(\"Num_huespedes\") > 0:\n",
    "            return 'NIIA4'\n",
    "        else:\n",
    "            return 'NIIA'\n",
    "    \n",
    "    # if tag == 'Reproducir_Musica':\n",
    "    #     if inp.count('youtube') > 0:\n",
    "    #         return 'NIIB1'\n",
    "    #     elif inp.count('spotify') > 0:\n",
    "    #         return 'NIIB2'\n",
    "    #     elif inp.count('amazon') > 0:\n",
    "    #         return 'NIIB3'\n",
    "    #     else:\n",
    "    #         return 'NIIB'"
   ]
  },
  {
   "cell_type": "code",
   "execution_count": 32,
   "metadata": {
    "id": "iK-5AY2LqD2E"
   },
   "outputs": [],
   "source": [
    "# Función del Nivel contextual IIA:\n",
    "def Activar_NIIA():\n",
    "    # Pregunta inicial cuando se ingresa en el nivel contextual NIIA\n",
    "    print(\"\\nChatBot: Perfecto Vamos a reservar una habitación\\n\")  \n",
    "\n",
    "    #return 'NIIA1' ### De momento añado esta linea para quitar redundancia (perguntar dudas)\n",
    "\n",
    "    global Tipo_Cuarto\n",
    "    global Fecha_entrada\n",
    "    global Fecha_salida\n",
    "    global Num_huespedes\n",
    "    \n",
    "    while True:\n",
    "        inp = input(\"     Tú: \")\n",
    "        tag, maxscore = instancer(inp, model_NIIA, NIIA)\n",
    "        \n",
    "        if maxscore > 0.5 or inp == 'salir' or inp == 'volver':\n",
    "            break\n",
    "        else:\n",
    "            print(\"\\nChatBot: Lo siento, pero no entendí. Puedes decirme \\\"Reservar Habitación\\\" por ejemplo.\\n\")\n",
    "    \n",
    "    if inp == 'volver':\n",
    "        return 'NI'\n",
    "    \n",
    "    if inp == 'salir':\n",
    "        print(\"\\nChatBot: Hasta luego, fue un gusto hablar contigo\\n\")\n",
    "        return 'salir'\n",
    "    \n",
    "    if tag == 'Tipo_Habitacion' or Tipo_Cuarto == \"\":\n",
    "        return 'NIIA1'\n",
    "    \n",
    "    if tag == 'Fecha_entrada':\n",
    "        return 'NIIA2'\n",
    "    \n",
    "    if tag == 'Fecha_salida':\n",
    "        return 'NIIA3'\n",
    "    \n",
    "    if tag == 'Num_huespedes':\n",
    "        return 'NIIA4'"
   ]
  },
  {
   "cell_type": "code",
   "execution_count": 34,
   "metadata": {
    "id": "4AopUVTyqD2V"
   },
   "outputs": [],
   "source": [
    "# Función del Nivel contextual IIA1:\n",
    "def Activar_NIIA1():\n",
    "    # Pregunta inicial cuando se ingresa en el nivel contextual NIIA1\n",
    "\n",
    "    global Tipo_Cuarto\n",
    "\n",
    "    print(\"\\nChatBot: Excelente! Reservemos una habitación. ¿Qué tipo de habitación te gustaría reservar?\\n\")    \n",
    "    \n",
    "    while True:\n",
    "        inp = input(\"     Tú: \").lower()\n",
    "        \n",
    "        if inp == 'volver':\n",
    "            return 'NI'\n",
    "        elif inp == 'salir':\n",
    "            print(\"\\nChatBot: Hasta luego, fue un gusto hablar contigo\\n\")\n",
    "            return 'salir'\n",
    "        elif inp.count('estándar') > 0:\n",
    "            print(\"\\nChatBot: Excelente, reservaremos una habitación estándar.\\n\")\n",
    "            Tipo_Cuarto = \"Estándar\"\n",
    "            return 'NIIA2'\n",
    "        elif inp.count('suite') > 0:\n",
    "            print(\"\\nChatBot: Excelente, reservaremos una habitación suite.\\n\")\n",
    "            Tipo_Cuarto = \"Suite\"\n",
    "            return 'NIIA2'\n",
    "        elif inp.count('doble') > 0:\n",
    "            print(\"\\nChatBot: Excelente, reservaremos una habitación doble.\\n\")\n",
    "            Tipo_Cuarto = \"Doble\"\n",
    "            return 'NIIA2'\n",
    "        elif inp.count('familiar') > 0:\n",
    "            print(\"\\nChatBot: Excelente, reservaremos una habitación familiar.\\n\")\n",
    "            Tipo_Cuarto = \"Familiar\"\n",
    "            return 'NIIA2'\n",
    "        elif inp.count('deluxe') > 0:\n",
    "            print(\"\\nChatBot: Excelente, reservaremos una habitación deluxe.\\n\")\n",
    "            Tipo_Cuarto = \"Deluxe\"\n",
    "            return 'NIIA2'\n",
    "        elif inp.count('dos camas') > 0:\n",
    "            print(\"\\nChatBot: Excelente, reservaremos una habitación doble.\\n\")\n",
    "            Tipo_Cuarto = \"Doble\"\n",
    "            return 'NIIA2'\n",
    "        elif inp.count('ofrecen') > 0:\n",
    "            print(\"\\nChatBot: Ofrecemos los siguientes tipos de habitaciones: estándar, doble, familiar, suite, y deluxe.\\n\")\n",
    "            return 'NIIA2'\n",
    "        elif inp.count('económica') > 0:\n",
    "            print(\"\\nChatBot: Excelente, reservaremos una habitación estándar.\\n\")\n",
    "            Tipo_Cuarto = \"Estándar\"\n",
    "            return 'NIIA2'\n",
    "        else:\n",
    "            print(\"\\nChatBot: ¿Podrías repetirme qué tipo de habitación te gustaría reservar?\\n\")"
   ]
  },
  {
   "cell_type": "code",
   "execution_count": 35,
   "metadata": {
    "id": "aDMr1CxZqD2p"
   },
   "outputs": [],
   "source": [
    "# Función del Nivel contextual IIA2:\n",
    "def Activar_NIIA2():\n",
    "    # Pregunta inicial cuando se ingresa en el nivel contextual NIIA2\n",
    "\n",
    "    global Fecha_entrada\n",
    "\n",
    "    print(\"\\nChatBot: Muy bien! ¿Para cuándo agendamos su entrada?\\n\")    \n",
    "    \n",
    "    while True:\n",
    "        inp = input(\"     Tú: \").lower()\n",
    "        \n",
    "        if inp == 'volver':\n",
    "            return 'NI'\n",
    "        elif inp == 'salir':\n",
    "            print(\"\\nChatBot: Hasta luego, fue un gusto hablar contigo\\n\")\n",
    "            return 'salir'\n",
    "        elif inp.count('hoy') > 0:\n",
    "            print(\"\\nChatBot: Muy bien, agendaré la entrada para hoy.\\n\")\n",
    "            Fecha_entrada = \"hoy\"\n",
    "            return 'NIIA3'\n",
    "        elif inp.count('mañana') > 0:\n",
    "            print(\"\\nChatBot: Muy bien, agendaré la entrada para mañana.\\n\")\n",
    "            Fecha_entrada = \"mañana\"\n",
    "            return 'NIIA3'\n",
    "        elif inp.count('pasado') > 0:\n",
    "            print(\"\\nChatBot: Muy bien, agendaré la entrada para pasado mañana.\\n\")\n",
    "            Fecha_entrada = \"pasado mañana\"\n",
    "            return 'NIIA3'\n",
    "        elif inp.count('lunes') > 0:\n",
    "            print(\"\\nChatBot: Muy bien, agendaré la entrada para el siguiente lunes.\\n\")\n",
    "            Fecha_entrada = \"Siguiente lunes\"\n",
    "            return 'NIIA3'\n",
    "        elif inp.count('martes') > 0:\n",
    "            print(\"\\nChatBot: Muy bien, agendaré la entrada para el siguiente martes.\\n\")\n",
    "            Fecha_entrada = \"Siguiente martes\"\n",
    "            return 'NIIA3'\n",
    "        elif inp.count('miércoles') > 0:\n",
    "            print(\"\\nChatBot: Muy bien, agendaré la entrada para el siguiente miércoles.\\n\")\n",
    "            Fecha_entrada = \"Siguiente miércoles\"\n",
    "            return 'NIIA3'\n",
    "        elif inp.count('jueves') > 0:\n",
    "            print(\"\\nChatBot: Muy bien, agendaré la entrada para el siguiente jueves.\\n\")\n",
    "            Fecha_entrada = \"Siguiente jueves\"\n",
    "            return 'NIIA3'\n",
    "        elif inp.count('viernes') > 0:\n",
    "            print(\"\\nChatBot: Muy bien, agendaré la entrada para el siguiente viernes.\\n\")\n",
    "            Fecha_entrada = \"Siguiente viernes\"\n",
    "            return 'NIIA3'\n",
    "        elif inp.count('sábado') > 0:\n",
    "            print(\"\\nChatBot: Muy bien, agendaré la entrada para el siguiente sábado.\\n\")\n",
    "            Fecha_entrada = \"Siguiente sábado\"\n",
    "            return 'NIIA3'\n",
    "        elif inp.count('domingo') > 0:\n",
    "            print(\"\\nChatBot: Muy bien, agendaré la entrada para el siguiente domingo.\\n\")\n",
    "            Fecha_entrada = \"Siguiente domingo\"\n",
    "            return 'NIIA3'\n",
    "        \n",
    "        else:\n",
    "            print(\"\\nChatBot: ¿Podrías repetirme para qué día agendar la llegada?\\n\")"
   ]
  },
  {
   "cell_type": "code",
   "execution_count": 36,
   "metadata": {},
   "outputs": [],
   "source": [
    "# Función del Nivel contextual IIA3:\n",
    "def Activar_NIIA3():\n",
    "    # Pregunta inicial cuando se ingresa en el nivel contextual NIIA3\n",
    "\n",
    "    global Fecha_salida\n",
    "\n",
    "    print(\"\\nChatBot: Muy bien! ¿Para cuándo agendamos su salida?\\n\")    \n",
    "    \n",
    "    while True:\n",
    "        inp = input(\"     Tú: \").lower()\n",
    "        \n",
    "        if inp == 'volver':\n",
    "            return 'NI'\n",
    "        elif inp == 'salir':\n",
    "            print(\"\\nChatBot: Hasta luego, fue un gusto hablar contigo\\n\")\n",
    "            return 'salir'\n",
    "        elif inp.count('mañana') > 0:\n",
    "            print(\"\\nChatBot: Muy bien, agendaré la salida para mañana.\\n\")\n",
    "            Fecha_salida = \"mañana\"\n",
    "            return 'NIIA4'\n",
    "        elif inp.count('pasado') > 0:\n",
    "            print(\"\\nChatBot: Muy bien, agendaré la salida para pasado mañana.\\n\")\n",
    "            Fecha_salida = \"pasado mañana\"\n",
    "            return 'NIIA4'\n",
    "        elif inp.count('lunes') > 0:\n",
    "            print(\"\\nChatBot: Muy bien, agendaré la salida para el siguiente lunes.\\n\")\n",
    "            Fecha_salida = \"Siguiente lunes\"\n",
    "            return 'NIIA4'\n",
    "        elif inp.count('martes') > 0:\n",
    "            print(\"\\nChatBot: Muy bien, agendaré la salida para el siguiente martes.\\n\")\n",
    "            Fecha_salida = \"Siguiente martes\"\n",
    "            return 'NIIA4'\n",
    "        elif inp.count('miércoles') > 0:\n",
    "            print(\"\\nChatBot: Muy bien, agendaré la salida para el siguiente miércoles.\\n\")\n",
    "            Fecha_salida = \"Siguiente miércoles\"\n",
    "            return 'NIIA4'\n",
    "        elif inp.count('jueves') > 0:\n",
    "            print(\"\\nChatBot: Muy bien, agendaré la salida para el siguiente jueves.\\n\")\n",
    "            Fecha_salida = \"Siguiente jueves\"\n",
    "            return 'NIIA4'\n",
    "        elif inp.count('viernes') > 0:\n",
    "            print(\"\\nChatBot: Muy bien, agendaré la salida para el siguiente viernes.\\n\")\n",
    "            Fecha_salida = \"Siguiente viernes\"\n",
    "            return 'NIIA4'\n",
    "        elif inp.count('sábado') > 0:\n",
    "            print(\"\\nChatBot: Muy bien, agendaré la salida para el siguiente sábado.\\n\")\n",
    "            Fecha_salida = \"Siguiente sábado\"\n",
    "            return 'NIIA4'\n",
    "        elif inp.count('domingo') > 0:\n",
    "            print(\"\\nChatBot: Muy bien, agendaré la salida para el siguiente domingo.\\n\")\n",
    "            Fecha_salida = \"Siguiente domingo\"\n",
    "            return 'NIIA4'\n",
    "        \n",
    "        else:\n",
    "            print(\"\\nChatBot: ¿Podrías repetirme para qué día agendar la salida?\\n\")"
   ]
  },
  {
   "cell_type": "code",
   "execution_count": 37,
   "metadata": {},
   "outputs": [],
   "source": [
    "# Función del Nivel contextual IIA4:\n",
    "def Activar_NIIA4():\n",
    "    # Pregunta inicial cuando se ingresa en el nivel contextual NIIA4\n",
    "\n",
    "    global Num_huespedes\n",
    "\n",
    "    print(\"\\nChatBot: Súper! ¿Para cuántas personas es la reservación?\\n\")    \n",
    "    \n",
    "    while True:\n",
    "        inp = input(\"     Tú: \").lower()\n",
    "        \n",
    "        if inp == 'volver':\n",
    "            return 'NI'\n",
    "        elif inp == 'salir':\n",
    "            print(\"\\nChatBot: Hasta luego, fue un gusto hablar contigo\\n\")\n",
    "            return 'salir'\n",
    "        elif inp.count('yo') > 0:\n",
    "            print(\"\\nChatBot: Muy bien, agendaré para una sola persona.\\n\")\n",
    "            Num_huespedes = 1\n",
    "            print(\"La reservación final es de \", Num_huespedes, \" personas con el tipo de cuarto \", Tipo_Cuarto, \" con fecha de entrada \", Fecha_entrada, \" y fecha de salida \", Fecha_salida, \". \\n\\n Si desdeas algo más no dudes en preguntar.\")\n",
    "            return 'NI'\n",
    "        elif inp.count('solo') > 0:\n",
    "            print(\"\\nChatBot: Muy bien, agendaré para una sola persona.\\n\")\n",
    "            Num_huespedes = 1\n",
    "            print(\"La reservación final es de \", Num_huespedes, \" personas con el tipo de cuarto \", Tipo_Cuarto, \" con fecha de entrada \", Fecha_entrada, \" y fecha de salida \", Fecha_salida, \". \\n\\n Si desdeas algo más no dudes en preguntar.\")\n",
    "            return 'NI'\n",
    "        elif inp.count('2') > 0:\n",
    "            print(\"\\nChatBot: Muy bien, agendaré para dos personas.\\n\")\n",
    "            Num_huespedes = 2\n",
    "            print(\"La reservación final es de \", Num_huespedes, \" personas con el tipo de cuarto \", Tipo_Cuarto, \" con fecha de entrada \", Fecha_entrada, \" y fecha de salida \", Fecha_salida, \". \\n\\n Si desdeas algo más no dudes en preguntar.\")\n",
    "            return 'NI'\n",
    "        elif inp.count('dos') > 0:\n",
    "            print(\"\\nChatBot: Muy bien, agendaré para dos personas.\\n\")\n",
    "            Num_huespedes = 2\n",
    "            print(\"La reservación final es de \", Num_huespedes, \" personas con el tipo de cuarto \", Tipo_Cuarto, \" con fecha de entrada \", Fecha_entrada, \" y fecha de salida \", Fecha_salida, \". \\n\\n Si desdeas algo más no dudes en preguntar.\")\n",
    "            return 'NI'\n",
    "        elif inp.count('3') > 0:\n",
    "            print(\"\\nChatBot: Muy bien, agendaré para tres personas.\\n\")\n",
    "            Num_huespedes = 3\n",
    "            print(\"La reservación final es de \", Num_huespedes, \" personas con el tipo de cuarto \", Tipo_Cuarto, \" con fecha de entrada \", Fecha_entrada, \" y fecha de salida \", Fecha_salida, \". \\n\\n Si desdeas algo más no dudes en preguntar.\")\n",
    "            return 'NI'\n",
    "        elif inp.count('tres') > 0:\n",
    "            print(\"\\nChatBot: Muy bien, agendaré para tres personas.\\n\")\n",
    "            Num_huespedes = 3\n",
    "            print(\"La reservación final es de \", Num_huespedes, \" personas con el tipo de cuarto \", Tipo_Cuarto, \" con fecha de entrada \", Fecha_entrada, \" y fecha de salida \", Fecha_salida, \". \\n\\n Si desdeas algo más no dudes en preguntar.\")\n",
    "            return 'NI'\n",
    "        elif inp.count('4') > 0:\n",
    "            print(\"\\nChatBot: Muy bien, agendaré para cuatro personas.\\n\")\n",
    "            Num_huespedes = 4\n",
    "            print(\"La reservación final es de \", Num_huespedes, \" personas con el tipo de cuarto \", Tipo_Cuarto, \" con fecha de entrada \", Fecha_entrada, \" y fecha de salida \", Fecha_salida, \". \\n\\n Si desdeas algo más no dudes en preguntar.\")\n",
    "            return 'salir'\n",
    "        elif inp.count('cuatro') > 0:\n",
    "            print(\"\\nChatBot: Muy bien, agendaré para cuatro personas.\\n\")\n",
    "            Num_huespedes = 4\n",
    "            print(\"La reservación final es de \", Num_huespedes, \" personas con el tipo de cuarto \", Tipo_Cuarto, \" con fecha de entrada \", Fecha_entrada, \" y fecha de salida \", Fecha_salida, \". \\n\\n Si desdeas algo más no dudes en preguntar.\")\n",
    "            return 'NI'\n",
    "            \n",
    "        \n",
    "        else:\n",
    "            print(\"\\nChatBot: ¿Podrías repetirme para cuántas personas es la reservación?\\n\")"
   ]
  },
  {
   "cell_type": "code",
   "execution_count": 41,
   "metadata": {},
   "outputs": [],
   "source": [
    "# Implementación de casos correspondientes para cada nivel del ChatBot\n",
    "# Nivel contextual inicial por defecto, el primero\n",
    "\n",
    "maquina_estados = {'NI': Activar_NI,\n",
    "                   'NIIA': Activar_NIIA,\n",
    "                   'NIIA1': Activar_NIIA1,\n",
    "                   'NIIA2': Activar_NIIA2,\n",
    "                   'NIIA3': Activar_NIIA3,\n",
    "                   'NIIA4': Activar_NIIA4,\n",
    "                   'NIIB': Activar_NIIB,\n",
    "                   'NIIB1': Activar_NIIB1,\n",
    "                   'NIIB2': Activar_NIIB2,\n",
    "                   'NIIB3': Activar_NIIB3}\n",
    "\n",
    "Tipo_Cuarto = \"\"\n",
    "Fecha_entrada = \"\"\n",
    "Fecha_salida = \"\"\n",
    "Num_huespedes = 0\n",
    "\n",
    "def chat1():  \n",
    "    Nivel = 'NI'\n",
    "    #Pregunta inicial, solo cuando se inicia el ChatBot\n",
    "    print(\"\\nChatBot: Hola, soy el ChatBot, comienza a Hablar conmigo\")\n",
    "    \n",
    "    while True:        \n",
    "        Nivel = maquina_estados[Nivel]()\n",
    "        print(Nivel)\n",
    "        if Nivel == 'salir':\n",
    "            print(\"La reservación final es de \", Num_huespedes, \" personas con el tipo de cuarto \", Tipo_Cuarto, \" con fecha de entrada \", Fecha_entrada, \" y fecha de salida \", Fecha_salida)\n",
    "            break"
   ]
  },
  {
   "cell_type": "code",
   "execution_count": 44,
   "metadata": {
    "id": "vhDSeGlUqD3X",
    "outputId": "bed08f99-6158-4a4e-e258-7c052307be75"
   },
   "outputs": [
    {
     "name": "stdout",
     "output_type": "stream",
     "text": [
      "\n",
      "ChatBot: Hola, soy el ChatBot, comienza a Hablar conmigo\n",
      "\n",
      "ChatBot: ¿En qué puedo ayudarte?\n",
      "\n"
     ]
    },
    {
     "ename": "KeyboardInterrupt",
     "evalue": "Interrupted by user",
     "output_type": "error",
     "traceback": [
      "\u001b[0;31m---------------------------------------------------------------------------\u001b[0m",
      "\u001b[0;31mKeyboardInterrupt\u001b[0m                         Traceback (most recent call last)",
      "\u001b[1;32m/Users/mascenci/Desktop/Chatbots/Flujo conversacional/Arbol conversacional.ipynb Celda 42\u001b[0m line \u001b[0;36m2\n\u001b[1;32m      <a href='vscode-notebook-cell:/Users/mascenci/Desktop/Chatbots/Flujo%20conversacional/Arbol%20conversacional.ipynb#X56sZmlsZQ%3D%3D?line=0'>1</a>\u001b[0m \u001b[39m# Activar el ChatBot\u001b[39;00m\n\u001b[0;32m----> <a href='vscode-notebook-cell:/Users/mascenci/Desktop/Chatbots/Flujo%20conversacional/Arbol%20conversacional.ipynb#X56sZmlsZQ%3D%3D?line=1'>2</a>\u001b[0m chat1()\n",
      "\u001b[1;32m/Users/mascenci/Desktop/Chatbots/Flujo conversacional/Arbol conversacional.ipynb Celda 42\u001b[0m line \u001b[0;36m2\n\u001b[1;32m     <a href='vscode-notebook-cell:/Users/mascenci/Desktop/Chatbots/Flujo%20conversacional/Arbol%20conversacional.ipynb#X56sZmlsZQ%3D%3D?line=22'>23</a>\u001b[0m \u001b[39mprint\u001b[39m(\u001b[39m\"\u001b[39m\u001b[39m\\n\u001b[39;00m\u001b[39mChatBot: Hola, soy el ChatBot, comienza a Hablar conmigo\u001b[39m\u001b[39m\"\u001b[39m)\n\u001b[1;32m     <a href='vscode-notebook-cell:/Users/mascenci/Desktop/Chatbots/Flujo%20conversacional/Arbol%20conversacional.ipynb#X56sZmlsZQ%3D%3D?line=24'>25</a>\u001b[0m \u001b[39mwhile\u001b[39;00m \u001b[39mTrue\u001b[39;00m:        \n\u001b[0;32m---> <a href='vscode-notebook-cell:/Users/mascenci/Desktop/Chatbots/Flujo%20conversacional/Arbol%20conversacional.ipynb#X56sZmlsZQ%3D%3D?line=25'>26</a>\u001b[0m     Nivel \u001b[39m=\u001b[39m maquina_estados[Nivel]()\n\u001b[1;32m     <a href='vscode-notebook-cell:/Users/mascenci/Desktop/Chatbots/Flujo%20conversacional/Arbol%20conversacional.ipynb#X56sZmlsZQ%3D%3D?line=26'>27</a>\u001b[0m     \u001b[39mprint\u001b[39m(Nivel)\n\u001b[1;32m     <a href='vscode-notebook-cell:/Users/mascenci/Desktop/Chatbots/Flujo%20conversacional/Arbol%20conversacional.ipynb#X56sZmlsZQ%3D%3D?line=27'>28</a>\u001b[0m     \u001b[39mif\u001b[39;00m Nivel \u001b[39m==\u001b[39m \u001b[39m'\u001b[39m\u001b[39msalir\u001b[39m\u001b[39m'\u001b[39m:\n",
      "\u001b[1;32m/Users/mascenci/Desktop/Chatbots/Flujo conversacional/Arbol conversacional.ipynb Celda 42\u001b[0m line \u001b[0;36m7\n\u001b[1;32m      <a href='vscode-notebook-cell:/Users/mascenci/Desktop/Chatbots/Flujo%20conversacional/Arbol%20conversacional.ipynb#X56sZmlsZQ%3D%3D?line=3'>4</a>\u001b[0m \u001b[39mprint\u001b[39m(\u001b[39m\"\u001b[39m\u001b[39m\\n\u001b[39;00m\u001b[39mChatBot: ¿En qué puedo ayudarte?\u001b[39m\u001b[39m\\n\u001b[39;00m\u001b[39m\"\u001b[39m)    \n\u001b[1;32m      <a href='vscode-notebook-cell:/Users/mascenci/Desktop/Chatbots/Flujo%20conversacional/Arbol%20conversacional.ipynb#X56sZmlsZQ%3D%3D?line=5'>6</a>\u001b[0m \u001b[39mwhile\u001b[39;00m \u001b[39mTrue\u001b[39;00m:\n\u001b[0;32m----> <a href='vscode-notebook-cell:/Users/mascenci/Desktop/Chatbots/Flujo%20conversacional/Arbol%20conversacional.ipynb#X56sZmlsZQ%3D%3D?line=6'>7</a>\u001b[0m     inp \u001b[39m=\u001b[39m \u001b[39minput\u001b[39;49m(\u001b[39m\"\u001b[39;49m\u001b[39m     Tú: \u001b[39;49m\u001b[39m\"\u001b[39;49m)\n\u001b[1;32m      <a href='vscode-notebook-cell:/Users/mascenci/Desktop/Chatbots/Flujo%20conversacional/Arbol%20conversacional.ipynb#X56sZmlsZQ%3D%3D?line=7'>8</a>\u001b[0m     tag, maxscore \u001b[39m=\u001b[39m instancer(inp, model_NI, NI)\n\u001b[1;32m     <a href='vscode-notebook-cell:/Users/mascenci/Desktop/Chatbots/Flujo%20conversacional/Arbol%20conversacional.ipynb#X56sZmlsZQ%3D%3D?line=9'>10</a>\u001b[0m     \u001b[39mif\u001b[39;00m maxscore \u001b[39m>\u001b[39m \u001b[39m0.8\u001b[39m \u001b[39mor\u001b[39;00m inp \u001b[39m==\u001b[39m \u001b[39m'\u001b[39m\u001b[39msalir\u001b[39m\u001b[39m'\u001b[39m:\n",
      "File \u001b[0;32m~/anaconda3/envs/mauPLN/lib/python3.9/site-packages/ipykernel/kernelbase.py:1202\u001b[0m, in \u001b[0;36mKernel.raw_input\u001b[0;34m(self, prompt)\u001b[0m\n\u001b[1;32m   1200\u001b[0m     msg \u001b[39m=\u001b[39m \u001b[39m\"\u001b[39m\u001b[39mraw_input was called, but this frontend does not support input requests.\u001b[39m\u001b[39m\"\u001b[39m\n\u001b[1;32m   1201\u001b[0m     \u001b[39mraise\u001b[39;00m StdinNotImplementedError(msg)\n\u001b[0;32m-> 1202\u001b[0m \u001b[39mreturn\u001b[39;00m \u001b[39mself\u001b[39;49m\u001b[39m.\u001b[39;49m_input_request(\n\u001b[1;32m   1203\u001b[0m     \u001b[39mstr\u001b[39;49m(prompt),\n\u001b[1;32m   1204\u001b[0m     \u001b[39mself\u001b[39;49m\u001b[39m.\u001b[39;49m_parent_ident[\u001b[39m\"\u001b[39;49m\u001b[39mshell\u001b[39;49m\u001b[39m\"\u001b[39;49m],\n\u001b[1;32m   1205\u001b[0m     \u001b[39mself\u001b[39;49m\u001b[39m.\u001b[39;49mget_parent(\u001b[39m\"\u001b[39;49m\u001b[39mshell\u001b[39;49m\u001b[39m\"\u001b[39;49m),\n\u001b[1;32m   1206\u001b[0m     password\u001b[39m=\u001b[39;49m\u001b[39mFalse\u001b[39;49;00m,\n\u001b[1;32m   1207\u001b[0m )\n",
      "File \u001b[0;32m~/anaconda3/envs/mauPLN/lib/python3.9/site-packages/ipykernel/kernelbase.py:1245\u001b[0m, in \u001b[0;36mKernel._input_request\u001b[0;34m(self, prompt, ident, parent, password)\u001b[0m\n\u001b[1;32m   1242\u001b[0m \u001b[39mexcept\u001b[39;00m \u001b[39mKeyboardInterrupt\u001b[39;00m:\n\u001b[1;32m   1243\u001b[0m     \u001b[39m# re-raise KeyboardInterrupt, to truncate traceback\u001b[39;00m\n\u001b[1;32m   1244\u001b[0m     msg \u001b[39m=\u001b[39m \u001b[39m\"\u001b[39m\u001b[39mInterrupted by user\u001b[39m\u001b[39m\"\u001b[39m\n\u001b[0;32m-> 1245\u001b[0m     \u001b[39mraise\u001b[39;00m \u001b[39mKeyboardInterrupt\u001b[39;00m(msg) \u001b[39mfrom\u001b[39;00m \u001b[39mNone\u001b[39;00m\n\u001b[1;32m   1246\u001b[0m \u001b[39mexcept\u001b[39;00m \u001b[39mException\u001b[39;00m:\n\u001b[1;32m   1247\u001b[0m     \u001b[39mself\u001b[39m\u001b[39m.\u001b[39mlog\u001b[39m.\u001b[39mwarning(\u001b[39m\"\u001b[39m\u001b[39mInvalid Message:\u001b[39m\u001b[39m\"\u001b[39m, exc_info\u001b[39m=\u001b[39m\u001b[39mTrue\u001b[39;00m)\n",
      "\u001b[0;31mKeyboardInterrupt\u001b[0m: Interrupted by user"
     ]
    }
   ],
   "source": [
    "# Activar el ChatBot\n",
    "chat1()"
   ]
  },
  {
   "cell_type": "code",
   "execution_count": null,
   "metadata": {},
   "outputs": [],
   "source": []
  },
  {
   "cell_type": "code",
   "execution_count": null,
   "metadata": {},
   "outputs": [],
   "source": []
  }
 ],
 "metadata": {
  "colab": {
   "name": "Reto 28.- Flujos conversaconales",
   "provenance": []
  },
  "kernelspec": {
   "display_name": "Python 3 (ipykernel)",
   "language": "python",
   "name": "python3"
  },
  "language_info": {
   "codemirror_mode": {
    "name": "ipython",
    "version": 3
   },
   "file_extension": ".py",
   "mimetype": "text/x-python",
   "name": "python",
   "nbconvert_exporter": "python",
   "pygments_lexer": "ipython3",
   "version": "3.9.18"
  }
 },
 "nbformat": 4,
 "nbformat_minor": 1
}
