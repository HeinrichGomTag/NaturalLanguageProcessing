{
 "cells": [
  {
   "cell_type": "markdown",
   "metadata": {},
   "source": [
    "### ¿Qué es un corrector gramatical?"
   ]
  },
  {
   "cell_type": "markdown",
   "metadata": {},
   "source": [
    "Es un sistema de revisión de textos, capaz de implementar reglas de análisis y corrección de textos basados en el idioma específico con el que se está trabajando."
   ]
  },
  {
   "cell_type": "markdown",
   "metadata": {},
   "source": [
    "Capacidad de corrección:\n",
    "\n",
    "Entre otras cosas, un correcto gramatical puede detectar lo siguiente:\n",
    "\n",
    "- Faltas de ortografía en palabras comunes  (Por fabor  →  Por favor) \n",
    "\n",
    "- Combinación incorrecta de singulares y plurales  (Mi casas  →  Mi casa)\n",
    "\n",
    "- Palabras repetidas (Le dije eso eso ayer  →  Le dije eso ayer)\n",
    "\n",
    "- Mayúsculas en lugares incorrectos  (LA tarDe  →  La tarde)\n",
    "\n",
    "- Problemas con verbos auxiliares (Debes pagado  →  Debes pagar)\n",
    "\n",
    "Entre otras aplicaciones\n",
    "\n",
    "\n"
   ]
  },
  {
   "cell_type": "code",
   "execution_count": 66,
   "metadata": {
    "ExecuteTime": {
     "end_time": "2023-08-23T00:17:12.713799Z",
     "start_time": "2023-08-23T00:17:12.671188Z"
    }
   },
   "outputs": [],
   "source": [
    "# TAREA 01: Construir un corrector gramatical que revise en un texto errores como los que se detallan a continuación. Imprimir \n",
    "# el texto corregido marcando los cambios entre corchetes “[]” Mostrar la cantidad y tipo de correcciones realizadas:\n",
    "\n",
    "# Tips: \n",
    "#- Se debe utilizar un método por cada caso\n",
    "\n",
    "#- La tarea se trabajará directamente en un Jupyter Notebook y se deberá de poder ejecutar con la instalación realizada en \n",
    "# clase, y en caso de usar alguna librería adicional, especificarlo en el mismo notebook\n"
   ]
  },
  {
   "cell_type": "code",
   "execution_count": 67,
   "metadata": {
    "ExecuteTime": {
     "end_time": "2023-08-23T00:17:13.480687Z",
     "start_time": "2023-08-23T00:17:12.674740Z"
    }
   },
   "outputs": [],
   "source": [
    "import spacy\n",
    "from spacy import displacy\n",
    "\n",
    "nlp = spacy.load(\"es_core_news_md\")"
   ]
  },
  {
   "cell_type": "code",
   "execution_count": 68,
   "metadata": {
    "ExecuteTime": {
     "end_time": "2023-08-23T00:17:13.504931Z",
     "start_time": "2023-08-23T00:17:13.486984Z"
    }
   },
   "outputs": [
    {
     "name": "stdout",
     "output_type": "stream",
     "text": [
      "Texto original: Hola q tal? Quiero ir aki pq tmb sta el msj dnd me dices sq viste algo x allá.\n",
      "Texto corregido: Hola [que] tal ? Quiero ir [aquí] [porque] [también] [esta] el [mensaje] [dónde] me dices [es que] viste algo [por] allá . \n",
      "Número de correcciones: 9\n"
     ]
    }
   ],
   "source": [
    "def corrector_ortografico(texto):\n",
    "    \"\"\"Esta función verifica la ortografía de las palabras en un texto y corrige errores.\n",
    "\n",
    "    Args:\n",
    "        texto: El texto que se va a revisar.\n",
    "\n",
    "    Returns:\n",
    "        El texto con los errores corregidos y el número de correcciones.\n",
    "    \"\"\"\n",
    "\n",
    "    # Crear un diccionario de palabras comúnmente mal escritas.\n",
    "    palabras_incorrectas = {\n",
    "        \"q\": \"que\",\n",
    "        \"x\": \"por\",\n",
    "        \"cmo\": \"cómo\",\n",
    "        \"dnd\": \"dónde\",\n",
    "        \"sq\": \"es que\",\n",
    "        \"sta\": \"esta\",\n",
    "        \"msj\": \"mensaje\",\n",
    "        \"aki\": \"aquí\",\n",
    "        \"tmb\": \"también\",\n",
    "        \"qro\": \"quiero\",\n",
    "        \"pq\": \"porque\"\n",
    "    }\n",
    "\n",
    "    # Crear un documento spaCy a partir del texto.\n",
    "    doc = nlp(texto)\n",
    "\n",
    "    texto_corregido = \"\"\n",
    "    num_correcciones = 0\n",
    "    for token in doc:\n",
    "        if token.text.lower() in palabras_incorrectas:\n",
    "            texto_corregido += \"[\" + palabras_incorrectas[token.text.lower()] + \"]\"\n",
    "            num_correcciones += 1\n",
    "        else:\n",
    "            texto_corregido += token.text\n",
    "\n",
    "        texto_corregido += \" \"\n",
    "\n",
    "    return texto_corregido, num_correcciones\n",
    "\n",
    "\n",
    "texto = \"Hola q tal? Quiero ir aki pq tmb sta el msj dnd me dices sq viste algo x allá.\"\n",
    "\n",
    "texto_corregido, num_correcciones = corrector_ortografico(texto)\n",
    "\n",
    "print(\"Texto original: {}\".format(texto))\n",
    "print(\"Texto corregido: {}\".format(texto_corregido))\n",
    "print(\"Número de correcciones: {}\".format(num_correcciones))"
   ]
  },
  {
   "cell_type": "code",
   "execution_count": 69,
   "metadata": {
    "ExecuteTime": {
     "end_time": "2023-08-23T00:17:13.528077Z",
     "start_time": "2023-08-23T00:17:13.505714Z"
    }
   },
   "outputs": [],
   "source": [
    "# Caso 2: Verificar que no exista una palabra en singular, seguida de una en plural y al revés"
   ]
  },
  {
   "cell_type": "code",
   "execution_count": 70,
   "metadata": {
    "ExecuteTime": {
     "end_time": "2023-08-23T00:17:13.534698Z",
     "start_time": "2023-08-23T00:17:13.513292Z"
    }
   },
   "outputs": [
    {
     "name": "stdout",
     "output_type": "stream",
     "text": [
      "Texto original: Los coche son rojos. Mi amigos es amable.\n",
      "Correcciones sugeridas:  [('coche', 'coches'), ('amigos', 'amigo')]\n",
      "Texto corregido: Los coches son rojos. Mi amigo es amable.\n"
     ]
    }
   ],
   "source": [
    "def correct_number_mismatches(doc):\n",
    "    \"\"\"Esta función verifica que no exista una palabra en singular, seguida de una en plural y al revés.\n",
    "\n",
    "    Args:\n",
    "        doc: El texto que se va a revisar.\n",
    "\n",
    "    Returns:\n",
    "        El texto con los errores corregidos y el número de correcciones.\n",
    "    \"\"\"\n",
    "    correcciones = []\n",
    "    for i, token in enumerate(doc[:-1]):  # Usamos doc[:-1] para evitar acceder fuera de rango\n",
    "        next_tok = doc[i + 1]\n",
    "\n",
    "        # Corregimos las comparaciones\n",
    "        if token.tag_ == 'DET' and token.text[-1] == 's' and next_tok.tag_ == 'NOUN' and next_tok.text[-1] != 's':\n",
    "            correcciones.append((next_tok.text, next_tok.text + 's'))\n",
    "        elif token.tag_ == 'DET' and token.text[-1] != 's' and next_tok.tag_ == 'NOUN' and next_tok.text[-1] == 's':\n",
    "            correcciones.append((next_tok.text, next_tok.text[:-1]))\n",
    "\n",
    "    return correcciones\n",
    "\n",
    "\n",
    "def apply_corrections(text, correcciones):\n",
    "    \"\"\"Esta función aplica las correcciones sugeridas por la función anterior.\n",
    "\n",
    "    Args:\n",
    "        text: El texto que se va a revisar.\n",
    "        correcciones: La lista de correcciones sugeridas.\n",
    "\n",
    "    Returns:\n",
    "        El texto con los errores corregidos.\n",
    "    \"\"\"\n",
    "    for original, corrected in correcciones:\n",
    "        text = text.replace(original, corrected)\n",
    "    return text\n",
    "\n",
    "\n",
    "text = \"Los coche son rojos. Mi amigos es amable.\"\n",
    "doc = nlp(text)\n",
    "correcciones = correct_number_mismatches(doc)\n",
    "texto_corregido = apply_corrections(text, correcciones)\n",
    "print(\"Texto original:\", text)\n",
    "print('Correcciones sugeridas: ', correcciones)\n",
    "print(\"Texto corregido:\", texto_corregido)"
   ]
  },
  {
   "cell_type": "code",
   "execution_count": 71,
   "metadata": {
    "ExecuteTime": {
     "end_time": "2023-08-23T00:17:13.534847Z",
     "start_time": "2023-08-23T00:17:13.522347Z"
    }
   },
   "outputs": [],
   "source": [
    "# Caso 3: Verificar que no exista la misma palabra dos veces seguidas"
   ]
  },
  {
   "cell_type": "code",
   "execution_count": 72,
   "metadata": {
    "ExecuteTime": {
     "end_time": "2023-08-23T00:17:13.541543Z",
     "start_time": "2023-08-23T00:17:13.528679Z"
    }
   },
   "outputs": [
    {
     "name": "stdout",
     "output_type": "stream",
     "text": [
      "Texto original: Estamos probando probando que no haya palabras palabras repetidas en este este texto\n",
      "Texto corregido: Estamos probando que no haya palabras repetidas en este texto\n",
      "Número de correcciones: 3\n"
     ]
    }
   ],
   "source": [
    "def no_repetir_palabras(texto):\n",
    "    \"\"\"Esta función verifica que no exista la misma palabra repetida dos veces seguidas en un texto.\n",
    "\n",
    "    Args:\n",
    "        texto: El texto a revisar.\n",
    "\n",
    "    Returns:\n",
    "        El texto con las correcciones y el número de correcciones.\n",
    "    \"\"\"\n",
    "\n",
    "    # Crear un documento spaCy a partir del texto.\n",
    "    doc = nlp(texto)\n",
    "\n",
    "    texto_corregido = \"\"\n",
    "    num_correcciones = 0\n",
    "\n",
    "    prev_token = None\n",
    "    for token in doc:\n",
    "        if prev_token is not None and token.text.lower() == prev_token.text.lower():\n",
    "            num_correcciones += 1\n",
    "            continue\n",
    "        else:\n",
    "            texto_corregido += token.text + \" \"\n",
    "            prev_token = token\n",
    "\n",
    "    return texto_corregido.strip(), num_correcciones\n",
    "\n",
    "\n",
    "texto = \"Estamos probando probando que no haya palabras palabras repetidas en este este texto\"\n",
    "texto_corregido, num_correcciones = no_repetir_palabras(texto)\n",
    "print(\"Texto original: {}\".format(texto))\n",
    "print(\"Texto corregido: {}\".format(texto_corregido))\n",
    "print(\"Número de correcciones: {}\".format(num_correcciones))"
   ]
  },
  {
   "cell_type": "code",
   "execution_count": 73,
   "metadata": {
    "ExecuteTime": {
     "end_time": "2023-08-23T00:17:13.541795Z",
     "start_time": "2023-08-23T00:17:13.538365Z"
    }
   },
   "outputs": [],
   "source": [
    "# Caso 4: Verificar que la forma de un token no mezcle mayúsculas, minúsculas y dígitos, a menos que se trate de todo en mayúsculas para marcar siglas "
   ]
  },
  {
   "cell_type": "code",
   "execution_count": 86,
   "metadata": {
    "ExecuteTime": {
     "end_time": "2023-08-23T00:27:56.525922Z",
     "start_time": "2023-08-23T00:27:55.649696Z"
    }
   },
   "outputs": [
    {
     "name": "stdout",
     "output_type": "stream",
     "text": [
      "Texto original: los gatOS son animales. son muy independientes. a veces son cariñosos\n",
      "Texto corregido: Los gatos son animales . Son muy independientes . A veces son cariñosos\n"
     ]
    }
   ],
   "source": [
    "import spacy\n",
    "\n",
    "nlp = spacy.load(\"es_core_news_md\")\n",
    "\n",
    "def check_token_case(token):\n",
    "    \"\"\"Verifica si el token cumple con la regla de mayúsculas y minúsculas.\n",
    "\n",
    "    Args:\n",
    "        token (Token): El token a verificar.\n",
    "\n",
    "    Returns:\n",
    "        bool: True si el token cumple con la regla, False si no.\n",
    "    \"\"\"\n",
    "    text = token.text\n",
    "\n",
    "    if text.isupper():  # Todo en mayúsculas (siglas están permitidas)\n",
    "        return True\n",
    "    elif text.islower():  # Todo en minúsculas\n",
    "        return True\n",
    "    elif text.isdigit():  # Solo dígitos\n",
    "        return True\n",
    "    else:\n",
    "        # Verificar que no tenga combinación de mayúsculas, minúsculas y dígitos\n",
    "        if (any(char.islower() for char in text) and any(char.isupper() for char in text)) or \\\n",
    "                (any(char.islower() for char in text) and any(char.isdigit() for char in text)) or \\\n",
    "                (any(char.isdigit() for char in text) and any(char.isupper() for char in text)):\n",
    "            return False\n",
    "    return True  # Cualquier otra combinación no especificada se considera válida\n",
    "\n",
    "def correct_token_case(text):\n",
    "    \"\"\"Corrige los tokens del texto que no cumplan con la regla de mayúsculas y minúsculas.\n",
    "\n",
    "    Args:\n",
    "        text (str): El texto a corregir.\n",
    "\n",
    "    Returns:\n",
    "        str: El texto corregido.\n",
    "    \"\"\"\n",
    "    doc = nlp(text)\n",
    "    corrected_tokens = []\n",
    "\n",
    "    for token in doc:\n",
    "        if not check_token_case(token):\n",
    "            corrected_tokens.append(token.text.lower())  # Convertimos a minúsculas si no cumple\n",
    "        else:\n",
    "            corrected_tokens.append(token.text)\n",
    "\n",
    "    return \" \".join(corrected_tokens)\n",
    "\n",
    "def capitalize_after_period(text):\n",
    "    \"\"\"Corrige un texto para que después de un punto y la primera palabra empiecen con mayúscula.\n",
    "\n",
    "    Args:\n",
    "        text (str): El texto a corregir.\n",
    "\n",
    "    Returns:\n",
    "        str: El texto corregido.\n",
    "    \"\"\"\n",
    "    # Primero, aseguramos que la primera palabra esté en mayúsculas\n",
    "    text = text[0].upper() + text[1:]\n",
    "\n",
    "    # Luego, aseguramos que cualquier palabra después de un punto esté en mayúsculas\n",
    "    sentences = text.split(\". \")\n",
    "    sentences = [s[0].upper() + s[1:] if len(s) > 0 else s for s in sentences]\n",
    "\n",
    "    return \". \".join(sentences)\n",
    "\n",
    "texto_mayus = \"los gatOS son animales. son muy independientes. a veces son cariñosos\"\n",
    "texto_corregido = capitalize_after_period(correct_token_case(texto_mayus))\n",
    "\n",
    "print(\"Texto original:\", texto_mayus)\n",
    "print(\"Texto corregido:\", texto_corregido)\n"
   ]
  },
  {
   "cell_type": "code",
   "execution_count": 75,
   "metadata": {
    "ExecuteTime": {
     "end_time": "2023-08-23T00:17:13.585213Z",
     "start_time": "2023-08-23T00:17:13.552976Z"
    }
   },
   "outputs": [],
   "source": [
    "# Caso 5: Identificar cuando se escriben 2 “NOUNS” seguidos, pero no se trata de un NOMBRE propio"
   ]
  },
  {
   "cell_type": "code",
   "execution_count": 77,
   "metadata": {
    "ExecuteTime": {
     "end_time": "2023-08-23T00:18:43.578535Z",
     "start_time": "2023-08-23T00:18:43.562344Z"
    }
   },
   "outputs": [
    {
     "name": "stdout",
     "output_type": "stream",
     "text": [
      "Texto original: El perro gato juegan en el parque\n",
      "Segundos sustantivos encontrados: ['gato']\n",
      "Texto corregido: El perro juegan en el parque\n"
     ]
    }
   ],
   "source": [
    "def check_noun_noun_rule(text):\n",
    "    \"\"\"Esta función verifica que no exista dos sustantivos seguidos que no sean nombres propios.\n",
    "\n",
    "    Args:\n",
    "        text: El texto a revisar.\n",
    "\n",
    "    Returns:\n",
    "        True si no hay dos sustantivos seguidos que no sean nombres propios, False si sí hay.\n",
    "    \"\"\"\n",
    "    doc = nlp(text)\n",
    "    for i, token in enumerate(doc[:-1]):\n",
    "        next_tok = doc[i + 1]\n",
    "\n",
    "        if (token.tag_ == 'PROPN' or token.tag_ == 'NOUN') and (\n",
    "                next_tok.tag_ == 'PROPN' or next_tok.tag_ == 'NOUN') and not next_tok.text.istitle():\n",
    "            return False\n",
    "    return True\n",
    "\n",
    "\n",
    "def detectar_dos_nouns_seguidos(texto):\n",
    "    \"\"\"Esta función verifica que no exista dos sustantivos seguidos que no sean nombres propios.\n",
    "\n",
    "    Args:\n",
    "        text: El texto a revisar.\n",
    "\n",
    "    Returns:\n",
    "        Una lista de los segundos sustantivos de los pares encontrados y el texto corregido.\n",
    "    \"\"\"\n",
    "    if not check_noun_noun_rule(texto):\n",
    "        doc = nlp(texto)\n",
    "\n",
    "        # Lista de pares de sustantivos encontrados\n",
    "        pares_sustantivos = []\n",
    "\n",
    "        token_ant = None\n",
    "        for token in doc:\n",
    "            if token_ant is not None and (token_ant.tag_ == 'PROPN' or token_ant.tag_ == 'NOUN') and (\n",
    "                    token.tag_ == 'PROPN' or token.tag_ == 'NOUN') and not token.text.istitle():\n",
    "                pares_sustantivos.append((token_ant.i, token.i))\n",
    "            token_ant = token\n",
    "\n",
    "        # Obtener solo los segundos sustantivos de los pares\n",
    "        segundos_sustantivos = [doc[pair[1]].text for pair in pares_sustantivos]\n",
    "\n",
    "        # Construir texto corregido usando los pares identificados\n",
    "        texto_corregido = []\n",
    "        skip_next = False\n",
    "        for i, token in enumerate(doc):\n",
    "            if any([pair[1] == i for pair in pares_sustantivos]):\n",
    "                skip_next = True\n",
    "            if skip_next:\n",
    "                skip_next = False\n",
    "                continue\n",
    "            texto_corregido.append(token.text)\n",
    "\n",
    "        return segundos_sustantivos, \" \".join(texto_corregido)\n",
    "\n",
    "    else:\n",
    "        return [], texto\n",
    "\n",
    "\n",
    "texto = \"El perro gato juegan en el parque\"\n",
    "segundos_sustantivos, texto_corregido = detectar_dos_nouns_seguidos(texto)\n",
    "if segundos_sustantivos:\n",
    "    print(\"Texto original: {}\".format(texto))\n",
    "    print(\"Segundos sustantivos encontrados:\", segundos_sustantivos)\n",
    "    print(\"Texto corregido: {}\".format(texto_corregido))\n",
    "else:\n",
    "    print(\"El texto no tiene dos sustantivos seguidos que no son nombres propios.\")\n"
   ]
  },
  {
   "cell_type": "code",
   "execution_count": null,
   "outputs": [],
   "source": [],
   "metadata": {
    "collapsed": false
   }
  }
 ],
 "metadata": {
  "kernelspec": {
   "display_name": "Python 3 (ipykernel)",
   "language": "python",
   "name": "python3"
  },
  "language_info": {
   "codemirror_mode": {
    "name": "ipython",
    "version": 3
   },
   "file_extension": ".py",
   "mimetype": "text/x-python",
   "name": "python",
   "nbconvert_exporter": "python",
   "pygments_lexer": "ipython3",
   "version": "3.11.2"
  },
  "varInspector": {
   "cols": {
    "lenName": 16,
    "lenType": 16,
    "lenVar": 40
   },
   "kernels_config": {
    "python": {
     "delete_cmd_postfix": "",
     "delete_cmd_prefix": "del ",
     "library": "var_list.py",
     "varRefreshCmd": "print(var_dic_list())"
    },
    "r": {
     "delete_cmd_postfix": ") ",
     "delete_cmd_prefix": "rm(",
     "library": "var_list.r",
     "varRefreshCmd": "cat(var_dic_list()) "
    }
   },
   "types_to_exclude": [
    "module",
    "function",
    "builtin_function_or_method",
    "instance",
    "_Feature"
   ],
   "window_display": false
  }
 },
 "nbformat": 4,
 "nbformat_minor": 2
}
