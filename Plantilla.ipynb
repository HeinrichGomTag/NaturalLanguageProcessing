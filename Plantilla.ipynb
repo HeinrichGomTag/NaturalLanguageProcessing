{
 "cells": [
  {
   "cell_type": "markdown",
   "metadata": {
    "id": "N921vKRx4RIH"
   },
   "source": [
    "# Tarea 01: Corrector gramatical"
   ]
  },
  {
   "cell_type": "markdown",
   "metadata": {
    "id": "nd_x9Fv4rMre"
   },
   "source": [
    "### Para esta tarea, deberás de generar un corrector gramatical que evalué 5 tipos de errores comunes, llenando los métodos que aparecen en este notebook. Deberás de utilizar la lógica adecuada para cada uno y usar el formato de docstring correspondiente para documentar el uso de cada método."
   ]
  },
  {
   "cell_type": "markdown",
   "metadata": {
    "id": "wvSGW06Rsxdq"
   },
   "source": [
    "#### Plantilla de tarea 1: Corrector gramatical"
   ]
  },
  {
   "cell_type": "code",
   "execution_count": 1,
   "metadata": {
    "id": "FeohFnXD4RIM"
   },
   "outputs": [],
   "source": [
    "# Importar la librería de SpaCy y su núcleo de trabajo en Español\n",
    "import spacy\n",
    "from spacy import displacy\n",
    "\n",
    "# Cargamos núcleo de trabajo (Español)\n",
    "nlp = spacy.load(\"es_core_news_md\")"
   ]
  },
  {
   "cell_type": "code",
   "execution_count": 3,
   "metadata": {
    "id": "bzhE-GB64RIO"
   },
   "outputs": [
    {
     "name": "stdout",
     "output_type": "stream",
     "text": [
      "Texto original: Hola q tal? Quiero ir aki pq tmb sta el msj dnd me dices sq viste algo x allá.\n",
      "Texto corregido: Hola [que] tal ? Quiero ir [aquí] [porque] [también] [esta] el [mensaje] [dónde] me dices [es que] viste algo [por] allá . \n",
      "Número de correcciones: 9\n"
     ]
    }
   ],
   "source": [
    "# Módulo para correguir errores de ortografía comunes\n",
    "# Utilizando un diccionario\n",
    "# Agregar mas ejemplos al diccionario\n",
    "\n",
    "Diccionario = {\n",
    "        \"q\": \"que\",\n",
    "        \"x\": \"por\",\n",
    "        \"cmo\": \"cómo\",\n",
    "        \"dnd\": \"dónde\",\n",
    "        \"sq\": \"es que\",\n",
    "        \"sta\": \"esta\",\n",
    "        \"msj\": \"mensaje\",\n",
    "        \"aki\": \"aquí\",\n",
    "        \"tmb\": \"también\",\n",
    "        \"qro\": \"quiero\", \n",
    "        \"pq\": \"porque\"\n",
    "    }\n",
    "\n",
    "def ERRORES_COMUNES(texto, palabras_incorrectas):\n",
    "    # Crear un documento spaCy a partir del texto.\n",
    "    doc = nlp(texto)\n",
    "\n",
    "    texto_corregido = \"\"\n",
    "    num_correcciones = 0\n",
    "    for token in doc:\n",
    "        if token.text.lower() in palabras_incorrectas:\n",
    "            texto_corregido += \"[\" + palabras_incorrectas[token.text.lower()] + \"]\"\n",
    "            num_correcciones += 1\n",
    "        else:\n",
    "            texto_corregido += token.text\n",
    "\n",
    "        texto_corregido += \" \"\n",
    "\n",
    "    return texto_corregido, num_correcciones\n",
    "\n",
    "texto = \"Hola q tal? Quiero ir aki pq tmb sta el msj dnd me dices sq viste algo x allá.\"\n",
    "\n",
    "texto_corregido, num_correcciones = ERRORES_COMUNES(texto, Diccionario)\n",
    "\n",
    "print(\"Texto original: {}\".format(texto))\n",
    "print(\"Texto corregido: {}\".format(texto_corregido))\n",
    "print(\"Número de correcciones: {}\".format(num_correcciones))"
   ]
  },
  {
   "cell_type": "code",
   "execution_count": null,
   "metadata": {
    "id": "fyiF2RVn4RIP"
   },
   "outputs": [],
   "source": [
    "# Módulo para correguir errores dentre singulares y plurales\n",
    "# Investigar si existe algún atributo en Spacy que pueda devolver dicha característica\n",
    "# O implementar alguna lógica que pueda detectar si una palabra es sing, o plural\n",
    "\n",
    "def TIEMPOS_VERBALES(Texto):\n",
    "    # Documentación y lógica aquí\n",
    "    return Texto_corregido"
   ]
  },
  {
   "cell_type": "code",
   "execution_count": 5,
   "metadata": {
    "id": "JZriCF1o4RIR"
   },
   "outputs": [
    {
     "name": "stdout",
     "output_type": "stream",
     "text": [
      "Texto original: Estamos probando probando que no haya palabras palabras repetidas en este este texto\n",
      "Texto corregido: Estamos probando que no haya palabras repetidas en este texto\n",
      "Número de correcciones: 3\n"
     ]
    }
   ],
   "source": [
    "# Módulo para detectar palabras repetidas\n",
    "\n",
    "def PALABRA_REPETIDA(Texto):\n",
    "    \"\"\"Esta función verifica que no exista la misma palabra repetida dos veces seguidas en un texto.\n",
    "\n",
    "    Args:\n",
    "        texto: El texto a revisar.\n",
    "\n",
    "    Returns:\n",
    "        El texto con las correcciones y el número de correcciones.\n",
    "    \"\"\"\n",
    "\n",
    "    # Crear un documento spaCy a partir del texto.\n",
    "    doc = nlp(texto)\n",
    "\n",
    "    texto_corregido = \"\"\n",
    "    num_correcciones = 0\n",
    "\n",
    "    prev_token = None\n",
    "    for token in doc:\n",
    "        if prev_token is not None and token.text.lower() == prev_token.text.lower():\n",
    "            num_correcciones += 1\n",
    "            continue\n",
    "        else:\n",
    "            texto_corregido += token.text + \" \"\n",
    "            prev_token = token\n",
    "\n",
    "    return texto_corregido.strip(), num_correcciones\n",
    "\n",
    "texto = \"Estamos probando probando que no haya palabras palabras repetidas en este este texto\"\n",
    "\n",
    "texto_corregido, num_correcciones = PALABRA_REPETIDA(texto)\n",
    "\n",
    "print(\"Texto original: {}\".format(texto))\n",
    "print(\"Texto corregido: {}\".format(texto_corregido))\n",
    "print(\"Número de correcciones: {}\".format(num_correcciones))"
   ]
  },
  {
   "cell_type": "code",
   "execution_count": 6,
   "metadata": {
    "id": "yNuF3Hbc4RIS"
   },
   "outputs": [
    {
     "name": "stdout",
     "output_type": "stream",
     "text": [
      "El texto no combina mayúsculas y minúsculas.\n"
     ]
    }
   ],
   "source": [
    "# Módulo para detectar problemas con mayúsculas y minúsculas\n",
    "# Recuerda que si una palabra son SIGLAS (Es decir, se trata de una organización\n",
    "# o lugar), NO se considera un error gramatical\n",
    "\n",
    "def MAYUSC_MINUSC(token):\n",
    "    \"\"\"Verifica si el token cumple con la regla de mayúsculas y minúsculas.\n",
    "\n",
    "    Args:\n",
    "        token (Token): El token a verificar.\n",
    "\n",
    "    Returns:\n",
    "        bool: True si el token cumple con la regla, False si no.\n",
    "    \"\"\"\n",
    "    if token.is_upper and token.is_sent_start or (token.i > 0 and token.nbor(-1).text == \".\"):\n",
    "        return True  # Token en mayúscula al inicio de la oración o después de un punto\n",
    "        \n",
    "    text = token.text\n",
    "    if text.islower() or text.isdigit():\n",
    "        return True  # Token todo en minúsculas o solo dígitos\n",
    "    \n",
    "    return False  # No cumple\n",
    "\n",
    "def check_token_case_rule(text):\n",
    "    doc = nlp(text)\n",
    "    for token in doc:\n",
    "        if not MAYUSC_MINUSC(token):\n",
    "            return False\n",
    "    return True\n",
    "\n",
    "# Ejemplo de uso para verificar regla de mayúsculas y minúsculas\n",
    "texto_mayus = \"los gatos son animales\"\n",
    "if not check_token_case_rule(texto_mayus):\n",
    "    print(\"El texto combina mayúsculas y minúsculas.\")\n",
    "else:\n",
    "    print(\"El texto no combina mayúsculas y minúsculas.\")"
   ]
  },
  {
   "cell_type": "code",
   "execution_count": null,
   "metadata": {
    "id": "H5EG4pz14RIT"
   },
   "outputs": [],
   "source": [
    "# Modulo para detectar nouns juntos que no son un nombre propio\n",
    "# Recuerda que \"Juega el perro gato en el parque\" es incorrecto\n",
    "# porque hay dos NOUNS juntos (perro y gato), pero el texto \"mi\n",
    "# amigo Pedro\" es correcto, sin embargo aquí se trata de un NOUN\n",
    "# seguido de un PNOUN (Nombre propio), deberás de identificar si\n",
    "# si ocurre un caso como este, o si por ejemplo, todo el nombre\n",
    "# pertenece a una persona (entidad) para validar que no sea un error\n",
    "\n",
    "def NOUNS(texto):\n",
    "    \"\"\"Esta función identifica pares de \"NOUNS\" seguidos que no son nombres propios y los corrige.\n",
    "\n",
    "    Args:\n",
    "        texto: El texto a revisar.\n",
    "\n",
    "    Returns:\n",
    "        Una lista de segundos sustantivos y el texto corregido sin los segundos sustantivos.\n",
    "    \"\"\"\n",
    "\n",
    "    # Crear un documento spaCy a partir del texto.\n",
    "    doc = nlp(texto)\n",
    "\n",
    "    segundos_sustantivos = []\n",
    "    texto_corregido = \"\"\n",
    "\n",
    "    token_ant = None\n",
    "    for token in doc:\n",
    "        if token_ant is not None and token_ant.pos_ == \"NOUN\" and token.pos_ == \"NOUN\" and token.ent_type_ != \"PERSON\":\n",
    "            if token_ant.text.lower() != token.text.lower():\n",
    "                segundos_sustantivos.append(token.text)\n",
    "                if token_ant.text in texto_corregido and token.text in texto_corregido:\n",
    "                    texto_corregido = texto_corregido.replace(token_ant.text + \" \" + token.text, \"[\" + token_ant.text + \" \" + token.text + \"]\", 1)\n",
    "            else:\n",
    "                texto_corregido += \" \" + token.text\n",
    "        else:\n",
    "            texto_corregido += \" \" + token.text\n",
    "        token_ant = token\n",
    "\n",
    "    return segundos_sustantivos, texto_corregido.strip()\n",
    "\n",
    "texto = \"Este año ciudad, nos vamos a mudar a la ciudad año!\"\n",
    "\n",
    "segundos_sustantivos, texto_corregido = NOUNS(texto)\n",
    "\n",
    "print(\"Segundos sustantivos encontrados:\", segundos_sustantivos)\n",
    "print(\"Texto original: {}\".format(texto))\n",
    "print(\"Texto corregido: {}\".format(texto_corregido))\n"
   ]
  },
  {
   "cell_type": "code",
   "execution_count": 20,
   "metadata": {
    "id": "rQcemrD14RIT"
   },
   "outputs": [
    {
     "name": "stdout",
     "output_type": "stream",
     "text": [
      "Texto para revisión: \n",
      "ola, me das mi zaldo por fabor, grasias\n"
     ]
    },
    {
     "ename": "NameError",
     "evalue": "name 'TIEMPOS_VERBALES' is not defined",
     "output_type": "error",
     "traceback": [
      "\u001b[0;31m---------------------------------------------------------------------------\u001b[0m",
      "\u001b[0;31mNameError\u001b[0m                                 Traceback (most recent call last)",
      "Cell \u001b[0;32mIn[20], line 10\u001b[0m\n\u001b[1;32m      7\u001b[0m Utterance \u001b[38;5;241m=\u001b[39m \u001b[38;5;28minput\u001b[39m(\u001b[38;5;124m\"\u001b[39m\u001b[38;5;124mTexto para revisión: \u001b[39m\u001b[38;5;130;01m\\n\u001b[39;00m\u001b[38;5;124m\"\u001b[39m)\n\u001b[1;32m      9\u001b[0m \u001b[38;5;66;03m# Pipeline de funciones definidas previamente\u001b[39;00m\n\u001b[0;32m---> 10\u001b[0m Texto_Corregido \u001b[38;5;241m=\u001b[39m NOUNS(MAYUSC_MINUSC(PALABRA_REPETIDA(\u001b[43mTIEMPOS_VERBALES\u001b[49m(ERRORES_COMUNES(Utterance)))))\n\u001b[1;32m     12\u001b[0m \u001b[38;5;28mprint\u001b[39m(\u001b[38;5;124m'\u001b[39m\u001b[38;5;130;01m\\n\u001b[39;00m\u001b[38;5;124mTexto corregido:\u001b[39m\u001b[38;5;130;01m\\n\u001b[39;00m\u001b[38;5;124m'\u001b[39m \u001b[38;5;241m+\u001b[39m Texto_Corregido)\n",
      "\u001b[0;31mNameError\u001b[0m: name 'TIEMPOS_VERBALES' is not defined"
     ]
    }
   ],
   "source": [
    "# El siguiente código debe de poder ser ejecutado y obtener una respuesta que\n",
    "# muestre cláramente la diferencia entre el texto inicial y el corregido\n",
    "\n",
    "# Cada método deberá marcar el lugar donde encuentre un error con corchetes\n",
    "# e imprimir una lista con los errores encontrados\n",
    "\n",
    "Utterance = input(\"Texto para revisión: \\n\")\n",
    "\n",
    "# Pipeline de funciones definidas previamente\n",
    "Texto_Corregido = NOUNS(MAYUSC_MINUSC(PALABRA_REPETIDA(TIEMPOS_VERBALES(ERRORES_COMUNES(Utterance)))))\n",
    "\n",
    "print('\\nTexto corregido:\\n' + Texto_Corregido)"
   ]
  },
  {
   "cell_type": "code",
   "execution_count": null,
   "metadata": {
    "id": "UQXt2ZvN4RIU"
   },
   "outputs": [],
   "source": [
    "# Frases que puedes probar:\n",
    "# ola, me das mi zaldo por fabor, grasias\n",
    "# Quiero una casas en la playa\n",
    "# los niño salieron a jugar al patio\n",
    "# Palabras que se repiten repiten\n",
    "\n",
    "# ola señorita, me puede dar mi zaldo por fabor, grasias, lo que pasa pasa es que quiero Comprar una casas en la playa playa para que los niño jueguen en el patio. Mi PeRRo es muy juguetón, por eso me mudo a la CDMX. EL casero mE dijo: \"debes pagado antes del viernes viernes\"."
   ]
  }
 ],
 "metadata": {
  "colab": {
   "provenance": []
  },
  "kernelspec": {
   "display_name": "Python 3 (ipykernel)",
   "language": "python",
   "name": "python3"
  },
  "language_info": {
   "codemirror_mode": {
    "name": "ipython",
    "version": 3
   },
   "file_extension": ".py",
   "mimetype": "text/x-python",
   "name": "python",
   "nbconvert_exporter": "python",
   "pygments_lexer": "ipython3",
   "version": "3.9.17"
  }
 },
 "nbformat": 4,
 "nbformat_minor": 1
}
