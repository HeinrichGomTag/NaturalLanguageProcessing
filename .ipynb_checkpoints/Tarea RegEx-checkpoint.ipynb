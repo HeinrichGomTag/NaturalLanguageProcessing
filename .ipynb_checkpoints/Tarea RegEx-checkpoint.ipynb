{
 "cells": [
  {
   "cell_type": "code",
   "execution_count": 3,
   "id": "940ffa5f",
   "metadata": {},
   "outputs": [
    {
     "name": "stdout",
     "output_type": "stream",
     "text": [
      "'(123)456-7890' es válido\n",
      "'123-456-7890' es válido\n",
      "'(123) 456-7890' no es válido\n",
      "'123 456-7890' no es válido\n"
     ]
    }
   ],
   "source": [
    "import re\n",
    "\n",
    "# Expresión regular para los formatos (123)456-7890 y 123-456-7890\n",
    "pattern = r\"\\(?\\d{3}\\)?\\-?\\d{3}-\\d{4}\"\n",
    "\n",
    "# Función de prueba\n",
    "def validar_telefono(numero):\n",
    "    if re.match(pattern, numero):\n",
    "        return f\"'{numero}' es válido\"\n",
    "    else:\n",
    "        return f\"'{numero}' no es válido\"\n",
    "\n",
    "# Ejemplos de prueba\n",
    "print(validar_telefono(\"(123)456-7890\"))  # Válido\n",
    "print(validar_telefono(\"123-456-7890\"))   # Válido\n",
    "print(validar_telefono(\"(123) 456-7890\")) # No válido\n",
    "print(validar_telefono(\"123 456-7890\"))   # No válido"
   ]
  },
  {
   "cell_type": "code",
   "execution_count": 10,
   "id": "925c8738",
   "metadata": {
    "scrolled": true
   },
   "outputs": [
    {
     "name": "stdout",
     "output_type": "stream",
     "text": [
      "'nombre.apellido_123@ejemplo.com' es válido\n",
      "'nombre.apellido@123.com' no es válido\n",
      "'nombre@ejemplo' no es válido\n",
      "'nombre.apellido@ejemplo.co.mx' es válido\n",
      "'nombre.apellido@ejem_plo.com' es válido\n"
     ]
    }
   ],
   "source": [
    "# Expresión regular para validar el correo electrónico\n",
    "pattern = r\"[A-z0-9\\_]*\\.[A-z0-9\\_]*\\@[a-z\\.]+\"\n",
    "\n",
    "# Función de prueba\n",
    "def validar_correo(email):\n",
    "    if re.match(pattern, email):  \n",
    "        return f\"'{email}' es válido\"\n",
    "    else:\n",
    "        return f\"'{email}' no es válido\"\n",
    "\n",
    "# Ejemplos de prueba\n",
    "print(validar_correo(\"nombre.apellido_123@ejemplo.com\"))     # Válido\n",
    "print(validar_correo(\"nombre.apellido@123.com\"))             # No válido\n",
    "print(validar_correo(\"nombre@ejemplo\"))                      # No válido\n",
    "print(validar_correo(\"nombre.apellido@ejemplo.co.mx\"))       # Válido\n",
    "print(validar_correo(\"nombre.apellido@ejem_plo.com\"))        # No válido"
   ]
  },
  {
   "cell_type": "code",
   "execution_count": 17,
   "id": "ee47c0ab",
   "metadata": {},
   "outputs": [
    {
     "name": "stdout",
     "output_type": "stream",
     "text": [
      "'16/08/2023' es válido\n",
      "'31/02/2023' es válido\n",
      "'05/13/2023' no es válido\n",
      "'05/12/23' es válido\n",
      "'31/12/2023' es válido\n"
     ]
    }
   ],
   "source": [
    "# Expresión regular para validar la fecha\n",
    "pattern = r\"(0[1-9]|[12][0-9]|3[01])\\/(0[1-9]|1[0-2])\\/\\d{2,4}\"\n",
    "\n",
    "# Función de prueba\n",
    "def validar_fecha(date):\n",
    "    if re.match(pattern, date):\n",
    "        return f\"'{date}' es válido\"\n",
    "    else:\n",
    "        return f\"'{date}' no es válido\"\n",
    "\n",
    "# Ejemplos de prueba\n",
    "print(validar_fecha(\"16/08/2023\"))    # Válido\n",
    "print(validar_fecha(\"31/02/2023\"))    # Válido (aunque en realidad no lo es, pero nuestra regex valida el formato, no la lógica de la fecha)\n",
    "print(validar_fecha(\"05/13/2023\"))    # No válido\n",
    "print(validar_fecha(\"05/12/23\"))      # Válido\n",
    "print(validar_fecha(\"31/12/2023\"))    # Válido"
   ]
  },
  {
   "cell_type": "code",
   "execution_count": null,
   "id": "22d43b5c",
   "metadata": {},
   "outputs": [],
   "source": []
  }
 ],
 "metadata": {
  "kernelspec": {
   "display_name": "Python 3 (ipykernel)",
   "language": "python",
   "name": "python3"
  },
  "language_info": {
   "codemirror_mode": {
    "name": "ipython",
    "version": 3
   },
   "file_extension": ".py",
   "mimetype": "text/x-python",
   "name": "python",
   "nbconvert_exporter": "python",
   "pygments_lexer": "ipython3",
   "version": "3.9.17"
  }
 },
 "nbformat": 4,
 "nbformat_minor": 5
}
