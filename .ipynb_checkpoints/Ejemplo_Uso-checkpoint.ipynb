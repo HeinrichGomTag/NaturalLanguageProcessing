{
 "cells": [
  {
   "cell_type": "code",
   "execution_count": 3,
   "outputs": [
    {
     "name": "stdout",
     "output_type": "stream",
     "text": [
      "Collecting es-core-news-sm==3.5.0\r\n",
      "  Downloading https://github.com/explosion/spacy-models/releases/download/es_core_news_sm-3.5.0/es_core_news_sm-3.5.0-py3-none-any.whl (12.9 MB)\r\n",
      "\u001B[2K     \u001B[90m━━━━━━━━━━━━━━━━━━━━━━━━━━━━━━━━━━━━━━━\u001B[0m \u001B[32m12.9/12.9 MB\u001B[0m \u001B[31m128.6 kB/s\u001B[0m eta \u001B[36m0:00:00\u001B[0m00:01\u001B[0m00:03\u001B[0m\r\n",
      "\u001B[?25hRequirement already satisfied: spacy<3.6.0,>=3.5.0 in /Users/kikin/anaconda3/envs/NLP/lib/python3.9/site-packages (from es-core-news-sm==3.5.0) (3.5.3)\r\n",
      "Requirement already satisfied: spacy-legacy<3.1.0,>=3.0.11 in /Users/kikin/anaconda3/envs/NLP/lib/python3.9/site-packages (from spacy<3.6.0,>=3.5.0->es-core-news-sm==3.5.0) (3.0.12)\r\n",
      "Requirement already satisfied: spacy-loggers<2.0.0,>=1.0.0 in /Users/kikin/anaconda3/envs/NLP/lib/python3.9/site-packages (from spacy<3.6.0,>=3.5.0->es-core-news-sm==3.5.0) (1.0.4)\r\n",
      "Requirement already satisfied: murmurhash<1.1.0,>=0.28.0 in /Users/kikin/anaconda3/envs/NLP/lib/python3.9/site-packages (from spacy<3.6.0,>=3.5.0->es-core-news-sm==3.5.0) (1.0.7)\r\n",
      "Requirement already satisfied: cymem<2.1.0,>=2.0.2 in /Users/kikin/anaconda3/envs/NLP/lib/python3.9/site-packages (from spacy<3.6.0,>=3.5.0->es-core-news-sm==3.5.0) (2.0.6)\r\n",
      "Requirement already satisfied: preshed<3.1.0,>=3.0.2 in /Users/kikin/anaconda3/envs/NLP/lib/python3.9/site-packages (from spacy<3.6.0,>=3.5.0->es-core-news-sm==3.5.0) (3.0.6)\r\n",
      "Requirement already satisfied: thinc<8.2.0,>=8.1.8 in /Users/kikin/anaconda3/envs/NLP/lib/python3.9/site-packages (from spacy<3.6.0,>=3.5.0->es-core-news-sm==3.5.0) (8.1.10)\r\n",
      "Requirement already satisfied: wasabi<1.2.0,>=0.9.1 in /Users/kikin/anaconda3/envs/NLP/lib/python3.9/site-packages (from spacy<3.6.0,>=3.5.0->es-core-news-sm==3.5.0) (0.9.1)\r\n",
      "Requirement already satisfied: srsly<3.0.0,>=2.4.3 in /Users/kikin/anaconda3/envs/NLP/lib/python3.9/site-packages (from spacy<3.6.0,>=3.5.0->es-core-news-sm==3.5.0) (2.4.6)\r\n",
      "Requirement already satisfied: catalogue<2.1.0,>=2.0.6 in /Users/kikin/anaconda3/envs/NLP/lib/python3.9/site-packages (from spacy<3.6.0,>=3.5.0->es-core-news-sm==3.5.0) (2.0.7)\r\n",
      "Requirement already satisfied: typer<0.8.0,>=0.3.0 in /Users/kikin/anaconda3/envs/NLP/lib/python3.9/site-packages (from spacy<3.6.0,>=3.5.0->es-core-news-sm==3.5.0) (0.4.1)\r\n",
      "Requirement already satisfied: pathy>=0.10.0 in /Users/kikin/anaconda3/envs/NLP/lib/python3.9/site-packages (from spacy<3.6.0,>=3.5.0->es-core-news-sm==3.5.0) (0.10.1)\r\n",
      "Requirement already satisfied: smart-open<7.0.0,>=5.2.1 in /Users/kikin/anaconda3/envs/NLP/lib/python3.9/site-packages (from spacy<3.6.0,>=3.5.0->es-core-news-sm==3.5.0) (5.2.1)\r\n",
      "Requirement already satisfied: tqdm<5.0.0,>=4.38.0 in /Users/kikin/anaconda3/envs/NLP/lib/python3.9/site-packages (from spacy<3.6.0,>=3.5.0->es-core-news-sm==3.5.0) (4.65.0)\r\n",
      "Requirement already satisfied: numpy>=1.15.0 in /Users/kikin/anaconda3/envs/NLP/lib/python3.9/site-packages (from spacy<3.6.0,>=3.5.0->es-core-news-sm==3.5.0) (1.23.5)\r\n",
      "Requirement already satisfied: requests<3.0.0,>=2.13.0 in /Users/kikin/anaconda3/envs/NLP/lib/python3.9/site-packages (from spacy<3.6.0,>=3.5.0->es-core-news-sm==3.5.0) (2.31.0)\r\n",
      "Requirement already satisfied: pydantic!=1.8,!=1.8.1,<1.11.0,>=1.7.4 in /Users/kikin/anaconda3/envs/NLP/lib/python3.9/site-packages (from spacy<3.6.0,>=3.5.0->es-core-news-sm==3.5.0) (1.10.8)\r\n",
      "Requirement already satisfied: jinja2 in /Users/kikin/anaconda3/envs/NLP/lib/python3.9/site-packages (from spacy<3.6.0,>=3.5.0->es-core-news-sm==3.5.0) (3.1.2)\r\n",
      "Requirement already satisfied: setuptools in /Users/kikin/anaconda3/envs/NLP/lib/python3.9/site-packages (from spacy<3.6.0,>=3.5.0->es-core-news-sm==3.5.0) (68.0.0)\r\n",
      "Requirement already satisfied: packaging>=20.0 in /Users/kikin/anaconda3/envs/NLP/lib/python3.9/site-packages (from spacy<3.6.0,>=3.5.0->es-core-news-sm==3.5.0) (23.0)\r\n",
      "Requirement already satisfied: langcodes<4.0.0,>=3.2.0 in /Users/kikin/anaconda3/envs/NLP/lib/python3.9/site-packages (from spacy<3.6.0,>=3.5.0->es-core-news-sm==3.5.0) (3.3.0)\r\n",
      "Requirement already satisfied: typing-extensions>=4.2.0 in /Users/kikin/anaconda3/envs/NLP/lib/python3.9/site-packages (from pydantic!=1.8,!=1.8.1,<1.11.0,>=1.7.4->spacy<3.6.0,>=3.5.0->es-core-news-sm==3.5.0) (4.7.1)\r\n",
      "Requirement already satisfied: charset-normalizer<4,>=2 in /Users/kikin/anaconda3/envs/NLP/lib/python3.9/site-packages (from requests<3.0.0,>=2.13.0->spacy<3.6.0,>=3.5.0->es-core-news-sm==3.5.0) (2.0.4)\r\n",
      "Requirement already satisfied: idna<4,>=2.5 in /Users/kikin/anaconda3/envs/NLP/lib/python3.9/site-packages (from requests<3.0.0,>=2.13.0->spacy<3.6.0,>=3.5.0->es-core-news-sm==3.5.0) (3.4)\r\n",
      "Requirement already satisfied: urllib3<3,>=1.21.1 in /Users/kikin/anaconda3/envs/NLP/lib/python3.9/site-packages (from requests<3.0.0,>=2.13.0->spacy<3.6.0,>=3.5.0->es-core-news-sm==3.5.0) (1.26.16)\r\n",
      "Requirement already satisfied: certifi>=2017.4.17 in /Users/kikin/anaconda3/envs/NLP/lib/python3.9/site-packages (from requests<3.0.0,>=2.13.0->spacy<3.6.0,>=3.5.0->es-core-news-sm==3.5.0) (2023.7.22)\r\n",
      "Requirement already satisfied: blis<0.8.0,>=0.7.8 in /Users/kikin/anaconda3/envs/NLP/lib/python3.9/site-packages (from thinc<8.2.0,>=8.1.8->spacy<3.6.0,>=3.5.0->es-core-news-sm==3.5.0) (0.7.9)\r\n",
      "Requirement already satisfied: confection<1.0.0,>=0.0.1 in /Users/kikin/anaconda3/envs/NLP/lib/python3.9/site-packages (from thinc<8.2.0,>=8.1.8->spacy<3.6.0,>=3.5.0->es-core-news-sm==3.5.0) (0.0.4)\r\n",
      "Requirement already satisfied: click<9.0.0,>=7.1.1 in /Users/kikin/anaconda3/envs/NLP/lib/python3.9/site-packages (from typer<0.8.0,>=0.3.0->spacy<3.6.0,>=3.5.0->es-core-news-sm==3.5.0) (8.0.4)\r\n",
      "Requirement already satisfied: MarkupSafe>=2.0 in /Users/kikin/anaconda3/envs/NLP/lib/python3.9/site-packages (from jinja2->spacy<3.6.0,>=3.5.0->es-core-news-sm==3.5.0) (2.1.1)\r\n",
      "Installing collected packages: es-core-news-sm\r\n",
      "Successfully installed es-core-news-sm-3.5.0\r\n",
      "\u001B[38;5;2m✔ Download and installation successful\u001B[0m\r\n",
      "You can now load the package via spacy.load('es_core_news_sm')\r\n"
     ]
    }
   ],
   "source": [
    "!python -m spacy download es_core_news_sm"
   ],
   "metadata": {
    "collapsed": false,
    "ExecuteTime": {
     "end_time": "2023-08-09T18:19:07.666713Z",
     "start_time": "2023-08-09T18:18:08.524222Z"
    }
   },
   "id": "58646b6352b4e9a2"
  },
  {
   "cell_type": "code",
   "execution_count": 4,
   "outputs": [
    {
     "name": "stdout",
     "output_type": "stream",
     "text": [
      "Texto: Si\n",
      "PoS: SCONJ\n",
      "Lemma: si\n",
      "\n",
      "\n",
      "Texto: no\n",
      "PoS: ADV\n",
      "Lemma: no\n",
      "\n",
      "\n",
      "Texto: sabes\n",
      "PoS: VERB\n",
      "Lemma: saber\n",
      "\n",
      "\n",
      "Texto: exactamente\n",
      "PoS: ADV\n",
      "Lemma: exactamente\n",
      "\n",
      "\n",
      "Texto: a\n",
      "PoS: ADP\n",
      "Lemma: a\n",
      "\n",
      "\n",
      "Texto: dónde\n",
      "PoS: PRON\n",
      "Lemma: dónde\n",
      "\n",
      "\n",
      "Texto: quieres\n",
      "PoS: VERB\n",
      "Lemma: querer\n",
      "\n",
      "\n",
      "Texto: ir\n",
      "PoS: VERB\n",
      "Lemma: ir\n",
      "\n",
      "\n",
      "Texto: ,\n",
      "PoS: PUNCT\n",
      "Lemma: ,\n",
      "\n",
      "\n",
      "Texto: entonces\n",
      "PoS: ADV\n",
      "Lemma: entonces\n",
      "\n",
      "\n",
      "Texto: ,\n",
      "PoS: PUNCT\n",
      "Lemma: ,\n",
      "\n",
      "\n",
      "Texto: realmente\n",
      "PoS: ADV\n",
      "Lemma: realmente\n",
      "\n",
      "\n",
      "Texto: no\n",
      "PoS: ADV\n",
      "Lemma: no\n",
      "\n",
      "\n",
      "Texto: importa\n",
      "PoS: VERB\n",
      "Lemma: importar\n",
      "\n",
      "\n",
      "Texto: cuál\n",
      "PoS: PRON\n",
      "Lemma: cuál\n",
      "\n",
      "\n",
      "Texto: camino\n",
      "PoS: NOUN\n",
      "Lemma: camino\n",
      "\n",
      "\n",
      "Texto: elijas\n",
      "PoS: ADJ\n",
      "Lemma: elija\n",
      "\n"
     ]
    }
   ],
   "source": [
    "#Importamos Spacy y descargamos el nucleo de trabajo en Español\n",
    "import spacy\n",
    "\n",
    "core_esp = spacy.load(\"es_core_news_sm\")\n",
    "\n",
    "#core_esp se convierte en un método que Tokeniza el texto dentro\n",
    "Texto = core_esp(u\"Si no sabes exactamente a dónde quieres ir, entonces, realmente no importa cuál camino elijas\")\n",
    "\n",
    "for token in Texto:\n",
    "    print(\"Texto:\", token.text) #.text extrae el texto del token\n",
    "    print(\"PoS:\", token.pos_) #.pos_ extrae el part of speech\n",
    "    print(\"Lemma:\", token.lemma_) #.lemma_ extrae la lematización\n",
    "    print(\"\\n\")"
   ],
   "metadata": {
    "collapsed": false,
    "ExecuteTime": {
     "end_time": "2023-08-09T18:21:00.058543Z",
     "start_time": "2023-08-09T18:20:59.806339Z"
    }
   },
   "id": "initial_id"
  },
  {
   "cell_type": "code",
   "execution_count": null,
   "outputs": [],
   "source": [],
   "metadata": {
    "collapsed": false
   },
   "id": "45390e9fd74a11cf"
  }
 ],
 "metadata": {
  "kernelspec": {
   "display_name": "Python 3",
   "language": "python",
   "name": "python3"
  },
  "language_info": {
   "codemirror_mode": {
    "name": "ipython",
    "version": 2
   },
   "file_extension": ".py",
   "mimetype": "text/x-python",
   "name": "python",
   "nbconvert_exporter": "python",
   "pygments_lexer": "ipython2",
   "version": "2.7.6"
  }
 },
 "nbformat": 4,
 "nbformat_minor": 5
}
