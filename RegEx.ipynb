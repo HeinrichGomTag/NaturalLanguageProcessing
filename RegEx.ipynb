{
 "cells": [
  {
   "cell_type": "code",
   "execution_count": 1,
   "id": "initial_id",
   "metadata": {
    "ExecuteTime": {
     "end_time": "2023-08-17T02:05:38.441004Z",
     "start_time": "2023-08-17T02:05:38.428561Z"
    },
    "collapsed": true,
    "execution": {
     "iopub.execute_input": "2023-08-17T02:05:54.845065Z",
     "iopub.status.busy": "2023-08-17T02:05:54.844754Z",
     "iopub.status.idle": "2023-08-17T02:05:54.855163Z",
     "shell.execute_reply": "2023-08-17T02:05:54.854535Z"
    }
   },
   "outputs": [],
   "source": [
    "# Usando expresiones regulares\n",
    "import re\n",
    "\n",
    "\n",
    "def validate_password2(passwd):\n",
    "    if len(passwd) < 8:\n",
    "        return False\n",
    "    if not re.search(r\"[A-Z]\", passwd):\n",
    "        return False\n",
    "    if not re.search(r\"[a-z]\", passwd):\n",
    "        return False\n",
    "    if not re.search(r\"\\d\", passwd):\n",
    "        return False\n",
    "    if not re.search(r\"[!@#$%^&*()\\-\\+?_=,<>/;:\\[\\]{}]\", passwd):\n",
    "        return False\n",
    "    return True\n"
   ]
  },
  {
   "cell_type": "code",
   "execution_count": 2,
   "id": "fba5c095427a0453",
   "metadata": {
    "ExecuteTime": {
     "end_time": "2023-08-17T02:05:38.450738Z",
     "start_time": "2023-08-17T02:05:38.433278Z"
    },
    "collapsed": false,
    "execution": {
     "iopub.execute_input": "2023-08-17T02:05:54.858187Z",
     "iopub.status.busy": "2023-08-17T02:05:54.857960Z",
     "iopub.status.idle": "2023-08-17T02:05:54.861357Z",
     "shell.execute_reply": "2023-08-17T02:05:54.860954Z"
    }
   },
   "outputs": [
    {
     "name": "stdout",
     "output_type": "stream",
     "text": [
      "['42', '3456']\n"
     ]
    }
   ],
   "source": [
    "string = \"Voy a P. Sherman, Calle Wallaby 42 Sidney, está en Australia\\en el código postal 3456\"\n",
    "pattern = '\\d+'\n",
    "result = re.findall(pattern, string)\n",
    "print(result)"
   ]
  },
  {
   "cell_type": "code",
   "execution_count": 3,
   "id": "4093f770368d355f",
   "metadata": {
    "ExecuteTime": {
     "end_time": "2023-08-17T02:05:38.451417Z",
     "start_time": "2023-08-17T02:05:38.438818Z"
    },
    "collapsed": false,
    "execution": {
     "iopub.execute_input": "2023-08-17T02:05:54.864718Z",
     "iopub.status.busy": "2023-08-17T02:05:54.864513Z",
     "iopub.status.idle": "2023-08-17T02:05:54.868383Z",
     "shell.execute_reply": "2023-08-17T02:05:54.867961Z"
    }
   },
   "outputs": [
    {
     "name": "stdout",
     "output_type": "stream",
     "text": [
      "'(123)456-7890' es válido\n",
      "'123-456-7890' es válido\n",
      "'(123) 456-7890' no es válido\n",
      "'123 456-7890' no es válido\n"
     ]
    }
   ],
   "source": [
    "import re\n",
    "\n",
    "# Expresión regular para los formatos (123)456-7890 y 123-456-7890\n",
    "pattern = r\"\\(?\\d{3}\\)?\\-?\\d{3}-\\d{4}\"\n",
    "\n",
    "\n",
    "# Función de prueba\n",
    "def validar_telefono(numero):\n",
    "    if re.match(pattern, numero):\n",
    "        return f\"'{numero}' es válido\"\n",
    "    else:\n",
    "        return f\"'{numero}' no es válido\"\n",
    "\n",
    "\n",
    "# Ejemplos de prueba\n",
    "print(validar_telefono(\"(123)456-7890\"))  # Válido\n",
    "print(validar_telefono(\"123-456-7890\"))  # Válido\n",
    "print(validar_telefono(\"(123) 456-7890\"))  # No válido\n",
    "print(validar_telefono(\"123 456-7890\"))  # No válido"
   ]
  },
  {
   "cell_type": "code",
   "execution_count": 4,
   "id": "7a074f568101aff6",
   "metadata": {
    "ExecuteTime": {
     "end_time": "2023-08-17T02:05:38.452032Z",
     "start_time": "2023-08-17T02:05:38.444042Z"
    },
    "collapsed": false,
    "execution": {
     "iopub.execute_input": "2023-08-17T02:05:54.870554Z",
     "iopub.status.busy": "2023-08-17T02:05:54.870413Z",
     "iopub.status.idle": "2023-08-17T02:05:54.874107Z",
     "shell.execute_reply": "2023-08-17T02:05:54.873761Z"
    }
   },
   "outputs": [
    {
     "name": "stdout",
     "output_type": "stream",
     "text": [
      "'nombre.apellido_123@ejemplo.com' es válido\n",
      "'nombre.apellido@123.com' no es válido\n",
      "'nombre@ejemplo' no es válido\n",
      "'nombre.apellido@ejemplo.co.mx' es válido\n",
      "'nombre.apellido@ejem_plo.com' es válido\n"
     ]
    }
   ],
   "source": [
    "# Expresión regular para validar el correo electrónico\n",
    "pattern = r\"[A-z0-9\\_]*\\.[A-z0-9\\_]*\\@[a-z\\.]+\"\n",
    "\n",
    "\n",
    "# Función de prueba\n",
    "def validar_correo(email):\n",
    "    if re.match(pattern, email):\n",
    "        return f\"'{email}' es válido\"\n",
    "    else:\n",
    "        return f\"'{email}' no es válido\"\n",
    "\n",
    "\n",
    "# Ejemplos de prueba\n",
    "print(validar_correo(\"nombre.apellido_123@ejemplo.com\"))  # Válido\n",
    "print(validar_correo(\"nombre.apellido@123.com\"))  # No válido\n",
    "print(validar_correo(\"nombre@ejemplo\"))  # No válido\n",
    "print(validar_correo(\"nombre.apellido@ejemplo.co.mx\"))  # Válido\n",
    "print(validar_correo(\"nombre.apellido@ejem_plo.com\"))  # No válido\n"
   ]
  },
  {
   "cell_type": "code",
   "execution_count": 5,
   "id": "191a0da00341d721",
   "metadata": {
    "ExecuteTime": {
     "end_time": "2023-08-17T02:05:38.453860Z",
     "start_time": "2023-08-17T02:05:38.449974Z"
    },
    "collapsed": false,
    "execution": {
     "iopub.execute_input": "2023-08-17T02:05:54.876125Z",
     "iopub.status.busy": "2023-08-17T02:05:54.875966Z",
     "iopub.status.idle": "2023-08-17T02:05:54.879498Z",
     "shell.execute_reply": "2023-08-17T02:05:54.879160Z"
    }
   },
   "outputs": [
    {
     "name": "stdout",
     "output_type": "stream",
     "text": [
      "'16/08/2023' es válido\n",
      "'31/02/2023' es válido\n",
      "'05/13/2023' no es válido\n",
      "'05/12/23' es válido\n",
      "'31/12/2023' es válido\n"
     ]
    }
   ],
   "source": [
    "# Expresión regular para validar la fecha\n",
    "pattern = r\"(0[1-9]|[12][0-9]|3[01])\\/(0[1-9]|1[0-2])\\/\\d{2,4}\"\n",
    "\n",
    "\n",
    "# Función de prueba\n",
    "def validar_fecha(date):\n",
    "    if re.match(pattern, date):\n",
    "        return f\"'{date}' es válido\"\n",
    "    else:\n",
    "        return f\"'{date}' no es válido\"\n",
    "\n",
    "\n",
    "# Ejemplos de prueba\n",
    "print(validar_fecha(\"16/08/2023\"))  # Válido\n",
    "print(validar_fecha(\n",
    "    \"31/02/2023\"))  # Válido (aunque en realidad no lo es, pero nuestra regex valida el formato, no la lógica de la fecha)\n",
    "print(validar_fecha(\"05/13/2023\"))  # No válido\n",
    "print(validar_fecha(\"05/12/23\"))  # Válido\n",
    "print(validar_fecha(\"31/12/2023\"))  # Válido"
   ]
  },
  {
   "cell_type": "code",
   "execution_count": 11,
   "id": "de2223028cd4046f",
   "metadata": {
    "ExecuteTime": {
     "end_time": "2023-08-17T02:05:38.463474Z",
     "start_time": "2023-08-17T02:05:38.453377Z"
    },
    "collapsed": false
   },
   "outputs": [],
   "source": []
  }
 ],
 "metadata": {
  "kernelspec": {
   "display_name": "Python 3",
   "language": "python",
   "name": "python3"
  },
  "language_info": {
   "codemirror_mode": {
    "name": "ipython",
    "version": 3
   },
   "file_extension": ".py",
   "mimetype": "text/x-python",
   "name": "python",
   "nbconvert_exporter": "python",
   "pygments_lexer": "ipython3",
   "version": "3.9.17"
  }
 },
 "nbformat": 4,
 "nbformat_minor": 5
}
